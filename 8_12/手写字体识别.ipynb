{
 "cells": [
  {
   "cell_type": "code",
   "execution_count": 1,
   "metadata": {
    "collapsed": true,
    "pycharm": {
     "name": "#%%\n"
    }
   },
   "outputs": [],
   "source": [
    "#手写字体识别\n",
    "#全联接神经网络"
   ]
  },
  {
   "cell_type": "code",
   "execution_count": 50,
   "outputs": [],
   "source": [
    "import tensorflow as tf\n",
    "from tensorflow.examples.tutorials.mnist import input_data\n",
    "import os\n",
    "import pylab\n",
    "import numpy as np\n",
    "import ssl"
   ],
   "metadata": {
    "collapsed": false,
    "pycharm": {
     "name": "#%%\n"
    }
   }
  },
  {
   "cell_type": "code",
   "execution_count": 20,
   "outputs": [],
   "source": [
    "ssl._create_default_https_context = ssl._create_unverified_context  #下载数据忽略证书"
   ],
   "metadata": {
    "collapsed": false,
    "pycharm": {
     "name": "#%%\n"
    }
   }
  },
  {
   "cell_type": "code",
   "execution_count": 54,
   "outputs": [
    {
     "name": "stdout",
     "output_type": "stream",
     "text": [
      "Extracting ./MNIST_data/train-images-idx3-ubyte.gz\n",
      "Extracting ./MNIST_data/train-labels-idx1-ubyte.gz\n",
      "Extracting ./MNIST_data/t10k-images-idx3-ubyte.gz\n",
      "Extracting ./MNIST_data/t10k-labels-idx1-ubyte.gz\n"
     ]
    }
   ],
   "source": [
    "#数据准备\n",
    "mnist = input_data.read_data_sets(train_dir='./MNIST_data', one_hot=True)"
   ],
   "metadata": {
    "collapsed": false,
    "pycharm": {
     "name": "#%%\n"
    }
   }
  },
  {
   "cell_type": "code",
   "execution_count": 24,
   "outputs": [],
   "source": [
    "#整理数据\n",
    "x = tf.placeholder(tf.float32, [None, 784])  # 占位符，输入\n",
    "y = tf.placeholder(tf.float32, [None, 10])  # 占位符，输出"
   ],
   "metadata": {
    "collapsed": false,
    "pycharm": {
     "name": "#%%\n"
    }
   }
  },
  {
   "cell_type": "code",
   "execution_count": 25,
   "outputs": [
    {
     "name": "stdout",
     "output_type": "stream",
     "text": [
      "pred_y.shape: (?, 10)\n"
     ]
    }
   ],
   "source": [
    "# 构建模型\n",
    "W = tf.Variable(tf.random_normal([784, 10]))  # 权重\n",
    "b = tf.Variable(tf.zeros([10]))  # 偏置值，和神经元数量保持一致\n",
    "\n",
    "pred_y = tf.nn.softmax(tf.matmul(x, W) + b)  # softmax分类\n",
    "print(\"pred_y.shape:\", pred_y.shape)"
   ],
   "metadata": {
    "collapsed": false,
    "pycharm": {
     "name": "#%%\n"
    }
   }
  },
  {
   "cell_type": "code",
   "execution_count": 26,
   "outputs": [],
   "source": [
    "# 损失函数\n",
    "cross_entropy = -tf.reduce_sum(y * tf.log(pred_y),\n",
    "                               reduction_indices=1)  # 求交叉熵\n",
    "\n",
    "cost = tf.reduce_mean(cross_entropy)  # 求损失函数平均值"
   ],
   "metadata": {
    "collapsed": false,
    "pycharm": {
     "name": "#%%\n"
    }
   }
  },
  {
   "cell_type": "code",
   "execution_count": 27,
   "outputs": [],
   "source": [
    "#梯度下降\n",
    "optimizer = tf.train.GradientDescentOptimizer(learning_rate=0.01).minimize(cost)"
   ],
   "metadata": {
    "collapsed": false,
    "pycharm": {
     "name": "#%%\n"
    }
   }
  },
  {
   "cell_type": "code",
   "execution_count": 28,
   "outputs": [],
   "source": [
    "#模型保存对象\n",
    "saver = tf.train.Saver()\n",
    "model_path = \"/Users/limuyuan/Documents/Artificial-Intelligence-Note/8_12/model/\""
   ],
   "metadata": {
    "collapsed": false,
    "pycharm": {
     "name": "#%%\n"
    }
   }
  },
  {
   "cell_type": "code",
   "execution_count": 32,
   "outputs": [],
   "source": [
    "batch_size = 100"
   ],
   "metadata": {
    "collapsed": false,
    "pycharm": {
     "name": "#%%\n"
    }
   }
  },
  {
   "cell_type": "code",
   "execution_count": 29,
   "outputs": [],
   "source": [
    "#变量初始化\n",
    "#这里的样本初始化直接在对话中完成"
   ],
   "metadata": {
    "collapsed": false,
    "pycharm": {
     "name": "#%%\n"
    }
   }
  },
  {
   "cell_type": "code",
   "execution_count": 41,
   "outputs": [
    {
     "name": "stdout",
     "output_type": "stream",
     "text": [
      "INFO:tensorflow:Restoring parameters from /Users/limuyuan/Documents/Artificial-Intelligence-Note/8_12/model/\n",
      "epoch:1,cost:0.4641485684161836\n",
      "epoch:2,cost:0.4631457620588216\n",
      "epoch:3,cost:0.4620907121422616\n",
      "epoch:4,cost:0.4610834200815721\n",
      "epoch:5,cost:0.4600337838313796\n",
      "epoch:6,cost:0.45906901321627874\n",
      "epoch:7,cost:0.4580818028206175\n",
      "epoch:8,cost:0.4571037180586295\n",
      "epoch:9,cost:0.45608931662006813\n",
      "epoch:10,cost:0.45513980251821606\n",
      "训练完成\n",
      "精度: 0.8875\n",
      "保存成功: /Users/limuyuan/Documents/Artificial-Intelligence-Note/8_12/model/\n"
     ]
    }
   ],
   "source": [
    "#执行\n",
    "with tf.Session() as sess:\n",
    "    #初始化变量\n",
    "    sess.run(tf.global_variables_initializer())\n",
    "\n",
    "    #在训练前检查是否有模型保存\n",
    "    if os.path.exists('/Users/limuyuan/Documents/Artificial-Intelligence-Note/8_12/model/checkpoint'):\n",
    "        saver.restore(sess, '/Users/limuyuan/Documents/Artificial-Intelligence-Note/8_12/model/')\n",
    "\n",
    "    for epoch in range(10):\n",
    "        total_batch = int(mnist.train.num_examples / batch_size)\n",
    "        #求平均损失值\n",
    "        total_cost = 0\n",
    "        for i in range(total_batch):\n",
    "            #拿到一个批次的样本数据\n",
    "            batch_xs, batch_ys = mnist.train.next_batch(batch_size)\n",
    "            params = {x: batch_xs, y: batch_ys}\n",
    "            o, cost_res = sess.run([optimizer, cost],\n",
    "                                   feed_dict=params)\n",
    "            #求平均损失值\n",
    "            total_cost += cost_res\n",
    "\n",
    "        #平均损失值\n",
    "        avg_cost = total_cost / total_batch\n",
    "        print('epoch:{},cost:{}'.format(epoch + 1, avg_cost))\n",
    "\n",
    "    print('训练完成')\n",
    "\n",
    "    #模型评估\n",
    "    corr_pred = tf.equal(tf.argmax(y, 1),  #真实类别\n",
    "                         tf.argmax(pred_y, 1))  #判断水平方向索引是否相等， 会得到一个bool数组\n",
    "    #精度\n",
    "    acc = tf.reduce_mean(tf.cast(corr_pred, 'float32'))\n",
    "    print('精度:', acc.eval({x: mnist.test.images, y: mnist.test.labels}))  #eval（）传feed_dict方式\n",
    "\n",
    "    #保存模型\n",
    "    save_path = saver.save(sess, '/Users/limuyuan/Documents/Artificial-Intelligence-Note/8_12/model/')\n",
    "    print('保存成功:', save_path)\n",
    "\n"
   ],
   "metadata": {
    "collapsed": false,
    "pycharm": {
     "name": "#%%\n"
    }
   }
  },
  {
   "cell_type": "code",
   "execution_count": 53,
   "outputs": [
    {
     "name": "stdout",
     "output_type": "stream",
     "text": [
      "INFO:tensorflow:Restoring parameters from /Users/limuyuan/Documents/Artificial-Intelligence-Note/8_12/model/\n",
      "预测类别为: [4 5]\n",
      "真实类别: [4 5]\n",
      "预测概率为: [0.9988751 0.999071 ]\n"
     ]
    },
    {
     "data": {
      "text/plain": "<Figure size 432x288 with 1 Axes>",
      "image/png": "[encoded data removed]"
     },
     "metadata": {
      "needs_background": "light"
     },
     "output_type": "display_data"
    },
    {
     "data": {
      "text/plain": "<Figure size 432x288 with 1 Axes>",
      "image/png": "[encoded data removed]"
     },
     "metadata": {
      "needs_background": "light"
     },
     "output_type": "display_data"
    }
   ],
   "source": [
    "#从测试集中抽取两张图像进行预测\n",
    "with tf.Session() as sess:\n",
    "    sess.run(tf.global_variables_initializer())  #初始化\n",
    "    saver.restore(sess, '/Users/limuyuan/Documents/Artificial-Intelligence-Note/8_12/model/')  #加载模型\n",
    "\n",
    "    #从测试集读两张图像\n",
    "    test_images, test_labels = mnist.test.next_batch(batch_size=2)\n",
    "    out_put = tf.arg_max(pred_y, 1)  #axis=1\n",
    "    out_val, predv = sess.run([out_put, pred_y], feed_dict={x: test_images})  #feed_dict为pred_y传参数\n",
    "    print('预测类别为:', out_val)\n",
    "    print('真实类别:', np.argmax(test_labels, axis=1))  #这个返回最大值的索引\n",
    "    print(\"预测概率为:\", np.max(predv, axis=1))  #这个返回最大的值\n",
    "\n",
    "    #显示图像\n",
    "    img = test_images[0]\n",
    "    img = img.reshape(-1, 28)\n",
    "    pylab.imshow(img)\n",
    "    pylab.show()\n",
    "\n",
    "    #显示图像\n",
    "    img = test_images[1]\n",
    "    img = img.reshape(-1, 28)\n",
    "    pylab.imshow(img)\n",
    "    pylab.show()"
   ],
   "metadata": {
    "collapsed": false,
    "pycharm": {
     "name": "#%%\n"
    }
   }
  },
  {
   "cell_type": "code",
   "execution_count": 47,
   "outputs": [],
   "source": [],
   "metadata": {
    "collapsed": false,
    "pycharm": {
     "name": "#%%\n"
    }
   }
  },
  {
   "cell_type": "code",
   "execution_count": null,
   "outputs": [],
   "source": [],
   "metadata": {
    "collapsed": false,
    "pycharm": {
     "name": "#%%\n"
    }
   }
  }
 ],
 "metadata": {
  "kernelspec": {
   "display_name": "Python 3",
   "language": "python",
   "name": "python3"
  },
  "language_info": {
   "codemirror_mode": {
    "name": "ipython",
    "version": 2
   },
   "file_extension": ".py",
   "mimetype": "text/x-python",
   "name": "python",
   "nbconvert_exporter": "python",
   "pygments_lexer": "ipython2",
   "version": "2.7.6"
  }
 },
 "nbformat": 4,
 "nbformat_minor": 0
}