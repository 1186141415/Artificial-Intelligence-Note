{
 "cells": [
  {
   "cell_type": "code",
   "execution_count": 2,
   "metadata": {
    "collapsed": true,
    "pycharm": {
     "name": "#%%\n"
    }
   },
   "outputs": [],
   "source": [
    "import os\n",
    "import tensorflow as tf"
   ]
  },
  {
   "cell_type": "code",
   "execution_count": 14,
   "outputs": [],
   "source": [
    "def read_csv(filelist):\n",
    "    #构建文件队列\n",
    "    file_queue = tf.train.string_input_producer(string_tensor=filelist,\n",
    "                                                shuffle=True) #默认为True\n",
    "\n",
    "    #构建文件读取器\n",
    "    reader = tf.TextLineReader()\n",
    "\n",
    "    #读取数据\n",
    "    name, val = reader.read(file_queue)\n",
    "\n",
    "    #解码\n",
    "    records = [['None'], ['None']]\n",
    "    example, label = tf.decode_csv(records=val,\n",
    "                                   record_defaults=records)  #说明数据拆分格式，一般是一个列表包括两个列表对象，内部第一个列表表示X的数据格式，第二个列表表示是Y的数据格式\n",
    "\n",
    "    #批处理\n",
    "    exam_bat, lab_bat = tf.train.batch([example, label],  #返回批处理数据\n",
    "                                       batch_size=5,  #批大小\n",
    "                                       num_threads=1)  #线程数量\n",
    "\n",
    "    return exam_bat, lab_bat"
   ],
   "metadata": {
    "collapsed": false,
    "pycharm": {
     "name": "#%%\n"
    }
   }
  },
  {
   "cell_type": "code",
   "execution_count": 15,
   "outputs": [],
   "source": [
    "#构建文件列表\n",
    "dir_name = './test_data/'\n",
    "file_names = os.listdir(dir_name)\n",
    "file_list = []\n",
    "for f in file_names:\n",
    "    file_list.append(os.path.join(dir_name, f))"
   ],
   "metadata": {
    "collapsed": false,
    "pycharm": {
     "name": "#%%\n"
    }
   }
  },
  {
   "cell_type": "code",
   "execution_count": 17,
   "outputs": [],
   "source": [
    "example, label = read_csv(file_list) #这里需要注意，example, label是函数返回的操作对象，所以需要交给会话"
   ],
   "metadata": {
    "collapsed": false,
    "pycharm": {
     "name": "#%%\n"
    }
   }
  },
  {
   "cell_type": "code",
   "execution_count": 18,
   "outputs": [
    {
     "name": "stdout",
     "output_type": "stream",
     "text": [
      "[array([b'AAAAAAAAAA1', b'AAAAAAAAAA2', b'AAAAAAAAAA3', b'AAAAAAAAAA4',\n",
      "       b'AAAAAAAAAA5'], dtype=object), array([b'A1', b'A2', b'A3', b'A4', b'A5'], dtype=object)]\n"
     ]
    }
   ],
   "source": [
    "with tf.Session() as sess:\n",
    "    #线程协调器\n",
    "    coord = tf.train.Coordinator()\n",
    "    #开启读取文件线程\n",
    "    threads = tf.train.start_queue_runners(sess=sess, coord=coord)  #线程协调器\n",
    "\n",
    "    print(sess.run([example, label])) #多个操作的运行用列表传入\n",
    "\n",
    "    #等待线程停止，回收资源\n",
    "    coord.request_stop()\n",
    "    coord.join(threads)  #回收"
   ],
   "metadata": {
    "collapsed": false,
    "pycharm": {
     "name": "#%%\n"
    }
   }
  },
  {
   "cell_type": "code",
   "execution_count": 7,
   "outputs": [],
   "source": [],
   "metadata": {
    "collapsed": false,
    "pycharm": {
     "name": "#%%\n"
    }
   }
  }
 ],
 "metadata": {
  "kernelspec": {
   "display_name": "Python 3",
   "language": "python",
   "name": "python3"
  },
  "language_info": {
   "codemirror_mode": {
    "name": "ipython",
    "version": 2
   },
   "file_extension": ".py",
   "mimetype": "text/x-python",
   "name": "python",
   "nbconvert_exporter": "python",
   "pygments_lexer": "ipython2",
   "version": "2.7.6"
  }
 },
 "nbformat": 4,
 "nbformat_minor": 0
}