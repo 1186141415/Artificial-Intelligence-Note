{
 "cells": [
  {
   "cell_type": "markdown",
   "metadata": {
    "pycharm": {
     "name": "#%% md\n"
    }
   },
   "source": [
    "# 北京房源二手房房价预测"
   ]
  },
  {
   "cell_type": "markdown",
   "metadata": {
    "pycharm": {
     "name": "#%% md\n"
    }
   },
   "source": [
    "## 项目背景\n",
    "提高成单量  \n",
    "促成售卖，促成租赁"
   ]
  },
  {
   "cell_type": "code",
   "execution_count": 1,
   "metadata": {
    "pycharm": {
     "name": "#%%\n"
    }
   },
   "outputs": [],
   "source": [
    "import pandas as pd\n",
    "import numpy as np\n",
    "import warnings\n",
    "\n",
    "warnings.filterwarnings('ignore')"
   ]
  },
  {
   "cell_type": "code",
   "execution_count": 2,
   "metadata": {
    "pycharm": {
     "name": "#%%\n"
    }
   },
   "outputs": [],
   "source": [
    "house = pd.read_csv('./二手房数据/house.csv')\n",
    "community = pd.read_csv('./二手房数据/community_describe.csv')"
   ]
  },
  {
   "cell_type": "markdown",
   "metadata": {
    "pycharm": {
     "name": "#%% md\n"
    }
   },
   "source": [
    "## 数据融合"
   ]
  },
  {
   "cell_type": "code",
   "execution_count": 3,
   "metadata": {
    "pycharm": {
     "name": "#%%\n"
    }
   },
   "outputs": [],
   "source": [
    "data = house.merge(community, on='community', how='left')"
   ]
  },
  {
   "cell_type": "markdown",
   "metadata": {
    "pycharm": {
     "name": "#%% md\n"
    }
   },
   "source": [
    "## 数据提取"
   ]
  },
  {
   "cell_type": "code",
   "execution_count": 4,
   "metadata": {
    "pycharm": {
     "name": "#%%\n"
    }
   },
   "outputs": [],
   "source": [
    "#当前层\n",
    "data['当前层'] = data.years.str.extract('(\\w*?)\\(')\n",
    "#总楼层\n",
    "data['总楼层'] = data.years.str.extract('共(\\d+)层')\n",
    "#建成年份\n",
    "data['建成年份'] = data.years.str.extract('\\)(\\d+)年')\n",
    "#建筑结构\n",
    "data['建筑结构'] = data.years.str.extract('建(\\w+)')\n",
    "\n",
    "del data['years']\n",
    "del data['floor']"
   ]
  },
  {
   "cell_type": "markdown",
   "metadata": {
    "pycharm": {
     "name": "#%% md\n"
    }
   },
   "source": [
    "### 在housetype中删除车位和别墅的数据。提取客厅数，房间数，卫生间数"
   ]
  },
  {
   "cell_type": "code",
   "execution_count": 5,
   "metadata": {
    "pycharm": {
     "name": "#%%\n"
    }
   },
   "outputs": [],
   "source": [
    "data = data[~data.housetype.str.contains('别|车')]\n",
    "\n",
    "#卧室\n",
    "data['卧室'] = data.housetype.str.extract('(\\d+)室|房')\n",
    "#客厅\n",
    "data['客厅'] = data.housetype.str.extract('(\\d+)厅')\n",
    "#卫生间\n",
    "data['卫生间'] = data.housetype.str.extract('(\\d+)卫')\n",
    "\n",
    "del data['housetype']"
   ]
  },
  {
   "cell_type": "markdown",
   "metadata": {
    "pycharm": {
     "name": "#%% md\n"
    }
   },
   "source": [
    "### 去掉square中的平米"
   ]
  },
  {
   "cell_type": "code",
   "execution_count": 6,
   "metadata": {
    "pycharm": {
     "name": "#%%\n"
    }
   },
   "outputs": [],
   "source": [
    "data['square'] = data.square.str.replace('平米', '')"
   ]
  },
  {
   "cell_type": "markdown",
   "metadata": {
    "pycharm": {
     "name": "#%% md\n"
    }
   },
   "source": [
    "### 在taxtype中提取地铁距离，房本类型"
   ]
  },
  {
   "cell_type": "code",
   "execution_count": 7,
   "metadata": {
    "pycharm": {
     "name": "#%%\n"
    }
   },
   "outputs": [],
   "source": [
    "data['地铁距离'] = data.taxtype.str.extract('站(\\d+)')\n",
    "data['房本类型'] = data.taxtype.str.extract('满(\\w+)年')\n",
    "\n",
    "del data['taxtype']"
   ]
  },
  {
   "cell_type": "markdown",
   "metadata": {
    "pycharm": {
     "name": "#%% md\n"
    }
   },
   "source": [
    "### 在tagList中提取地铁站"
   ]
  },
  {
   "cell_type": "code",
   "execution_count": 8,
   "metadata": {
    "pycharm": {
     "name": "#%%\n"
    }
   },
   "outputs": [],
   "source": [
    "data['地铁站'] = data.tagList.str.extract('线(\\w+)')\n",
    "\n",
    "del data['tagList']"
   ]
  },
  {
   "cell_type": "markdown",
   "metadata": {
    "pycharm": {
     "name": "#%% md\n"
    }
   },
   "source": [
    "### 删除没用的列"
   ]
  },
  {
   "cell_type": "code",
   "execution_count": 9,
   "metadata": {
    "pycharm": {
     "name": "#%%\n"
    }
   },
   "outputs": [],
   "source": [
    "data = data.drop(['index_x', 'title', 'totalPrice', 'followInfo', 'index_y', 'id', 'onsale'], axis=1)"
   ]
  },
  {
   "cell_type": "markdown",
   "metadata": {
    "pycharm": {
     "name": "#%% md\n"
    }
   },
   "source": [
    "### 将数值类型字符串转为数值类型"
   ]
  },
  {
   "cell_type": "code",
   "execution_count": 10,
   "metadata": {
    "pycharm": {
     "name": "#%%\n"
    }
   },
   "outputs": [],
   "source": [
    "data['square'] = data['square'].astype('float64')\n",
    "data['总楼层'] = data['总楼层'].astype('float64')\n",
    "data['建成年份'] = data['建成年份'].astype('float64')\n",
    "data['卧室'] = data['卧室'].astype('float64')\n",
    "data['客厅'] = data['客厅'].astype('float64')\n",
    "data['卫生间'] = data['卫生间'].astype('float64')\n",
    "data['地铁距离'] = data['地铁距离'].astype('float64')"
   ]
  },
  {
   "cell_type": "markdown",
   "metadata": {
    "pycharm": {
     "name": "#%% md\n"
    }
   },
   "source": [
    "### 处理异常值"
   ]
  },
  {
   "cell_type": "code",
   "execution_count": 11,
   "metadata": {
    "pycharm": {
     "name": "#%%\n"
    }
   },
   "outputs": [],
   "source": [
    "data = data[data.unitPrice >= 30000]\n",
    "\n",
    "data = data[data['总楼层'] < 40]\n",
    "\n",
    "data = data[data['卧室'] < 5]\n",
    "\n",
    "data = data[data['客厅'] <= 2]\n",
    "\n",
    "del data['卫生间']"
   ]
  },
  {
   "cell_type": "code",
   "execution_count": 12,
   "metadata": {
    "pycharm": {
     "name": "#%%\n"
    }
   },
   "outputs": [],
   "source": [
    "data = data[data['当前层'] != '地下室']\n",
    "\n",
    "data = data[data['建筑结构'] != '平房']"
   ]
  },
  {
   "cell_type": "markdown",
   "source": [
    "### 缺失值处理"
   ],
   "metadata": {
    "collapsed": false,
    "pycharm": {
     "name": "#%% md\n"
    }
   }
  },
  {
   "cell_type": "code",
   "execution_count": 13,
   "outputs": [],
   "source": [
    "#district缺失值删掉"
   ],
   "metadata": {
    "collapsed": false,
    "pycharm": {
     "name": "#%%\n"
    }
   }
  },
  {
   "cell_type": "code",
   "execution_count": 14,
   "outputs": [],
   "source": [
    "data = data[~data.district.isna()]"
   ],
   "metadata": {
    "collapsed": false,
    "pycharm": {
     "name": "#%%\n"
    }
   }
  },
  {
   "cell_type": "code",
   "execution_count": 15,
   "outputs": [],
   "source": [
    "#地铁距离的缺失值用最大值填充\n",
    "data['地铁距离'][data.地铁距离.isna()] = data.地铁距离.max()"
   ],
   "metadata": {
    "collapsed": false,
    "pycharm": {
     "name": "#%%\n"
    }
   }
  },
  {
   "cell_type": "code",
   "execution_count": 16,
   "outputs": [],
   "source": [
    "# 房本类型缺失值，缺少认为不满2年用1填充\n",
    "data['房本类型'][data.房本类型.isna()] = 1"
   ],
   "metadata": {
    "collapsed": false,
    "pycharm": {
     "name": "#%%\n"
    }
   }
  },
  {
   "cell_type": "code",
   "execution_count": 17,
   "outputs": [],
   "source": [
    "# 地铁站填充无\n",
    "data['地铁站'][data.地铁站.isna()] = '无'"
   ],
   "metadata": {
    "collapsed": false,
    "pycharm": {
     "name": "#%%\n"
    }
   }
  },
  {
   "cell_type": "code",
   "execution_count": 18,
   "outputs": [],
   "source": [
    "#建成年份缺失值，使用同一个小区的众数年份进行填充，填充失败的直接删除\n",
    "def getyears(item):\n",
    "    val = data.建成年份[data.community == item].mode()\n",
    "    if val.size > 0:\n",
    "        return val[0]\n",
    "    else:\n",
    "        return np.nan\n",
    "\n",
    "\n",
    "data.建成年份[data.建成年份.isna()] = data.community[data.建成年份.isna()].apply(getyears)\n",
    "#填充失败直接删掉\n",
    "data.dropna(subset=['建成年份'], inplace=True)"
   ],
   "metadata": {
    "collapsed": false,
    "pycharm": {
     "name": "#%%\n"
    }
   }
  },
  {
   "cell_type": "code",
   "execution_count": 19,
   "outputs": [],
   "source": [
    "#建筑结构缺失值，使用同一个小区的众数年份进行填充，填充失败的直接删除\n",
    "def getyears(item):\n",
    "    val = data.建筑结构[data.community == item].mode()\n",
    "    if val.size > 0:\n",
    "        return val[0]\n",
    "    else:\n",
    "        return np.nan\n",
    "\n",
    "\n",
    "data.建筑结构[data.建筑结构.isna()] = data.community[data.建筑结构.isna()].apply(getyears)\n",
    "#填充失败直接删掉\n",
    "data.dropna(subset=['建筑结构'], inplace=True)"
   ],
   "metadata": {
    "collapsed": false,
    "pycharm": {
     "name": "#%%\n"
    }
   }
  },
  {
   "cell_type": "code",
   "execution_count": 30,
   "outputs": [
    {
     "name": "stdout",
     "output_type": "stream",
     "text": [
      "<class 'pandas.core.frame.DataFrame'>\n",
      "Int64Index: 14158 entries, 0 to 16115\n",
      "Data columns (total 17 columns):\n",
      " #   Column     Non-Null Count  Dtype  \n",
      "---  ------     --------------  -----  \n",
      " 0   community  14158 non-null  object \n",
      " 1   square     14158 non-null  float64\n",
      " 2   unitPrice  14158 non-null  int64  \n",
      " 3   bizcircle  14158 non-null  object \n",
      " 4   当前层        14158 non-null  object \n",
      " 5   总楼层        14158 non-null  float64\n",
      " 6   建成年份       14158 non-null  float64\n",
      " 7   建筑结构       14158 non-null  object \n",
      " 8   卧室         14158 non-null  float64\n",
      " 9   客厅         14158 non-null  float64\n",
      " 10  地铁距离       14158 non-null  float64\n",
      " 11  房本类型       14158 non-null  object \n",
      " 12  地铁站        14158 non-null  object \n",
      " 13  东城         14158 non-null  uint8  \n",
      " 14  朝阳         14158 non-null  uint8  \n",
      " 15  海淀         14158 non-null  uint8  \n",
      " 16  西城         14158 non-null  uint8  \n",
      "dtypes: float64(6), int64(1), object(6), uint8(4)\n",
      "memory usage: 1.6+ MB\n"
     ]
    }
   ],
   "source": [
    "data.info()"
   ],
   "metadata": {
    "collapsed": false,
    "pycharm": {
     "name": "#%%\n"
    }
   }
  },
  {
   "cell_type": "markdown",
   "source": [
    "### 编码"
   ],
   "metadata": {
    "collapsed": false,
    "pycharm": {
     "name": "#%% md\n"
    }
   }
  },
  {
   "cell_type": "code",
   "execution_count": 24,
   "outputs": [
    {
     "data": {
      "text/plain": "       东城  朝阳  海淀  西城\n0       0   1   0   0\n2       0   0   1   0\n3       0   1   0   0\n5       0   0   0   1\n9       0   0   1   0\n...    ..  ..  ..  ..\n16109   0   1   0   0\n16110   1   0   0   0\n16112   0   1   0   0\n16114   0   0   1   0\n16115   0   0   1   0\n\n[14158 rows x 4 columns]",
      "text/html": "<div>\n<style scoped>\n    .dataframe tbody tr th:only-of-type {\n        vertical-align: middle;\n    }\n\n    .dataframe tbody tr th {\n        vertical-align: top;\n    }\n\n    .dataframe thead th {\n        text-align: right;\n    }\n</style>\n<table border=\"1\" class=\"dataframe\">\n  <thead>\n    <tr style=\"text-align: right;\">\n      <th></th>\n      <th>东城</th>\n      <th>朝阳</th>\n      <th>海淀</th>\n      <th>西城</th>\n    </tr>\n  </thead>\n  <tbody>\n    <tr>\n      <th>0</th>\n      <td>0</td>\n      <td>1</td>\n      <td>0</td>\n      <td>0</td>\n    </tr>\n    <tr>\n      <th>2</th>\n      <td>0</td>\n      <td>0</td>\n      <td>1</td>\n      <td>0</td>\n    </tr>\n    <tr>\n      <th>3</th>\n      <td>0</td>\n      <td>1</td>\n      <td>0</td>\n      <td>0</td>\n    </tr>\n    <tr>\n      <th>5</th>\n      <td>0</td>\n      <td>0</td>\n      <td>0</td>\n      <td>1</td>\n    </tr>\n    <tr>\n      <th>9</th>\n      <td>0</td>\n      <td>0</td>\n      <td>1</td>\n      <td>0</td>\n    </tr>\n    <tr>\n      <th>...</th>\n      <td>...</td>\n      <td>...</td>\n      <td>...</td>\n      <td>...</td>\n    </tr>\n    <tr>\n      <th>16109</th>\n      <td>0</td>\n      <td>1</td>\n      <td>0</td>\n      <td>0</td>\n    </tr>\n    <tr>\n      <th>16110</th>\n      <td>1</td>\n      <td>0</td>\n      <td>0</td>\n      <td>0</td>\n    </tr>\n    <tr>\n      <th>16112</th>\n      <td>0</td>\n      <td>1</td>\n      <td>0</td>\n      <td>0</td>\n    </tr>\n    <tr>\n      <th>16114</th>\n      <td>0</td>\n      <td>0</td>\n      <td>1</td>\n      <td>0</td>\n    </tr>\n    <tr>\n      <th>16115</th>\n      <td>0</td>\n      <td>0</td>\n      <td>1</td>\n      <td>0</td>\n    </tr>\n  </tbody>\n</table>\n<p>14158 rows × 4 columns</p>\n</div>"
     },
     "execution_count": 24,
     "metadata": {},
     "output_type": "execute_result"
    }
   ],
   "source": [
    "dis_onehot = pd.get_dummies(data.district)\n",
    "dis_onehot"
   ],
   "metadata": {
    "collapsed": false,
    "pycharm": {
     "name": "#%%\n"
    }
   }
  },
  {
   "cell_type": "code",
   "execution_count": 25,
   "outputs": [],
   "source": [
    "data = pd.concat((data, dis_onehot), axis=1)"
   ],
   "metadata": {
    "collapsed": false,
    "pycharm": {
     "name": "#%%\n"
    }
   }
  },
  {
   "cell_type": "code",
   "execution_count": 27,
   "outputs": [],
   "source": [
    "del data['district']"
   ],
   "metadata": {
    "collapsed": false,
    "pycharm": {
     "name": "#%%\n"
    }
   }
  },
  {
   "cell_type": "code",
   "execution_count": 31,
   "outputs": [
    {
     "data": {
      "text/plain": "array(['底层', '低楼层', '中楼层', '顶层', '高楼层'], dtype=object)"
     },
     "execution_count": 31,
     "metadata": {},
     "output_type": "execute_result"
    }
   ],
   "source": [
    "# 当前层\n",
    "data.当前层.unique()"
   ],
   "metadata": {
    "collapsed": false,
    "pycharm": {
     "name": "#%%\n"
    }
   }
  },
  {
   "cell_type": "code",
   "execution_count": 32,
   "outputs": [],
   "source": [
    "dic_floor = {'底层': 0, '低楼层': 1, '中楼层': 2, '顶层': 3, '高楼层': 4}"
   ],
   "metadata": {
    "collapsed": false,
    "pycharm": {
     "name": "#%%\n"
    }
   }
  },
  {
   "cell_type": "code",
   "execution_count": 33,
   "outputs": [],
   "source": [
    "data['当前层'] = data.当前层.map(dic_floor)"
   ],
   "metadata": {
    "collapsed": false,
    "pycharm": {
     "name": "#%%\n"
    }
   }
  },
  {
   "cell_type": "code",
   "execution_count": null,
   "outputs": [],
   "source": [
    "#建筑结构"
   ],
   "metadata": {
    "collapsed": false,
    "pycharm": {
     "name": "#%%\n"
    }
   }
  },
  {
   "cell_type": "code",
   "execution_count": 34,
   "outputs": [
    {
     "data": {
      "text/plain": "array(['板塔结合', '塔楼', '板楼'], dtype=object)"
     },
     "execution_count": 34,
     "metadata": {},
     "output_type": "execute_result"
    }
   ],
   "source": [
    "data.建筑结构.unique()"
   ],
   "metadata": {
    "collapsed": false,
    "pycharm": {
     "name": "#%%\n"
    }
   }
  },
  {
   "cell_type": "code",
   "execution_count": 35,
   "outputs": [],
   "source": [
    "dic_build = {'板塔结合': 0, '塔楼': 1, '板楼': 2}"
   ],
   "metadata": {
    "collapsed": false,
    "pycharm": {
     "name": "#%%\n"
    }
   }
  },
  {
   "cell_type": "code",
   "execution_count": 36,
   "outputs": [],
   "source": [
    "data['建筑结构'] = data.建筑结构.map(dic_build)"
   ],
   "metadata": {
    "collapsed": false,
    "pycharm": {
     "name": "#%%\n"
    }
   }
  },
  {
   "cell_type": "code",
   "execution_count": 37,
   "outputs": [
    {
     "data": {
      "text/plain": "array(['五', '两', 1], dtype=object)"
     },
     "execution_count": 37,
     "metadata": {},
     "output_type": "execute_result"
    }
   ],
   "source": [
    "data.房本类型.unique()"
   ],
   "metadata": {
    "collapsed": false,
    "pycharm": {
     "name": "#%%\n"
    }
   }
  },
  {
   "cell_type": "code",
   "execution_count": 38,
   "outputs": [],
   "source": [
    "dic_housebook = {'五': 0, '两': 1, '1': 2}"
   ],
   "metadata": {
    "collapsed": false,
    "pycharm": {
     "name": "#%%\n"
    }
   }
  },
  {
   "cell_type": "code",
   "execution_count": 39,
   "outputs": [],
   "source": [
    "data['房本类型'] = data.房本类型.map(dic_housebook)"
   ],
   "metadata": {
    "collapsed": false,
    "pycharm": {
     "name": "#%%\n"
    }
   }
  },
  {
   "cell_type": "code",
   "execution_count": 46,
   "outputs": [],
   "source": [
    "#街道\n",
    "dic_biz = dict(data.bizcircle.value_counts())"
   ],
   "metadata": {
    "collapsed": false,
    "pycharm": {
     "name": "#%%\n"
    }
   }
  },
  {
   "cell_type": "code",
   "execution_count": 47,
   "outputs": [],
   "source": [
    "data['bizcircle'] = data.bizcircle.map(dic_biz)"
   ],
   "metadata": {
    "collapsed": false,
    "pycharm": {
     "name": "#%%\n"
    }
   }
  },
  {
   "cell_type": "code",
   "execution_count": 50,
   "outputs": [
    {
     "data": {
      "text/plain": "158"
     },
     "execution_count": 50,
     "metadata": {},
     "output_type": "execute_result"
    }
   ],
   "source": [
    "#地铁站\n",
    "data.地铁站.nunique()"
   ],
   "metadata": {
    "collapsed": false,
    "pycharm": {
     "name": "#%%\n"
    }
   }
  },
  {
   "cell_type": "code",
   "execution_count": 52,
   "outputs": [],
   "source": [
    "dic_sub = dict(data.groupby('地铁站')['unitPrice'].mean())"
   ],
   "metadata": {
    "collapsed": false,
    "pycharm": {
     "name": "#%%\n"
    }
   }
  },
  {
   "cell_type": "code",
   "execution_count": 53,
   "outputs": [],
   "source": [
    "data['地铁站'] = data.地铁站.map(dic_sub)"
   ],
   "metadata": {
    "collapsed": false,
    "pycharm": {
     "name": "#%%\n"
    }
   }
  },
  {
   "cell_type": "code",
   "execution_count": 54,
   "outputs": [],
   "source": [
    "dic_com = dict(data.groupby('community')['unitPrice'].mean())"
   ],
   "metadata": {
    "collapsed": false,
    "pycharm": {
     "name": "#%%\n"
    }
   }
  },
  {
   "cell_type": "code",
   "execution_count": 55,
   "outputs": [],
   "source": [
    "data['community'] = data.community.map(dic_com)"
   ],
   "metadata": {
    "collapsed": false,
    "pycharm": {
     "name": "#%%\n"
    }
   }
  },
  {
   "cell_type": "code",
   "execution_count": 56,
   "outputs": [
    {
     "data": {
      "text/plain": "          community  square  unitPrice  bizcircle  当前层   总楼层    建成年份  建筑结构  \\\n0      82448.333333  298.79      86951        845    0  22.0  2010.0     0   \n2      69571.800000  177.36      67659        157    1  24.0  1999.0     1   \n3      98762.580645  245.52      67205        158    2  28.0  2007.0     1   \n5      82289.500000  130.03      89211         23    1  22.0  2002.0     1   \n9      86705.250000  256.11      76140         99    2  14.0  2000.0     0   \n...             ...     ...        ...        ...  ...   ...     ...   ...   \n16109  78664.000000   98.92      79863        221    1  18.0  2004.0     1   \n16110  68721.666667   82.24      70526         77    2  22.0  1999.0     1   \n16112  64601.828571  153.28      55455        845    4  22.0  2000.0     1   \n16114  85661.800000   63.10      95088        140    2  16.0  1992.0     1   \n16115  62721.888889   91.66      62732        176    1   6.0  2004.0     2   \n\n        卧室   客厅    地铁距离  房本类型            地铁站  东城  朝阳  海淀  西城  \n0      4.0  1.0   680.0   0.0   83488.901639   0   1   0   0  \n2      3.0  2.0   383.0   0.0   92364.456250   0   0   1   0  \n3      4.0  2.0  1153.0   0.0   82526.081146   0   1   0   0  \n5      3.0  1.0   397.0   0.0   88249.428571   0   0   0   1  \n9      4.0  2.0   887.0   0.0   99153.531915   0   0   1   0  \n...    ...  ...     ...   ...            ...  ..  ..  ..  ..  \n16109  2.0  2.0  1199.0   0.0   74791.343572   0   1   0   0  \n16110  2.0  1.0   749.0   0.0   74791.343572   1   0   0   0  \n16112  3.0  2.0   842.0   0.0   69263.933628   0   1   0   0  \n16114  2.0  2.0   880.0   0.0  108395.860248   0   0   1   0  \n16115  2.0  1.0  1085.0   1.0   68582.710526   0   0   1   0  \n\n[14158 rows x 17 columns]",
      "text/html": "<div>\n<style scoped>\n    .dataframe tbody tr th:only-of-type {\n        vertical-align: middle;\n    }\n\n    .dataframe tbody tr th {\n        vertical-align: top;\n    }\n\n    .dataframe thead th {\n        text-align: right;\n    }\n</style>\n<table border=\"1\" class=\"dataframe\">\n  <thead>\n    <tr style=\"text-align: right;\">\n      <th></th>\n      <th>community</th>\n      <th>square</th>\n      <th>unitPrice</th>\n      <th>bizcircle</th>\n      <th>当前层</th>\n      <th>总楼层</th>\n      <th>建成年份</th>\n      <th>建筑结构</th>\n      <th>卧室</th>\n      <th>客厅</th>\n      <th>地铁距离</th>\n      <th>房本类型</th>\n      <th>地铁站</th>\n      <th>东城</th>\n      <th>朝阳</th>\n      <th>海淀</th>\n      <th>西城</th>\n    </tr>\n  </thead>\n  <tbody>\n    <tr>\n      <th>0</th>\n      <td>82448.333333</td>\n      <td>298.79</td>\n      <td>86951</td>\n      <td>845</td>\n      <td>0</td>\n      <td>22.0</td>\n      <td>2010.0</td>\n      <td>0</td>\n      <td>4.0</td>\n      <td>1.0</td>\n      <td>680.0</td>\n      <td>0.0</td>\n      <td>83488.901639</td>\n      <td>0</td>\n      <td>1</td>\n      <td>0</td>\n      <td>0</td>\n    </tr>\n    <tr>\n      <th>2</th>\n      <td>69571.800000</td>\n      <td>177.36</td>\n      <td>67659</td>\n      <td>157</td>\n      <td>1</td>\n      <td>24.0</td>\n      <td>1999.0</td>\n      <td>1</td>\n      <td>3.0</td>\n      <td>2.0</td>\n      <td>383.0</td>\n      <td>0.0</td>\n      <td>92364.456250</td>\n      <td>0</td>\n      <td>0</td>\n      <td>1</td>\n      <td>0</td>\n    </tr>\n    <tr>\n      <th>3</th>\n      <td>98762.580645</td>\n      <td>245.52</td>\n      <td>67205</td>\n      <td>158</td>\n      <td>2</td>\n      <td>28.0</td>\n      <td>2007.0</td>\n      <td>1</td>\n      <td>4.0</td>\n      <td>2.0</td>\n      <td>1153.0</td>\n      <td>0.0</td>\n      <td>82526.081146</td>\n      <td>0</td>\n      <td>1</td>\n      <td>0</td>\n      <td>0</td>\n    </tr>\n    <tr>\n      <th>5</th>\n      <td>82289.500000</td>\n      <td>130.03</td>\n      <td>89211</td>\n      <td>23</td>\n      <td>1</td>\n      <td>22.0</td>\n      <td>2002.0</td>\n      <td>1</td>\n      <td>3.0</td>\n      <td>1.0</td>\n      <td>397.0</td>\n      <td>0.0</td>\n      <td>88249.428571</td>\n      <td>0</td>\n      <td>0</td>\n      <td>0</td>\n      <td>1</td>\n    </tr>\n    <tr>\n      <th>9</th>\n      <td>86705.250000</td>\n      <td>256.11</td>\n      <td>76140</td>\n      <td>99</td>\n      <td>2</td>\n      <td>14.0</td>\n      <td>2000.0</td>\n      <td>0</td>\n      <td>4.0</td>\n      <td>2.0</td>\n      <td>887.0</td>\n      <td>0.0</td>\n      <td>99153.531915</td>\n      <td>0</td>\n      <td>0</td>\n      <td>1</td>\n      <td>0</td>\n    </tr>\n    <tr>\n      <th>...</th>\n      <td>...</td>\n      <td>...</td>\n      <td>...</td>\n      <td>...</td>\n      <td>...</td>\n      <td>...</td>\n      <td>...</td>\n      <td>...</td>\n      <td>...</td>\n      <td>...</td>\n      <td>...</td>\n      <td>...</td>\n      <td>...</td>\n      <td>...</td>\n      <td>...</td>\n      <td>...</td>\n      <td>...</td>\n    </tr>\n    <tr>\n      <th>16109</th>\n      <td>78664.000000</td>\n      <td>98.92</td>\n      <td>79863</td>\n      <td>221</td>\n      <td>1</td>\n      <td>18.0</td>\n      <td>2004.0</td>\n      <td>1</td>\n      <td>2.0</td>\n      <td>2.0</td>\n      <td>1199.0</td>\n      <td>0.0</td>\n      <td>74791.343572</td>\n      <td>0</td>\n      <td>1</td>\n      <td>0</td>\n      <td>0</td>\n    </tr>\n    <tr>\n      <th>16110</th>\n      <td>68721.666667</td>\n      <td>82.24</td>\n      <td>70526</td>\n      <td>77</td>\n      <td>2</td>\n      <td>22.0</td>\n      <td>1999.0</td>\n      <td>1</td>\n      <td>2.0</td>\n      <td>1.0</td>\n      <td>749.0</td>\n      <td>0.0</td>\n      <td>74791.343572</td>\n      <td>1</td>\n      <td>0</td>\n      <td>0</td>\n      <td>0</td>\n    </tr>\n    <tr>\n      <th>16112</th>\n      <td>64601.828571</td>\n      <td>153.28</td>\n      <td>55455</td>\n      <td>845</td>\n      <td>4</td>\n      <td>22.0</td>\n      <td>2000.0</td>\n      <td>1</td>\n      <td>3.0</td>\n      <td>2.0</td>\n      <td>842.0</td>\n      <td>0.0</td>\n      <td>69263.933628</td>\n      <td>0</td>\n      <td>1</td>\n      <td>0</td>\n      <td>0</td>\n    </tr>\n    <tr>\n      <th>16114</th>\n      <td>85661.800000</td>\n      <td>63.10</td>\n      <td>95088</td>\n      <td>140</td>\n      <td>2</td>\n      <td>16.0</td>\n      <td>1992.0</td>\n      <td>1</td>\n      <td>2.0</td>\n      <td>2.0</td>\n      <td>880.0</td>\n      <td>0.0</td>\n      <td>108395.860248</td>\n      <td>0</td>\n      <td>0</td>\n      <td>1</td>\n      <td>0</td>\n    </tr>\n    <tr>\n      <th>16115</th>\n      <td>62721.888889</td>\n      <td>91.66</td>\n      <td>62732</td>\n      <td>176</td>\n      <td>1</td>\n      <td>6.0</td>\n      <td>2004.0</td>\n      <td>2</td>\n      <td>2.0</td>\n      <td>1.0</td>\n      <td>1085.0</td>\n      <td>1.0</td>\n      <td>68582.710526</td>\n      <td>0</td>\n      <td>0</td>\n      <td>1</td>\n      <td>0</td>\n    </tr>\n  </tbody>\n</table>\n<p>14158 rows × 17 columns</p>\n</div>"
     },
     "execution_count": 56,
     "metadata": {},
     "output_type": "execute_result"
    }
   ],
   "source": [
    "data"
   ],
   "metadata": {
    "collapsed": false,
    "pycharm": {
     "name": "#%%\n"
    }
   }
  },
  {
   "cell_type": "code",
   "execution_count": 60,
   "outputs": [
    {
     "name": "stdout",
     "output_type": "stream",
     "text": [
      "<class 'pandas.core.frame.DataFrame'>\n",
      "Int64Index: 14158 entries, 0 to 16115\n",
      "Data columns (total 17 columns):\n",
      " #   Column     Non-Null Count  Dtype  \n",
      "---  ------     --------------  -----  \n",
      " 0   community  14158 non-null  float64\n",
      " 1   square     14158 non-null  float64\n",
      " 2   unitPrice  14158 non-null  int64  \n",
      " 3   bizcircle  14158 non-null  int64  \n",
      " 4   当前层        14158 non-null  int64  \n",
      " 5   总楼层        14158 non-null  float64\n",
      " 6   建成年份       14158 non-null  float64\n",
      " 7   建筑结构       14158 non-null  int64  \n",
      " 8   卧室         14158 non-null  float64\n",
      " 9   客厅         14158 non-null  float64\n",
      " 10  地铁距离       14158 non-null  float64\n",
      " 11  房本类型       11872 non-null  float64\n",
      " 12  地铁站        14158 non-null  float64\n",
      " 13  东城         14158 non-null  uint8  \n",
      " 14  朝阳         14158 non-null  uint8  \n",
      " 15  海淀         14158 non-null  uint8  \n",
      " 16  西城         14158 non-null  uint8  \n",
      "dtypes: float64(9), int64(4), uint8(4)\n",
      "memory usage: 1.6 MB\n"
     ]
    }
   ],
   "source": [
    "data.info()"
   ],
   "metadata": {
    "collapsed": false,
    "pycharm": {
     "name": "#%%\n"
    }
   }
  },
  {
   "cell_type": "code",
   "execution_count": 61,
   "outputs": [],
   "source": [
    "#调整数据顺序\n",
    "data['y'] = data['unitPrice']\n",
    "del data['unitPrice']"
   ],
   "metadata": {
    "collapsed": false,
    "pycharm": {
     "name": "#%%\n"
    }
   }
  },
  {
   "cell_type": "code",
   "execution_count": 62,
   "outputs": [
    {
     "data": {
      "text/plain": "          community  square  bizcircle  当前层   总楼层    建成年份  建筑结构   卧室   客厅  \\\n0      82448.333333  298.79        845    0  22.0  2010.0     0  4.0  1.0   \n2      69571.800000  177.36        157    1  24.0  1999.0     1  3.0  2.0   \n3      98762.580645  245.52        158    2  28.0  2007.0     1  4.0  2.0   \n5      82289.500000  130.03         23    1  22.0  2002.0     1  3.0  1.0   \n9      86705.250000  256.11         99    2  14.0  2000.0     0  4.0  2.0   \n...             ...     ...        ...  ...   ...     ...   ...  ...  ...   \n16109  78664.000000   98.92        221    1  18.0  2004.0     1  2.0  2.0   \n16110  68721.666667   82.24         77    2  22.0  1999.0     1  2.0  1.0   \n16112  64601.828571  153.28        845    4  22.0  2000.0     1  3.0  2.0   \n16114  85661.800000   63.10        140    2  16.0  1992.0     1  2.0  2.0   \n16115  62721.888889   91.66        176    1   6.0  2004.0     2  2.0  1.0   \n\n         地铁距离  房本类型            地铁站  东城  朝阳  海淀  西城      y  \n0       680.0   0.0   83488.901639   0   1   0   0  86951  \n2       383.0   0.0   92364.456250   0   0   1   0  67659  \n3      1153.0   0.0   82526.081146   0   1   0   0  67205  \n5       397.0   0.0   88249.428571   0   0   0   1  89211  \n9       887.0   0.0   99153.531915   0   0   1   0  76140  \n...       ...   ...            ...  ..  ..  ..  ..    ...  \n16109  1199.0   0.0   74791.343572   0   1   0   0  79863  \n16110   749.0   0.0   74791.343572   1   0   0   0  70526  \n16112   842.0   0.0   69263.933628   0   1   0   0  55455  \n16114   880.0   0.0  108395.860248   0   0   1   0  95088  \n16115  1085.0   1.0   68582.710526   0   0   1   0  62732  \n\n[14158 rows x 17 columns]",
      "text/html": "<div>\n<style scoped>\n    .dataframe tbody tr th:only-of-type {\n        vertical-align: middle;\n    }\n\n    .dataframe tbody tr th {\n        vertical-align: top;\n    }\n\n    .dataframe thead th {\n        text-align: right;\n    }\n</style>\n<table border=\"1\" class=\"dataframe\">\n  <thead>\n    <tr style=\"text-align: right;\">\n      <th></th>\n      <th>community</th>\n      <th>square</th>\n      <th>bizcircle</th>\n      <th>当前层</th>\n      <th>总楼层</th>\n      <th>建成年份</th>\n      <th>建筑结构</th>\n      <th>卧室</th>\n      <th>客厅</th>\n      <th>地铁距离</th>\n      <th>房本类型</th>\n      <th>地铁站</th>\n      <th>东城</th>\n      <th>朝阳</th>\n      <th>海淀</th>\n      <th>西城</th>\n      <th>y</th>\n    </tr>\n  </thead>\n  <tbody>\n    <tr>\n      <th>0</th>\n      <td>82448.333333</td>\n      <td>298.79</td>\n      <td>845</td>\n      <td>0</td>\n      <td>22.0</td>\n      <td>2010.0</td>\n      <td>0</td>\n      <td>4.0</td>\n      <td>1.0</td>\n      <td>680.0</td>\n      <td>0.0</td>\n      <td>83488.901639</td>\n      <td>0</td>\n      <td>1</td>\n      <td>0</td>\n      <td>0</td>\n      <td>86951</td>\n    </tr>\n    <tr>\n      <th>2</th>\n      <td>69571.800000</td>\n      <td>177.36</td>\n      <td>157</td>\n      <td>1</td>\n      <td>24.0</td>\n      <td>1999.0</td>\n      <td>1</td>\n      <td>3.0</td>\n      <td>2.0</td>\n      <td>383.0</td>\n      <td>0.0</td>\n      <td>92364.456250</td>\n      <td>0</td>\n      <td>0</td>\n      <td>1</td>\n      <td>0</td>\n      <td>67659</td>\n    </tr>\n    <tr>\n      <th>3</th>\n      <td>98762.580645</td>\n      <td>245.52</td>\n      <td>158</td>\n      <td>2</td>\n      <td>28.0</td>\n      <td>2007.0</td>\n      <td>1</td>\n      <td>4.0</td>\n      <td>2.0</td>\n      <td>1153.0</td>\n      <td>0.0</td>\n      <td>82526.081146</td>\n      <td>0</td>\n      <td>1</td>\n      <td>0</td>\n      <td>0</td>\n      <td>67205</td>\n    </tr>\n    <tr>\n      <th>5</th>\n      <td>82289.500000</td>\n      <td>130.03</td>\n      <td>23</td>\n      <td>1</td>\n      <td>22.0</td>\n      <td>2002.0</td>\n      <td>1</td>\n      <td>3.0</td>\n      <td>1.0</td>\n      <td>397.0</td>\n      <td>0.0</td>\n      <td>88249.428571</td>\n      <td>0</td>\n      <td>0</td>\n      <td>0</td>\n      <td>1</td>\n      <td>89211</td>\n    </tr>\n    <tr>\n      <th>9</th>\n      <td>86705.250000</td>\n      <td>256.11</td>\n      <td>99</td>\n      <td>2</td>\n      <td>14.0</td>\n      <td>2000.0</td>\n      <td>0</td>\n      <td>4.0</td>\n      <td>2.0</td>\n      <td>887.0</td>\n      <td>0.0</td>\n      <td>99153.531915</td>\n      <td>0</td>\n      <td>0</td>\n      <td>1</td>\n      <td>0</td>\n      <td>76140</td>\n    </tr>\n    <tr>\n      <th>...</th>\n      <td>...</td>\n      <td>...</td>\n      <td>...</td>\n      <td>...</td>\n      <td>...</td>\n      <td>...</td>\n      <td>...</td>\n      <td>...</td>\n      <td>...</td>\n      <td>...</td>\n      <td>...</td>\n      <td>...</td>\n      <td>...</td>\n      <td>...</td>\n      <td>...</td>\n      <td>...</td>\n      <td>...</td>\n    </tr>\n    <tr>\n      <th>16109</th>\n      <td>78664.000000</td>\n      <td>98.92</td>\n      <td>221</td>\n      <td>1</td>\n      <td>18.0</td>\n      <td>2004.0</td>\n      <td>1</td>\n      <td>2.0</td>\n      <td>2.0</td>\n      <td>1199.0</td>\n      <td>0.0</td>\n      <td>74791.343572</td>\n      <td>0</td>\n      <td>1</td>\n      <td>0</td>\n      <td>0</td>\n      <td>79863</td>\n    </tr>\n    <tr>\n      <th>16110</th>\n      <td>68721.666667</td>\n      <td>82.24</td>\n      <td>77</td>\n      <td>2</td>\n      <td>22.0</td>\n      <td>1999.0</td>\n      <td>1</td>\n      <td>2.0</td>\n      <td>1.0</td>\n      <td>749.0</td>\n      <td>0.0</td>\n      <td>74791.343572</td>\n      <td>1</td>\n      <td>0</td>\n      <td>0</td>\n      <td>0</td>\n      <td>70526</td>\n    </tr>\n    <tr>\n      <th>16112</th>\n      <td>64601.828571</td>\n      <td>153.28</td>\n      <td>845</td>\n      <td>4</td>\n      <td>22.0</td>\n      <td>2000.0</td>\n      <td>1</td>\n      <td>3.0</td>\n      <td>2.0</td>\n      <td>842.0</td>\n      <td>0.0</td>\n      <td>69263.933628</td>\n      <td>0</td>\n      <td>1</td>\n      <td>0</td>\n      <td>0</td>\n      <td>55455</td>\n    </tr>\n    <tr>\n      <th>16114</th>\n      <td>85661.800000</td>\n      <td>63.10</td>\n      <td>140</td>\n      <td>2</td>\n      <td>16.0</td>\n      <td>1992.0</td>\n      <td>1</td>\n      <td>2.0</td>\n      <td>2.0</td>\n      <td>880.0</td>\n      <td>0.0</td>\n      <td>108395.860248</td>\n      <td>0</td>\n      <td>0</td>\n      <td>1</td>\n      <td>0</td>\n      <td>95088</td>\n    </tr>\n    <tr>\n      <th>16115</th>\n      <td>62721.888889</td>\n      <td>91.66</td>\n      <td>176</td>\n      <td>1</td>\n      <td>6.0</td>\n      <td>2004.0</td>\n      <td>2</td>\n      <td>2.0</td>\n      <td>1.0</td>\n      <td>1085.0</td>\n      <td>1.0</td>\n      <td>68582.710526</td>\n      <td>0</td>\n      <td>0</td>\n      <td>1</td>\n      <td>0</td>\n      <td>62732</td>\n    </tr>\n  </tbody>\n</table>\n<p>14158 rows × 17 columns</p>\n</div>"
     },
     "execution_count": 62,
     "metadata": {},
     "output_type": "execute_result"
    }
   ],
   "source": [
    "data"
   ],
   "metadata": {
    "collapsed": false,
    "pycharm": {
     "name": "#%%\n"
    }
   }
  },
  {
   "cell_type": "code",
   "execution_count": null,
   "outputs": [],
   "source": [
    "## 建模"
   ],
   "metadata": {
    "collapsed": false,
    "pycharm": {
     "name": "#%%\n"
    }
   }
  },
  {
   "cell_type": "code",
   "execution_count": 63,
   "outputs": [],
   "source": [
    "x = data.iloc[:, :-1]\n",
    "y = data.iloc[:, -1]"
   ],
   "metadata": {
    "collapsed": false,
    "pycharm": {
     "name": "#%%\n"
    }
   }
  },
  {
   "cell_type": "code",
   "execution_count": 65,
   "outputs": [],
   "source": [
    "import sklearn.model_selection as ms"
   ],
   "metadata": {
    "collapsed": false,
    "pycharm": {
     "name": "#%%\n"
    }
   }
  },
  {
   "cell_type": "code",
   "execution_count": 66,
   "outputs": [],
   "source": [
    "train_x, test_x, train_y, test_y = ms.train_test_split(x, y, test_size=0.1, random_state=7)"
   ],
   "metadata": {
    "collapsed": false,
    "pycharm": {
     "name": "#%%\n"
    }
   }
  },
  {
   "cell_type": "code",
   "execution_count": 60,
   "outputs": [],
   "source": [],
   "metadata": {
    "collapsed": false,
    "pycharm": {
     "name": "#%%\n"
    }
   }
  },
  {
   "cell_type": "code",
   "execution_count": 20,
   "outputs": [],
   "source": [
    "# 回归模型，多元线性回归试试"
   ],
   "metadata": {
    "collapsed": false,
    "pycharm": {
     "name": "#%%\n"
    }
   }
  },
  {
   "cell_type": "code",
   "execution_count": 20,
   "outputs": [],
   "source": [
    "def select_model(name, model):\n",
    "    pass\n",
    "\n",
    "\n",
    "dic_model = {'name': 模型}\n",
    "\n",
    "for name, obj in dic_model.item():\n",
    "    select_model(name, obj)"
   ],
   "metadata": {
    "collapsed": false,
    "pycharm": {
     "name": "#%%\n"
    }
   }
  },
  {
   "cell_type": "code",
   "execution_count": 21,
   "outputs": [],
   "source": [],
   "metadata": {
    "collapsed": false,
    "pycharm": {
     "name": "#%%\n"
    }
   }
  }
 ],
 "metadata": {
  "kernelspec": {
   "display_name": "Python 3",
   "language": "python",
   "name": "python3"
  },
  "language_info": {
   "codemirror_mode": {
    "name": "ipython",
    "version": 3
   },
   "file_extension": ".py",
   "mimetype": "text/x-python",
   "name": "python",
   "nbconvert_exporter": "python",
   "pygments_lexer": "ipython3",
   "version": "3.6.9"
  }
 },
 "nbformat": 4,
 "nbformat_minor": 4
}