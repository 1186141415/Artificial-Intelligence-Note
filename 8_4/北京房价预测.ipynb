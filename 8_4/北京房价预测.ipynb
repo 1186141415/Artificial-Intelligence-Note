{
 "cells": [
  {
   "cell_type": "markdown",
   "source": [
    "# 二手房价预测"
   ],
   "metadata": {
    "collapsed": false,
    "pycharm": {
     "name": "#%% md\n"
    }
   }
  },
  {
   "cell_type": "markdown",
   "source": [
    "## 项目背景\n",
    "预测房价，提高成单量\n",
    "促成售卖和交易\n"
   ],
   "metadata": {
    "collapsed": false,
    "pycharm": {
     "name": "#%% md\n"
    }
   }
  },
  {
   "cell_type": "code",
   "execution_count": 1,
   "outputs": [],
   "source": [
    "import pandas as pd\n",
    "import numpy as np"
   ],
   "metadata": {
    "collapsed": false,
    "pycharm": {
     "name": "#%%\n"
    }
   }
  },
  {
   "cell_type": "code",
   "execution_count": 2,
   "outputs": [
    {
     "data": {
      "text/plain": "   index                      title community                years housetype  \\\n0      0  宝星华庭一层带花园，客厅挑高，通透四居室。房主自荐    宝星国际三期   底层(共22层)2010年建板塔结合      4室1厅   \n1      1        三面采光全明南北朝向 正对小区绿地花园      顶秀青溪  中楼层(共11层)2008年建板塔结合      3室2厅   \n2      2      沁园公寓 三居室 距离苏州街地铁站383米      沁园公寓    低楼层(共24层)1999年建塔楼      3室2厅   \n3      3        金星园东南向户型，四居室设计，中间楼层       金星园    中楼层(共28层)2007年建塔楼      4室2厅   \n4      4    龙湾别墅 一期独栋 满五年 带下沉式庭院，精装      龙湾别墅       地下室(共3层)2006年建      3室3厅   \n\n     square                floor                  taxtype  totalPrice  \\\n0  298.79平米   底层(共22层)2010年建板塔结合      距离15号线望京东站680米房本满五年        2598   \n1  154.62平米  中楼层(共11层)2008年建板塔结合  距离5号线立水桥站1170米房本满两年随时看房        1000   \n2  177.36平米    低楼层(共24层)1999年建塔楼      距离10号线苏州街站383米房本满五年        1200   \n3  245.52平米    中楼层(共28层)2007年建塔楼      距离机场线三元桥站1153米房本满五年        1650   \n4  351.48平米       地下室(共3层)2006年建                    房本满五年        2400   \n\n   unitPrice                followInfo  \n0      86951    53人关注 / 共44次带看 / 一年前发布  \n1      64675  323人关注 / 共579次带看 / 一年前发布  \n2      67659  185人关注 / 共108次带看 / 一年前发布  \n3      67205   157人关注 / 共35次带看 / 一年前发布  \n4      68283   120人关注 / 共42次带看 / 一年前发布  ",
      "text/html": "<div>\n<style scoped>\n    .dataframe tbody tr th:only-of-type {\n        vertical-align: middle;\n    }\n\n    .dataframe tbody tr th {\n        vertical-align: top;\n    }\n\n    .dataframe thead th {\n        text-align: right;\n    }\n</style>\n<table border=\"1\" class=\"dataframe\">\n  <thead>\n    <tr style=\"text-align: right;\">\n      <th></th>\n      <th>index</th>\n      <th>title</th>\n      <th>community</th>\n      <th>years</th>\n      <th>housetype</th>\n      <th>square</th>\n      <th>floor</th>\n      <th>taxtype</th>\n      <th>totalPrice</th>\n      <th>unitPrice</th>\n      <th>followInfo</th>\n    </tr>\n  </thead>\n  <tbody>\n    <tr>\n      <th>0</th>\n      <td>0</td>\n      <td>宝星华庭一层带花园，客厅挑高，通透四居室。房主自荐</td>\n      <td>宝星国际三期</td>\n      <td>底层(共22层)2010年建板塔结合</td>\n      <td>4室1厅</td>\n      <td>298.79平米</td>\n      <td>底层(共22层)2010年建板塔结合</td>\n      <td>距离15号线望京东站680米房本满五年</td>\n      <td>2598</td>\n      <td>86951</td>\n      <td>53人关注 / 共44次带看 / 一年前发布</td>\n    </tr>\n    <tr>\n      <th>1</th>\n      <td>1</td>\n      <td>三面采光全明南北朝向 正对小区绿地花园</td>\n      <td>顶秀青溪</td>\n      <td>中楼层(共11层)2008年建板塔结合</td>\n      <td>3室2厅</td>\n      <td>154.62平米</td>\n      <td>中楼层(共11层)2008年建板塔结合</td>\n      <td>距离5号线立水桥站1170米房本满两年随时看房</td>\n      <td>1000</td>\n      <td>64675</td>\n      <td>323人关注 / 共579次带看 / 一年前发布</td>\n    </tr>\n    <tr>\n      <th>2</th>\n      <td>2</td>\n      <td>沁园公寓 三居室 距离苏州街地铁站383米</td>\n      <td>沁园公寓</td>\n      <td>低楼层(共24层)1999年建塔楼</td>\n      <td>3室2厅</td>\n      <td>177.36平米</td>\n      <td>低楼层(共24层)1999年建塔楼</td>\n      <td>距离10号线苏州街站383米房本满五年</td>\n      <td>1200</td>\n      <td>67659</td>\n      <td>185人关注 / 共108次带看 / 一年前发布</td>\n    </tr>\n    <tr>\n      <th>3</th>\n      <td>3</td>\n      <td>金星园东南向户型，四居室设计，中间楼层</td>\n      <td>金星园</td>\n      <td>中楼层(共28层)2007年建塔楼</td>\n      <td>4室2厅</td>\n      <td>245.52平米</td>\n      <td>中楼层(共28层)2007年建塔楼</td>\n      <td>距离机场线三元桥站1153米房本满五年</td>\n      <td>1650</td>\n      <td>67205</td>\n      <td>157人关注 / 共35次带看 / 一年前发布</td>\n    </tr>\n    <tr>\n      <th>4</th>\n      <td>4</td>\n      <td>龙湾别墅 一期独栋 满五年 带下沉式庭院，精装</td>\n      <td>龙湾别墅</td>\n      <td>地下室(共3层)2006年建</td>\n      <td>3室3厅</td>\n      <td>351.48平米</td>\n      <td>地下室(共3层)2006年建</td>\n      <td>房本满五年</td>\n      <td>2400</td>\n      <td>68283</td>\n      <td>120人关注 / 共42次带看 / 一年前发布</td>\n    </tr>\n  </tbody>\n</table>\n</div>"
     },
     "execution_count": 2,
     "metadata": {},
     "output_type": "execute_result"
    }
   ],
   "source": [
    "house = pd.read_csv('./二手房数据/house.csv')\n",
    "house.head()"
   ],
   "metadata": {
    "collapsed": false,
    "pycharm": {
     "name": "#%%\n"
    }
   }
  },
  {
   "cell_type": "code",
   "execution_count": 3,
   "outputs": [
    {
     "data": {
      "text/plain": "   index             id community district bizcircle      tagList  onsale\n0      0  1111000004310   什坊院甲3号院       海淀        田村          NaN       0\n1      1  1111027373682    大慧寺6号院       海淀       白石桥          NaN       2\n2      2  1111027373683   东花市北里东区       东城       东花市   近地铁1号线王府井站       0\n3      3  1111027373684   东花市北里西区       东城       东花市  近地铁7号线广渠门内站       7\n4      4  1111027373685   东花市北里中区       东城       东花市   近地铁2号线朝阳门站       9",
      "text/html": "<div>\n<style scoped>\n    .dataframe tbody tr th:only-of-type {\n        vertical-align: middle;\n    }\n\n    .dataframe tbody tr th {\n        vertical-align: top;\n    }\n\n    .dataframe thead th {\n        text-align: right;\n    }\n</style>\n<table border=\"1\" class=\"dataframe\">\n  <thead>\n    <tr style=\"text-align: right;\">\n      <th></th>\n      <th>index</th>\n      <th>id</th>\n      <th>community</th>\n      <th>district</th>\n      <th>bizcircle</th>\n      <th>tagList</th>\n      <th>onsale</th>\n    </tr>\n  </thead>\n  <tbody>\n    <tr>\n      <th>0</th>\n      <td>0</td>\n      <td>1111000004310</td>\n      <td>什坊院甲3号院</td>\n      <td>海淀</td>\n      <td>田村</td>\n      <td>NaN</td>\n      <td>0</td>\n    </tr>\n    <tr>\n      <th>1</th>\n      <td>1</td>\n      <td>1111027373682</td>\n      <td>大慧寺6号院</td>\n      <td>海淀</td>\n      <td>白石桥</td>\n      <td>NaN</td>\n      <td>2</td>\n    </tr>\n    <tr>\n      <th>2</th>\n      <td>2</td>\n      <td>1111027373683</td>\n      <td>东花市北里东区</td>\n      <td>东城</td>\n      <td>东花市</td>\n      <td>近地铁1号线王府井站</td>\n      <td>0</td>\n    </tr>\n    <tr>\n      <th>3</th>\n      <td>3</td>\n      <td>1111027373684</td>\n      <td>东花市北里西区</td>\n      <td>东城</td>\n      <td>东花市</td>\n      <td>近地铁7号线广渠门内站</td>\n      <td>7</td>\n    </tr>\n    <tr>\n      <th>4</th>\n      <td>4</td>\n      <td>1111027373685</td>\n      <td>东花市北里中区</td>\n      <td>东城</td>\n      <td>东花市</td>\n      <td>近地铁2号线朝阳门站</td>\n      <td>9</td>\n    </tr>\n  </tbody>\n</table>\n</div>"
     },
     "execution_count": 3,
     "metadata": {},
     "output_type": "execute_result"
    }
   ],
   "source": [
    "community = pd.read_csv('./二手房数据/community_describe.csv')\n",
    "community.head()"
   ],
   "metadata": {
    "collapsed": false,
    "pycharm": {
     "name": "#%%\n"
    }
   }
  },
  {
   "cell_type": "code",
   "execution_count": 4,
   "outputs": [],
   "source": [
    "## 数据融合"
   ],
   "metadata": {
    "collapsed": false,
    "pycharm": {
     "name": "#%%\n"
    }
   }
  },
  {
   "cell_type": "code",
   "execution_count": 5,
   "outputs": [],
   "source": [
    "#data = pd.merge(house, community)"
   ],
   "metadata": {
    "collapsed": false,
    "pycharm": {
     "name": "#%%\n"
    }
   }
  },
  {
   "cell_type": "code",
   "execution_count": 6,
   "outputs": [],
   "source": [
    "data = house.merge(community, on='community', how='left')"
   ],
   "metadata": {
    "collapsed": false,
    "pycharm": {
     "name": "#%%\n"
    }
   }
  },
  {
   "cell_type": "code",
   "execution_count": 7,
   "outputs": [
    {
     "data": {
      "text/plain": "       index_x                        title community                years  \\\n0            0    宝星华庭一层带花园，客厅挑高，通透四居室。房主自荐    宝星国际三期   底层(共22层)2010年建板塔结合   \n1            1          三面采光全明南北朝向 正对小区绿地花园      顶秀青溪  中楼层(共11层)2008年建板塔结合   \n2            2        沁园公寓 三居室 距离苏州街地铁站383米      沁园公寓    低楼层(共24层)1999年建塔楼   \n3            3          金星园东南向户型，四居室设计，中间楼层       金星园    中楼层(共28层)2007年建塔楼   \n4            4      龙湾别墅 一期独栋 满五年 带下沉式庭院，精装      龙湾别墅       地下室(共3层)2006年建   \n...        ...                          ...       ...                  ...   \n16111    16103            马甸南村 5室1厅 2100万新上      马甸南村  中楼层(共13层)1994年建板塔结合   \n16112    16104  南北通透三居 满五年 对着花园 看喷泉水系 不临街新上    望京西园三区    高楼层(共22层)2000年建塔楼   \n16113    16105                 橡树湾 车位 86万新上       橡树湾                 板塔结合   \n16114    16106             志强南园 2室2厅 600万新上      志强南园    中楼层(共16层)1992年建塔楼   \n16115    16107        海淀知本时代 板楼2居 东西 诚心出售新上      知本时代     低楼层(共6层)2004年建板楼   \n\n      housetype    square                floor                  taxtype  \\\n0          4室1厅  298.79平米   底层(共22层)2010年建板塔结合      距离15号线望京东站680米房本满五年   \n1          3室2厅  154.62平米  中楼层(共11层)2008年建板塔结合  距离5号线立水桥站1170米房本满两年随时看房   \n2          3室2厅  177.36平米    低楼层(共24层)1999年建塔楼      距离10号线苏州街站383米房本满五年   \n3          4室2厅  245.52平米    中楼层(共28层)2007年建塔楼      距离机场线三元桥站1153米房本满五年   \n4          3室3厅  351.48平米       地下室(共3层)2006年建                    房本满五年   \n...         ...       ...                  ...                      ...   \n16111      5室1厅   180.2平米  中楼层(共13层)1994年建板塔结合                    房本满五年   \n16112      3室2厅  153.28平米    高楼层(共22层)2000年建塔楼       距离15号线望京站842米房本满五年   \n16113        车位   31.55平米                 板塔结合                    房本满两年   \n16114      2室2厅    63.1平米    中楼层(共16层)1992年建塔楼       距离2号线积水潭站880米房本满五年   \n16115      2室1厅   91.66平米     低楼层(共6层)2004年建板楼       距离8号线霍营站1085米房本满两年   \n\n       totalPrice  unitPrice                followInfo  index_y            id  \\\n0            2598      86951    53人关注 / 共44次带看 / 一年前发布   1535.0  1.111027e+12   \n1            1000      64675  323人关注 / 共579次带看 / 一年前发布      NaN           NaN   \n2            1200      67659  185人关注 / 共108次带看 / 一年前发布   2945.0  1.111027e+12   \n3            1650      67205   157人关注 / 共35次带看 / 一年前发布   2248.0  1.111027e+12   \n4            2400      68283   120人关注 / 共42次带看 / 一年前发布      NaN           NaN   \n...           ...        ...                       ...      ...           ...   \n16111        2100     116538       5人关注 / 共0次带看 / 刚刚发布   2569.0  1.111027e+12   \n16112         850      55455       1人关注 / 共0次带看 / 刚刚发布   3649.0  1.111027e+12   \n16113          86      27259       0人关注 / 共0次带看 / 刚刚发布   3839.0  1.111027e+12   \n16114         600      95088       0人关注 / 共0次带看 / 刚刚发布   4785.0  1.111027e+12   \n16115         575      62732       1人关注 / 共0次带看 / 刚刚发布   4613.0  1.111027e+12   \n\n      district bizcircle      tagList  onsale  \n0           朝阳        望京  近地铁15号线望京东站     7.0  \n1          NaN       NaN          NaN     NaN  \n2           海淀       苏州桥  近地铁10号线苏州街站     5.0  \n3           朝阳       三元桥  近地铁10号线太阳宫站    30.0  \n4          NaN       NaN          NaN     NaN  \n...        ...       ...          ...     ...  \n16111       西城        马甸   近地铁2号线积水潭站    23.0  \n16112       朝阳        望京   近地铁15号线望京站    34.0  \n16113       海淀        清河          NaN    17.0  \n16114       海淀       新街口   近地铁2号线积水潭站     9.0  \n16115       海淀       西三旗    近地铁8号线霍营站     8.0  \n\n[16116 rows x 17 columns]",
      "text/html": "<div>\n<style scoped>\n    .dataframe tbody tr th:only-of-type {\n        vertical-align: middle;\n    }\n\n    .dataframe tbody tr th {\n        vertical-align: top;\n    }\n\n    .dataframe thead th {\n        text-align: right;\n    }\n</style>\n<table border=\"1\" class=\"dataframe\">\n  <thead>\n    <tr style=\"text-align: right;\">\n      <th></th>\n      <th>index_x</th>\n      <th>title</th>\n      <th>community</th>\n      <th>years</th>\n      <th>housetype</th>\n      <th>square</th>\n      <th>floor</th>\n      <th>taxtype</th>\n      <th>totalPrice</th>\n      <th>unitPrice</th>\n      <th>followInfo</th>\n      <th>index_y</th>\n      <th>id</th>\n      <th>district</th>\n      <th>bizcircle</th>\n      <th>tagList</th>\n      <th>onsale</th>\n    </tr>\n  </thead>\n  <tbody>\n    <tr>\n      <th>0</th>\n      <td>0</td>\n      <td>宝星华庭一层带花园，客厅挑高，通透四居室。房主自荐</td>\n      <td>宝星国际三期</td>\n      <td>底层(共22层)2010年建板塔结合</td>\n      <td>4室1厅</td>\n      <td>298.79平米</td>\n      <td>底层(共22层)2010年建板塔结合</td>\n      <td>距离15号线望京东站680米房本满五年</td>\n      <td>2598</td>\n      <td>86951</td>\n      <td>53人关注 / 共44次带看 / 一年前发布</td>\n      <td>1535.0</td>\n      <td>1.111027e+12</td>\n      <td>朝阳</td>\n      <td>望京</td>\n      <td>近地铁15号线望京东站</td>\n      <td>7.0</td>\n    </tr>\n    <tr>\n      <th>1</th>\n      <td>1</td>\n      <td>三面采光全明南北朝向 正对小区绿地花园</td>\n      <td>顶秀青溪</td>\n      <td>中楼层(共11层)2008年建板塔结合</td>\n      <td>3室2厅</td>\n      <td>154.62平米</td>\n      <td>中楼层(共11层)2008年建板塔结合</td>\n      <td>距离5号线立水桥站1170米房本满两年随时看房</td>\n      <td>1000</td>\n      <td>64675</td>\n      <td>323人关注 / 共579次带看 / 一年前发布</td>\n      <td>NaN</td>\n      <td>NaN</td>\n      <td>NaN</td>\n      <td>NaN</td>\n      <td>NaN</td>\n      <td>NaN</td>\n    </tr>\n    <tr>\n      <th>2</th>\n      <td>2</td>\n      <td>沁园公寓 三居室 距离苏州街地铁站383米</td>\n      <td>沁园公寓</td>\n      <td>低楼层(共24层)1999年建塔楼</td>\n      <td>3室2厅</td>\n      <td>177.36平米</td>\n      <td>低楼层(共24层)1999年建塔楼</td>\n      <td>距离10号线苏州街站383米房本满五年</td>\n      <td>1200</td>\n      <td>67659</td>\n      <td>185人关注 / 共108次带看 / 一年前发布</td>\n      <td>2945.0</td>\n      <td>1.111027e+12</td>\n      <td>海淀</td>\n      <td>苏州桥</td>\n      <td>近地铁10号线苏州街站</td>\n      <td>5.0</td>\n    </tr>\n    <tr>\n      <th>3</th>\n      <td>3</td>\n      <td>金星园东南向户型，四居室设计，中间楼层</td>\n      <td>金星园</td>\n      <td>中楼层(共28层)2007年建塔楼</td>\n      <td>4室2厅</td>\n      <td>245.52平米</td>\n      <td>中楼层(共28层)2007年建塔楼</td>\n      <td>距离机场线三元桥站1153米房本满五年</td>\n      <td>1650</td>\n      <td>67205</td>\n      <td>157人关注 / 共35次带看 / 一年前发布</td>\n      <td>2248.0</td>\n      <td>1.111027e+12</td>\n      <td>朝阳</td>\n      <td>三元桥</td>\n      <td>近地铁10号线太阳宫站</td>\n      <td>30.0</td>\n    </tr>\n    <tr>\n      <th>4</th>\n      <td>4</td>\n      <td>龙湾别墅 一期独栋 满五年 带下沉式庭院，精装</td>\n      <td>龙湾别墅</td>\n      <td>地下室(共3层)2006年建</td>\n      <td>3室3厅</td>\n      <td>351.48平米</td>\n      <td>地下室(共3层)2006年建</td>\n      <td>房本满五年</td>\n      <td>2400</td>\n      <td>68283</td>\n      <td>120人关注 / 共42次带看 / 一年前发布</td>\n      <td>NaN</td>\n      <td>NaN</td>\n      <td>NaN</td>\n      <td>NaN</td>\n      <td>NaN</td>\n      <td>NaN</td>\n    </tr>\n    <tr>\n      <th>...</th>\n      <td>...</td>\n      <td>...</td>\n      <td>...</td>\n      <td>...</td>\n      <td>...</td>\n      <td>...</td>\n      <td>...</td>\n      <td>...</td>\n      <td>...</td>\n      <td>...</td>\n      <td>...</td>\n      <td>...</td>\n      <td>...</td>\n      <td>...</td>\n      <td>...</td>\n      <td>...</td>\n      <td>...</td>\n    </tr>\n    <tr>\n      <th>16111</th>\n      <td>16103</td>\n      <td>马甸南村 5室1厅 2100万新上</td>\n      <td>马甸南村</td>\n      <td>中楼层(共13层)1994年建板塔结合</td>\n      <td>5室1厅</td>\n      <td>180.2平米</td>\n      <td>中楼层(共13层)1994年建板塔结合</td>\n      <td>房本满五年</td>\n      <td>2100</td>\n      <td>116538</td>\n      <td>5人关注 / 共0次带看 / 刚刚发布</td>\n      <td>2569.0</td>\n      <td>1.111027e+12</td>\n      <td>西城</td>\n      <td>马甸</td>\n      <td>近地铁2号线积水潭站</td>\n      <td>23.0</td>\n    </tr>\n    <tr>\n      <th>16112</th>\n      <td>16104</td>\n      <td>南北通透三居 满五年 对着花园 看喷泉水系 不临街新上</td>\n      <td>望京西园三区</td>\n      <td>高楼层(共22层)2000年建塔楼</td>\n      <td>3室2厅</td>\n      <td>153.28平米</td>\n      <td>高楼层(共22层)2000年建塔楼</td>\n      <td>距离15号线望京站842米房本满五年</td>\n      <td>850</td>\n      <td>55455</td>\n      <td>1人关注 / 共0次带看 / 刚刚发布</td>\n      <td>3649.0</td>\n      <td>1.111027e+12</td>\n      <td>朝阳</td>\n      <td>望京</td>\n      <td>近地铁15号线望京站</td>\n      <td>34.0</td>\n    </tr>\n    <tr>\n      <th>16113</th>\n      <td>16105</td>\n      <td>橡树湾 车位 86万新上</td>\n      <td>橡树湾</td>\n      <td>板塔结合</td>\n      <td>车位</td>\n      <td>31.55平米</td>\n      <td>板塔结合</td>\n      <td>房本满两年</td>\n      <td>86</td>\n      <td>27259</td>\n      <td>0人关注 / 共0次带看 / 刚刚发布</td>\n      <td>3839.0</td>\n      <td>1.111027e+12</td>\n      <td>海淀</td>\n      <td>清河</td>\n      <td>NaN</td>\n      <td>17.0</td>\n    </tr>\n    <tr>\n      <th>16114</th>\n      <td>16106</td>\n      <td>志强南园 2室2厅 600万新上</td>\n      <td>志强南园</td>\n      <td>中楼层(共16层)1992年建塔楼</td>\n      <td>2室2厅</td>\n      <td>63.1平米</td>\n      <td>中楼层(共16层)1992年建塔楼</td>\n      <td>距离2号线积水潭站880米房本满五年</td>\n      <td>600</td>\n      <td>95088</td>\n      <td>0人关注 / 共0次带看 / 刚刚发布</td>\n      <td>4785.0</td>\n      <td>1.111027e+12</td>\n      <td>海淀</td>\n      <td>新街口</td>\n      <td>近地铁2号线积水潭站</td>\n      <td>9.0</td>\n    </tr>\n    <tr>\n      <th>16115</th>\n      <td>16107</td>\n      <td>海淀知本时代 板楼2居 东西 诚心出售新上</td>\n      <td>知本时代</td>\n      <td>低楼层(共6层)2004年建板楼</td>\n      <td>2室1厅</td>\n      <td>91.66平米</td>\n      <td>低楼层(共6层)2004年建板楼</td>\n      <td>距离8号线霍营站1085米房本满两年</td>\n      <td>575</td>\n      <td>62732</td>\n      <td>1人关注 / 共0次带看 / 刚刚发布</td>\n      <td>4613.0</td>\n      <td>1.111027e+12</td>\n      <td>海淀</td>\n      <td>西三旗</td>\n      <td>近地铁8号线霍营站</td>\n      <td>8.0</td>\n    </tr>\n  </tbody>\n</table>\n<p>16116 rows × 17 columns</p>\n</div>"
     },
     "execution_count": 7,
     "metadata": {},
     "output_type": "execute_result"
    }
   ],
   "source": [
    "data"
   ],
   "metadata": {
    "collapsed": false,
    "pycharm": {
     "name": "#%%\n"
    }
   }
  },
  {
   "cell_type": "code",
   "execution_count": 8,
   "outputs": [
    {
     "data": {
      "text/plain": "index_x         int64\ntitle          object\ncommunity      object\nyears          object\nhousetype      object\nsquare         object\nfloor          object\ntaxtype        object\ntotalPrice      int64\nunitPrice       int64\nfollowInfo     object\nindex_y       float64\nid            float64\ndistrict       object\nbizcircle      object\ntagList        object\nonsale        float64\ndtype: object"
     },
     "execution_count": 8,
     "metadata": {},
     "output_type": "execute_result"
    }
   ],
   "source": [
    "data.dtypes"
   ],
   "metadata": {
    "collapsed": false,
    "pycharm": {
     "name": "#%%\n"
    }
   }
  },
  {
   "cell_type": "code",
   "execution_count": 9,
   "outputs": [],
   "source": [
    "## 数据提取"
   ],
   "metadata": {
    "collapsed": false,
    "pycharm": {
     "name": "#%%\n"
    }
   }
  },
  {
   "cell_type": "code",
   "execution_count": 10,
   "outputs": [],
   "source": [
    "#当前层\n",
    "data['当前层'] = data.years.str.extract('(\\w*?)\\(')\n",
    "#总楼层\n",
    "data['总楼层'] = data.years.str.extract('共(\\d+)层')\n",
    "#建成年份\n",
    "data['建成年份'] = data.years.str.extract('\\)(\\d+)年')\n",
    "#建筑结构\n",
    "data['建筑结构'] = data.years.str.extract('建(\\w+)')"
   ],
   "metadata": {
    "collapsed": false,
    "pycharm": {
     "name": "#%%\n"
    }
   }
  },
  {
   "cell_type": "code",
   "execution_count": 11,
   "outputs": [],
   "source": [
    "del data['years']"
   ],
   "metadata": {
    "collapsed": false,
    "pycharm": {
     "name": "#%%\n"
    }
   }
  },
  {
   "cell_type": "code",
   "execution_count": 12,
   "outputs": [],
   "source": [
    "del data['floor']"
   ],
   "metadata": {
    "collapsed": false,
    "pycharm": {
     "name": "#%%\n"
    }
   }
  },
  {
   "cell_type": "code",
   "execution_count": 13,
   "outputs": [
    {
     "data": {
      "text/plain": "       index_x                        title community housetype    square  \\\n0            0    宝星华庭一层带花园，客厅挑高，通透四居室。房主自荐    宝星国际三期      4室1厅  298.79平米   \n1            1          三面采光全明南北朝向 正对小区绿地花园      顶秀青溪      3室2厅  154.62平米   \n2            2        沁园公寓 三居室 距离苏州街地铁站383米      沁园公寓      3室2厅  177.36平米   \n3            3          金星园东南向户型，四居室设计，中间楼层       金星园      4室2厅  245.52平米   \n4            4      龙湾别墅 一期独栋 满五年 带下沉式庭院，精装      龙湾别墅      3室3厅  351.48平米   \n...        ...                          ...       ...       ...       ...   \n16111    16103            马甸南村 5室1厅 2100万新上      马甸南村      5室1厅   180.2平米   \n16112    16104  南北通透三居 满五年 对着花园 看喷泉水系 不临街新上    望京西园三区      3室2厅  153.28平米   \n16113    16105                 橡树湾 车位 86万新上       橡树湾        车位   31.55平米   \n16114    16106             志强南园 2室2厅 600万新上      志强南园      2室2厅    63.1平米   \n16115    16107        海淀知本时代 板楼2居 东西 诚心出售新上      知本时代      2室1厅   91.66平米   \n\n                       taxtype  totalPrice  unitPrice  \\\n0          距离15号线望京东站680米房本满五年        2598      86951   \n1      距离5号线立水桥站1170米房本满两年随时看房        1000      64675   \n2          距离10号线苏州街站383米房本满五年        1200      67659   \n3          距离机场线三元桥站1153米房本满五年        1650      67205   \n4                        房本满五年        2400      68283   \n...                        ...         ...        ...   \n16111                    房本满五年        2100     116538   \n16112       距离15号线望京站842米房本满五年         850      55455   \n16113                    房本满两年          86      27259   \n16114       距离2号线积水潭站880米房本满五年         600      95088   \n16115       距离8号线霍营站1085米房本满两年         575      62732   \n\n                     followInfo  index_y            id district bizcircle  \\\n0        53人关注 / 共44次带看 / 一年前发布   1535.0  1.111027e+12       朝阳        望京   \n1      323人关注 / 共579次带看 / 一年前发布      NaN           NaN      NaN       NaN   \n2      185人关注 / 共108次带看 / 一年前发布   2945.0  1.111027e+12       海淀       苏州桥   \n3       157人关注 / 共35次带看 / 一年前发布   2248.0  1.111027e+12       朝阳       三元桥   \n4       120人关注 / 共42次带看 / 一年前发布      NaN           NaN      NaN       NaN   \n...                         ...      ...           ...      ...       ...   \n16111       5人关注 / 共0次带看 / 刚刚发布   2569.0  1.111027e+12       西城        马甸   \n16112       1人关注 / 共0次带看 / 刚刚发布   3649.0  1.111027e+12       朝阳        望京   \n16113       0人关注 / 共0次带看 / 刚刚发布   3839.0  1.111027e+12       海淀        清河   \n16114       0人关注 / 共0次带看 / 刚刚发布   4785.0  1.111027e+12       海淀       新街口   \n16115       1人关注 / 共0次带看 / 刚刚发布   4613.0  1.111027e+12       海淀       西三旗   \n\n           tagList  onsale  当前层  总楼层  建成年份  建筑结构  \n0      近地铁15号线望京东站     7.0   底层   22  2010  板塔结合  \n1              NaN     NaN  中楼层   11  2008  板塔结合  \n2      近地铁10号线苏州街站     5.0  低楼层   24  1999    塔楼  \n3      近地铁10号线太阳宫站    30.0  中楼层   28  2007    塔楼  \n4              NaN     NaN  地下室    3  2006   NaN  \n...            ...     ...  ...  ...   ...   ...  \n16111   近地铁2号线积水潭站    23.0  中楼层   13  1994  板塔结合  \n16112   近地铁15号线望京站    34.0  高楼层   22  2000    塔楼  \n16113          NaN    17.0  NaN  NaN   NaN   NaN  \n16114   近地铁2号线积水潭站     9.0  中楼层   16  1992    塔楼  \n16115    近地铁8号线霍营站     8.0  低楼层    6  2004    板楼  \n\n[16116 rows x 19 columns]",
      "text/html": "<div>\n<style scoped>\n    .dataframe tbody tr th:only-of-type {\n        vertical-align: middle;\n    }\n\n    .dataframe tbody tr th {\n        vertical-align: top;\n    }\n\n    .dataframe thead th {\n        text-align: right;\n    }\n</style>\n<table border=\"1\" class=\"dataframe\">\n  <thead>\n    <tr style=\"text-align: right;\">\n      <th></th>\n      <th>index_x</th>\n      <th>title</th>\n      <th>community</th>\n      <th>housetype</th>\n      <th>square</th>\n      <th>taxtype</th>\n      <th>totalPrice</th>\n      <th>unitPrice</th>\n      <th>followInfo</th>\n      <th>index_y</th>\n      <th>id</th>\n      <th>district</th>\n      <th>bizcircle</th>\n      <th>tagList</th>\n      <th>onsale</th>\n      <th>当前层</th>\n      <th>总楼层</th>\n      <th>建成年份</th>\n      <th>建筑结构</th>\n    </tr>\n  </thead>\n  <tbody>\n    <tr>\n      <th>0</th>\n      <td>0</td>\n      <td>宝星华庭一层带花园，客厅挑高，通透四居室。房主自荐</td>\n      <td>宝星国际三期</td>\n      <td>4室1厅</td>\n      <td>298.79平米</td>\n      <td>距离15号线望京东站680米房本满五年</td>\n      <td>2598</td>\n      <td>86951</td>\n      <td>53人关注 / 共44次带看 / 一年前发布</td>\n      <td>1535.0</td>\n      <td>1.111027e+12</td>\n      <td>朝阳</td>\n      <td>望京</td>\n      <td>近地铁15号线望京东站</td>\n      <td>7.0</td>\n      <td>底层</td>\n      <td>22</td>\n      <td>2010</td>\n      <td>板塔结合</td>\n    </tr>\n    <tr>\n      <th>1</th>\n      <td>1</td>\n      <td>三面采光全明南北朝向 正对小区绿地花园</td>\n      <td>顶秀青溪</td>\n      <td>3室2厅</td>\n      <td>154.62平米</td>\n      <td>距离5号线立水桥站1170米房本满两年随时看房</td>\n      <td>1000</td>\n      <td>64675</td>\n      <td>323人关注 / 共579次带看 / 一年前发布</td>\n      <td>NaN</td>\n      <td>NaN</td>\n      <td>NaN</td>\n      <td>NaN</td>\n      <td>NaN</td>\n      <td>NaN</td>\n      <td>中楼层</td>\n      <td>11</td>\n      <td>2008</td>\n      <td>板塔结合</td>\n    </tr>\n    <tr>\n      <th>2</th>\n      <td>2</td>\n      <td>沁园公寓 三居室 距离苏州街地铁站383米</td>\n      <td>沁园公寓</td>\n      <td>3室2厅</td>\n      <td>177.36平米</td>\n      <td>距离10号线苏州街站383米房本满五年</td>\n      <td>1200</td>\n      <td>67659</td>\n      <td>185人关注 / 共108次带看 / 一年前发布</td>\n      <td>2945.0</td>\n      <td>1.111027e+12</td>\n      <td>海淀</td>\n      <td>苏州桥</td>\n      <td>近地铁10号线苏州街站</td>\n      <td>5.0</td>\n      <td>低楼层</td>\n      <td>24</td>\n      <td>1999</td>\n      <td>塔楼</td>\n    </tr>\n    <tr>\n      <th>3</th>\n      <td>3</td>\n      <td>金星园东南向户型，四居室设计，中间楼层</td>\n      <td>金星园</td>\n      <td>4室2厅</td>\n      <td>245.52平米</td>\n      <td>距离机场线三元桥站1153米房本满五年</td>\n      <td>1650</td>\n      <td>67205</td>\n      <td>157人关注 / 共35次带看 / 一年前发布</td>\n      <td>2248.0</td>\n      <td>1.111027e+12</td>\n      <td>朝阳</td>\n      <td>三元桥</td>\n      <td>近地铁10号线太阳宫站</td>\n      <td>30.0</td>\n      <td>中楼层</td>\n      <td>28</td>\n      <td>2007</td>\n      <td>塔楼</td>\n    </tr>\n    <tr>\n      <th>4</th>\n      <td>4</td>\n      <td>龙湾别墅 一期独栋 满五年 带下沉式庭院，精装</td>\n      <td>龙湾别墅</td>\n      <td>3室3厅</td>\n      <td>351.48平米</td>\n      <td>房本满五年</td>\n      <td>2400</td>\n      <td>68283</td>\n      <td>120人关注 / 共42次带看 / 一年前发布</td>\n      <td>NaN</td>\n      <td>NaN</td>\n      <td>NaN</td>\n      <td>NaN</td>\n      <td>NaN</td>\n      <td>NaN</td>\n      <td>地下室</td>\n      <td>3</td>\n      <td>2006</td>\n      <td>NaN</td>\n    </tr>\n    <tr>\n      <th>...</th>\n      <td>...</td>\n      <td>...</td>\n      <td>...</td>\n      <td>...</td>\n      <td>...</td>\n      <td>...</td>\n      <td>...</td>\n      <td>...</td>\n      <td>...</td>\n      <td>...</td>\n      <td>...</td>\n      <td>...</td>\n      <td>...</td>\n      <td>...</td>\n      <td>...</td>\n      <td>...</td>\n      <td>...</td>\n      <td>...</td>\n      <td>...</td>\n    </tr>\n    <tr>\n      <th>16111</th>\n      <td>16103</td>\n      <td>马甸南村 5室1厅 2100万新上</td>\n      <td>马甸南村</td>\n      <td>5室1厅</td>\n      <td>180.2平米</td>\n      <td>房本满五年</td>\n      <td>2100</td>\n      <td>116538</td>\n      <td>5人关注 / 共0次带看 / 刚刚发布</td>\n      <td>2569.0</td>\n      <td>1.111027e+12</td>\n      <td>西城</td>\n      <td>马甸</td>\n      <td>近地铁2号线积水潭站</td>\n      <td>23.0</td>\n      <td>中楼层</td>\n      <td>13</td>\n      <td>1994</td>\n      <td>板塔结合</td>\n    </tr>\n    <tr>\n      <th>16112</th>\n      <td>16104</td>\n      <td>南北通透三居 满五年 对着花园 看喷泉水系 不临街新上</td>\n      <td>望京西园三区</td>\n      <td>3室2厅</td>\n      <td>153.28平米</td>\n      <td>距离15号线望京站842米房本满五年</td>\n      <td>850</td>\n      <td>55455</td>\n      <td>1人关注 / 共0次带看 / 刚刚发布</td>\n      <td>3649.0</td>\n      <td>1.111027e+12</td>\n      <td>朝阳</td>\n      <td>望京</td>\n      <td>近地铁15号线望京站</td>\n      <td>34.0</td>\n      <td>高楼层</td>\n      <td>22</td>\n      <td>2000</td>\n      <td>塔楼</td>\n    </tr>\n    <tr>\n      <th>16113</th>\n      <td>16105</td>\n      <td>橡树湾 车位 86万新上</td>\n      <td>橡树湾</td>\n      <td>车位</td>\n      <td>31.55平米</td>\n      <td>房本满两年</td>\n      <td>86</td>\n      <td>27259</td>\n      <td>0人关注 / 共0次带看 / 刚刚发布</td>\n      <td>3839.0</td>\n      <td>1.111027e+12</td>\n      <td>海淀</td>\n      <td>清河</td>\n      <td>NaN</td>\n      <td>17.0</td>\n      <td>NaN</td>\n      <td>NaN</td>\n      <td>NaN</td>\n      <td>NaN</td>\n    </tr>\n    <tr>\n      <th>16114</th>\n      <td>16106</td>\n      <td>志强南园 2室2厅 600万新上</td>\n      <td>志强南园</td>\n      <td>2室2厅</td>\n      <td>63.1平米</td>\n      <td>距离2号线积水潭站880米房本满五年</td>\n      <td>600</td>\n      <td>95088</td>\n      <td>0人关注 / 共0次带看 / 刚刚发布</td>\n      <td>4785.0</td>\n      <td>1.111027e+12</td>\n      <td>海淀</td>\n      <td>新街口</td>\n      <td>近地铁2号线积水潭站</td>\n      <td>9.0</td>\n      <td>中楼层</td>\n      <td>16</td>\n      <td>1992</td>\n      <td>塔楼</td>\n    </tr>\n    <tr>\n      <th>16115</th>\n      <td>16107</td>\n      <td>海淀知本时代 板楼2居 东西 诚心出售新上</td>\n      <td>知本时代</td>\n      <td>2室1厅</td>\n      <td>91.66平米</td>\n      <td>距离8号线霍营站1085米房本满两年</td>\n      <td>575</td>\n      <td>62732</td>\n      <td>1人关注 / 共0次带看 / 刚刚发布</td>\n      <td>4613.0</td>\n      <td>1.111027e+12</td>\n      <td>海淀</td>\n      <td>西三旗</td>\n      <td>近地铁8号线霍营站</td>\n      <td>8.0</td>\n      <td>低楼层</td>\n      <td>6</td>\n      <td>2004</td>\n      <td>板楼</td>\n    </tr>\n  </tbody>\n</table>\n<p>16116 rows × 19 columns</p>\n</div>"
     },
     "execution_count": 13,
     "metadata": {},
     "output_type": "execute_result"
    }
   ],
   "source": [
    "data"
   ],
   "metadata": {
    "collapsed": false,
    "pycharm": {
     "name": "#%%\n"
    }
   }
  },
  {
   "cell_type": "code",
   "execution_count": 14,
   "outputs": [
    {
     "data": {
      "text/plain": "array(['4室1厅', '3室2厅', '4室2厅', '3室3厅', '3室1厅', '5室2厅', '2室3厅', '2室1厅',\n       '4室0厅', '1室0厅', '2室2厅', '6室3厅', '1室1厅', '4室4厅', '6室2厅', '联排别墅',\n       '车位', '1室2厅', '6室1厅', '独栋别墅', '5室3厅', '8室4厅', '9室4厅', '4室3厅',\n       '5室4厅', '3室0厅', '双拼别墅', '5室1厅', '2室0厅', '7室1厅', '4房间2卫', '叠拼别墅',\n       '6室0厅', '7室2厅', '8室2厅', '3室4厅', '7室3厅', '6室4厅', '5室5厅', '3房间1卫',\n       '1房间1卫', '2房间1卫', '2房间2卫', '1房间0卫', '4房间1卫', '3房间2卫', '6房间4卫',\n       '8房间5卫', '4房间3卫', '3房间3卫', '2房间0卫', '2房间3卫', '6房间2卫', '5室0厅',\n       '6房间3卫', '5房间3卫', '7室0厅', '5房间2卫'], dtype=object)"
     },
     "execution_count": 14,
     "metadata": {},
     "output_type": "execute_result"
    }
   ],
   "source": [
    "data['housetype'].unique()"
   ],
   "metadata": {
    "collapsed": false,
    "pycharm": {
     "name": "#%%\n"
    }
   }
  },
  {
   "cell_type": "code",
   "execution_count": 15,
   "outputs": [],
   "source": [
    "#在housetype中删除车位和别墅数据，提取客厅数，房间数，卫生间数"
   ],
   "metadata": {
    "collapsed": false,
    "pycharm": {
     "name": "#%%\n"
    }
   }
  },
  {
   "cell_type": "code",
   "execution_count": 16,
   "outputs": [],
   "source": [
    "data = data[~data.housetype.str.contains('别｜车')]"
   ],
   "metadata": {
    "collapsed": false,
    "pycharm": {
     "name": "#%%\n"
    }
   }
  },
  {
   "cell_type": "code",
   "execution_count": 17,
   "outputs": [
    {
     "data": {
      "text/plain": "       index_x                        title community housetype    square  \\\n0            0    宝星华庭一层带花园，客厅挑高，通透四居室。房主自荐    宝星国际三期      4室1厅  298.79平米   \n1            1          三面采光全明南北朝向 正对小区绿地花园      顶秀青溪      3室2厅  154.62平米   \n2            2        沁园公寓 三居室 距离苏州街地铁站383米      沁园公寓      3室2厅  177.36平米   \n3            3          金星园东南向户型，四居室设计，中间楼层       金星园      4室2厅  245.52平米   \n4            4      龙湾别墅 一期独栋 满五年 带下沉式庭院，精装      龙湾别墅      3室3厅  351.48平米   \n...        ...                          ...       ...       ...       ...   \n16111    16103            马甸南村 5室1厅 2100万新上      马甸南村      5室1厅   180.2平米   \n16112    16104  南北通透三居 满五年 对着花园 看喷泉水系 不临街新上    望京西园三区      3室2厅  153.28平米   \n16113    16105                 橡树湾 车位 86万新上       橡树湾        车位   31.55平米   \n16114    16106             志强南园 2室2厅 600万新上      志强南园      2室2厅    63.1平米   \n16115    16107        海淀知本时代 板楼2居 东西 诚心出售新上      知本时代      2室1厅   91.66平米   \n\n                       taxtype  totalPrice  unitPrice  \\\n0          距离15号线望京东站680米房本满五年        2598      86951   \n1      距离5号线立水桥站1170米房本满两年随时看房        1000      64675   \n2          距离10号线苏州街站383米房本满五年        1200      67659   \n3          距离机场线三元桥站1153米房本满五年        1650      67205   \n4                        房本满五年        2400      68283   \n...                        ...         ...        ...   \n16111                    房本满五年        2100     116538   \n16112       距离15号线望京站842米房本满五年         850      55455   \n16113                    房本满两年          86      27259   \n16114       距离2号线积水潭站880米房本满五年         600      95088   \n16115       距离8号线霍营站1085米房本满两年         575      62732   \n\n                     followInfo  index_y            id district bizcircle  \\\n0        53人关注 / 共44次带看 / 一年前发布   1535.0  1.111027e+12       朝阳        望京   \n1      323人关注 / 共579次带看 / 一年前发布      NaN           NaN      NaN       NaN   \n2      185人关注 / 共108次带看 / 一年前发布   2945.0  1.111027e+12       海淀       苏州桥   \n3       157人关注 / 共35次带看 / 一年前发布   2248.0  1.111027e+12       朝阳       三元桥   \n4       120人关注 / 共42次带看 / 一年前发布      NaN           NaN      NaN       NaN   \n...                         ...      ...           ...      ...       ...   \n16111       5人关注 / 共0次带看 / 刚刚发布   2569.0  1.111027e+12       西城        马甸   \n16112       1人关注 / 共0次带看 / 刚刚发布   3649.0  1.111027e+12       朝阳        望京   \n16113       0人关注 / 共0次带看 / 刚刚发布   3839.0  1.111027e+12       海淀        清河   \n16114       0人关注 / 共0次带看 / 刚刚发布   4785.0  1.111027e+12       海淀       新街口   \n16115       1人关注 / 共0次带看 / 刚刚发布   4613.0  1.111027e+12       海淀       西三旗   \n\n           tagList  onsale  当前层  总楼层  建成年份  建筑结构  \n0      近地铁15号线望京东站     7.0   底层   22  2010  板塔结合  \n1              NaN     NaN  中楼层   11  2008  板塔结合  \n2      近地铁10号线苏州街站     5.0  低楼层   24  1999    塔楼  \n3      近地铁10号线太阳宫站    30.0  中楼层   28  2007    塔楼  \n4              NaN     NaN  地下室    3  2006   NaN  \n...            ...     ...  ...  ...   ...   ...  \n16111   近地铁2号线积水潭站    23.0  中楼层   13  1994  板塔结合  \n16112   近地铁15号线望京站    34.0  高楼层   22  2000    塔楼  \n16113          NaN    17.0  NaN  NaN   NaN   NaN  \n16114   近地铁2号线积水潭站     9.0  中楼层   16  1992    塔楼  \n16115    近地铁8号线霍营站     8.0  低楼层    6  2004    板楼  \n\n[16116 rows x 19 columns]",
      "text/html": "<div>\n<style scoped>\n    .dataframe tbody tr th:only-of-type {\n        vertical-align: middle;\n    }\n\n    .dataframe tbody tr th {\n        vertical-align: top;\n    }\n\n    .dataframe thead th {\n        text-align: right;\n    }\n</style>\n<table border=\"1\" class=\"dataframe\">\n  <thead>\n    <tr style=\"text-align: right;\">\n      <th></th>\n      <th>index_x</th>\n      <th>title</th>\n      <th>community</th>\n      <th>housetype</th>\n      <th>square</th>\n      <th>taxtype</th>\n      <th>totalPrice</th>\n      <th>unitPrice</th>\n      <th>followInfo</th>\n      <th>index_y</th>\n      <th>id</th>\n      <th>district</th>\n      <th>bizcircle</th>\n      <th>tagList</th>\n      <th>onsale</th>\n      <th>当前层</th>\n      <th>总楼层</th>\n      <th>建成年份</th>\n      <th>建筑结构</th>\n    </tr>\n  </thead>\n  <tbody>\n    <tr>\n      <th>0</th>\n      <td>0</td>\n      <td>宝星华庭一层带花园，客厅挑高，通透四居室。房主自荐</td>\n      <td>宝星国际三期</td>\n      <td>4室1厅</td>\n      <td>298.79平米</td>\n      <td>距离15号线望京东站680米房本满五年</td>\n      <td>2598</td>\n      <td>86951</td>\n      <td>53人关注 / 共44次带看 / 一年前发布</td>\n      <td>1535.0</td>\n      <td>1.111027e+12</td>\n      <td>朝阳</td>\n      <td>望京</td>\n      <td>近地铁15号线望京东站</td>\n      <td>7.0</td>\n      <td>底层</td>\n      <td>22</td>\n      <td>2010</td>\n      <td>板塔结合</td>\n    </tr>\n    <tr>\n      <th>1</th>\n      <td>1</td>\n      <td>三面采光全明南北朝向 正对小区绿地花园</td>\n      <td>顶秀青溪</td>\n      <td>3室2厅</td>\n      <td>154.62平米</td>\n      <td>距离5号线立水桥站1170米房本满两年随时看房</td>\n      <td>1000</td>\n      <td>64675</td>\n      <td>323人关注 / 共579次带看 / 一年前发布</td>\n      <td>NaN</td>\n      <td>NaN</td>\n      <td>NaN</td>\n      <td>NaN</td>\n      <td>NaN</td>\n      <td>NaN</td>\n      <td>中楼层</td>\n      <td>11</td>\n      <td>2008</td>\n      <td>板塔结合</td>\n    </tr>\n    <tr>\n      <th>2</th>\n      <td>2</td>\n      <td>沁园公寓 三居室 距离苏州街地铁站383米</td>\n      <td>沁园公寓</td>\n      <td>3室2厅</td>\n      <td>177.36平米</td>\n      <td>距离10号线苏州街站383米房本满五年</td>\n      <td>1200</td>\n      <td>67659</td>\n      <td>185人关注 / 共108次带看 / 一年前发布</td>\n      <td>2945.0</td>\n      <td>1.111027e+12</td>\n      <td>海淀</td>\n      <td>苏州桥</td>\n      <td>近地铁10号线苏州街站</td>\n      <td>5.0</td>\n      <td>低楼层</td>\n      <td>24</td>\n      <td>1999</td>\n      <td>塔楼</td>\n    </tr>\n    <tr>\n      <th>3</th>\n      <td>3</td>\n      <td>金星园东南向户型，四居室设计，中间楼层</td>\n      <td>金星园</td>\n      <td>4室2厅</td>\n      <td>245.52平米</td>\n      <td>距离机场线三元桥站1153米房本满五年</td>\n      <td>1650</td>\n      <td>67205</td>\n      <td>157人关注 / 共35次带看 / 一年前发布</td>\n      <td>2248.0</td>\n      <td>1.111027e+12</td>\n      <td>朝阳</td>\n      <td>三元桥</td>\n      <td>近地铁10号线太阳宫站</td>\n      <td>30.0</td>\n      <td>中楼层</td>\n      <td>28</td>\n      <td>2007</td>\n      <td>塔楼</td>\n    </tr>\n    <tr>\n      <th>4</th>\n      <td>4</td>\n      <td>龙湾别墅 一期独栋 满五年 带下沉式庭院，精装</td>\n      <td>龙湾别墅</td>\n      <td>3室3厅</td>\n      <td>351.48平米</td>\n      <td>房本满五年</td>\n      <td>2400</td>\n      <td>68283</td>\n      <td>120人关注 / 共42次带看 / 一年前发布</td>\n      <td>NaN</td>\n      <td>NaN</td>\n      <td>NaN</td>\n      <td>NaN</td>\n      <td>NaN</td>\n      <td>NaN</td>\n      <td>地下室</td>\n      <td>3</td>\n      <td>2006</td>\n      <td>NaN</td>\n    </tr>\n    <tr>\n      <th>...</th>\n      <td>...</td>\n      <td>...</td>\n      <td>...</td>\n      <td>...</td>\n      <td>...</td>\n      <td>...</td>\n      <td>...</td>\n      <td>...</td>\n      <td>...</td>\n      <td>...</td>\n      <td>...</td>\n      <td>...</td>\n      <td>...</td>\n      <td>...</td>\n      <td>...</td>\n      <td>...</td>\n      <td>...</td>\n      <td>...</td>\n      <td>...</td>\n    </tr>\n    <tr>\n      <th>16111</th>\n      <td>16103</td>\n      <td>马甸南村 5室1厅 2100万新上</td>\n      <td>马甸南村</td>\n      <td>5室1厅</td>\n      <td>180.2平米</td>\n      <td>房本满五年</td>\n      <td>2100</td>\n      <td>116538</td>\n      <td>5人关注 / 共0次带看 / 刚刚发布</td>\n      <td>2569.0</td>\n      <td>1.111027e+12</td>\n      <td>西城</td>\n      <td>马甸</td>\n      <td>近地铁2号线积水潭站</td>\n      <td>23.0</td>\n      <td>中楼层</td>\n      <td>13</td>\n      <td>1994</td>\n      <td>板塔结合</td>\n    </tr>\n    <tr>\n      <th>16112</th>\n      <td>16104</td>\n      <td>南北通透三居 满五年 对着花园 看喷泉水系 不临街新上</td>\n      <td>望京西园三区</td>\n      <td>3室2厅</td>\n      <td>153.28平米</td>\n      <td>距离15号线望京站842米房本满五年</td>\n      <td>850</td>\n      <td>55455</td>\n      <td>1人关注 / 共0次带看 / 刚刚发布</td>\n      <td>3649.0</td>\n      <td>1.111027e+12</td>\n      <td>朝阳</td>\n      <td>望京</td>\n      <td>近地铁15号线望京站</td>\n      <td>34.0</td>\n      <td>高楼层</td>\n      <td>22</td>\n      <td>2000</td>\n      <td>塔楼</td>\n    </tr>\n    <tr>\n      <th>16113</th>\n      <td>16105</td>\n      <td>橡树湾 车位 86万新上</td>\n      <td>橡树湾</td>\n      <td>车位</td>\n      <td>31.55平米</td>\n      <td>房本满两年</td>\n      <td>86</td>\n      <td>27259</td>\n      <td>0人关注 / 共0次带看 / 刚刚发布</td>\n      <td>3839.0</td>\n      <td>1.111027e+12</td>\n      <td>海淀</td>\n      <td>清河</td>\n      <td>NaN</td>\n      <td>17.0</td>\n      <td>NaN</td>\n      <td>NaN</td>\n      <td>NaN</td>\n      <td>NaN</td>\n    </tr>\n    <tr>\n      <th>16114</th>\n      <td>16106</td>\n      <td>志强南园 2室2厅 600万新上</td>\n      <td>志强南园</td>\n      <td>2室2厅</td>\n      <td>63.1平米</td>\n      <td>距离2号线积水潭站880米房本满五年</td>\n      <td>600</td>\n      <td>95088</td>\n      <td>0人关注 / 共0次带看 / 刚刚发布</td>\n      <td>4785.0</td>\n      <td>1.111027e+12</td>\n      <td>海淀</td>\n      <td>新街口</td>\n      <td>近地铁2号线积水潭站</td>\n      <td>9.0</td>\n      <td>中楼层</td>\n      <td>16</td>\n      <td>1992</td>\n      <td>塔楼</td>\n    </tr>\n    <tr>\n      <th>16115</th>\n      <td>16107</td>\n      <td>海淀知本时代 板楼2居 东西 诚心出售新上</td>\n      <td>知本时代</td>\n      <td>2室1厅</td>\n      <td>91.66平米</td>\n      <td>距离8号线霍营站1085米房本满两年</td>\n      <td>575</td>\n      <td>62732</td>\n      <td>1人关注 / 共0次带看 / 刚刚发布</td>\n      <td>4613.0</td>\n      <td>1.111027e+12</td>\n      <td>海淀</td>\n      <td>西三旗</td>\n      <td>近地铁8号线霍营站</td>\n      <td>8.0</td>\n      <td>低楼层</td>\n      <td>6</td>\n      <td>2004</td>\n      <td>板楼</td>\n    </tr>\n  </tbody>\n</table>\n<p>16116 rows × 19 columns</p>\n</div>"
     },
     "execution_count": 17,
     "metadata": {},
     "output_type": "execute_result"
    }
   ],
   "source": [
    "data"
   ],
   "metadata": {
    "collapsed": false,
    "pycharm": {
     "name": "#%%\n"
    }
   }
  },
  {
   "cell_type": "code",
   "execution_count": 18,
   "outputs": [],
   "source": [
    "#客厅数\n",
    "data['客厅数'] = data.housetype.str.extract('(\\d+)厅')\n",
    "#房间数\n",
    "data['房间数'] = data.housetype.str.extract('(\\d+)室|房')\n",
    "#卫生间数\n",
    "data['卫生间数'] = data.housetype.str.extract('(\\d+)卫')"
   ],
   "metadata": {
    "collapsed": false,
    "pycharm": {
     "name": "#%%\n"
    }
   }
  },
  {
   "cell_type": "code",
   "execution_count": 19,
   "outputs": [
    {
     "data": {
      "text/plain": "       index_x                        title community housetype    square  \\\n0            0    宝星华庭一层带花园，客厅挑高，通透四居室。房主自荐    宝星国际三期      4室1厅  298.79平米   \n1            1          三面采光全明南北朝向 正对小区绿地花园      顶秀青溪      3室2厅  154.62平米   \n2            2        沁园公寓 三居室 距离苏州街地铁站383米      沁园公寓      3室2厅  177.36平米   \n3            3          金星园东南向户型，四居室设计，中间楼层       金星园      4室2厅  245.52平米   \n4            4      龙湾别墅 一期独栋 满五年 带下沉式庭院，精装      龙湾别墅      3室3厅  351.48平米   \n...        ...                          ...       ...       ...       ...   \n16111    16103            马甸南村 5室1厅 2100万新上      马甸南村      5室1厅   180.2平米   \n16112    16104  南北通透三居 满五年 对着花园 看喷泉水系 不临街新上    望京西园三区      3室2厅  153.28平米   \n16113    16105                 橡树湾 车位 86万新上       橡树湾        车位   31.55平米   \n16114    16106             志强南园 2室2厅 600万新上      志强南园      2室2厅    63.1平米   \n16115    16107        海淀知本时代 板楼2居 东西 诚心出售新上      知本时代      2室1厅   91.66平米   \n\n                       taxtype  totalPrice  unitPrice  \\\n0          距离15号线望京东站680米房本满五年        2598      86951   \n1      距离5号线立水桥站1170米房本满两年随时看房        1000      64675   \n2          距离10号线苏州街站383米房本满五年        1200      67659   \n3          距离机场线三元桥站1153米房本满五年        1650      67205   \n4                        房本满五年        2400      68283   \n...                        ...         ...        ...   \n16111                    房本满五年        2100     116538   \n16112       距离15号线望京站842米房本满五年         850      55455   \n16113                    房本满两年          86      27259   \n16114       距离2号线积水潭站880米房本满五年         600      95088   \n16115       距离8号线霍营站1085米房本满两年         575      62732   \n\n                     followInfo  index_y  ...  bizcircle      tagList onsale  \\\n0        53人关注 / 共44次带看 / 一年前发布   1535.0  ...         望京  近地铁15号线望京东站    7.0   \n1      323人关注 / 共579次带看 / 一年前发布      NaN  ...        NaN          NaN    NaN   \n2      185人关注 / 共108次带看 / 一年前发布   2945.0  ...        苏州桥  近地铁10号线苏州街站    5.0   \n3       157人关注 / 共35次带看 / 一年前发布   2248.0  ...        三元桥  近地铁10号线太阳宫站   30.0   \n4       120人关注 / 共42次带看 / 一年前发布      NaN  ...        NaN          NaN    NaN   \n...                         ...      ...  ...        ...          ...    ...   \n16111       5人关注 / 共0次带看 / 刚刚发布   2569.0  ...         马甸   近地铁2号线积水潭站   23.0   \n16112       1人关注 / 共0次带看 / 刚刚发布   3649.0  ...         望京   近地铁15号线望京站   34.0   \n16113       0人关注 / 共0次带看 / 刚刚发布   3839.0  ...         清河          NaN   17.0   \n16114       0人关注 / 共0次带看 / 刚刚发布   4785.0  ...        新街口   近地铁2号线积水潭站    9.0   \n16115       1人关注 / 共0次带看 / 刚刚发布   4613.0  ...        西三旗    近地铁8号线霍营站    8.0   \n\n       当前层  总楼层  建成年份  建筑结构  客厅数  房间数 卫生间数  \n0       底层   22  2010  板塔结合    1    4  NaN  \n1      中楼层   11  2008  板塔结合    2    3  NaN  \n2      低楼层   24  1999    塔楼    2    3  NaN  \n3      中楼层   28  2007    塔楼    2    4  NaN  \n4      地下室    3  2006   NaN    3    3  NaN  \n...    ...  ...   ...   ...  ...  ...  ...  \n16111  中楼层   13  1994  板塔结合    1    5  NaN  \n16112  高楼层   22  2000    塔楼    2    3  NaN  \n16113  NaN  NaN   NaN   NaN  NaN  NaN  NaN  \n16114  中楼层   16  1992    塔楼    2    2  NaN  \n16115  低楼层    6  2004    板楼    1    2  NaN  \n\n[16116 rows x 22 columns]",
      "text/html": "<div>\n<style scoped>\n    .dataframe tbody tr th:only-of-type {\n        vertical-align: middle;\n    }\n\n    .dataframe tbody tr th {\n        vertical-align: top;\n    }\n\n    .dataframe thead th {\n        text-align: right;\n    }\n</style>\n<table border=\"1\" class=\"dataframe\">\n  <thead>\n    <tr style=\"text-align: right;\">\n      <th></th>\n      <th>index_x</th>\n      <th>title</th>\n      <th>community</th>\n      <th>housetype</th>\n      <th>square</th>\n      <th>taxtype</th>\n      <th>totalPrice</th>\n      <th>unitPrice</th>\n      <th>followInfo</th>\n      <th>index_y</th>\n      <th>...</th>\n      <th>bizcircle</th>\n      <th>tagList</th>\n      <th>onsale</th>\n      <th>当前层</th>\n      <th>总楼层</th>\n      <th>建成年份</th>\n      <th>建筑结构</th>\n      <th>客厅数</th>\n      <th>房间数</th>\n      <th>卫生间数</th>\n    </tr>\n  </thead>\n  <tbody>\n    <tr>\n      <th>0</th>\n      <td>0</td>\n      <td>宝星华庭一层带花园，客厅挑高，通透四居室。房主自荐</td>\n      <td>宝星国际三期</td>\n      <td>4室1厅</td>\n      <td>298.79平米</td>\n      <td>距离15号线望京东站680米房本满五年</td>\n      <td>2598</td>\n      <td>86951</td>\n      <td>53人关注 / 共44次带看 / 一年前发布</td>\n      <td>1535.0</td>\n      <td>...</td>\n      <td>望京</td>\n      <td>近地铁15号线望京东站</td>\n      <td>7.0</td>\n      <td>底层</td>\n      <td>22</td>\n      <td>2010</td>\n      <td>板塔结合</td>\n      <td>1</td>\n      <td>4</td>\n      <td>NaN</td>\n    </tr>\n    <tr>\n      <th>1</th>\n      <td>1</td>\n      <td>三面采光全明南北朝向 正对小区绿地花园</td>\n      <td>顶秀青溪</td>\n      <td>3室2厅</td>\n      <td>154.62平米</td>\n      <td>距离5号线立水桥站1170米房本满两年随时看房</td>\n      <td>1000</td>\n      <td>64675</td>\n      <td>323人关注 / 共579次带看 / 一年前发布</td>\n      <td>NaN</td>\n      <td>...</td>\n      <td>NaN</td>\n      <td>NaN</td>\n      <td>NaN</td>\n      <td>中楼层</td>\n      <td>11</td>\n      <td>2008</td>\n      <td>板塔结合</td>\n      <td>2</td>\n      <td>3</td>\n      <td>NaN</td>\n    </tr>\n    <tr>\n      <th>2</th>\n      <td>2</td>\n      <td>沁园公寓 三居室 距离苏州街地铁站383米</td>\n      <td>沁园公寓</td>\n      <td>3室2厅</td>\n      <td>177.36平米</td>\n      <td>距离10号线苏州街站383米房本满五年</td>\n      <td>1200</td>\n      <td>67659</td>\n      <td>185人关注 / 共108次带看 / 一年前发布</td>\n      <td>2945.0</td>\n      <td>...</td>\n      <td>苏州桥</td>\n      <td>近地铁10号线苏州街站</td>\n      <td>5.0</td>\n      <td>低楼层</td>\n      <td>24</td>\n      <td>1999</td>\n      <td>塔楼</td>\n      <td>2</td>\n      <td>3</td>\n      <td>NaN</td>\n    </tr>\n    <tr>\n      <th>3</th>\n      <td>3</td>\n      <td>金星园东南向户型，四居室设计，中间楼层</td>\n      <td>金星园</td>\n      <td>4室2厅</td>\n      <td>245.52平米</td>\n      <td>距离机场线三元桥站1153米房本满五年</td>\n      <td>1650</td>\n      <td>67205</td>\n      <td>157人关注 / 共35次带看 / 一年前发布</td>\n      <td>2248.0</td>\n      <td>...</td>\n      <td>三元桥</td>\n      <td>近地铁10号线太阳宫站</td>\n      <td>30.0</td>\n      <td>中楼层</td>\n      <td>28</td>\n      <td>2007</td>\n      <td>塔楼</td>\n      <td>2</td>\n      <td>4</td>\n      <td>NaN</td>\n    </tr>\n    <tr>\n      <th>4</th>\n      <td>4</td>\n      <td>龙湾别墅 一期独栋 满五年 带下沉式庭院，精装</td>\n      <td>龙湾别墅</td>\n      <td>3室3厅</td>\n      <td>351.48平米</td>\n      <td>房本满五年</td>\n      <td>2400</td>\n      <td>68283</td>\n      <td>120人关注 / 共42次带看 / 一年前发布</td>\n      <td>NaN</td>\n      <td>...</td>\n      <td>NaN</td>\n      <td>NaN</td>\n      <td>NaN</td>\n      <td>地下室</td>\n      <td>3</td>\n      <td>2006</td>\n      <td>NaN</td>\n      <td>3</td>\n      <td>3</td>\n      <td>NaN</td>\n    </tr>\n    <tr>\n      <th>...</th>\n      <td>...</td>\n      <td>...</td>\n      <td>...</td>\n      <td>...</td>\n      <td>...</td>\n      <td>...</td>\n      <td>...</td>\n      <td>...</td>\n      <td>...</td>\n      <td>...</td>\n      <td>...</td>\n      <td>...</td>\n      <td>...</td>\n      <td>...</td>\n      <td>...</td>\n      <td>...</td>\n      <td>...</td>\n      <td>...</td>\n      <td>...</td>\n      <td>...</td>\n      <td>...</td>\n    </tr>\n    <tr>\n      <th>16111</th>\n      <td>16103</td>\n      <td>马甸南村 5室1厅 2100万新上</td>\n      <td>马甸南村</td>\n      <td>5室1厅</td>\n      <td>180.2平米</td>\n      <td>房本满五年</td>\n      <td>2100</td>\n      <td>116538</td>\n      <td>5人关注 / 共0次带看 / 刚刚发布</td>\n      <td>2569.0</td>\n      <td>...</td>\n      <td>马甸</td>\n      <td>近地铁2号线积水潭站</td>\n      <td>23.0</td>\n      <td>中楼层</td>\n      <td>13</td>\n      <td>1994</td>\n      <td>板塔结合</td>\n      <td>1</td>\n      <td>5</td>\n      <td>NaN</td>\n    </tr>\n    <tr>\n      <th>16112</th>\n      <td>16104</td>\n      <td>南北通透三居 满五年 对着花园 看喷泉水系 不临街新上</td>\n      <td>望京西园三区</td>\n      <td>3室2厅</td>\n      <td>153.28平米</td>\n      <td>距离15号线望京站842米房本满五年</td>\n      <td>850</td>\n      <td>55455</td>\n      <td>1人关注 / 共0次带看 / 刚刚发布</td>\n      <td>3649.0</td>\n      <td>...</td>\n      <td>望京</td>\n      <td>近地铁15号线望京站</td>\n      <td>34.0</td>\n      <td>高楼层</td>\n      <td>22</td>\n      <td>2000</td>\n      <td>塔楼</td>\n      <td>2</td>\n      <td>3</td>\n      <td>NaN</td>\n    </tr>\n    <tr>\n      <th>16113</th>\n      <td>16105</td>\n      <td>橡树湾 车位 86万新上</td>\n      <td>橡树湾</td>\n      <td>车位</td>\n      <td>31.55平米</td>\n      <td>房本满两年</td>\n      <td>86</td>\n      <td>27259</td>\n      <td>0人关注 / 共0次带看 / 刚刚发布</td>\n      <td>3839.0</td>\n      <td>...</td>\n      <td>清河</td>\n      <td>NaN</td>\n      <td>17.0</td>\n      <td>NaN</td>\n      <td>NaN</td>\n      <td>NaN</td>\n      <td>NaN</td>\n      <td>NaN</td>\n      <td>NaN</td>\n      <td>NaN</td>\n    </tr>\n    <tr>\n      <th>16114</th>\n      <td>16106</td>\n      <td>志强南园 2室2厅 600万新上</td>\n      <td>志强南园</td>\n      <td>2室2厅</td>\n      <td>63.1平米</td>\n      <td>距离2号线积水潭站880米房本满五年</td>\n      <td>600</td>\n      <td>95088</td>\n      <td>0人关注 / 共0次带看 / 刚刚发布</td>\n      <td>4785.0</td>\n      <td>...</td>\n      <td>新街口</td>\n      <td>近地铁2号线积水潭站</td>\n      <td>9.0</td>\n      <td>中楼层</td>\n      <td>16</td>\n      <td>1992</td>\n      <td>塔楼</td>\n      <td>2</td>\n      <td>2</td>\n      <td>NaN</td>\n    </tr>\n    <tr>\n      <th>16115</th>\n      <td>16107</td>\n      <td>海淀知本时代 板楼2居 东西 诚心出售新上</td>\n      <td>知本时代</td>\n      <td>2室1厅</td>\n      <td>91.66平米</td>\n      <td>距离8号线霍营站1085米房本满两年</td>\n      <td>575</td>\n      <td>62732</td>\n      <td>1人关注 / 共0次带看 / 刚刚发布</td>\n      <td>4613.0</td>\n      <td>...</td>\n      <td>西三旗</td>\n      <td>近地铁8号线霍营站</td>\n      <td>8.0</td>\n      <td>低楼层</td>\n      <td>6</td>\n      <td>2004</td>\n      <td>板楼</td>\n      <td>1</td>\n      <td>2</td>\n      <td>NaN</td>\n    </tr>\n  </tbody>\n</table>\n<p>16116 rows × 22 columns</p>\n</div>"
     },
     "execution_count": 19,
     "metadata": {},
     "output_type": "execute_result"
    }
   ],
   "source": [
    "data"
   ],
   "metadata": {
    "collapsed": false,
    "pycharm": {
     "name": "#%%\n"
    }
   }
  },
  {
   "cell_type": "code",
   "execution_count": 20,
   "outputs": [],
   "source": [
    "#去掉面积中的平米"
   ],
   "metadata": {
    "collapsed": false,
    "pycharm": {
     "name": "#%%\n"
    }
   }
  },
  {
   "cell_type": "code",
   "execution_count": 21,
   "outputs": [],
   "source": [
    "data['square'] = data.square.str.replace('平米', '')"
   ],
   "metadata": {
    "collapsed": false,
    "pycharm": {
     "name": "#%%\n"
    }
   }
  },
  {
   "cell_type": "code",
   "execution_count": 22,
   "outputs": [
    {
     "data": {
      "text/plain": "       index_x                        title community housetype  square  \\\n0            0    宝星华庭一层带花园，客厅挑高，通透四居室。房主自荐    宝星国际三期      4室1厅  298.79   \n1            1          三面采光全明南北朝向 正对小区绿地花园      顶秀青溪      3室2厅  154.62   \n2            2        沁园公寓 三居室 距离苏州街地铁站383米      沁园公寓      3室2厅  177.36   \n3            3          金星园东南向户型，四居室设计，中间楼层       金星园      4室2厅  245.52   \n4            4      龙湾别墅 一期独栋 满五年 带下沉式庭院，精装      龙湾别墅      3室3厅  351.48   \n...        ...                          ...       ...       ...     ...   \n16111    16103            马甸南村 5室1厅 2100万新上      马甸南村      5室1厅   180.2   \n16112    16104  南北通透三居 满五年 对着花园 看喷泉水系 不临街新上    望京西园三区      3室2厅  153.28   \n16113    16105                 橡树湾 车位 86万新上       橡树湾        车位   31.55   \n16114    16106             志强南园 2室2厅 600万新上      志强南园      2室2厅    63.1   \n16115    16107        海淀知本时代 板楼2居 东西 诚心出售新上      知本时代      2室1厅   91.66   \n\n                       taxtype  totalPrice  unitPrice  \\\n0          距离15号线望京东站680米房本满五年        2598      86951   \n1      距离5号线立水桥站1170米房本满两年随时看房        1000      64675   \n2          距离10号线苏州街站383米房本满五年        1200      67659   \n3          距离机场线三元桥站1153米房本满五年        1650      67205   \n4                        房本满五年        2400      68283   \n...                        ...         ...        ...   \n16111                    房本满五年        2100     116538   \n16112       距离15号线望京站842米房本满五年         850      55455   \n16113                    房本满两年          86      27259   \n16114       距离2号线积水潭站880米房本满五年         600      95088   \n16115       距离8号线霍营站1085米房本满两年         575      62732   \n\n                     followInfo  index_y  ...  bizcircle      tagList onsale  \\\n0        53人关注 / 共44次带看 / 一年前发布   1535.0  ...         望京  近地铁15号线望京东站    7.0   \n1      323人关注 / 共579次带看 / 一年前发布      NaN  ...        NaN          NaN    NaN   \n2      185人关注 / 共108次带看 / 一年前发布   2945.0  ...        苏州桥  近地铁10号线苏州街站    5.0   \n3       157人关注 / 共35次带看 / 一年前发布   2248.0  ...        三元桥  近地铁10号线太阳宫站   30.0   \n4       120人关注 / 共42次带看 / 一年前发布      NaN  ...        NaN          NaN    NaN   \n...                         ...      ...  ...        ...          ...    ...   \n16111       5人关注 / 共0次带看 / 刚刚发布   2569.0  ...         马甸   近地铁2号线积水潭站   23.0   \n16112       1人关注 / 共0次带看 / 刚刚发布   3649.0  ...         望京   近地铁15号线望京站   34.0   \n16113       0人关注 / 共0次带看 / 刚刚发布   3839.0  ...         清河          NaN   17.0   \n16114       0人关注 / 共0次带看 / 刚刚发布   4785.0  ...        新街口   近地铁2号线积水潭站    9.0   \n16115       1人关注 / 共0次带看 / 刚刚发布   4613.0  ...        西三旗    近地铁8号线霍营站    8.0   \n\n       当前层  总楼层  建成年份  建筑结构  客厅数  房间数 卫生间数  \n0       底层   22  2010  板塔结合    1    4  NaN  \n1      中楼层   11  2008  板塔结合    2    3  NaN  \n2      低楼层   24  1999    塔楼    2    3  NaN  \n3      中楼层   28  2007    塔楼    2    4  NaN  \n4      地下室    3  2006   NaN    3    3  NaN  \n...    ...  ...   ...   ...  ...  ...  ...  \n16111  中楼层   13  1994  板塔结合    1    5  NaN  \n16112  高楼层   22  2000    塔楼    2    3  NaN  \n16113  NaN  NaN   NaN   NaN  NaN  NaN  NaN  \n16114  中楼层   16  1992    塔楼    2    2  NaN  \n16115  低楼层    6  2004    板楼    1    2  NaN  \n\n[16116 rows x 22 columns]",
      "text/html": "<div>\n<style scoped>\n    .dataframe tbody tr th:only-of-type {\n        vertical-align: middle;\n    }\n\n    .dataframe tbody tr th {\n        vertical-align: top;\n    }\n\n    .dataframe thead th {\n        text-align: right;\n    }\n</style>\n<table border=\"1\" class=\"dataframe\">\n  <thead>\n    <tr style=\"text-align: right;\">\n      <th></th>\n      <th>index_x</th>\n      <th>title</th>\n      <th>community</th>\n      <th>housetype</th>\n      <th>square</th>\n      <th>taxtype</th>\n      <th>totalPrice</th>\n      <th>unitPrice</th>\n      <th>followInfo</th>\n      <th>index_y</th>\n      <th>...</th>\n      <th>bizcircle</th>\n      <th>tagList</th>\n      <th>onsale</th>\n      <th>当前层</th>\n      <th>总楼层</th>\n      <th>建成年份</th>\n      <th>建筑结构</th>\n      <th>客厅数</th>\n      <th>房间数</th>\n      <th>卫生间数</th>\n    </tr>\n  </thead>\n  <tbody>\n    <tr>\n      <th>0</th>\n      <td>0</td>\n      <td>宝星华庭一层带花园，客厅挑高，通透四居室。房主自荐</td>\n      <td>宝星国际三期</td>\n      <td>4室1厅</td>\n      <td>298.79</td>\n      <td>距离15号线望京东站680米房本满五年</td>\n      <td>2598</td>\n      <td>86951</td>\n      <td>53人关注 / 共44次带看 / 一年前发布</td>\n      <td>1535.0</td>\n      <td>...</td>\n      <td>望京</td>\n      <td>近地铁15号线望京东站</td>\n      <td>7.0</td>\n      <td>底层</td>\n      <td>22</td>\n      <td>2010</td>\n      <td>板塔结合</td>\n      <td>1</td>\n      <td>4</td>\n      <td>NaN</td>\n    </tr>\n    <tr>\n      <th>1</th>\n      <td>1</td>\n      <td>三面采光全明南北朝向 正对小区绿地花园</td>\n      <td>顶秀青溪</td>\n      <td>3室2厅</td>\n      <td>154.62</td>\n      <td>距离5号线立水桥站1170米房本满两年随时看房</td>\n      <td>1000</td>\n      <td>64675</td>\n      <td>323人关注 / 共579次带看 / 一年前发布</td>\n      <td>NaN</td>\n      <td>...</td>\n      <td>NaN</td>\n      <td>NaN</td>\n      <td>NaN</td>\n      <td>中楼层</td>\n      <td>11</td>\n      <td>2008</td>\n      <td>板塔结合</td>\n      <td>2</td>\n      <td>3</td>\n      <td>NaN</td>\n    </tr>\n    <tr>\n      <th>2</th>\n      <td>2</td>\n      <td>沁园公寓 三居室 距离苏州街地铁站383米</td>\n      <td>沁园公寓</td>\n      <td>3室2厅</td>\n      <td>177.36</td>\n      <td>距离10号线苏州街站383米房本满五年</td>\n      <td>1200</td>\n      <td>67659</td>\n      <td>185人关注 / 共108次带看 / 一年前发布</td>\n      <td>2945.0</td>\n      <td>...</td>\n      <td>苏州桥</td>\n      <td>近地铁10号线苏州街站</td>\n      <td>5.0</td>\n      <td>低楼层</td>\n      <td>24</td>\n      <td>1999</td>\n      <td>塔楼</td>\n      <td>2</td>\n      <td>3</td>\n      <td>NaN</td>\n    </tr>\n    <tr>\n      <th>3</th>\n      <td>3</td>\n      <td>金星园东南向户型，四居室设计，中间楼层</td>\n      <td>金星园</td>\n      <td>4室2厅</td>\n      <td>245.52</td>\n      <td>距离机场线三元桥站1153米房本满五年</td>\n      <td>1650</td>\n      <td>67205</td>\n      <td>157人关注 / 共35次带看 / 一年前发布</td>\n      <td>2248.0</td>\n      <td>...</td>\n      <td>三元桥</td>\n      <td>近地铁10号线太阳宫站</td>\n      <td>30.0</td>\n      <td>中楼层</td>\n      <td>28</td>\n      <td>2007</td>\n      <td>塔楼</td>\n      <td>2</td>\n      <td>4</td>\n      <td>NaN</td>\n    </tr>\n    <tr>\n      <th>4</th>\n      <td>4</td>\n      <td>龙湾别墅 一期独栋 满五年 带下沉式庭院，精装</td>\n      <td>龙湾别墅</td>\n      <td>3室3厅</td>\n      <td>351.48</td>\n      <td>房本满五年</td>\n      <td>2400</td>\n      <td>68283</td>\n      <td>120人关注 / 共42次带看 / 一年前发布</td>\n      <td>NaN</td>\n      <td>...</td>\n      <td>NaN</td>\n      <td>NaN</td>\n      <td>NaN</td>\n      <td>地下室</td>\n      <td>3</td>\n      <td>2006</td>\n      <td>NaN</td>\n      <td>3</td>\n      <td>3</td>\n      <td>NaN</td>\n    </tr>\n    <tr>\n      <th>...</th>\n      <td>...</td>\n      <td>...</td>\n      <td>...</td>\n      <td>...</td>\n      <td>...</td>\n      <td>...</td>\n      <td>...</td>\n      <td>...</td>\n      <td>...</td>\n      <td>...</td>\n      <td>...</td>\n      <td>...</td>\n      <td>...</td>\n      <td>...</td>\n      <td>...</td>\n      <td>...</td>\n      <td>...</td>\n      <td>...</td>\n      <td>...</td>\n      <td>...</td>\n      <td>...</td>\n    </tr>\n    <tr>\n      <th>16111</th>\n      <td>16103</td>\n      <td>马甸南村 5室1厅 2100万新上</td>\n      <td>马甸南村</td>\n      <td>5室1厅</td>\n      <td>180.2</td>\n      <td>房本满五年</td>\n      <td>2100</td>\n      <td>116538</td>\n      <td>5人关注 / 共0次带看 / 刚刚发布</td>\n      <td>2569.0</td>\n      <td>...</td>\n      <td>马甸</td>\n      <td>近地铁2号线积水潭站</td>\n      <td>23.0</td>\n      <td>中楼层</td>\n      <td>13</td>\n      <td>1994</td>\n      <td>板塔结合</td>\n      <td>1</td>\n      <td>5</td>\n      <td>NaN</td>\n    </tr>\n    <tr>\n      <th>16112</th>\n      <td>16104</td>\n      <td>南北通透三居 满五年 对着花园 看喷泉水系 不临街新上</td>\n      <td>望京西园三区</td>\n      <td>3室2厅</td>\n      <td>153.28</td>\n      <td>距离15号线望京站842米房本满五年</td>\n      <td>850</td>\n      <td>55455</td>\n      <td>1人关注 / 共0次带看 / 刚刚发布</td>\n      <td>3649.0</td>\n      <td>...</td>\n      <td>望京</td>\n      <td>近地铁15号线望京站</td>\n      <td>34.0</td>\n      <td>高楼层</td>\n      <td>22</td>\n      <td>2000</td>\n      <td>塔楼</td>\n      <td>2</td>\n      <td>3</td>\n      <td>NaN</td>\n    </tr>\n    <tr>\n      <th>16113</th>\n      <td>16105</td>\n      <td>橡树湾 车位 86万新上</td>\n      <td>橡树湾</td>\n      <td>车位</td>\n      <td>31.55</td>\n      <td>房本满两年</td>\n      <td>86</td>\n      <td>27259</td>\n      <td>0人关注 / 共0次带看 / 刚刚发布</td>\n      <td>3839.0</td>\n      <td>...</td>\n      <td>清河</td>\n      <td>NaN</td>\n      <td>17.0</td>\n      <td>NaN</td>\n      <td>NaN</td>\n      <td>NaN</td>\n      <td>NaN</td>\n      <td>NaN</td>\n      <td>NaN</td>\n      <td>NaN</td>\n    </tr>\n    <tr>\n      <th>16114</th>\n      <td>16106</td>\n      <td>志强南园 2室2厅 600万新上</td>\n      <td>志强南园</td>\n      <td>2室2厅</td>\n      <td>63.1</td>\n      <td>距离2号线积水潭站880米房本满五年</td>\n      <td>600</td>\n      <td>95088</td>\n      <td>0人关注 / 共0次带看 / 刚刚发布</td>\n      <td>4785.0</td>\n      <td>...</td>\n      <td>新街口</td>\n      <td>近地铁2号线积水潭站</td>\n      <td>9.0</td>\n      <td>中楼层</td>\n      <td>16</td>\n      <td>1992</td>\n      <td>塔楼</td>\n      <td>2</td>\n      <td>2</td>\n      <td>NaN</td>\n    </tr>\n    <tr>\n      <th>16115</th>\n      <td>16107</td>\n      <td>海淀知本时代 板楼2居 东西 诚心出售新上</td>\n      <td>知本时代</td>\n      <td>2室1厅</td>\n      <td>91.66</td>\n      <td>距离8号线霍营站1085米房本满两年</td>\n      <td>575</td>\n      <td>62732</td>\n      <td>1人关注 / 共0次带看 / 刚刚发布</td>\n      <td>4613.0</td>\n      <td>...</td>\n      <td>西三旗</td>\n      <td>近地铁8号线霍营站</td>\n      <td>8.0</td>\n      <td>低楼层</td>\n      <td>6</td>\n      <td>2004</td>\n      <td>板楼</td>\n      <td>1</td>\n      <td>2</td>\n      <td>NaN</td>\n    </tr>\n  </tbody>\n</table>\n<p>16116 rows × 22 columns</p>\n</div>"
     },
     "execution_count": 22,
     "metadata": {},
     "output_type": "execute_result"
    }
   ],
   "source": [
    "data"
   ],
   "metadata": {
    "collapsed": false,
    "pycharm": {
     "name": "#%%\n"
    }
   }
  },
  {
   "cell_type": "code",
   "execution_count": 23,
   "outputs": [],
   "source": [
    "#在taxtype中提取地铁距离和房本类型"
   ],
   "metadata": {
    "collapsed": false,
    "pycharm": {
     "name": "#%%\n"
    }
   }
  },
  {
   "cell_type": "code",
   "execution_count": 24,
   "outputs": [],
   "source": [
    "data['地铁距离'] = data.taxtype.str.extract('站(\\d+)')"
   ],
   "metadata": {
    "collapsed": false,
    "pycharm": {
     "name": "#%%\n"
    }
   }
  },
  {
   "cell_type": "code",
   "execution_count": 25,
   "outputs": [],
   "source": [
    "data['房本类型'] = data.taxtype.str.extract('满(\\w+)年')"
   ],
   "metadata": {
    "collapsed": false,
    "pycharm": {
     "name": "#%%\n"
    }
   }
  },
  {
   "cell_type": "code",
   "execution_count": 26,
   "outputs": [],
   "source": [
    "del data['taxtype']"
   ],
   "metadata": {
    "collapsed": false,
    "pycharm": {
     "name": "#%%\n"
    }
   }
  },
  {
   "cell_type": "code",
   "execution_count": 27,
   "outputs": [
    {
     "data": {
      "text/plain": "Index(['index_x', 'title', 'community', 'housetype', 'square', 'totalPrice',\n       'unitPrice', 'followInfo', 'index_y', 'id', 'district', 'bizcircle',\n       'tagList', 'onsale', '当前层', '总楼层', '建成年份', '建筑结构', '客厅数', '房间数', '卫生间数',\n       '地铁距离', '房本类型'],\n      dtype='object')"
     },
     "execution_count": 27,
     "metadata": {},
     "output_type": "execute_result"
    }
   ],
   "source": [
    "data.columns"
   ],
   "metadata": {
    "collapsed": false,
    "pycharm": {
     "name": "#%%\n"
    }
   }
  },
  {
   "cell_type": "code",
   "execution_count": 28,
   "outputs": [
    {
     "data": {
      "text/plain": "       index_x                        title community housetype  square  \\\n0            0    宝星华庭一层带花园，客厅挑高，通透四居室。房主自荐    宝星国际三期      4室1厅  298.79   \n1            1          三面采光全明南北朝向 正对小区绿地花园      顶秀青溪      3室2厅  154.62   \n2            2        沁园公寓 三居室 距离苏州街地铁站383米      沁园公寓      3室2厅  177.36   \n3            3          金星园东南向户型，四居室设计，中间楼层       金星园      4室2厅  245.52   \n4            4      龙湾别墅 一期独栋 满五年 带下沉式庭院，精装      龙湾别墅      3室3厅  351.48   \n...        ...                          ...       ...       ...     ...   \n16111    16103            马甸南村 5室1厅 2100万新上      马甸南村      5室1厅   180.2   \n16112    16104  南北通透三居 满五年 对着花园 看喷泉水系 不临街新上    望京西园三区      3室2厅  153.28   \n16113    16105                 橡树湾 车位 86万新上       橡树湾        车位   31.55   \n16114    16106             志强南园 2室2厅 600万新上      志强南园      2室2厅    63.1   \n16115    16107        海淀知本时代 板楼2居 东西 诚心出售新上      知本时代      2室1厅   91.66   \n\n       totalPrice  unitPrice                followInfo  index_y            id  \\\n0            2598      86951    53人关注 / 共44次带看 / 一年前发布   1535.0  1.111027e+12   \n1            1000      64675  323人关注 / 共579次带看 / 一年前发布      NaN           NaN   \n2            1200      67659  185人关注 / 共108次带看 / 一年前发布   2945.0  1.111027e+12   \n3            1650      67205   157人关注 / 共35次带看 / 一年前发布   2248.0  1.111027e+12   \n4            2400      68283   120人关注 / 共42次带看 / 一年前发布      NaN           NaN   \n...           ...        ...                       ...      ...           ...   \n16111        2100     116538       5人关注 / 共0次带看 / 刚刚发布   2569.0  1.111027e+12   \n16112         850      55455       1人关注 / 共0次带看 / 刚刚发布   3649.0  1.111027e+12   \n16113          86      27259       0人关注 / 共0次带看 / 刚刚发布   3839.0  1.111027e+12   \n16114         600      95088       0人关注 / 共0次带看 / 刚刚发布   4785.0  1.111027e+12   \n16115         575      62732       1人关注 / 共0次带看 / 刚刚发布   4613.0  1.111027e+12   \n\n       ... onsale  当前层  总楼层  建成年份  建筑结构  客厅数  房间数 卫生间数  地铁距离 房本类型  \n0      ...    7.0   底层   22  2010  板塔结合    1    4  NaN   680    五  \n1      ...    NaN  中楼层   11  2008  板塔结合    2    3  NaN  1170    两  \n2      ...    5.0  低楼层   24  1999    塔楼    2    3  NaN   383    五  \n3      ...   30.0  中楼层   28  2007    塔楼    2    4  NaN  1153    五  \n4      ...    NaN  地下室    3  2006   NaN    3    3  NaN   NaN    五  \n...    ...    ...  ...  ...   ...   ...  ...  ...  ...   ...  ...  \n16111  ...   23.0  中楼层   13  1994  板塔结合    1    5  NaN   NaN    五  \n16112  ...   34.0  高楼层   22  2000    塔楼    2    3  NaN   842    五  \n16113  ...   17.0  NaN  NaN   NaN   NaN  NaN  NaN  NaN   NaN    两  \n16114  ...    9.0  中楼层   16  1992    塔楼    2    2  NaN   880    五  \n16115  ...    8.0  低楼层    6  2004    板楼    1    2  NaN  1085    两  \n\n[16116 rows x 23 columns]",
      "text/html": "<div>\n<style scoped>\n    .dataframe tbody tr th:only-of-type {\n        vertical-align: middle;\n    }\n\n    .dataframe tbody tr th {\n        vertical-align: top;\n    }\n\n    .dataframe thead th {\n        text-align: right;\n    }\n</style>\n<table border=\"1\" class=\"dataframe\">\n  <thead>\n    <tr style=\"text-align: right;\">\n      <th></th>\n      <th>index_x</th>\n      <th>title</th>\n      <th>community</th>\n      <th>housetype</th>\n      <th>square</th>\n      <th>totalPrice</th>\n      <th>unitPrice</th>\n      <th>followInfo</th>\n      <th>index_y</th>\n      <th>id</th>\n      <th>...</th>\n      <th>onsale</th>\n      <th>当前层</th>\n      <th>总楼层</th>\n      <th>建成年份</th>\n      <th>建筑结构</th>\n      <th>客厅数</th>\n      <th>房间数</th>\n      <th>卫生间数</th>\n      <th>地铁距离</th>\n      <th>房本类型</th>\n    </tr>\n  </thead>\n  <tbody>\n    <tr>\n      <th>0</th>\n      <td>0</td>\n      <td>宝星华庭一层带花园，客厅挑高，通透四居室。房主自荐</td>\n      <td>宝星国际三期</td>\n      <td>4室1厅</td>\n      <td>298.79</td>\n      <td>2598</td>\n      <td>86951</td>\n      <td>53人关注 / 共44次带看 / 一年前发布</td>\n      <td>1535.0</td>\n      <td>1.111027e+12</td>\n      <td>...</td>\n      <td>7.0</td>\n      <td>底层</td>\n      <td>22</td>\n      <td>2010</td>\n      <td>板塔结合</td>\n      <td>1</td>\n      <td>4</td>\n      <td>NaN</td>\n      <td>680</td>\n      <td>五</td>\n    </tr>\n    <tr>\n      <th>1</th>\n      <td>1</td>\n      <td>三面采光全明南北朝向 正对小区绿地花园</td>\n      <td>顶秀青溪</td>\n      <td>3室2厅</td>\n      <td>154.62</td>\n      <td>1000</td>\n      <td>64675</td>\n      <td>323人关注 / 共579次带看 / 一年前发布</td>\n      <td>NaN</td>\n      <td>NaN</td>\n      <td>...</td>\n      <td>NaN</td>\n      <td>中楼层</td>\n      <td>11</td>\n      <td>2008</td>\n      <td>板塔结合</td>\n      <td>2</td>\n      <td>3</td>\n      <td>NaN</td>\n      <td>1170</td>\n      <td>两</td>\n    </tr>\n    <tr>\n      <th>2</th>\n      <td>2</td>\n      <td>沁园公寓 三居室 距离苏州街地铁站383米</td>\n      <td>沁园公寓</td>\n      <td>3室2厅</td>\n      <td>177.36</td>\n      <td>1200</td>\n      <td>67659</td>\n      <td>185人关注 / 共108次带看 / 一年前发布</td>\n      <td>2945.0</td>\n      <td>1.111027e+12</td>\n      <td>...</td>\n      <td>5.0</td>\n      <td>低楼层</td>\n      <td>24</td>\n      <td>1999</td>\n      <td>塔楼</td>\n      <td>2</td>\n      <td>3</td>\n      <td>NaN</td>\n      <td>383</td>\n      <td>五</td>\n    </tr>\n    <tr>\n      <th>3</th>\n      <td>3</td>\n      <td>金星园东南向户型，四居室设计，中间楼层</td>\n      <td>金星园</td>\n      <td>4室2厅</td>\n      <td>245.52</td>\n      <td>1650</td>\n      <td>67205</td>\n      <td>157人关注 / 共35次带看 / 一年前发布</td>\n      <td>2248.0</td>\n      <td>1.111027e+12</td>\n      <td>...</td>\n      <td>30.0</td>\n      <td>中楼层</td>\n      <td>28</td>\n      <td>2007</td>\n      <td>塔楼</td>\n      <td>2</td>\n      <td>4</td>\n      <td>NaN</td>\n      <td>1153</td>\n      <td>五</td>\n    </tr>\n    <tr>\n      <th>4</th>\n      <td>4</td>\n      <td>龙湾别墅 一期独栋 满五年 带下沉式庭院，精装</td>\n      <td>龙湾别墅</td>\n      <td>3室3厅</td>\n      <td>351.48</td>\n      <td>2400</td>\n      <td>68283</td>\n      <td>120人关注 / 共42次带看 / 一年前发布</td>\n      <td>NaN</td>\n      <td>NaN</td>\n      <td>...</td>\n      <td>NaN</td>\n      <td>地下室</td>\n      <td>3</td>\n      <td>2006</td>\n      <td>NaN</td>\n      <td>3</td>\n      <td>3</td>\n      <td>NaN</td>\n      <td>NaN</td>\n      <td>五</td>\n    </tr>\n    <tr>\n      <th>...</th>\n      <td>...</td>\n      <td>...</td>\n      <td>...</td>\n      <td>...</td>\n      <td>...</td>\n      <td>...</td>\n      <td>...</td>\n      <td>...</td>\n      <td>...</td>\n      <td>...</td>\n      <td>...</td>\n      <td>...</td>\n      <td>...</td>\n      <td>...</td>\n      <td>...</td>\n      <td>...</td>\n      <td>...</td>\n      <td>...</td>\n      <td>...</td>\n      <td>...</td>\n      <td>...</td>\n    </tr>\n    <tr>\n      <th>16111</th>\n      <td>16103</td>\n      <td>马甸南村 5室1厅 2100万新上</td>\n      <td>马甸南村</td>\n      <td>5室1厅</td>\n      <td>180.2</td>\n      <td>2100</td>\n      <td>116538</td>\n      <td>5人关注 / 共0次带看 / 刚刚发布</td>\n      <td>2569.0</td>\n      <td>1.111027e+12</td>\n      <td>...</td>\n      <td>23.0</td>\n      <td>中楼层</td>\n      <td>13</td>\n      <td>1994</td>\n      <td>板塔结合</td>\n      <td>1</td>\n      <td>5</td>\n      <td>NaN</td>\n      <td>NaN</td>\n      <td>五</td>\n    </tr>\n    <tr>\n      <th>16112</th>\n      <td>16104</td>\n      <td>南北通透三居 满五年 对着花园 看喷泉水系 不临街新上</td>\n      <td>望京西园三区</td>\n      <td>3室2厅</td>\n      <td>153.28</td>\n      <td>850</td>\n      <td>55455</td>\n      <td>1人关注 / 共0次带看 / 刚刚发布</td>\n      <td>3649.0</td>\n      <td>1.111027e+12</td>\n      <td>...</td>\n      <td>34.0</td>\n      <td>高楼层</td>\n      <td>22</td>\n      <td>2000</td>\n      <td>塔楼</td>\n      <td>2</td>\n      <td>3</td>\n      <td>NaN</td>\n      <td>842</td>\n      <td>五</td>\n    </tr>\n    <tr>\n      <th>16113</th>\n      <td>16105</td>\n      <td>橡树湾 车位 86万新上</td>\n      <td>橡树湾</td>\n      <td>车位</td>\n      <td>31.55</td>\n      <td>86</td>\n      <td>27259</td>\n      <td>0人关注 / 共0次带看 / 刚刚发布</td>\n      <td>3839.0</td>\n      <td>1.111027e+12</td>\n      <td>...</td>\n      <td>17.0</td>\n      <td>NaN</td>\n      <td>NaN</td>\n      <td>NaN</td>\n      <td>NaN</td>\n      <td>NaN</td>\n      <td>NaN</td>\n      <td>NaN</td>\n      <td>NaN</td>\n      <td>两</td>\n    </tr>\n    <tr>\n      <th>16114</th>\n      <td>16106</td>\n      <td>志强南园 2室2厅 600万新上</td>\n      <td>志强南园</td>\n      <td>2室2厅</td>\n      <td>63.1</td>\n      <td>600</td>\n      <td>95088</td>\n      <td>0人关注 / 共0次带看 / 刚刚发布</td>\n      <td>4785.0</td>\n      <td>1.111027e+12</td>\n      <td>...</td>\n      <td>9.0</td>\n      <td>中楼层</td>\n      <td>16</td>\n      <td>1992</td>\n      <td>塔楼</td>\n      <td>2</td>\n      <td>2</td>\n      <td>NaN</td>\n      <td>880</td>\n      <td>五</td>\n    </tr>\n    <tr>\n      <th>16115</th>\n      <td>16107</td>\n      <td>海淀知本时代 板楼2居 东西 诚心出售新上</td>\n      <td>知本时代</td>\n      <td>2室1厅</td>\n      <td>91.66</td>\n      <td>575</td>\n      <td>62732</td>\n      <td>1人关注 / 共0次带看 / 刚刚发布</td>\n      <td>4613.0</td>\n      <td>1.111027e+12</td>\n      <td>...</td>\n      <td>8.0</td>\n      <td>低楼层</td>\n      <td>6</td>\n      <td>2004</td>\n      <td>板楼</td>\n      <td>1</td>\n      <td>2</td>\n      <td>NaN</td>\n      <td>1085</td>\n      <td>两</td>\n    </tr>\n  </tbody>\n</table>\n<p>16116 rows × 23 columns</p>\n</div>"
     },
     "execution_count": 28,
     "metadata": {},
     "output_type": "execute_result"
    }
   ],
   "source": [
    "data"
   ],
   "metadata": {
    "collapsed": false,
    "pycharm": {
     "name": "#%%\n"
    }
   }
  },
  {
   "cell_type": "code",
   "execution_count": 29,
   "outputs": [],
   "source": [
    "data['地铁站'] = data.tagList.str.extract('线(\\w+)')"
   ],
   "metadata": {
    "collapsed": false,
    "pycharm": {
     "name": "#%%\n"
    }
   }
  },
  {
   "cell_type": "code",
   "execution_count": 30,
   "outputs": [],
   "source": [
    "del data['tagList']"
   ],
   "metadata": {
    "collapsed": false,
    "pycharm": {
     "name": "#%%\n"
    }
   }
  },
  {
   "cell_type": "code",
   "execution_count": 31,
   "outputs": [
    {
     "data": {
      "text/plain": "       index_x                        title community housetype  square  \\\n0            0    宝星华庭一层带花园，客厅挑高，通透四居室。房主自荐    宝星国际三期      4室1厅  298.79   \n1            1          三面采光全明南北朝向 正对小区绿地花园      顶秀青溪      3室2厅  154.62   \n2            2        沁园公寓 三居室 距离苏州街地铁站383米      沁园公寓      3室2厅  177.36   \n3            3          金星园东南向户型，四居室设计，中间楼层       金星园      4室2厅  245.52   \n4            4      龙湾别墅 一期独栋 满五年 带下沉式庭院，精装      龙湾别墅      3室3厅  351.48   \n...        ...                          ...       ...       ...     ...   \n16111    16103            马甸南村 5室1厅 2100万新上      马甸南村      5室1厅   180.2   \n16112    16104  南北通透三居 满五年 对着花园 看喷泉水系 不临街新上    望京西园三区      3室2厅  153.28   \n16113    16105                 橡树湾 车位 86万新上       橡树湾        车位   31.55   \n16114    16106             志强南园 2室2厅 600万新上      志强南园      2室2厅    63.1   \n16115    16107        海淀知本时代 板楼2居 东西 诚心出售新上      知本时代      2室1厅   91.66   \n\n       totalPrice  unitPrice                followInfo  index_y            id  \\\n0            2598      86951    53人关注 / 共44次带看 / 一年前发布   1535.0  1.111027e+12   \n1            1000      64675  323人关注 / 共579次带看 / 一年前发布      NaN           NaN   \n2            1200      67659  185人关注 / 共108次带看 / 一年前发布   2945.0  1.111027e+12   \n3            1650      67205   157人关注 / 共35次带看 / 一年前发布   2248.0  1.111027e+12   \n4            2400      68283   120人关注 / 共42次带看 / 一年前发布      NaN           NaN   \n...           ...        ...                       ...      ...           ...   \n16111        2100     116538       5人关注 / 共0次带看 / 刚刚发布   2569.0  1.111027e+12   \n16112         850      55455       1人关注 / 共0次带看 / 刚刚发布   3649.0  1.111027e+12   \n16113          86      27259       0人关注 / 共0次带看 / 刚刚发布   3839.0  1.111027e+12   \n16114         600      95088       0人关注 / 共0次带看 / 刚刚发布   4785.0  1.111027e+12   \n16115         575      62732       1人关注 / 共0次带看 / 刚刚发布   4613.0  1.111027e+12   \n\n       ...  当前层  总楼层  建成年份  建筑结构  客厅数  房间数 卫生间数  地铁距离 房本类型   地铁站  \n0      ...   底层   22  2010  板塔结合    1    4  NaN   680    五  望京东站  \n1      ...  中楼层   11  2008  板塔结合    2    3  NaN  1170    两   NaN  \n2      ...  低楼层   24  1999    塔楼    2    3  NaN   383    五  苏州街站  \n3      ...  中楼层   28  2007    塔楼    2    4  NaN  1153    五  太阳宫站  \n4      ...  地下室    3  2006   NaN    3    3  NaN   NaN    五   NaN  \n...    ...  ...  ...   ...   ...  ...  ...  ...   ...  ...   ...  \n16111  ...  中楼层   13  1994  板塔结合    1    5  NaN   NaN    五  积水潭站  \n16112  ...  高楼层   22  2000    塔楼    2    3  NaN   842    五   望京站  \n16113  ...  NaN  NaN   NaN   NaN  NaN  NaN  NaN   NaN    两   NaN  \n16114  ...  中楼层   16  1992    塔楼    2    2  NaN   880    五  积水潭站  \n16115  ...  低楼层    6  2004    板楼    1    2  NaN  1085    两   霍营站  \n\n[16116 rows x 23 columns]",
      "text/html": "<div>\n<style scoped>\n    .dataframe tbody tr th:only-of-type {\n        vertical-align: middle;\n    }\n\n    .dataframe tbody tr th {\n        vertical-align: top;\n    }\n\n    .dataframe thead th {\n        text-align: right;\n    }\n</style>\n<table border=\"1\" class=\"dataframe\">\n  <thead>\n    <tr style=\"text-align: right;\">\n      <th></th>\n      <th>index_x</th>\n      <th>title</th>\n      <th>community</th>\n      <th>housetype</th>\n      <th>square</th>\n      <th>totalPrice</th>\n      <th>unitPrice</th>\n      <th>followInfo</th>\n      <th>index_y</th>\n      <th>id</th>\n      <th>...</th>\n      <th>当前层</th>\n      <th>总楼层</th>\n      <th>建成年份</th>\n      <th>建筑结构</th>\n      <th>客厅数</th>\n      <th>房间数</th>\n      <th>卫生间数</th>\n      <th>地铁距离</th>\n      <th>房本类型</th>\n      <th>地铁站</th>\n    </tr>\n  </thead>\n  <tbody>\n    <tr>\n      <th>0</th>\n      <td>0</td>\n      <td>宝星华庭一层带花园，客厅挑高，通透四居室。房主自荐</td>\n      <td>宝星国际三期</td>\n      <td>4室1厅</td>\n      <td>298.79</td>\n      <td>2598</td>\n      <td>86951</td>\n      <td>53人关注 / 共44次带看 / 一年前发布</td>\n      <td>1535.0</td>\n      <td>1.111027e+12</td>\n      <td>...</td>\n      <td>底层</td>\n      <td>22</td>\n      <td>2010</td>\n      <td>板塔结合</td>\n      <td>1</td>\n      <td>4</td>\n      <td>NaN</td>\n      <td>680</td>\n      <td>五</td>\n      <td>望京东站</td>\n    </tr>\n    <tr>\n      <th>1</th>\n      <td>1</td>\n      <td>三面采光全明南北朝向 正对小区绿地花园</td>\n      <td>顶秀青溪</td>\n      <td>3室2厅</td>\n      <td>154.62</td>\n      <td>1000</td>\n      <td>64675</td>\n      <td>323人关注 / 共579次带看 / 一年前发布</td>\n      <td>NaN</td>\n      <td>NaN</td>\n      <td>...</td>\n      <td>中楼层</td>\n      <td>11</td>\n      <td>2008</td>\n      <td>板塔结合</td>\n      <td>2</td>\n      <td>3</td>\n      <td>NaN</td>\n      <td>1170</td>\n      <td>两</td>\n      <td>NaN</td>\n    </tr>\n    <tr>\n      <th>2</th>\n      <td>2</td>\n      <td>沁园公寓 三居室 距离苏州街地铁站383米</td>\n      <td>沁园公寓</td>\n      <td>3室2厅</td>\n      <td>177.36</td>\n      <td>1200</td>\n      <td>67659</td>\n      <td>185人关注 / 共108次带看 / 一年前发布</td>\n      <td>2945.0</td>\n      <td>1.111027e+12</td>\n      <td>...</td>\n      <td>低楼层</td>\n      <td>24</td>\n      <td>1999</td>\n      <td>塔楼</td>\n      <td>2</td>\n      <td>3</td>\n      <td>NaN</td>\n      <td>383</td>\n      <td>五</td>\n      <td>苏州街站</td>\n    </tr>\n    <tr>\n      <th>3</th>\n      <td>3</td>\n      <td>金星园东南向户型，四居室设计，中间楼层</td>\n      <td>金星园</td>\n      <td>4室2厅</td>\n      <td>245.52</td>\n      <td>1650</td>\n      <td>67205</td>\n      <td>157人关注 / 共35次带看 / 一年前发布</td>\n      <td>2248.0</td>\n      <td>1.111027e+12</td>\n      <td>...</td>\n      <td>中楼层</td>\n      <td>28</td>\n      <td>2007</td>\n      <td>塔楼</td>\n      <td>2</td>\n      <td>4</td>\n      <td>NaN</td>\n      <td>1153</td>\n      <td>五</td>\n      <td>太阳宫站</td>\n    </tr>\n    <tr>\n      <th>4</th>\n      <td>4</td>\n      <td>龙湾别墅 一期独栋 满五年 带下沉式庭院，精装</td>\n      <td>龙湾别墅</td>\n      <td>3室3厅</td>\n      <td>351.48</td>\n      <td>2400</td>\n      <td>68283</td>\n      <td>120人关注 / 共42次带看 / 一年前发布</td>\n      <td>NaN</td>\n      <td>NaN</td>\n      <td>...</td>\n      <td>地下室</td>\n      <td>3</td>\n      <td>2006</td>\n      <td>NaN</td>\n      <td>3</td>\n      <td>3</td>\n      <td>NaN</td>\n      <td>NaN</td>\n      <td>五</td>\n      <td>NaN</td>\n    </tr>\n    <tr>\n      <th>...</th>\n      <td>...</td>\n      <td>...</td>\n      <td>...</td>\n      <td>...</td>\n      <td>...</td>\n      <td>...</td>\n      <td>...</td>\n      <td>...</td>\n      <td>...</td>\n      <td>...</td>\n      <td>...</td>\n      <td>...</td>\n      <td>...</td>\n      <td>...</td>\n      <td>...</td>\n      <td>...</td>\n      <td>...</td>\n      <td>...</td>\n      <td>...</td>\n      <td>...</td>\n      <td>...</td>\n    </tr>\n    <tr>\n      <th>16111</th>\n      <td>16103</td>\n      <td>马甸南村 5室1厅 2100万新上</td>\n      <td>马甸南村</td>\n      <td>5室1厅</td>\n      <td>180.2</td>\n      <td>2100</td>\n      <td>116538</td>\n      <td>5人关注 / 共0次带看 / 刚刚发布</td>\n      <td>2569.0</td>\n      <td>1.111027e+12</td>\n      <td>...</td>\n      <td>中楼层</td>\n      <td>13</td>\n      <td>1994</td>\n      <td>板塔结合</td>\n      <td>1</td>\n      <td>5</td>\n      <td>NaN</td>\n      <td>NaN</td>\n      <td>五</td>\n      <td>积水潭站</td>\n    </tr>\n    <tr>\n      <th>16112</th>\n      <td>16104</td>\n      <td>南北通透三居 满五年 对着花园 看喷泉水系 不临街新上</td>\n      <td>望京西园三区</td>\n      <td>3室2厅</td>\n      <td>153.28</td>\n      <td>850</td>\n      <td>55455</td>\n      <td>1人关注 / 共0次带看 / 刚刚发布</td>\n      <td>3649.0</td>\n      <td>1.111027e+12</td>\n      <td>...</td>\n      <td>高楼层</td>\n      <td>22</td>\n      <td>2000</td>\n      <td>塔楼</td>\n      <td>2</td>\n      <td>3</td>\n      <td>NaN</td>\n      <td>842</td>\n      <td>五</td>\n      <td>望京站</td>\n    </tr>\n    <tr>\n      <th>16113</th>\n      <td>16105</td>\n      <td>橡树湾 车位 86万新上</td>\n      <td>橡树湾</td>\n      <td>车位</td>\n      <td>31.55</td>\n      <td>86</td>\n      <td>27259</td>\n      <td>0人关注 / 共0次带看 / 刚刚发布</td>\n      <td>3839.0</td>\n      <td>1.111027e+12</td>\n      <td>...</td>\n      <td>NaN</td>\n      <td>NaN</td>\n      <td>NaN</td>\n      <td>NaN</td>\n      <td>NaN</td>\n      <td>NaN</td>\n      <td>NaN</td>\n      <td>NaN</td>\n      <td>两</td>\n      <td>NaN</td>\n    </tr>\n    <tr>\n      <th>16114</th>\n      <td>16106</td>\n      <td>志强南园 2室2厅 600万新上</td>\n      <td>志强南园</td>\n      <td>2室2厅</td>\n      <td>63.1</td>\n      <td>600</td>\n      <td>95088</td>\n      <td>0人关注 / 共0次带看 / 刚刚发布</td>\n      <td>4785.0</td>\n      <td>1.111027e+12</td>\n      <td>...</td>\n      <td>中楼层</td>\n      <td>16</td>\n      <td>1992</td>\n      <td>塔楼</td>\n      <td>2</td>\n      <td>2</td>\n      <td>NaN</td>\n      <td>880</td>\n      <td>五</td>\n      <td>积水潭站</td>\n    </tr>\n    <tr>\n      <th>16115</th>\n      <td>16107</td>\n      <td>海淀知本时代 板楼2居 东西 诚心出售新上</td>\n      <td>知本时代</td>\n      <td>2室1厅</td>\n      <td>91.66</td>\n      <td>575</td>\n      <td>62732</td>\n      <td>1人关注 / 共0次带看 / 刚刚发布</td>\n      <td>4613.0</td>\n      <td>1.111027e+12</td>\n      <td>...</td>\n      <td>低楼层</td>\n      <td>6</td>\n      <td>2004</td>\n      <td>板楼</td>\n      <td>1</td>\n      <td>2</td>\n      <td>NaN</td>\n      <td>1085</td>\n      <td>两</td>\n      <td>霍营站</td>\n    </tr>\n  </tbody>\n</table>\n<p>16116 rows × 23 columns</p>\n</div>"
     },
     "execution_count": 31,
     "metadata": {},
     "output_type": "execute_result"
    }
   ],
   "source": [
    "data"
   ],
   "metadata": {
    "collapsed": false,
    "pycharm": {
     "name": "#%%\n"
    }
   }
  },
  {
   "cell_type": "code",
   "execution_count": 32,
   "outputs": [],
   "source": [
    "data_raw = data"
   ],
   "metadata": {
    "collapsed": false,
    "pycharm": {
     "name": "#%%\n"
    }
   }
  },
  {
   "cell_type": "code",
   "execution_count": 33,
   "outputs": [],
   "source": [
    "data = data.drop(['index_x', 'title', 'id', 'onsale', 'totalPrice'], axis=1)"
   ],
   "metadata": {
    "collapsed": false,
    "pycharm": {
     "name": "#%%\n"
    }
   }
  },
  {
   "cell_type": "code",
   "execution_count": 34,
   "outputs": [],
   "source": [
    "del data['housetype']"
   ],
   "metadata": {
    "collapsed": false,
    "pycharm": {
     "name": "#%%\n"
    }
   }
  },
  {
   "cell_type": "code",
   "execution_count": 35,
   "outputs": [],
   "source": [
    "del data['followInfo']"
   ],
   "metadata": {
    "collapsed": false,
    "pycharm": {
     "name": "#%%\n"
    }
   }
  },
  {
   "cell_type": "code",
   "execution_count": 35,
   "outputs": [],
   "source": [],
   "metadata": {
    "collapsed": false,
    "pycharm": {
     "name": "#%%\n"
    }
   }
  },
  {
   "cell_type": "code",
   "execution_count": 36,
   "outputs": [
    {
     "ename": "ValueError",
     "evalue": "could not convert string to float: '6室2厅'",
     "output_type": "error",
     "traceback": [
      "\u001B[0;31m---------------------------------------------------------------------------\u001B[0m",
      "\u001B[0;31mValueError\u001B[0m                                Traceback (most recent call last)",
      "Input \u001B[0;32mIn [36]\u001B[0m, in \u001B[0;36m<cell line: 1>\u001B[0;34m()\u001B[0m\n\u001B[0;32m----> 1\u001B[0m data[\u001B[38;5;124m'\u001B[39m\u001B[38;5;124msquare\u001B[39m\u001B[38;5;124m'\u001B[39m] \u001B[38;5;241m=\u001B[39m \u001B[43mdata\u001B[49m\u001B[43m[\u001B[49m\u001B[38;5;124;43m'\u001B[39;49m\u001B[38;5;124;43msquare\u001B[39;49m\u001B[38;5;124;43m'\u001B[39;49m\u001B[43m]\u001B[49m\u001B[38;5;241;43m.\u001B[39;49m\u001B[43mastype\u001B[49m\u001B[43m(\u001B[49m\u001B[38;5;124;43m'\u001B[39;49m\u001B[38;5;124;43mfloat64\u001B[39;49m\u001B[38;5;124;43m'\u001B[39;49m\u001B[43m)\u001B[49m\n\u001B[1;32m      2\u001B[0m data[\u001B[38;5;124m'\u001B[39m\u001B[38;5;124m总楼层\u001B[39m\u001B[38;5;124m'\u001B[39m] \u001B[38;5;241m=\u001B[39m data[\u001B[38;5;124m'\u001B[39m\u001B[38;5;124m总楼层\u001B[39m\u001B[38;5;124m'\u001B[39m]\u001B[38;5;241m.\u001B[39mastype(\u001B[38;5;124m'\u001B[39m\u001B[38;5;124mfloat64\u001B[39m\u001B[38;5;124m'\u001B[39m)\n",
      "File \u001B[0;32m~/Documents/Artificial-Intelligence-Note/venv/lib/python3.8/site-packages/pandas/core/generic.py:5912\u001B[0m, in \u001B[0;36mNDFrame.astype\u001B[0;34m(self, dtype, copy, errors)\u001B[0m\n\u001B[1;32m   5905\u001B[0m     results \u001B[38;5;241m=\u001B[39m [\n\u001B[1;32m   5906\u001B[0m         \u001B[38;5;28mself\u001B[39m\u001B[38;5;241m.\u001B[39miloc[:, i]\u001B[38;5;241m.\u001B[39mastype(dtype, copy\u001B[38;5;241m=\u001B[39mcopy)\n\u001B[1;32m   5907\u001B[0m         \u001B[38;5;28;01mfor\u001B[39;00m i \u001B[38;5;129;01min\u001B[39;00m \u001B[38;5;28mrange\u001B[39m(\u001B[38;5;28mlen\u001B[39m(\u001B[38;5;28mself\u001B[39m\u001B[38;5;241m.\u001B[39mcolumns))\n\u001B[1;32m   5908\u001B[0m     ]\n\u001B[1;32m   5910\u001B[0m \u001B[38;5;28;01melse\u001B[39;00m:\n\u001B[1;32m   5911\u001B[0m     \u001B[38;5;66;03m# else, only a single dtype is given\u001B[39;00m\n\u001B[0;32m-> 5912\u001B[0m     new_data \u001B[38;5;241m=\u001B[39m \u001B[38;5;28;43mself\u001B[39;49m\u001B[38;5;241;43m.\u001B[39;49m\u001B[43m_mgr\u001B[49m\u001B[38;5;241;43m.\u001B[39;49m\u001B[43mastype\u001B[49m\u001B[43m(\u001B[49m\u001B[43mdtype\u001B[49m\u001B[38;5;241;43m=\u001B[39;49m\u001B[43mdtype\u001B[49m\u001B[43m,\u001B[49m\u001B[43m \u001B[49m\u001B[43mcopy\u001B[49m\u001B[38;5;241;43m=\u001B[39;49m\u001B[43mcopy\u001B[49m\u001B[43m,\u001B[49m\u001B[43m \u001B[49m\u001B[43merrors\u001B[49m\u001B[38;5;241;43m=\u001B[39;49m\u001B[43merrors\u001B[49m\u001B[43m)\u001B[49m\n\u001B[1;32m   5913\u001B[0m     \u001B[38;5;28;01mreturn\u001B[39;00m \u001B[38;5;28mself\u001B[39m\u001B[38;5;241m.\u001B[39m_constructor(new_data)\u001B[38;5;241m.\u001B[39m__finalize__(\u001B[38;5;28mself\u001B[39m, method\u001B[38;5;241m=\u001B[39m\u001B[38;5;124m\"\u001B[39m\u001B[38;5;124mastype\u001B[39m\u001B[38;5;124m\"\u001B[39m)\n\u001B[1;32m   5915\u001B[0m \u001B[38;5;66;03m# GH 33113: handle empty frame or series\u001B[39;00m\n",
      "File \u001B[0;32m~/Documents/Artificial-Intelligence-Note/venv/lib/python3.8/site-packages/pandas/core/internals/managers.py:419\u001B[0m, in \u001B[0;36mBaseBlockManager.astype\u001B[0;34m(self, dtype, copy, errors)\u001B[0m\n\u001B[1;32m    418\u001B[0m \u001B[38;5;28;01mdef\u001B[39;00m \u001B[38;5;21mastype\u001B[39m(\u001B[38;5;28mself\u001B[39m: T, dtype, copy: \u001B[38;5;28mbool\u001B[39m \u001B[38;5;241m=\u001B[39m \u001B[38;5;28;01mFalse\u001B[39;00m, errors: \u001B[38;5;28mstr\u001B[39m \u001B[38;5;241m=\u001B[39m \u001B[38;5;124m\"\u001B[39m\u001B[38;5;124mraise\u001B[39m\u001B[38;5;124m\"\u001B[39m) \u001B[38;5;241m-\u001B[39m\u001B[38;5;241m>\u001B[39m T:\n\u001B[0;32m--> 419\u001B[0m     \u001B[38;5;28;01mreturn\u001B[39;00m \u001B[38;5;28;43mself\u001B[39;49m\u001B[38;5;241;43m.\u001B[39;49m\u001B[43mapply\u001B[49m\u001B[43m(\u001B[49m\u001B[38;5;124;43m\"\u001B[39;49m\u001B[38;5;124;43mastype\u001B[39;49m\u001B[38;5;124;43m\"\u001B[39;49m\u001B[43m,\u001B[49m\u001B[43m \u001B[49m\u001B[43mdtype\u001B[49m\u001B[38;5;241;43m=\u001B[39;49m\u001B[43mdtype\u001B[49m\u001B[43m,\u001B[49m\u001B[43m \u001B[49m\u001B[43mcopy\u001B[49m\u001B[38;5;241;43m=\u001B[39;49m\u001B[43mcopy\u001B[49m\u001B[43m,\u001B[49m\u001B[43m \u001B[49m\u001B[43merrors\u001B[49m\u001B[38;5;241;43m=\u001B[39;49m\u001B[43merrors\u001B[49m\u001B[43m)\u001B[49m\n",
      "File \u001B[0;32m~/Documents/Artificial-Intelligence-Note/venv/lib/python3.8/site-packages/pandas/core/internals/managers.py:304\u001B[0m, in \u001B[0;36mBaseBlockManager.apply\u001B[0;34m(self, f, align_keys, ignore_failures, **kwargs)\u001B[0m\n\u001B[1;32m    302\u001B[0m         applied \u001B[38;5;241m=\u001B[39m b\u001B[38;5;241m.\u001B[39mapply(f, \u001B[38;5;241m*\u001B[39m\u001B[38;5;241m*\u001B[39mkwargs)\n\u001B[1;32m    303\u001B[0m     \u001B[38;5;28;01melse\u001B[39;00m:\n\u001B[0;32m--> 304\u001B[0m         applied \u001B[38;5;241m=\u001B[39m \u001B[38;5;28;43mgetattr\u001B[39;49m\u001B[43m(\u001B[49m\u001B[43mb\u001B[49m\u001B[43m,\u001B[49m\u001B[43m \u001B[49m\u001B[43mf\u001B[49m\u001B[43m)\u001B[49m\u001B[43m(\u001B[49m\u001B[38;5;241;43m*\u001B[39;49m\u001B[38;5;241;43m*\u001B[39;49m\u001B[43mkwargs\u001B[49m\u001B[43m)\u001B[49m\n\u001B[1;32m    305\u001B[0m \u001B[38;5;28;01mexcept\u001B[39;00m (\u001B[38;5;167;01mTypeError\u001B[39;00m, \u001B[38;5;167;01mNotImplementedError\u001B[39;00m):\n\u001B[1;32m    306\u001B[0m     \u001B[38;5;28;01mif\u001B[39;00m \u001B[38;5;129;01mnot\u001B[39;00m ignore_failures:\n",
      "File \u001B[0;32m~/Documents/Artificial-Intelligence-Note/venv/lib/python3.8/site-packages/pandas/core/internals/blocks.py:580\u001B[0m, in \u001B[0;36mBlock.astype\u001B[0;34m(self, dtype, copy, errors)\u001B[0m\n\u001B[1;32m    562\u001B[0m \u001B[38;5;124;03m\"\"\"\u001B[39;00m\n\u001B[1;32m    563\u001B[0m \u001B[38;5;124;03mCoerce to the new dtype.\u001B[39;00m\n\u001B[1;32m    564\u001B[0m \n\u001B[0;32m   (...)\u001B[0m\n\u001B[1;32m    576\u001B[0m \u001B[38;5;124;03mBlock\u001B[39;00m\n\u001B[1;32m    577\u001B[0m \u001B[38;5;124;03m\"\"\"\u001B[39;00m\n\u001B[1;32m    578\u001B[0m values \u001B[38;5;241m=\u001B[39m \u001B[38;5;28mself\u001B[39m\u001B[38;5;241m.\u001B[39mvalues\n\u001B[0;32m--> 580\u001B[0m new_values \u001B[38;5;241m=\u001B[39m \u001B[43mastype_array_safe\u001B[49m\u001B[43m(\u001B[49m\u001B[43mvalues\u001B[49m\u001B[43m,\u001B[49m\u001B[43m \u001B[49m\u001B[43mdtype\u001B[49m\u001B[43m,\u001B[49m\u001B[43m \u001B[49m\u001B[43mcopy\u001B[49m\u001B[38;5;241;43m=\u001B[39;49m\u001B[43mcopy\u001B[49m\u001B[43m,\u001B[49m\u001B[43m \u001B[49m\u001B[43merrors\u001B[49m\u001B[38;5;241;43m=\u001B[39;49m\u001B[43merrors\u001B[49m\u001B[43m)\u001B[49m\n\u001B[1;32m    582\u001B[0m new_values \u001B[38;5;241m=\u001B[39m maybe_coerce_values(new_values)\n\u001B[1;32m    583\u001B[0m newb \u001B[38;5;241m=\u001B[39m \u001B[38;5;28mself\u001B[39m\u001B[38;5;241m.\u001B[39mmake_block(new_values)\n",
      "File \u001B[0;32m~/Documents/Artificial-Intelligence-Note/venv/lib/python3.8/site-packages/pandas/core/dtypes/cast.py:1292\u001B[0m, in \u001B[0;36mastype_array_safe\u001B[0;34m(values, dtype, copy, errors)\u001B[0m\n\u001B[1;32m   1289\u001B[0m     dtype \u001B[38;5;241m=\u001B[39m dtype\u001B[38;5;241m.\u001B[39mnumpy_dtype\n\u001B[1;32m   1291\u001B[0m \u001B[38;5;28;01mtry\u001B[39;00m:\n\u001B[0;32m-> 1292\u001B[0m     new_values \u001B[38;5;241m=\u001B[39m \u001B[43mastype_array\u001B[49m\u001B[43m(\u001B[49m\u001B[43mvalues\u001B[49m\u001B[43m,\u001B[49m\u001B[43m \u001B[49m\u001B[43mdtype\u001B[49m\u001B[43m,\u001B[49m\u001B[43m \u001B[49m\u001B[43mcopy\u001B[49m\u001B[38;5;241;43m=\u001B[39;49m\u001B[43mcopy\u001B[49m\u001B[43m)\u001B[49m\n\u001B[1;32m   1293\u001B[0m \u001B[38;5;28;01mexcept\u001B[39;00m (\u001B[38;5;167;01mValueError\u001B[39;00m, \u001B[38;5;167;01mTypeError\u001B[39;00m):\n\u001B[1;32m   1294\u001B[0m     \u001B[38;5;66;03m# e.g. astype_nansafe can fail on object-dtype of strings\u001B[39;00m\n\u001B[1;32m   1295\u001B[0m     \u001B[38;5;66;03m#  trying to convert to float\u001B[39;00m\n\u001B[1;32m   1296\u001B[0m     \u001B[38;5;28;01mif\u001B[39;00m errors \u001B[38;5;241m==\u001B[39m \u001B[38;5;124m\"\u001B[39m\u001B[38;5;124mignore\u001B[39m\u001B[38;5;124m\"\u001B[39m:\n",
      "File \u001B[0;32m~/Documents/Artificial-Intelligence-Note/venv/lib/python3.8/site-packages/pandas/core/dtypes/cast.py:1237\u001B[0m, in \u001B[0;36mastype_array\u001B[0;34m(values, dtype, copy)\u001B[0m\n\u001B[1;32m   1234\u001B[0m     values \u001B[38;5;241m=\u001B[39m values\u001B[38;5;241m.\u001B[39mastype(dtype, copy\u001B[38;5;241m=\u001B[39mcopy)\n\u001B[1;32m   1236\u001B[0m \u001B[38;5;28;01melse\u001B[39;00m:\n\u001B[0;32m-> 1237\u001B[0m     values \u001B[38;5;241m=\u001B[39m \u001B[43mastype_nansafe\u001B[49m\u001B[43m(\u001B[49m\u001B[43mvalues\u001B[49m\u001B[43m,\u001B[49m\u001B[43m \u001B[49m\u001B[43mdtype\u001B[49m\u001B[43m,\u001B[49m\u001B[43m \u001B[49m\u001B[43mcopy\u001B[49m\u001B[38;5;241;43m=\u001B[39;49m\u001B[43mcopy\u001B[49m\u001B[43m)\u001B[49m\n\u001B[1;32m   1239\u001B[0m \u001B[38;5;66;03m# in pandas we don't store numpy str dtypes, so convert to object\u001B[39;00m\n\u001B[1;32m   1240\u001B[0m \u001B[38;5;28;01mif\u001B[39;00m \u001B[38;5;28misinstance\u001B[39m(dtype, np\u001B[38;5;241m.\u001B[39mdtype) \u001B[38;5;129;01mand\u001B[39;00m \u001B[38;5;28missubclass\u001B[39m(values\u001B[38;5;241m.\u001B[39mdtype\u001B[38;5;241m.\u001B[39mtype, \u001B[38;5;28mstr\u001B[39m):\n",
      "File \u001B[0;32m~/Documents/Artificial-Intelligence-Note/venv/lib/python3.8/site-packages/pandas/core/dtypes/cast.py:1181\u001B[0m, in \u001B[0;36mastype_nansafe\u001B[0;34m(arr, dtype, copy, skipna)\u001B[0m\n\u001B[1;32m   1177\u001B[0m     \u001B[38;5;28;01mraise\u001B[39;00m \u001B[38;5;167;01mValueError\u001B[39;00m(msg)\n\u001B[1;32m   1179\u001B[0m \u001B[38;5;28;01mif\u001B[39;00m copy \u001B[38;5;129;01mor\u001B[39;00m is_object_dtype(arr\u001B[38;5;241m.\u001B[39mdtype) \u001B[38;5;129;01mor\u001B[39;00m is_object_dtype(dtype):\n\u001B[1;32m   1180\u001B[0m     \u001B[38;5;66;03m# Explicit copy, or required since NumPy can't view from / to object.\u001B[39;00m\n\u001B[0;32m-> 1181\u001B[0m     \u001B[38;5;28;01mreturn\u001B[39;00m \u001B[43marr\u001B[49m\u001B[38;5;241;43m.\u001B[39;49m\u001B[43mastype\u001B[49m\u001B[43m(\u001B[49m\u001B[43mdtype\u001B[49m\u001B[43m,\u001B[49m\u001B[43m \u001B[49m\u001B[43mcopy\u001B[49m\u001B[38;5;241;43m=\u001B[39;49m\u001B[38;5;28;43;01mTrue\u001B[39;49;00m\u001B[43m)\u001B[49m\n\u001B[1;32m   1183\u001B[0m \u001B[38;5;28;01mreturn\u001B[39;00m arr\u001B[38;5;241m.\u001B[39mastype(dtype, copy\u001B[38;5;241m=\u001B[39mcopy)\n",
      "\u001B[0;31mValueError\u001B[0m: could not convert string to float: '6室2厅'"
     ]
    }
   ],
   "source": [
    "data['square'] = data['square'].astype('float64')\n",
    "data['总楼层'] = data['总楼层'].astype('float64')"
   ],
   "metadata": {
    "collapsed": false,
    "pycharm": {
     "name": "#%%\n"
    }
   }
  },
  {
   "cell_type": "code",
   "execution_count": null,
   "outputs": [],
   "source": [],
   "metadata": {
    "collapsed": false,
    "pycharm": {
     "name": "#%%\n"
    }
   }
  },
  {
   "cell_type": "code",
   "execution_count": null,
   "outputs": [],
   "source": [],
   "metadata": {
    "collapsed": false,
    "pycharm": {
     "name": "#%%\n"
    }
   }
  },
  {
   "cell_type": "code",
   "execution_count": null,
   "outputs": [],
   "source": [
    "del data['index_y']"
   ],
   "metadata": {
    "collapsed": false,
    "pycharm": {
     "name": "#%%\n"
    }
   }
  },
  {
   "cell_type": "code",
   "execution_count": null,
   "outputs": [],
   "source": [
    "data.info()"
   ],
   "metadata": {
    "collapsed": false,
    "pycharm": {
     "name": "#%%\n"
    }
   }
  },
  {
   "cell_type": "code",
   "execution_count": null,
   "outputs": [],
   "source": [
    "data"
   ],
   "metadata": {
    "collapsed": false,
    "pycharm": {
     "name": "#%%\n"
    }
   }
  },
  {
   "cell_type": "code",
   "execution_count": null,
   "outputs": [],
   "source": [
    "### 处理异常值"
   ],
   "metadata": {
    "collapsed": false,
    "pycharm": {
     "name": "#%%\n"
    }
   }
  },
  {
   "cell_type": "code",
   "execution_count": null,
   "outputs": [],
   "source": [
    "#使用数值掩码"
   ],
   "metadata": {
    "collapsed": false,
    "pycharm": {
     "name": "#%%\n"
    }
   }
  }
 ],
 "metadata": {
  "kernelspec": {
   "display_name": "Python 3",
   "language": "python",
   "name": "python3"
  },
  "language_info": {
   "codemirror_mode": {
    "name": "ipython",
    "version": 2
   },
   "file_extension": ".py",
   "mimetype": "text/x-python",
   "name": "python",
   "nbconvert_exporter": "python",
   "pygments_lexer": "ipython2",
   "version": "2.7.6"
  }
 },
 "nbformat": 4,
 "nbformat_minor": 0
}