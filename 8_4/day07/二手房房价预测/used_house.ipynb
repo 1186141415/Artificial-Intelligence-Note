{
 "cells": [
  {
   "cell_type": "markdown",
   "metadata": {},
   "source": [
    "# 北京房源二手房房价预测"
   ]
  },
  {
   "cell_type": "markdown",
   "metadata": {},
   "source": [
    "## 项目背景\n",
    "提高成单量  \n",
    "促成售卖，促成租赁"
   ]
  },
  {
   "cell_type": "code",
   "execution_count": 37,
   "metadata": {},
   "outputs": [],
   "source": [
    "import pandas as pd\n",
    "import numpy as np\n",
    "import warnings\n",
    "warnings.filterwarnings('ignore')"
   ]
  },
  {
   "cell_type": "code",
   "execution_count": 38,
   "metadata": {},
   "outputs": [],
   "source": [
    "house = pd.read_csv('../../data_test/二手房数据/house.csv')\n",
    "community = pd.read_csv('../../data_test/二手房数据/community_describe.csv')"
   ]
  },
  {
   "cell_type": "markdown",
   "metadata": {},
   "source": [
    "## 数据融合"
   ]
  },
  {
   "cell_type": "code",
   "execution_count": 39,
   "metadata": {},
   "outputs": [],
   "source": [
    "data = house.merge(community,on='community',how='left')"
   ]
  },
  {
   "cell_type": "markdown",
   "metadata": {},
   "source": [
    "## 数据提取"
   ]
  },
  {
   "cell_type": "code",
   "execution_count": 40,
   "metadata": {},
   "outputs": [],
   "source": [
    "#当前层\n",
    "data['当前层'] = data.years.str.extract('(\\w*?)\\(')\n",
    "#总楼层\n",
    "data['总楼层'] = data.years.str.extract('共(\\d+)层')\n",
    "#建成年份\n",
    "data['建成年份'] = data.years.str.extract('\\)(\\d+)年')\n",
    "#建筑结构\n",
    "data['建筑结构'] = data.years.str.extract('建(\\w+)')\n",
    "\n",
    "del data['years']\n",
    "del data['floor']"
   ]
  },
  {
   "cell_type": "markdown",
   "metadata": {},
   "source": [
    "### 在housetype中删除车位和别墅的数据。提取客厅数，房间数，卫生间数"
   ]
  },
  {
   "cell_type": "code",
   "execution_count": 41,
   "metadata": {},
   "outputs": [],
   "source": [
    "data = data[~data.housetype.str.contains('别|车')]\n",
    "\n",
    "#卧室\n",
    "data['卧室'] = data.housetype.str.extract('(\\d+)室|房')\n",
    "#客厅\n",
    "data['客厅'] = data.housetype.str.extract('(\\d+)厅')\n",
    "#卫生间\n",
    "data['卫生间'] = data.housetype.str.extract('(\\d+)卫')\n",
    "\n",
    "del data['housetype']"
   ]
  },
  {
   "cell_type": "markdown",
   "metadata": {},
   "source": [
    "### 去掉square中的平米"
   ]
  },
  {
   "cell_type": "code",
   "execution_count": 42,
   "metadata": {},
   "outputs": [],
   "source": [
    "data['square'] = data.square.str.replace('平米','')"
   ]
  },
  {
   "cell_type": "markdown",
   "metadata": {},
   "source": [
    "### 在taxtype中提取地铁距离，房本类型"
   ]
  },
  {
   "cell_type": "code",
   "execution_count": 43,
   "metadata": {},
   "outputs": [],
   "source": [
    "data['地铁距离'] = data.taxtype.str.extract('站(\\d+)')\n",
    "data['房本类型'] = data.taxtype.str.extract('满(\\w+)年')\n",
    "\n",
    "del data['taxtype']"
   ]
  },
  {
   "cell_type": "markdown",
   "metadata": {},
   "source": [
    "### 在tagList中提取地铁站"
   ]
  },
  {
   "cell_type": "code",
   "execution_count": 44,
   "metadata": {},
   "outputs": [],
   "source": [
    "data['地铁站'] = data.tagList.str.extract('线(\\w+)')\n",
    "\n",
    "del data['tagList']"
   ]
  },
  {
   "cell_type": "markdown",
   "metadata": {},
   "source": [
    "### 删除没用的列"
   ]
  },
  {
   "cell_type": "code",
   "execution_count": 45,
   "metadata": {},
   "outputs": [],
   "source": [
    "data = data.drop(['index_x','title','totalPrice','followInfo','index_y','id','onsale'],axis=1)"
   ]
  },
  {
   "cell_type": "markdown",
   "metadata": {},
   "source": [
    "### 将数值类型字符串转为数值类型"
   ]
  },
  {
   "cell_type": "code",
   "execution_count": 46,
   "metadata": {},
   "outputs": [],
   "source": [
    "data['square'] = data['square'].astype('float64')\n",
    "data['总楼层'] = data['总楼层'].astype('float64')\n",
    "data['建成年份'] = data['建成年份'].astype('float64')\n",
    "data['卧室'] = data['卧室'].astype('float64')\n",
    "data['客厅'] = data['客厅'].astype('float64')\n",
    "data['卫生间'] = data['卫生间'].astype('float64')\n",
    "data['地铁距离'] = data['地铁距离'].astype('float64')"
   ]
  },
  {
   "cell_type": "markdown",
   "metadata": {},
   "source": [
    "### 处理异常值"
   ]
  },
  {
   "cell_type": "code",
   "execution_count": 47,
   "metadata": {},
   "outputs": [],
   "source": [
    "data = data[data.unitPrice >= 30000]\n",
    "\n",
    "data = data[data['总楼层'] < 40]\n",
    "\n",
    "data = data[data['卧室'] < 5]\n",
    "\n",
    "data = data[data['客厅'] <= 2]\n",
    "\n",
    "del data['卫生间']"
   ]
  },
  {
   "cell_type": "code",
   "execution_count": 48,
   "metadata": {},
   "outputs": [],
   "source": [
    "data = data[data['当前层'] != '地下室']\n",
    "\n",
    "data = data[data['建筑结构'] != '平房']"
   ]
  },
  {
   "cell_type": "markdown",
   "metadata": {},
   "source": [
    "### 缺失值处理"
   ]
  },
  {
   "cell_type": "code",
   "execution_count": 49,
   "metadata": {},
   "outputs": [
    {
     "name": "stdout",
     "output_type": "stream",
     "text": [
      "<class 'pandas.core.frame.DataFrame'>\n",
      "Int64Index: 15255 entries, 0 to 16115\n",
      "Data columns (total 14 columns):\n",
      " #   Column     Non-Null Count  Dtype  \n",
      "---  ------     --------------  -----  \n",
      " 0   community  15255 non-null  object \n",
      " 1   square     15255 non-null  float64\n",
      " 2   unitPrice  15255 non-null  int64  \n",
      " 3   district   14188 non-null  object \n",
      " 4   bizcircle  14188 non-null  object \n",
      " 5   当前层        15255 non-null  object \n",
      " 6   总楼层        15255 non-null  float64\n",
      " 7   建成年份       15221 non-null  float64\n",
      " 8   建筑结构       15145 non-null  object \n",
      " 9   卧室         15255 non-null  float64\n",
      " 10  客厅         15255 non-null  float64\n",
      " 11  地铁距离       10117 non-null  float64\n",
      " 12  房本类型       12821 non-null  object \n",
      " 13  地铁站        10655 non-null  object \n",
      "dtypes: float64(6), int64(1), object(7)\n",
      "memory usage: 1.7+ MB\n"
     ]
    }
   ],
   "source": [
    "data.info()"
   ]
  },
  {
   "cell_type": "code",
   "execution_count": 50,
   "metadata": {},
   "outputs": [],
   "source": [
    "# district缺失值删掉\n",
    "data = data[~data.district.isna()]\n",
    "\n",
    "#地铁距离的缺失值，使用最大值填充\n",
    "data.地铁距离[data.地铁距离.isna()] = data.地铁距离.max()\n",
    "\n",
    "#房本类型缺失值，认为不满2年，使用1填充\n",
    "data.房本类型[data.房本类型.isna()] = 1\n",
    "\n",
    "#地铁站的缺失值，填充无\n",
    "data.地铁站[data.地铁站.isna()] = '无'\n"
   ]
  },
  {
   "cell_type": "code",
   "execution_count": 51,
   "metadata": {},
   "outputs": [],
   "source": [
    "#建成年份的缺失值，使用同小区的众数，进行填充。填充失败的直接删除\n",
    "def getyears(items):\n",
    "    val = data.建成年份[data.community == items].mode()\n",
    "    if val.size > 0:\n",
    "        return val[0]\n",
    "    else:\n",
    "        return np.nan\n",
    "\n",
    "\n",
    "data.建成年份[data.建成年份.isna()] = data.community[data.建成年份.isna()].apply(getyears)\n",
    "# 填充失败的，直接删掉\n",
    "data.dropna(subset=['建成年份'],inplace=True)"
   ]
  },
  {
   "cell_type": "code",
   "execution_count": 52,
   "metadata": {},
   "outputs": [],
   "source": [
    "#建筑结构的缺失值，使用同小区的众数，进行填充。填充失败的直接删除\n",
    "def getyears(items):\n",
    "    val = data.建筑结构[data.community == items].mode()\n",
    "    if val.size > 0:\n",
    "        return val[0]\n",
    "    else:\n",
    "        return np.nan\n",
    "\n",
    "\n",
    "data.建筑结构[data.建筑结构.isna()] = data.community[data.建筑结构.isna()].apply(getyears)\n",
    "# 填充失败的，直接删掉\n",
    "data.dropna(subset=['建筑结构'],inplace=True)"
   ]
  },
  {
   "cell_type": "markdown",
   "metadata": {},
   "source": [
    "### 编码"
   ]
  },
  {
   "cell_type": "code",
   "execution_count": 53,
   "metadata": {},
   "outputs": [],
   "source": [
    "#district\n",
    "dis_onehot = pd.get_dummies(data.district)\n",
    "\n",
    "data = pd.concat((data,dis_onehot),axis=1)\n",
    "\n",
    "del data['district']"
   ]
  },
  {
   "cell_type": "code",
   "execution_count": 57,
   "metadata": {},
   "outputs": [],
   "source": [
    "# 当前层\n",
    "# data.当前层.unique()\n",
    "dic_floor = {'底层':1, '低楼层':2, '中楼层':3, '顶层':4, '高楼层':5}\n",
    "\n",
    "data['当前层'] = data.当前层.map(dic_floor)"
   ]
  },
  {
   "cell_type": "code",
   "execution_count": 60,
   "metadata": {},
   "outputs": [],
   "source": [
    "# 建筑结构\n",
    "# data.建筑结构.unique()\n",
    "dic_build = {'板塔结合':1, '塔楼':2, '板楼':3}\n",
    "data['建筑结构'] = data.建筑结构.map(dic_build)"
   ]
  },
  {
   "cell_type": "code",
   "execution_count": 63,
   "metadata": {},
   "outputs": [],
   "source": [
    "# 房本类型\n",
    "# data.房本类型.unique()\n",
    "dic_housebook = {'五':5, '两':2, 1:1}\n",
    "data['房本类型'] = data.房本类型.map(dic_housebook)"
   ]
  },
  {
   "cell_type": "code",
   "execution_count": 70,
   "metadata": {},
   "outputs": [],
   "source": [
    "# bizcircle\n",
    "dic_biz = dict(data.bizcircle.value_counts())\n",
    "data['bizcircle'] = data.bizcircle.map(dic_biz)"
   ]
  },
  {
   "cell_type": "code",
   "execution_count": 79,
   "metadata": {},
   "outputs": [],
   "source": [
    "# 地铁站\n",
    "dic_sub = dict(data.groupby('地铁站')['unitPrice'].mean())\n",
    "\n",
    "data['地铁站'] = data.地铁站.map(dic_sub)"
   ]
  },
  {
   "cell_type": "code",
   "execution_count": 82,
   "metadata": {},
   "outputs": [],
   "source": [
    "# community\n",
    "dic_com = dict(data.groupby('community')['unitPrice'].mean())\n",
    "data['community'] = data.community.map(dic_com)"
   ]
  },
  {
   "cell_type": "code",
   "execution_count": 88,
   "metadata": {},
   "outputs": [],
   "source": [
    "# 将unitPrice放到最后一列\n",
    "data['y'] = data['unitPrice']\n",
    "\n",
    "del data['unitPrice']"
   ]
  },
  {
   "cell_type": "markdown",
   "metadata": {},
   "source": [
    "### 建模"
   ]
  },
  {
   "cell_type": "code",
   "execution_count": 91,
   "metadata": {},
   "outputs": [],
   "source": [
    "import sklearn.model_selection as ms #模型选择"
   ]
  },
  {
   "cell_type": "code",
   "execution_count": 90,
   "metadata": {},
   "outputs": [],
   "source": [
    "x = data.iloc[:,:-1]\n",
    "y = data.iloc[:,-1]"
   ]
  },
  {
   "cell_type": "code",
   "execution_count": 92,
   "metadata": {},
   "outputs": [],
   "source": [
    "train_x,\\\n",
    "test_x,\\\n",
    "train_y,\\\n",
    "test_y = ms.train_test_split(x,y,\n",
    "                             test_size=0.1,\n",
    "                             random_state=7)"
   ]
  },
  {
   "cell_type": "code",
   "execution_count": null,
   "metadata": {},
   "outputs": [],
   "source": [
    "#回归\n",
    "\n",
    "def select_model(name,model):\n",
    "    pass\n",
    "\n",
    "dic_model = {'模型名':模型对象}\n",
    "\n",
    "for name,obj in dic_model.items():\n",
    "    select_model(name,obj)"
   ]
  }
 ],
 "metadata": {
  "kernelspec": {
   "display_name": "Python 3",
   "language": "python",
   "name": "python3"
  },
  "language_info": {
   "codemirror_mode": {
    "name": "ipython",
    "version": 3
   },
   "file_extension": ".py",
   "mimetype": "text/x-python",
   "name": "python",
   "nbconvert_exporter": "python",
   "pygments_lexer": "ipython3",
   "version": "3.6.9"
  }
 },
 "nbformat": 4,
 "nbformat_minor": 4
}
