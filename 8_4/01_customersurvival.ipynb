{
 "cells": [
  {
   "cell_type": "markdown",
   "metadata": {
    "pycharm": {
     "name": "#%% md\n"
    }
   },
   "source": [
    "# 联通用户流失名单预测"
   ]
  },
  {
   "cell_type": "markdown",
   "metadata": {
    "pycharm": {
     "name": "#%% md\n"
    }
   },
   "source": [
    "## 项目背景\n",
    "国内通信市场逐渐的成熟，三大运营商营销模式业务日益趋同，竞争压力比较大，高新增用户已经成为过去式，用户的流失率提高已经成为普遍现象。在通信市场上，联通公司面临着移动和电信的强大挑战。如何提高用户的满意度，降低流失率成为主要问题，有效的发展客户，进而提高收入，成为了联通公司运营管理者的主要问题。"
   ]
  },
  {
   "cell_type": "markdown",
   "metadata": {
    "pycharm": {
     "name": "#%% md\n"
    }
   },
   "source": [
    "<img src='./运营商数据.png'>"
   ]
  },
  {
   "cell_type": "markdown",
   "metadata": {
    "pycharm": {
     "name": "#%% md\n"
    }
   },
   "source": [
    "## 需求拆解\n",
    "用户流失的原因：信号不稳定，网速慢，价格不划算  \n",
    "交付：每周提交一次用户流失概率比较大的人员名单"
   ]
  },
  {
   "cell_type": "markdown",
   "metadata": {
    "pycharm": {
     "name": "#%% md\n"
    }
   },
   "source": [
    "## 收集数据\n",
    "价格不划算： 套餐价格（对比竞品）  \n",
    "超出套餐部分的通话费用比较贵：对即将超出套餐的进行提醒，并合理推荐套餐  \n",
    "超出套餐部分的流量费用比较贵：对即将超出套餐的进行提醒，并合理推荐套餐  "
   ]
  },
  {
   "cell_type": "code",
   "execution_count": 1,
   "metadata": {
    "pycharm": {
     "name": "#%%\n"
    }
   },
   "outputs": [],
   "source": [
    "import pandas as pd\n",
    "import numpy as np"
   ]
  },
  {
   "cell_type": "code",
   "execution_count": 2,
   "metadata": {
    "pycharm": {
     "name": "#%%\n"
    }
   },
   "outputs": [
    {
     "data": {
      "text/plain": "   ID  套餐金额       额外通话时长        额外流量  改变行为  服务合约  关联购买  集团用户  使用月数  流失用户\n0   1     1   792.833333  -10.450067     0     0     0     0    25     0\n1   2     1   121.666667  -21.141117     0     0     0     0    25     0\n2   3     1   -30.000000  -25.655273     0     0     0     0     2     1\n3   4     1   241.500000 -288.341254     0     1     0     1    25     0\n4   5     1  1629.666667  -23.655505     0     0     0     1    25     0",
      "text/html": "<div>\n<style scoped>\n    .dataframe tbody tr th:only-of-type {\n        vertical-align: middle;\n    }\n\n    .dataframe tbody tr th {\n        vertical-align: top;\n    }\n\n    .dataframe thead th {\n        text-align: right;\n    }\n</style>\n<table border=\"1\" class=\"dataframe\">\n  <thead>\n    <tr style=\"text-align: right;\">\n      <th></th>\n      <th>ID</th>\n      <th>套餐金额</th>\n      <th>额外通话时长</th>\n      <th>额外流量</th>\n      <th>改变行为</th>\n      <th>服务合约</th>\n      <th>关联购买</th>\n      <th>集团用户</th>\n      <th>使用月数</th>\n      <th>流失用户</th>\n    </tr>\n  </thead>\n  <tbody>\n    <tr>\n      <th>0</th>\n      <td>1</td>\n      <td>1</td>\n      <td>792.833333</td>\n      <td>-10.450067</td>\n      <td>0</td>\n      <td>0</td>\n      <td>0</td>\n      <td>0</td>\n      <td>25</td>\n      <td>0</td>\n    </tr>\n    <tr>\n      <th>1</th>\n      <td>2</td>\n      <td>1</td>\n      <td>121.666667</td>\n      <td>-21.141117</td>\n      <td>0</td>\n      <td>0</td>\n      <td>0</td>\n      <td>0</td>\n      <td>25</td>\n      <td>0</td>\n    </tr>\n    <tr>\n      <th>2</th>\n      <td>3</td>\n      <td>1</td>\n      <td>-30.000000</td>\n      <td>-25.655273</td>\n      <td>0</td>\n      <td>0</td>\n      <td>0</td>\n      <td>0</td>\n      <td>2</td>\n      <td>1</td>\n    </tr>\n    <tr>\n      <th>3</th>\n      <td>4</td>\n      <td>1</td>\n      <td>241.500000</td>\n      <td>-288.341254</td>\n      <td>0</td>\n      <td>1</td>\n      <td>0</td>\n      <td>1</td>\n      <td>25</td>\n      <td>0</td>\n    </tr>\n    <tr>\n      <th>4</th>\n      <td>5</td>\n      <td>1</td>\n      <td>1629.666667</td>\n      <td>-23.655505</td>\n      <td>0</td>\n      <td>0</td>\n      <td>0</td>\n      <td>1</td>\n      <td>25</td>\n      <td>0</td>\n    </tr>\n  </tbody>\n</table>\n</div>"
     },
     "execution_count": 2,
     "metadata": {},
     "output_type": "execute_result"
    }
   ],
   "source": [
    "data = pd.read_excel('./联通用户流失数据/CustomerSurvival.xlsx')\n",
    "\n",
    "data.head()\n"
   ]
  },
  {
   "cell_type": "markdown",
   "metadata": {
    "pycharm": {
     "name": "#%% md\n"
    }
   },
   "source": [
    "## 数据处理"
   ]
  },
  {
   "cell_type": "markdown",
   "metadata": {
    "pycharm": {
     "name": "#%% md\n"
    }
   },
   "source": [
    "### 缺失值"
   ]
  },
  {
   "cell_type": "code",
   "execution_count": 3,
   "metadata": {
    "pycharm": {
     "name": "#%%\n"
    }
   },
   "outputs": [
    {
     "name": "stdout",
     "output_type": "stream",
     "text": [
      "<class 'pandas.core.frame.DataFrame'>\n",
      "RangeIndex: 4975 entries, 0 to 4974\n",
      "Data columns (total 10 columns):\n",
      " #   Column  Non-Null Count  Dtype  \n",
      "---  ------  --------------  -----  \n",
      " 0   ID      4975 non-null   int64  \n",
      " 1   套餐金额    4975 non-null   int64  \n",
      " 2   额外通话时长  4975 non-null   float64\n",
      " 3   额外流量    4975 non-null   float64\n",
      " 4   改变行为    4975 non-null   int64  \n",
      " 5   服务合约    4975 non-null   int64  \n",
      " 6   关联购买    4975 non-null   int64  \n",
      " 7   集团用户    4975 non-null   int64  \n",
      " 8   使用月数    4975 non-null   int64  \n",
      " 9   流失用户    4975 non-null   int64  \n",
      "dtypes: float64(2), int64(8)\n",
      "memory usage: 388.8 KB\n"
     ]
    }
   ],
   "source": [
    "data.info()"
   ]
  },
  {
   "cell_type": "markdown",
   "metadata": {
    "pycharm": {
     "name": "#%% md\n"
    }
   },
   "source": [
    "### 异常值"
   ]
  },
  {
   "cell_type": "code",
   "execution_count": 4,
   "metadata": {
    "pycharm": {
     "name": "#%%\n"
    }
   },
   "outputs": [
    {
     "data": {
      "text/plain": "0.00   -2828.333333\n0.25    -126.666667\n0.50      13.500000\n0.75     338.658333\n1.00    4314.000000\nName: 额外通话时长, dtype: float64"
     },
     "execution_count": 4,
     "metadata": {},
     "output_type": "execute_result"
    }
   ],
   "source": [
    "data['额外通话时长'].quantile([0, 0.25, 0.5, 0.75, 1])"
   ]
  },
  {
   "cell_type": "code",
   "execution_count": 5,
   "metadata": {
    "pycharm": {
     "name": "#%%\n"
    }
   },
   "outputs": [
    {
     "data": {
      "text/plain": "1241"
     },
     "execution_count": 5,
     "metadata": {},
     "output_type": "execute_result"
    }
   ],
   "source": [
    "(data['额外通话时长'] > 339).sum()"
   ]
  },
  {
   "cell_type": "code",
   "execution_count": 6,
   "metadata": {
    "pycharm": {
     "name": "#%%\n"
    }
   },
   "outputs": [],
   "source": [
    "# 在业务指标值中，认定超过3000，或者剩余3000为异常值\n",
    "data = data[data['额外通话时长'] < 3000]\n",
    "data = data[data['额外通话时长'] > -3000]"
   ]
  },
  {
   "cell_type": "code",
   "execution_count": 7,
   "metadata": {
    "pycharm": {
     "name": "#%%\n"
    }
   },
   "outputs": [],
   "source": [
    "# 额外流量\n",
    "# Q1 = data['额外流量'].quantile(0.25)\n",
    "# Q3 = data['额外流量'].quantile(0.75)\n",
    "# IQR = Q3 - Q1\n",
    "# max_val = Q3 + 1.5*IQR\n",
    "# min_val = Q1 - 1.5*IQR\n",
    "# max_val,min_val"
   ]
  },
  {
   "cell_type": "code",
   "execution_count": 8,
   "metadata": {
    "pycharm": {
     "name": "#%%\n"
    }
   },
   "outputs": [],
   "source": [
    "# data['额外流量'].max()\n",
    "# data['额外流量'].min()"
   ]
  },
  {
   "cell_type": "markdown",
   "metadata": {
    "pycharm": {
     "name": "#%% md\n"
    }
   },
   "source": [
    "## 特征工程"
   ]
  },
  {
   "cell_type": "code",
   "execution_count": 9,
   "metadata": {
    "pycharm": {
     "name": "#%%\n"
    }
   },
   "outputs": [],
   "source": [
    "# 删除ID列\n",
    "del data['ID']"
   ]
  },
  {
   "cell_type": "code",
   "execution_count": 10,
   "metadata": {
    "pycharm": {
     "name": "#%%\n"
    }
   },
   "outputs": [],
   "source": [
    "# 连续数据，离散化\n",
    "extra_time_cut = [[-3000, -1000, 0, 1000, 3000], [2, 4, 3, 1]]\n",
    "\n",
    "data['额外通话时长'] = pd.cut(data['额外通话时长'],\n",
    "                              bins=[-3000, -1000, 0, 1000, 3000],\n",
    "                              labels=[2, 4, 3, 1])\n",
    "\n",
    "data['额外流量'] = np.where(data['额外流量'] > 0, 2, 1)\n"
   ]
  },
  {
   "cell_type": "markdown",
   "metadata": {
    "pycharm": {
     "name": "#%% md\n"
    }
   },
   "source": [
    "## 模型选择"
   ]
  },
  {
   "cell_type": "code",
   "execution_count": 11,
   "metadata": {
    "pycharm": {
     "name": "#%%\n"
    }
   },
   "outputs": [],
   "source": [
    "# 单科决策树，Adaboost，GBDT，随机森林  （谁好选谁）\n",
    "import sklearn.model_selection as ms  #模型选择\n",
    "import sklearn.tree as st  #决策树\n",
    "import sklearn.ensemble as se  #集成学习\n",
    "import sklearn.metrics as sm  #评估模块"
   ]
  },
  {
   "cell_type": "code",
   "execution_count": 12,
   "metadata": {
    "pycharm": {
     "name": "#%%\n"
    }
   },
   "outputs": [],
   "source": [
    "# 整理输入和输出\n",
    "x = data.iloc[:, :-1]\n",
    "y = data.iloc[:, -1]"
   ]
  },
  {
   "cell_type": "code",
   "execution_count": 13,
   "metadata": {
    "pycharm": {
     "name": "#%%\n"
    }
   },
   "outputs": [],
   "source": [
    "train_x, test_x, train_y, test_y = ms.train_test_split(x, y,\n",
    "                                                       test_size=0.1,\n",
    "                                                       random_state=7,\n",
    "                                                       stratify=y)"
   ]
  },
  {
   "cell_type": "code",
   "execution_count": 14,
   "metadata": {
    "pycharm": {
     "name": "#%%\n"
    }
   },
   "outputs": [
    {
     "name": "stdout",
     "output_type": "stream",
     "text": [
      "-------- 单颗决策树 ----------\n",
      "              precision    recall  f1-score   support\n",
      "\n",
      "           0       0.95      0.92      0.93       107\n",
      "           1       0.98      0.99      0.98       383\n",
      "\n",
      "    accuracy                           0.97       490\n",
      "   macro avg       0.96      0.95      0.96       490\n",
      "weighted avg       0.97      0.97      0.97       490\n",
      "\n",
      "-------- Adaboost ----------\n",
      "              precision    recall  f1-score   support\n",
      "\n",
      "           0       0.96      0.90      0.93       107\n",
      "           1       0.97      0.99      0.98       383\n",
      "\n",
      "    accuracy                           0.97       490\n",
      "   macro avg       0.97      0.94      0.95       490\n",
      "weighted avg       0.97      0.97      0.97       490\n",
      "\n",
      "-------- GBDT ----------\n",
      "              precision    recall  f1-score   support\n",
      "\n",
      "           0       0.98      0.90      0.94       107\n",
      "           1       0.97      0.99      0.98       383\n",
      "\n",
      "    accuracy                           0.97       490\n",
      "   macro avg       0.98      0.95      0.96       490\n",
      "weighted avg       0.97      0.97      0.97       490\n",
      "\n",
      "-------- 随机森林 ----------\n",
      "              precision    recall  f1-score   support\n",
      "\n",
      "           0       0.95      0.91      0.93       107\n",
      "           1       0.97      0.99      0.98       383\n",
      "\n",
      "    accuracy                           0.97       490\n",
      "   macro avg       0.96      0.95      0.95       490\n",
      "weighted avg       0.97      0.97      0.97       490\n",
      "\n"
     ]
    }
   ],
   "source": [
    "def select_model(name, model):\n",
    "    print('--------', name, '----------')\n",
    "    model.fit(train_x, train_y)\n",
    "    pred_test_y = model.predict(test_x)\n",
    "    print(sm.classification_report(test_y, pred_test_y))\n",
    "\n",
    "\n",
    "model_dict = {'单颗决策树': st.DecisionTreeClassifier(),\n",
    "              'Adaboost': se.AdaBoostClassifier(st.DecisionTreeClassifier(),\n",
    "                                                n_estimators=100),\n",
    "              'GBDT': se.GradientBoostingClassifier(n_estimators=100),\n",
    "              '随机森林': se.RandomForestClassifier(n_estimators=100)}\n",
    "\n",
    "for name, obj in model_dict.items():\n",
    "    select_model(name, obj)\n"
   ]
  },
  {
   "cell_type": "markdown",
   "metadata": {
    "pycharm": {
     "name": "#%% md\n"
    }
   },
   "source": [
    "## 模型的优化"
   ]
  },
  {
   "cell_type": "code",
   "execution_count": 15,
   "metadata": {
    "pycharm": {
     "name": "#%%\n"
    }
   },
   "outputs": [
    {
     "data": {
      "text/plain": "1"
     },
     "execution_count": 15,
     "metadata": {},
     "output_type": "execute_result"
    }
   ],
   "source": [
    "sub_model = st.DecisionTreeClassifier()\n",
    "params = {'criterion': ['gini', 'entropy'],\n",
    "          'max_depth': np.arange(2, 9),\n",
    "          'min_samples_split': np.arange(2, 21),\n",
    "          'min_samples_leaf': np.arange(1, 11)}\n",
    "\n",
    "sub_GS = ms.GridSearchCV(sub_model, params, cv=3)\n",
    "sub_GS.fit(x, y)\n",
    "1"
   ]
  },
  {
   "cell_type": "code",
   "execution_count": 16,
   "metadata": {
    "pycharm": {
     "name": "#%%\n"
    }
   },
   "outputs": [],
   "source": [
    "main_model = se.AdaBoostClassifier(sub_GS.best_estimator_)\n",
    "\n",
    "params = {'n_estimators': np.arange(20, 201, 10)}\n",
    "\n",
    "main_GS = ms.GridSearchCV(main_model, params, cv=3)\n",
    "main_GS.fit(x, y)\n",
    "\n",
    "best_model = main_GS.best_estimator_\n"
   ]
  },
  {
   "cell_type": "code",
   "execution_count": 17,
   "metadata": {
    "pycharm": {
     "name": "#%%\n"
    }
   },
   "outputs": [
    {
     "name": "stdout",
     "output_type": "stream",
     "text": [
      "              precision    recall  f1-score   support\n",
      "\n",
      "           0       0.97      0.94      0.96       107\n",
      "           1       0.98      0.99      0.99       383\n",
      "\n",
      "    accuracy                           0.98       490\n",
      "   macro avg       0.98      0.97      0.97       490\n",
      "weighted avg       0.98      0.98      0.98       490\n",
      "\n"
     ]
    }
   ],
   "source": [
    "pred_best_y = best_model.predict(test_x)\n",
    "print(sm.classification_report(test_y, pred_best_y))"
   ]
  },
  {
   "cell_type": "markdown",
   "metadata": {
    "pycharm": {
     "name": "#%% md\n"
    }
   },
   "source": [
    "## 保存模型"
   ]
  },
  {
   "cell_type": "code",
   "execution_count": 18,
   "metadata": {
    "pycharm": {
     "name": "#%%\n"
    }
   },
   "outputs": [],
   "source": [
    "import pickle"
   ]
  },
  {
   "cell_type": "code",
   "execution_count": 19,
   "metadata": {
    "pycharm": {
     "name": "#%%\n"
    }
   },
   "outputs": [],
   "source": [
    "dict_info = {'数据结构': data.columns[:-1],\n",
    "             '数据转换': {'额外通话时长': extra_time_cut,\n",
    "                          '额外流量': {'条件>': 0, 'True': 2, 'False': 1}},\n",
    "             '模型': best_model}"
   ]
  },
  {
   "cell_type": "code",
   "execution_count": 20,
   "metadata": {
    "pycharm": {
     "name": "#%%\n"
    }
   },
   "outputs": [
    {
     "name": "stdout",
     "output_type": "stream",
     "text": [
      "模型保存成功\n"
     ]
    }
   ],
   "source": [
    "with open('联通用户流失预测模型.pickle', 'wb') as f:\n",
    "    pickle.dump(dict_info, f)\n",
    "print('模型保存成功')"
   ]
  },
  {
   "cell_type": "markdown",
   "metadata": {
    "pycharm": {
     "name": "#%% md\n"
    }
   },
   "source": [
    "## 加载模型"
   ]
  },
  {
   "cell_type": "code",
   "execution_count": 21,
   "metadata": {
    "pycharm": {
     "name": "#%%\n"
    }
   },
   "outputs": [],
   "source": [
    "with open('./联通用户流失预测模型.pickle', 'rb') as f:\n",
    "    obj = pickle.load(f)"
   ]
  },
  {
   "cell_type": "code",
   "execution_count": 22,
   "metadata": {
    "pycharm": {
     "name": "#%%\n"
    }
   },
   "outputs": [
    {
     "data": {
      "text/plain": "Index(['套餐金额', '额外通话时长', '额外流量', '改变行为', '服务合约', '关联购买', '集团用户', '使用月数'], dtype='object')"
     },
     "execution_count": 22,
     "metadata": {},
     "output_type": "execute_result"
    }
   ],
   "source": [
    "obj['数据结构']"
   ]
  },
  {
   "cell_type": "code",
   "execution_count": 23,
   "metadata": {
    "pycharm": {
     "name": "#%%\n"
    }
   },
   "outputs": [],
   "source": [
    "need_data = [[1, 1000, 500, 0, 0, 1, 0, 25],\n",
    "             [2, 0, 0, 1, 1, 2, 1, 25],\n",
    "             [1, -500, -500, 0, 1, 0, 1, 13]]\n",
    "need_data = pd.DataFrame(need_data, columns=obj['数据结构'])"
   ]
  },
  {
   "cell_type": "code",
   "execution_count": 24,
   "metadata": {
    "pycharm": {
     "name": "#%%\n"
    }
   },
   "outputs": [],
   "source": [
    "need_data['额外通话时长'] = pd.cut(need_data['额外通话时长'], bins=obj['数据转换']['额外通话时长'][0],\n",
    "                                   labels=obj['数据转换']['额外通话时长'][1])"
   ]
  },
  {
   "cell_type": "code",
   "execution_count": 25,
   "metadata": {
    "pycharm": {
     "name": "#%%\n"
    }
   },
   "outputs": [],
   "source": [
    "need_data['额外流量'] = np.where(need_data['额外流量'] > obj['数据转换']['额外流量']['条件>'],\n",
    "                                 obj['数据转换']['额外流量']['True'],\n",
    "                                 obj['数据转换']['额外流量']['False'])"
   ]
  },
  {
   "cell_type": "code",
   "execution_count": 30,
   "outputs": [
    {
     "data": {
      "text/plain": "   套餐金额 额外通话时长  额外流量  改变行为  服务合约  关联购买  集团用户  使用月数\n0     1      3     2     0     0     1     0    25\n1     2      4     1     1     1     2     1    25\n2     1      4     1     0     1     0     1    13",
      "text/html": "<div>\n<style scoped>\n    .dataframe tbody tr th:only-of-type {\n        vertical-align: middle;\n    }\n\n    .dataframe tbody tr th {\n        vertical-align: top;\n    }\n\n    .dataframe thead th {\n        text-align: right;\n    }\n</style>\n<table border=\"1\" class=\"dataframe\">\n  <thead>\n    <tr style=\"text-align: right;\">\n      <th></th>\n      <th>套餐金额</th>\n      <th>额外通话时长</th>\n      <th>额外流量</th>\n      <th>改变行为</th>\n      <th>服务合约</th>\n      <th>关联购买</th>\n      <th>集团用户</th>\n      <th>使用月数</th>\n    </tr>\n  </thead>\n  <tbody>\n    <tr>\n      <th>0</th>\n      <td>1</td>\n      <td>3</td>\n      <td>2</td>\n      <td>0</td>\n      <td>0</td>\n      <td>1</td>\n      <td>0</td>\n      <td>25</td>\n    </tr>\n    <tr>\n      <th>1</th>\n      <td>2</td>\n      <td>4</td>\n      <td>1</td>\n      <td>1</td>\n      <td>1</td>\n      <td>2</td>\n      <td>1</td>\n      <td>25</td>\n    </tr>\n    <tr>\n      <th>2</th>\n      <td>1</td>\n      <td>4</td>\n      <td>1</td>\n      <td>0</td>\n      <td>1</td>\n      <td>0</td>\n      <td>1</td>\n      <td>13</td>\n    </tr>\n  </tbody>\n</table>\n</div>"
     },
     "execution_count": 30,
     "metadata": {},
     "output_type": "execute_result"
    }
   ],
   "source": [
    "need_data\n"
   ],
   "metadata": {
    "collapsed": false,
    "pycharm": {
     "name": "#%%\n"
    }
   }
  },
  {
   "cell_type": "code",
   "execution_count": 32,
   "outputs": [
    {
     "data": {
      "text/plain": "array([[9.99999976e-01, 2.43147961e-08],\n       [9.99999990e-01, 1.02756894e-08],\n       [3.24878628e-06, 9.99996751e-01]])"
     },
     "execution_count": 32,
     "metadata": {},
     "output_type": "execute_result"
    }
   ],
   "source": [
    "obj['模型'].predict_proba(need_data)  #将训练数据丢入模型可以得到置信概率"
   ],
   "metadata": {
    "collapsed": false,
    "pycharm": {
     "name": "#%%\n"
    }
   }
  },
  {
   "cell_type": "code",
   "execution_count": 27,
   "metadata": {
    "pycharm": {
     "name": "#%%\n"
    }
   },
   "outputs": [],
   "source": [
    "#need_data['流失概率'] = obj['模型'].predict_proba(need_data)[:,-1]"
   ]
  },
  {
   "cell_type": "code",
   "execution_count": 28,
   "metadata": {
    "pycharm": {
     "name": "#%%\n"
    }
   },
   "outputs": [],
   "source": [
    "# 交付流失概率前50名的数据\n",
    "#res = need_data.sort_values(by='流失概率',ascending=False).head(50)"
   ]
  },
  {
   "cell_type": "markdown",
   "metadata": {
    "pycharm": {
     "name": "#%% md\n"
    }
   },
   "source": [
    "## 交付内容"
   ]
  },
  {
   "cell_type": "code",
   "execution_count": 29,
   "metadata": {
    "pycharm": {
     "name": "#%%\n"
    }
   },
   "outputs": [],
   "source": [
    "#res.to_csv('流失预测结果.csv')"
   ]
  }
 ],
 "metadata": {
  "kernelspec": {
   "display_name": "Python 3",
   "language": "python",
   "name": "python3"
  },
  "language_info": {
   "codemirror_mode": {
    "name": "ipython",
    "version": 3
   },
   "file_extension": ".py",
   "mimetype": "text/x-python",
   "name": "python",
   "nbconvert_exporter": "python",
   "pygments_lexer": "ipython3",
   "version": "3.6.9"
  }
 },
 "nbformat": 4,
 "nbformat_minor": 4
}