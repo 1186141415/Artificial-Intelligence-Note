{
 "cells": [
  {
   "cell_type": "code",
   "execution_count": 1,
   "outputs": [],
   "source": [
    "import jieba"
   ],
   "metadata": {
    "collapsed": false,
    "pycharm": {
     "name": "#%%\n"
    }
   }
  },
  {
   "cell_type": "code",
   "execution_count": 2,
   "metadata": {
    "collapsed": true,
    "pycharm": {
     "name": "#%%\n"
    }
   },
   "outputs": [
    {
     "name": "stderr",
     "output_type": "stream",
     "text": [
      "Building prefix dict from the default dictionary ...\n",
      "Loading model from cache /var/folders/xw/r4jf50z15dv7m1bfg3f55mcw0000gn/T/jieba.cache\n",
      "Loading model cost 0.941 seconds.\n",
      "Prefix dict has been built successfully.\n"
     ]
    },
    {
     "name": "stdout",
     "output_type": "stream",
     "text": [
      "吉林/吉林市/市长/长春/春药/药店/\n",
      "吉林市/长春/药店/\n",
      "吉林/吉林市/长春/药店/\n"
     ]
    }
   ],
   "source": [
    "text = \"吉林市长春药店\"\n",
    "\n",
    "# 全模式\n",
    "seg_list = jieba.cut(text, cut_all=True)  #全模式，把句子中所有可以成词的词语分割出来，速度快，但有重复词和歧义\n",
    "# type(seg_list) 类型是可迭代对象\n",
    "for word in seg_list:\n",
    "    print(word, end=\"/\")\n",
    "print()\n",
    "\n",
    "# 精确模式\n",
    "seg_list = jieba.cut(text, cut_all=False)  #精确模式，试图将句子最精确地分词，适合文本分析\n",
    "for word in seg_list:\n",
    "    print(word, end=\"/\")\n",
    "print()\n",
    "\n",
    "# 搜索引擎模式\n",
    "seg_list = jieba.cut_for_search(text)  #搜索引擎模\n",
    "for word in seg_list:\n",
    "    print(word, end=\"/\")\n",
    "print()"
   ]
  },
  {
   "cell_type": "code",
   "execution_count": 3,
   "outputs": [],
   "source": [
    "################################################################################################"
   ],
   "metadata": {
    "collapsed": false,
    "pycharm": {
     "name": "#%%\n"
    }
   }
  },
  {
   "cell_type": "code",
   "execution_count": 4,
   "outputs": [],
   "source": [
    "# 通过tf-idf提取高频词汇"
   ],
   "metadata": {
    "collapsed": false,
    "pycharm": {
     "name": "#%%\n"
    }
   }
  },
  {
   "cell_type": "code",
   "execution_count": 5,
   "outputs": [],
   "source": [
    "# 读取指定文件中的内容\n",
    "def get_content(path):\n",
    "    with open(path, \"r\", encoding='gbk') as f:\n",
    "        content = \"\"  #存放文件内容\n",
    "        for line in f.readlines():\n",
    "            line = line.strip()  #去除空格\n",
    "            content += line\n",
    "    return content"
   ],
   "metadata": {
    "collapsed": false,
    "pycharm": {
     "name": "#%%\n"
    }
   }
  },
  {
   "cell_type": "code",
   "execution_count": 6,
   "outputs": [],
   "source": [
    "content = get_content('./11.txt')"
   ],
   "metadata": {
    "collapsed": false,
    "pycharm": {
     "name": "#%%\n"
    }
   }
  },
  {
   "cell_type": "code",
   "execution_count": 7,
   "outputs": [
    {
     "data": {
      "text/plain": "'焦点个股：苏宁电器（002024），该股早市涨停开盘，其后虽在获利盘的抛压下略有回落但在强大买盘的推动下该股已经再次封于涨停，可见主力资金积极拉升的意愿相当强烈。盘面解析：1.技术层面上，早市指数小幅探低后迅速回升，在中石化强势上扬的带动下指数已经成功翻红，多头实力之强令人瞠目结舌。不过在市场高度繁荣的情形下投资者也需谨慎操作，必竟持续的上攻已经消耗了大量的多头动能。2.盘中热点来看，相比周二略有退温。但依然可以看到目前热点效应向外扩散的迹象相当明显。高度活跌的板块已经从前期的有色金属、金融地产股向外扩大至军工概念、航天航空等。操作思路：短线依然需规避一下技术性回调风险，盘中切记不可追高。'"
     },
     "execution_count": 7,
     "metadata": {},
     "output_type": "execute_result"
    }
   ],
   "source": [
    "content"
   ],
   "metadata": {
    "collapsed": false,
    "pycharm": {
     "name": "#%%\n"
    }
   }
  },
  {
   "cell_type": "code",
   "execution_count": 21,
   "outputs": [],
   "source": [
    "def get_tf(words, topk=10):\n",
    "    tf_dict = {}  #字典key：词，value：词出现的次数\n",
    "    for w in words:\n",
    "        if w not in tf_dict.keys():\n",
    "            tf_dict[w] = 1\n",
    "        else:\n",
    "            num = tf_dict[w]\n",
    "            num += 1\n",
    "            tf_dict[w] = num\n",
    "\n",
    "    #根据建值倒序排序\n",
    "    #new_list = sorted(tf_dict.items(),  #带排序对象\n",
    "    #                  key=lambda x: x[1],  #排序依据是次数\n",
    "    #                  reversed=True)  #倒序\n",
    "\n",
    "    # 倒序排列\n",
    "    new_list = sorted(tf_dict.items(), key=lambda x: x[1], reverse=True)\n",
    "    return new_list[0:topk]"
   ],
   "metadata": {
    "collapsed": false,
    "pycharm": {
     "name": "#%%\n"
    }
   }
  },
  {
   "cell_type": "code",
   "execution_count": 22,
   "outputs": [],
   "source": [
    "#读取停用词表"
   ],
   "metadata": {
    "collapsed": false,
    "pycharm": {
     "name": "#%%\n"
    }
   }
  },
  {
   "cell_type": "code",
   "execution_count": 23,
   "outputs": [],
   "source": [
    "def get_stop_words(path):\n",
    "    with open(path, encoding='utf8') as f:\n",
    "        return [ln.strip() for ln in f.readlines()]"
   ],
   "metadata": {
    "collapsed": false,
    "pycharm": {
     "name": "#%%\n"
    }
   }
  },
  {
   "cell_type": "code",
   "execution_count": 26,
   "outputs": [
    {
     "name": "stdout",
     "output_type": "stream",
     "text": [
      "分词/停用词过滤结果：\n",
      "焦点/个股/苏宁/电器/002024/该股/早市/涨停/开盘/其后/获利盘/抛/压下/略有/回落/强大/买盘/推动/下该/股/已经/再次/封于/涨停/主力/资金/积极/拉升/意愿/相当/强烈/盘面/解析/技术/层面/早市/指数/小幅/探低/迅速/回升/中石化/强势/上扬/带动/指数/已经/成功/翻红/多头/实力/之强/令人/瞠目结舌/市场/高度/繁荣/情形/投资者/需谨慎/操作/必竟/持续/上攻/已经/消耗/大量/多头/动能/盘中/热点/来看/相比/周二/略有/退温/依然/看到/目前/热点/效应/外扩散/迹象/相当/明显/高度/活跌/板块/已经/前期/有色金属/金融/地产股/向外/扩大/军工/概念/航天航空/操作/思路/短线/依然/需/规避/一下/技术性/回调/风险/盘中/切记/不可/追高\n",
      "\n",
      "Top10词汇： [('已经', 4), ('早市', 2), ('涨停', 2), ('略有', 2), ('相当', 2), ('指数', 2), ('多头', 2), ('高度', 2), ('操作', 2), ('盘中', 2)]\n"
     ]
    }
   ],
   "source": [
    "fname = '11.txt'\n",
    "corpus = get_content(fname)\n",
    "#print(corpus)\n",
    "\n",
    "#分词开始\n",
    "tmp_list = list(jieba.cut(corpus))\n",
    "#print(tmp_list)\n",
    "\n",
    "#读取停用词，然后过滤停用词\n",
    "stop_words = get_stop_words('stop_words.utf8')\n",
    "\n",
    "split_words = []  #用于存过滤后的结果\n",
    "for w in tmp_list:\n",
    "    if w not in stop_words:\n",
    "        split_words.append(w)\n",
    "#print(split_words)\n",
    "print('分词/停用词过滤结果：\\n' + '/'.join(split_words))\n",
    "\n",
    "#t统计词频\n",
    "top_list = get_tf(split_words, 10)\n",
    "print('\\nTop10词汇：', str(top_list))"
   ],
   "metadata": {
    "collapsed": false,
    "pycharm": {
     "name": "#%%\n"
    }
   }
  },
  {
   "cell_type": "code",
   "execution_count": null,
   "outputs": [],
   "source": [
    "################################################################################################"
   ],
   "metadata": {
    "collapsed": false,
    "pycharm": {
     "name": "#%%\n"
    }
   }
  },
  {
   "cell_type": "code",
   "execution_count": 27,
   "outputs": [],
   "source": [
    "#jieba词性标注\n",
    "import jieba.posseg as psg"
   ],
   "metadata": {
    "collapsed": false,
    "pycharm": {
     "name": "#%%\n"
    }
   }
  },
  {
   "cell_type": "code",
   "execution_count": 28,
   "outputs": [],
   "source": [
    "def pos(text):\n",
    "    results = psg.cut(text)\n",
    "    for w, t in results:\n",
    "        print(\"%s/%s\" % (w, t), end=\" \")\n",
    "    print(\"\")"
   ],
   "metadata": {
    "collapsed": false,
    "pycharm": {
     "name": "#%%\n"
    }
   }
  },
  {
   "cell_type": "code",
   "execution_count": 30,
   "outputs": [
    {
     "name": "stdout",
     "output_type": "stream",
     "text": [
      "呼伦贝尔/nr 大/a 草原/n \n",
      "梅兰芳/nr 大/a 剧院/n 里/f 星期六/t 晚上/t 有/v 演出/v \n"
     ]
    }
   ],
   "source": [
    "text = \"呼伦贝尔大草原\"\n",
    "pos(text)\n",
    "text = \"梅兰芳大剧院里星期六晚上有演出\"\n",
    "pos(text)"
   ],
   "metadata": {
    "collapsed": false,
    "pycharm": {
     "name": "#%%\n"
    }
   }
  },
  {
   "cell_type": "code",
   "execution_count": null,
   "outputs": [],
   "source": [],
   "metadata": {
    "collapsed": false,
    "pycharm": {
     "name": "#%%\n"
    }
   }
  }
 ],
 "metadata": {
  "kernelspec": {
   "display_name": "Python 3",
   "language": "python",
   "name": "python3"
  },
  "language_info": {
   "codemirror_mode": {
    "name": "ipython",
    "version": 2
   },
   "file_extension": ".py",
   "mimetype": "text/x-python",
   "name": "python",
   "nbconvert_exporter": "python",
   "pygments_lexer": "ipython2",
   "version": "2.7.6"
  }
 },
 "nbformat": 4,
 "nbformat_minor": 0
}