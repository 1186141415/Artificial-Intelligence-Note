{
 "cells": [
  {
   "cell_type": "markdown",
   "source": [
    "# 数据预处理"
   ],
   "metadata": {
    "collapsed": false,
    "pycharm": {
     "name": "#%% md\n"
    }
   }
  },
  {
   "cell_type": "code",
   "execution_count": 1,
   "outputs": [],
   "source": [
    "import numpy as np"
   ],
   "metadata": {
    "collapsed": false,
    "pycharm": {
     "name": "#%%\n"
    }
   }
  },
  {
   "cell_type": "code",
   "execution_count": 2,
   "outputs": [],
   "source": [
    "def f(df):\n",
    "    # 求均值\n",
    "    mean = np.mean(df)\n",
    "    # 求标准差\n",
    "    std = np.std(df, ddof=1)\n",
    "    result = (df - mean) / std\n",
    "    return result"
   ],
   "metadata": {
    "collapsed": false,
    "pycharm": {
     "name": "#%%\n"
    }
   }
  },
  {
   "cell_type": "code",
   "execution_count": 3,
   "outputs": [],
   "source": [
    "raw_sample = np.array([[3.0, -100.0, 2.0],\n",
    "                       [0.0, 400.0, 3.0],\n",
    "                       [1.0, -400.0, 2.0]])"
   ],
   "metadata": {
    "collapsed": false,
    "pycharm": {
     "name": "#%%\n"
    }
   }
  },
  {
   "cell_type": "code",
   "execution_count": 4,
   "outputs": [],
   "source": [
    "std_sample = raw_sample.copy()\n",
    "std_samples = raw_sample.copy()"
   ],
   "metadata": {
    "collapsed": false,
    "pycharm": {
     "name": "#%%\n"
    }
   }
  },
  {
   "cell_type": "code",
   "execution_count": 5,
   "outputs": [
    {
     "name": "stdout",
     "output_type": "stream",
     "text": [
      "[3. 0. 1.]\n",
      "1.3333333333333333\n",
      "1.247219128924647\n",
      "[ 1.33630621 -1.06904497 -0.26726124]\n",
      "[-100.  400. -400.]\n",
      "-33.333333333333336\n",
      "329.98316455372213\n",
      "[-0.20203051  1.31319831 -1.1111678 ]\n",
      "[2. 3. 2.]\n",
      "2.3333333333333335\n",
      "0.4714045207910317\n",
      "[-0.70710678  1.41421356 -0.70710678]\n"
     ]
    }
   ],
   "source": [
    "for col in std_sample.T:\n",
    "    print(col)\n",
    "    col_mean = col.mean()\n",
    "    print(col_mean)\n",
    "    col_std = col.std()\n",
    "    print(col_std)\n",
    "    col -= col_mean  #这一步数据平均值变成0\n",
    "    col /= col_std\n",
    "    print(col)\n"
   ],
   "metadata": {
    "collapsed": false,
    "pycharm": {
     "name": "#%%\n"
    }
   }
  },
  {
   "cell_type": "code",
   "execution_count": 6,
   "outputs": [
    {
     "name": "stdout",
     "output_type": "stream",
     "text": [
      "[ 1. -1.  0.]\n"
     ]
    }
   ],
   "source": [
    "print(f([8, 2, 5]))"
   ],
   "metadata": {
    "collapsed": false,
    "pycharm": {
     "name": "#%%\n"
    }
   }
  },
  {
   "cell_type": "code",
   "execution_count": 7,
   "outputs": [
    {
     "name": "stdout",
     "output_type": "stream",
     "text": [
      "[[ 1.33630621 -0.20203051 -0.70710678]\n",
      " [-1.06904497  1.31319831  1.41421356]\n",
      " [-0.26726124 -1.1111678  -0.70710678]]\n"
     ]
    }
   ],
   "source": [
    "for col in std_sample.T:\n",
    "    col_mean = col.mean()\n",
    "    col_std = col.std()\n",
    "    col -= col_mean  #这一步数据平均值变成0\n",
    "    col /= col_std\n",
    "\n",
    "print(std_sample)"
   ],
   "metadata": {
    "collapsed": false,
    "pycharm": {
     "name": "#%%\n"
    }
   }
  },
  {
   "cell_type": "code",
   "execution_count": 8,
   "outputs": [
    {
     "name": "stdout",
     "output_type": "stream",
     "text": [
      "[[ 0.71742908 -1.41416309  0.69673401]\n",
      " [-0.71507648  1.41418351 -0.69910703]\n",
      " [ 0.7044634  -1.41421027  0.70974687]]\n"
     ]
    }
   ],
   "source": [
    "for col in std_samples:\n",
    "    col_mean = col.mean()\n",
    "    col_std = col.std()\n",
    "    col -= col_mean  #这一步数据平均值变成0\n",
    "    col /= col_std\n",
    "\n",
    "print(std_samples)"
   ],
   "metadata": {
    "collapsed": false,
    "pycharm": {
     "name": "#%%\n"
    }
   }
  },
  {
   "cell_type": "code",
   "execution_count": 9,
   "outputs": [
    {
     "name": "stdout",
     "output_type": "stream",
     "text": [
      "[ 1.33630621 -1.06904497 -0.26726124]\n",
      "[-0.20203051  1.31319831 -1.1111678 ]\n",
      "[-0.70710678  1.41421356 -0.70710678]\n"
     ]
    }
   ],
   "source": [
    "for col in std_sample.T:\n",
    "    print(col)"
   ],
   "metadata": {
    "collapsed": false,
    "pycharm": {
     "name": "#%%\n"
    }
   }
  },
  {
   "cell_type": "code",
   "execution_count": 10,
   "outputs": [
    {
     "name": "stdout",
     "output_type": "stream",
     "text": [
      "[ 1.33630621 -0.20203051 -0.70710678]\n",
      "[-1.06904497  1.31319831  1.41421356]\n",
      "[-0.26726124 -1.1111678  -0.70710678]\n"
     ]
    }
   ],
   "source": [
    "for col in std_sample:\n",
    "    print(col)"
   ],
   "metadata": {
    "collapsed": false,
    "pycharm": {
     "name": "#%%\n"
    }
   }
  },
  {
   "cell_type": "code",
   "execution_count": 11,
   "outputs": [
    {
     "data": {
      "text/plain": "array([[ 1.33630621, -0.20203051, -0.70710678],\n       [-1.06904497,  1.31319831,  1.41421356],\n       [-0.26726124, -1.1111678 , -0.70710678]])"
     },
     "execution_count": 11,
     "metadata": {},
     "output_type": "execute_result"
    }
   ],
   "source": [
    "std_sample"
   ],
   "metadata": {
    "collapsed": false,
    "pycharm": {
     "name": "#%%\n"
    }
   }
  },
  {
   "cell_type": "code",
   "execution_count": 12,
   "outputs": [],
   "source": [
    "import sklearn.preprocessing as sp"
   ],
   "metadata": {
    "collapsed": false,
    "pycharm": {
     "name": "#%%\n"
    }
   }
  },
  {
   "cell_type": "code",
   "execution_count": 13,
   "outputs": [
    {
     "name": "stdout",
     "output_type": "stream",
     "text": [
      "[[ 1.33630621 -0.20203051 -0.70710678]\n",
      " [-1.06904497  1.31319831  1.41421356]\n",
      " [-0.26726124 -1.1111678  -0.70710678]]\n",
      "[3.70074342e-17 0.00000000e+00 0.00000000e+00]\n",
      "[1. 1. 1.]\n"
     ]
    }
   ],
   "source": [
    "std_samples = sp.scale(raw_sample)  # 求标准移除\n",
    "#这种方法是将原数据进行标准移除\n",
    "#具体方法就是原始数据每列数据转化为均值为0标准差为1的数据\n",
    "print(std_sample)\n",
    "print(std_sample.mean(axis=0))\n",
    "print(std_sample.std(axis=0))"
   ],
   "metadata": {
    "collapsed": false,
    "pycharm": {
     "name": "#%%\n"
    }
   }
  },
  {
   "cell_type": "code",
   "execution_count": 14,
   "outputs": [],
   "source": [
    "#范围缩放\n",
    "raw_sample = np.array([[1.0, 2.0, 3.0],\n",
    "                       [4.0, 5.0, 6.0],\n",
    "                       [7.0, 8.0, 9.0]])"
   ],
   "metadata": {
    "collapsed": false,
    "pycharm": {
     "name": "#%%\n"
    }
   }
  },
  {
   "cell_type": "code",
   "execution_count": 15,
   "outputs": [],
   "source": [
    "mms_samples = raw_sample.copy()"
   ],
   "metadata": {
    "collapsed": false,
    "pycharm": {
     "name": "#%%\n"
    }
   }
  },
  {
   "cell_type": "code",
   "execution_count": 16,
   "outputs": [
    {
     "name": "stdout",
     "output_type": "stream",
     "text": [
      "[[0.  0.  0. ]\n",
      " [0.5 0.5 0.5]\n",
      " [1.  1.  1. ]]\n"
     ]
    }
   ],
   "source": [
    "for col in mms_samples.T:\n",
    "    col_min = col.min()\n",
    "    col_max = col.max()\n",
    "    col -= col_min\n",
    "    col /= (col_max - col_min)\n",
    "print(mms_samples)"
   ],
   "metadata": {
    "collapsed": false,
    "pycharm": {
     "name": "#%%\n"
    }
   }
  },
  {
   "cell_type": "code",
   "execution_count": 17,
   "outputs": [
    {
     "name": "stdout",
     "output_type": "stream",
     "text": [
      "[[0.  0.  0. ]\n",
      " [0.5 0.5 0.5]\n",
      " [1.  1.  1. ]]\n"
     ]
    }
   ],
   "source": [
    "# 根据给定范围创建一个范围缩放器对象\n",
    "mms = sp.MinMaxScaler(feature_range=(0, 1))  # 定义对象(修改范围观察现象)\n",
    "# 使用范围缩放器实现特征值范围缩放\n",
    "mms_samples = mms.fit_transform(raw_sample)  # 缩放\n",
    "#这里可以先fit，然后再transform分开写也行\n",
    "print(mms_samples)"
   ],
   "metadata": {
    "collapsed": false,
    "pycharm": {
     "name": "#%%\n"
    }
   }
  },
  {
   "cell_type": "code",
   "execution_count": 18,
   "outputs": [
    {
     "name": "stdout",
     "output_type": "stream",
     "text": [
      "[[10. 20.  5.]\n",
      " [ 8. 10.  1.]]\n",
      "[[0.28571429 0.57142857 0.14285714]\n",
      " [0.42105263 0.52631579 0.05263158]]\n"
     ]
    }
   ],
   "source": [
    "# 样本数据\n",
    "raw_samples = np.array([\n",
    "    [10.0, 20.0, 5.0],\n",
    "    [8.0, 10.0, 1.0]\n",
    "])\n",
    "print(raw_samples)\n",
    "nor_samples = raw_samples.copy()  # 复制样本数据\n",
    "\n",
    "for row in nor_samples:\n",
    "    row /= abs(row).sum()  # 先对行求绝对值，再求和，再除以绝对值之和\n",
    "\n",
    "print(nor_samples)  # 打印结果"
   ],
   "metadata": {
    "collapsed": false,
    "pycharm": {
     "name": "#%%\n"
    }
   }
  },
  {
   "cell_type": "code",
   "execution_count": 19,
   "outputs": [
    {
     "name": "stdout",
     "output_type": "stream",
     "text": [
      "[[0.28571429 0.57142857 0.14285714]\n",
      " [0.42105263 0.52631579 0.05263158]]\n"
     ]
    }
   ],
   "source": [
    "nor_samples = sp.normalize(raw_samples, norm='l1')\n",
    "print(nor_samples)  # 打印结果"
   ],
   "metadata": {
    "collapsed": false,
    "pycharm": {
     "name": "#%%\n"
    }
   }
  },
  {
   "cell_type": "code",
   "execution_count": 20,
   "outputs": [
    {
     "name": "stdout",
     "output_type": "stream",
     "text": [
      "[[1. 1. 1.]\n",
      " [0. 1. 1.]\n",
      " [0. 0. 1.]]\n"
     ]
    }
   ],
   "source": [
    "raw_samples = np.array([[65.5, 89.0, 73.0],\n",
    "                        [55.0, 99.0, 98.5],\n",
    "                        [45.0, 22.5, 60.0]])\n",
    "bin_samples = raw_samples.copy()  # 复制数组\n",
    "\n",
    "bin_samples = raw_samples.copy()  # 复制数组\n",
    "# 生成掩码数组\n",
    "mask1 = bin_samples < 60  #一定要先判断小于60的\n",
    "mask2 = bin_samples >= 60\n",
    "\n",
    "bin_samples[mask1] = 0\n",
    "bin_samples[mask2] = 1\n",
    "print(bin_samples)  # 打印结果"
   ],
   "metadata": {
    "collapsed": false,
    "pycharm": {
     "name": "#%%\n"
    }
   }
  },
  {
   "cell_type": "code",
   "execution_count": 21,
   "outputs": [
    {
     "data": {
      "text/plain": "array([[0., 0., 0.],\n       [0., 0., 0.],\n       [0., 0., 0.]])"
     },
     "execution_count": 21,
     "metadata": {},
     "output_type": "execute_result"
    }
   ],
   "source": [
    "res = np.where(bin_samples > 60, 1.0, 0.0)  #这有隐含if else\n",
    "res"
   ],
   "metadata": {
    "collapsed": false,
    "pycharm": {
     "name": "#%%\n"
    }
   }
  },
  {
   "cell_type": "code",
   "execution_count": 22,
   "outputs": [
    {
     "name": "stdout",
     "output_type": "stream",
     "text": [
      "[[1. 1. 1.]\n",
      " [0. 1. 1.]\n",
      " [0. 0. 1.]]\n"
     ]
    }
   ],
   "source": [
    "bin = sp.Binarizer(threshold=59)  # 创建二值化对象(注意边界值)\n",
    "bin_samples = bin.transform(raw_samples)  # 二值化预处理\n",
    "print(bin_samples)"
   ],
   "metadata": {
    "collapsed": false,
    "pycharm": {
     "name": "#%%\n"
    }
   }
  },
  {
   "cell_type": "code",
   "execution_count": 31,
   "outputs": [
    {
     "name": "stdout",
     "output_type": "stream",
     "text": [
      "[[1 0 1 0 0 1 0 0 0]\n",
      " [0 1 0 1 0 0 1 0 0]\n",
      " [1 0 0 0 1 0 0 1 0]\n",
      " [0 1 1 0 0 0 0 0 1]]\n"
     ]
    }
   ],
   "source": [
    "raw_samples = np.array([[1, 3, 2],\n",
    "                        [7, 5, 4],\n",
    "                        [1, 8, 6],\n",
    "                        [7, 3, 9]])\n",
    "\n",
    "one_hot_encoder = sp.OneHotEncoder(\n",
    "    sparse=False, # 是否采用稀疏格式\n",
    "    dtype=\"int32\",\n",
    "    categories=\"auto\")# 自动编码\n",
    "oh_samples = one_hot_encoder.fit_transform(raw_samples) # 执行独热编码\n",
    "print(oh_samples)"
   ],
   "metadata": {
    "collapsed": false,
    "pycharm": {
     "name": "#%%\n"
    }
   }
  },
  {
   "cell_type": "code",
   "execution_count": 32,
   "outputs": [
    {
     "data": {
      "text/plain": "array([[1, 0, 1, 0, 0, 1, 0, 0, 0],\n       [0, 1, 0, 1, 0, 0, 1, 0, 0],\n       [1, 0, 0, 0, 1, 0, 0, 1, 0],\n       [0, 1, 1, 0, 0, 0, 0, 0, 1]], dtype=int32)"
     },
     "execution_count": 32,
     "metadata": {},
     "output_type": "execute_result"
    }
   ],
   "source": [
    "oh_samples"
   ],
   "metadata": {
    "collapsed": false,
    "pycharm": {
     "name": "#%%\n"
    }
   }
  },
  {
   "cell_type": "code",
   "execution_count": 33,
   "outputs": [
    {
     "name": "stdout",
     "output_type": "stream",
     "text": [
      "[[1 3 2]\n",
      " [7 5 4]\n",
      " [1 8 6]\n",
      " [7 3 9]]\n"
     ]
    }
   ],
   "source": [
    "print(one_hot_encoder.inverse_transform(oh_samples)) # 解码 一定要使用原编码器解码"
   ],
   "metadata": {
    "collapsed": false,
    "pycharm": {
     "name": "#%%\n"
    }
   }
  },
  {
   "cell_type": "code",
   "execution_count": 34,
   "outputs": [
    {
     "name": "stdout",
     "output_type": "stream",
     "text": [
      "[0 2 0 1 2 1]\n",
      "['audi' 'ford' 'audi' 'bmw' 'ford' 'bmw']\n"
     ]
    }
   ],
   "source": [
    "raw_samples = np.array(['audi', 'ford', 'audi',\n",
    "                        'bmw','ford', 'bmw'])\n",
    "\n",
    "lb_encoder = sp.LabelEncoder() # 定义标签编码对象\n",
    "lb_samples = lb_encoder.fit_transform(raw_samples) # 执行标签编码\n",
    "print(lb_samples)\n",
    "\n",
    "print(lb_encoder.inverse_transform(lb_samples)) # 逆向转换 # 解码 一定要使用原编码器解码"
   ],
   "metadata": {
    "collapsed": false,
    "pycharm": {
     "name": "#%%\n"
    }
   }
  }
 ],
 "metadata": {
  "kernelspec": {
   "display_name": "Python 3",
   "language": "python",
   "name": "python3"
  },
  "language_info": {
   "codemirror_mode": {
    "name": "ipython",
    "version": 2
   },
   "file_extension": ".py",
   "mimetype": "text/x-python",
   "name": "python",
   "nbconvert_exporter": "python",
   "pygments_lexer": "ipython2",
   "version": "2.7.6"
  }
 },
 "nbformat": 4,
 "nbformat_minor": 0
}