{
 "cells": [
  {
   "cell_type": "code",
   "execution_count": 2,
   "metadata": {
    "pycharm": {
     "name": "#%%\n"
    }
   },
   "outputs": [
    {
     "data": {
      "text/plain": [
       "<4x9 sparse matrix of type '<class 'numpy.float64'>'\n",
       "\twith 12 stored elements in Compressed Sparse Row format>"
      ]
     },
     "execution_count": 2,
     "metadata": {},
     "output_type": "execute_result"
    }
   ],
   "source": [
    "'''\n",
    "独热编码：根据特征中不重复值的个数，构建1个1和若干个0组成的序列\n",
    "'''\n",
    "import numpy as np\n",
    "import sklearn.preprocessing as sp #数据预处理\n",
    "\n",
    "raw_sample = np.array([[1,3,2],\n",
    "                       [7,5,4],\n",
    "                       [1,8,6],\n",
    "                       [7,3,9]])\n",
    "#构建独热编码器\n",
    "encoder = sp.OneHotEncoder()\n",
    "res = encoder.fit_transform(raw_sample)\n",
    "res\n"
   ]
  },
  {
   "cell_type": "code",
   "execution_count": null,
   "metadata": {
    "pycharm": {
     "name": "#%%\n"
    }
   },
   "outputs": [],
   "source": [
    "100个样本   3列特征  每列特征有10个离散值\n",
    "\n",
    "1000000000 1000000000 1000000000\n",
    "0100000000 0100000000 0100000000"
   ]
  }
 ],
 "metadata": {
  "kernelspec": {
   "display_name": "Python 3",
   "language": "python",
   "name": "python3"
  },
  "language_info": {
   "codemirror_mode": {
    "name": "ipython",
    "version": 3
   },
   "file_extension": ".py",
   "mimetype": "text/x-python",
   "name": "python",
   "nbconvert_exporter": "python",
   "pygments_lexer": "ipython3",
   "version": "3.6.9"
  }
 },
 "nbformat": 4,
 "nbformat_minor": 4
}