{
 "cells": [
  {
   "cell_type": "code",
   "execution_count": 1,
   "metadata": {
    "collapsed": true,
    "pycharm": {
     "name": "#%%\n"
    }
   },
   "outputs": [],
   "source": [
    "import pandas\n",
    "import sklearn.preprocessing as sp"
   ]
  },
  {
   "cell_type": "code",
   "execution_count": 12,
   "outputs": [
    {
     "name": "stdout",
     "output_type": "stream",
     "text": [
      "      vhigh vhigh.1      2   2.1  small   low  unacc\n",
      "0     vhigh   vhigh      2     2  small   med  unacc\n",
      "1     vhigh   vhigh      2     2  small  high  unacc\n",
      "2     vhigh   vhigh      2     2    med   low  unacc\n",
      "3     vhigh   vhigh      2     2    med   med  unacc\n",
      "4     vhigh   vhigh      2     2    med  high  unacc\n",
      "...     ...     ...    ...   ...    ...   ...    ...\n",
      "1722    low     low  5more  more    med   med   good\n",
      "1723    low     low  5more  more    med  high  vgood\n",
      "1724    low     low  5more  more    big   low  unacc\n",
      "1725    low     low  5more  more    big   med   good\n",
      "1726    low     low  5more  more    big  high  vgood\n",
      "\n",
      "[1727 rows x 7 columns]\n"
     ]
    }
   ],
   "source": [
    "df = pandas.read_csv('car.txt')\n",
    "print(df)"
   ],
   "metadata": {
    "collapsed": false,
    "pycharm": {
     "name": "#%%\n"
    }
   }
  },
  {
   "cell_type": "code",
   "execution_count": 13,
   "outputs": [],
   "source": [
    "df.columns = ['header1', 'header2', 'header3', 'header4', 'header5',\n",
    "              'header6', 'header7']\n",
    "df_charge = df.copy()"
   ],
   "metadata": {
    "collapsed": false,
    "pycharm": {
     "name": "#%%\n"
    }
   }
  },
  {
   "cell_type": "code",
   "execution_count": 14,
   "outputs": [
    {
     "name": "stdout",
     "output_type": "stream",
     "text": [
      "     header1 header2 header3 header4 header5 header6 header7\n",
      "0      vhigh   vhigh       2       2   small     med   unacc\n",
      "1      vhigh   vhigh       2       2   small    high   unacc\n",
      "2      vhigh   vhigh       2       2     med     low   unacc\n",
      "3      vhigh   vhigh       2       2     med     med   unacc\n",
      "4      vhigh   vhigh       2       2     med    high   unacc\n",
      "...      ...     ...     ...     ...     ...     ...     ...\n",
      "1722     low     low   5more    more     med     med    good\n",
      "1723     low     low   5more    more     med    high   vgood\n",
      "1724     low     low   5more    more     big     low   unacc\n",
      "1725     low     low   5more    more     big     med    good\n",
      "1726     low     low   5more    more     big    high   vgood\n",
      "\n",
      "[1727 rows x 7 columns]\n"
     ]
    }
   ],
   "source": [
    "print(df)"
   ],
   "metadata": {
    "collapsed": false,
    "pycharm": {
     "name": "#%%\n"
    }
   }
  },
  {
   "cell_type": "code",
   "execution_count": 15,
   "outputs": [],
   "source": [
    "for i in df:\n",
    "    labelencoder1 = sp.LabelEncoder()\n",
    "    df[i] = labelencoder1.fit_transform(df[i])"
   ],
   "metadata": {
    "collapsed": false,
    "pycharm": {
     "name": "#%%\n"
    }
   }
  },
  {
   "cell_type": "code",
   "execution_count": 16,
   "outputs": [
    {
     "data": {
      "text/plain": "      header1  header2  header3  header4  header5  header6  header7\n0           3        3        0        0        2        2        2\n1           3        3        0        0        2        0        2\n2           3        3        0        0        1        1        2\n3           3        3        0        0        1        2        2\n4           3        3        0        0        1        0        2\n...       ...      ...      ...      ...      ...      ...      ...\n1722        1        1        3        2        1        2        1\n1723        1        1        3        2        1        0        3\n1724        1        1        3        2        0        1        2\n1725        1        1        3        2        0        2        1\n1726        1        1        3        2        0        0        3\n\n[1727 rows x 7 columns]",
      "text/html": "<div>\n<style scoped>\n    .dataframe tbody tr th:only-of-type {\n        vertical-align: middle;\n    }\n\n    .dataframe tbody tr th {\n        vertical-align: top;\n    }\n\n    .dataframe thead th {\n        text-align: right;\n    }\n</style>\n<table border=\"1\" class=\"dataframe\">\n  <thead>\n    <tr style=\"text-align: right;\">\n      <th></th>\n      <th>header1</th>\n      <th>header2</th>\n      <th>header3</th>\n      <th>header4</th>\n      <th>header5</th>\n      <th>header6</th>\n      <th>header7</th>\n    </tr>\n  </thead>\n  <tbody>\n    <tr>\n      <th>0</th>\n      <td>3</td>\n      <td>3</td>\n      <td>0</td>\n      <td>0</td>\n      <td>2</td>\n      <td>2</td>\n      <td>2</td>\n    </tr>\n    <tr>\n      <th>1</th>\n      <td>3</td>\n      <td>3</td>\n      <td>0</td>\n      <td>0</td>\n      <td>2</td>\n      <td>0</td>\n      <td>2</td>\n    </tr>\n    <tr>\n      <th>2</th>\n      <td>3</td>\n      <td>3</td>\n      <td>0</td>\n      <td>0</td>\n      <td>1</td>\n      <td>1</td>\n      <td>2</td>\n    </tr>\n    <tr>\n      <th>3</th>\n      <td>3</td>\n      <td>3</td>\n      <td>0</td>\n      <td>0</td>\n      <td>1</td>\n      <td>2</td>\n      <td>2</td>\n    </tr>\n    <tr>\n      <th>4</th>\n      <td>3</td>\n      <td>3</td>\n      <td>0</td>\n      <td>0</td>\n      <td>1</td>\n      <td>0</td>\n      <td>2</td>\n    </tr>\n    <tr>\n      <th>...</th>\n      <td>...</td>\n      <td>...</td>\n      <td>...</td>\n      <td>...</td>\n      <td>...</td>\n      <td>...</td>\n      <td>...</td>\n    </tr>\n    <tr>\n      <th>1722</th>\n      <td>1</td>\n      <td>1</td>\n      <td>3</td>\n      <td>2</td>\n      <td>1</td>\n      <td>2</td>\n      <td>1</td>\n    </tr>\n    <tr>\n      <th>1723</th>\n      <td>1</td>\n      <td>1</td>\n      <td>3</td>\n      <td>2</td>\n      <td>1</td>\n      <td>0</td>\n      <td>3</td>\n    </tr>\n    <tr>\n      <th>1724</th>\n      <td>1</td>\n      <td>1</td>\n      <td>3</td>\n      <td>2</td>\n      <td>0</td>\n      <td>1</td>\n      <td>2</td>\n    </tr>\n    <tr>\n      <th>1725</th>\n      <td>1</td>\n      <td>1</td>\n      <td>3</td>\n      <td>2</td>\n      <td>0</td>\n      <td>2</td>\n      <td>1</td>\n    </tr>\n    <tr>\n      <th>1726</th>\n      <td>1</td>\n      <td>1</td>\n      <td>3</td>\n      <td>2</td>\n      <td>0</td>\n      <td>0</td>\n      <td>3</td>\n    </tr>\n  </tbody>\n</table>\n<p>1727 rows × 7 columns</p>\n</div>"
     },
     "execution_count": 16,
     "metadata": {},
     "output_type": "execute_result"
    }
   ],
   "source": [
    "df"
   ],
   "metadata": {
    "collapsed": false,
    "pycharm": {
     "name": "#%%\n"
    }
   }
  },
  {
   "cell_type": "code",
   "execution_count": 6,
   "outputs": [],
   "source": [
    "labelencoder1 = sp.LabelEncoder()\n",
    "df['header1'] = labelencoder1.fit_transform(df['header1'])"
   ],
   "metadata": {
    "collapsed": false,
    "pycharm": {
     "name": "#%%\n"
    }
   }
  },
  {
   "cell_type": "code",
   "execution_count": 7,
   "outputs": [
    {
     "data": {
      "text/plain": "      header1 header2 header3 header4 header5 header6 header7\n0           3   vhigh       2       2   small     med   unacc\n1           3   vhigh       2       2   small    high   unacc\n2           3   vhigh       2       2     med     low   unacc\n3           3   vhigh       2       2     med     med   unacc\n4           3   vhigh       2       2     med    high   unacc\n...       ...     ...     ...     ...     ...     ...     ...\n1722        1     low   5more    more     med     med    good\n1723        1     low   5more    more     med    high   vgood\n1724        1     low   5more    more     big     low   unacc\n1725        1     low   5more    more     big     med    good\n1726        1     low   5more    more     big    high   vgood\n\n[1727 rows x 7 columns]",
      "text/html": "<div>\n<style scoped>\n    .dataframe tbody tr th:only-of-type {\n        vertical-align: middle;\n    }\n\n    .dataframe tbody tr th {\n        vertical-align: top;\n    }\n\n    .dataframe thead th {\n        text-align: right;\n    }\n</style>\n<table border=\"1\" class=\"dataframe\">\n  <thead>\n    <tr style=\"text-align: right;\">\n      <th></th>\n      <th>header1</th>\n      <th>header2</th>\n      <th>header3</th>\n      <th>header4</th>\n      <th>header5</th>\n      <th>header6</th>\n      <th>header7</th>\n    </tr>\n  </thead>\n  <tbody>\n    <tr>\n      <th>0</th>\n      <td>3</td>\n      <td>vhigh</td>\n      <td>2</td>\n      <td>2</td>\n      <td>small</td>\n      <td>med</td>\n      <td>unacc</td>\n    </tr>\n    <tr>\n      <th>1</th>\n      <td>3</td>\n      <td>vhigh</td>\n      <td>2</td>\n      <td>2</td>\n      <td>small</td>\n      <td>high</td>\n      <td>unacc</td>\n    </tr>\n    <tr>\n      <th>2</th>\n      <td>3</td>\n      <td>vhigh</td>\n      <td>2</td>\n      <td>2</td>\n      <td>med</td>\n      <td>low</td>\n      <td>unacc</td>\n    </tr>\n    <tr>\n      <th>3</th>\n      <td>3</td>\n      <td>vhigh</td>\n      <td>2</td>\n      <td>2</td>\n      <td>med</td>\n      <td>med</td>\n      <td>unacc</td>\n    </tr>\n    <tr>\n      <th>4</th>\n      <td>3</td>\n      <td>vhigh</td>\n      <td>2</td>\n      <td>2</td>\n      <td>med</td>\n      <td>high</td>\n      <td>unacc</td>\n    </tr>\n    <tr>\n      <th>...</th>\n      <td>...</td>\n      <td>...</td>\n      <td>...</td>\n      <td>...</td>\n      <td>...</td>\n      <td>...</td>\n      <td>...</td>\n    </tr>\n    <tr>\n      <th>1722</th>\n      <td>1</td>\n      <td>low</td>\n      <td>5more</td>\n      <td>more</td>\n      <td>med</td>\n      <td>med</td>\n      <td>good</td>\n    </tr>\n    <tr>\n      <th>1723</th>\n      <td>1</td>\n      <td>low</td>\n      <td>5more</td>\n      <td>more</td>\n      <td>med</td>\n      <td>high</td>\n      <td>vgood</td>\n    </tr>\n    <tr>\n      <th>1724</th>\n      <td>1</td>\n      <td>low</td>\n      <td>5more</td>\n      <td>more</td>\n      <td>big</td>\n      <td>low</td>\n      <td>unacc</td>\n    </tr>\n    <tr>\n      <th>1725</th>\n      <td>1</td>\n      <td>low</td>\n      <td>5more</td>\n      <td>more</td>\n      <td>big</td>\n      <td>med</td>\n      <td>good</td>\n    </tr>\n    <tr>\n      <th>1726</th>\n      <td>1</td>\n      <td>low</td>\n      <td>5more</td>\n      <td>more</td>\n      <td>big</td>\n      <td>high</td>\n      <td>vgood</td>\n    </tr>\n  </tbody>\n</table>\n<p>1727 rows × 7 columns</p>\n</div>"
     },
     "execution_count": 7,
     "metadata": {},
     "output_type": "execute_result"
    }
   ],
   "source": [
    "df"
   ],
   "metadata": {
    "collapsed": false,
    "pycharm": {
     "name": "#%%\n"
    }
   }
  },
  {
   "cell_type": "code",
   "execution_count": 8,
   "outputs": [
    {
     "data": {
      "text/plain": "      header1  header2 header3 header4 header5 header6 header7\n0           3        3       2       2   small     med   unacc\n1           3        3       2       2   small    high   unacc\n2           3        3       2       2     med     low   unacc\n3           3        3       2       2     med     med   unacc\n4           3        3       2       2     med    high   unacc\n...       ...      ...     ...     ...     ...     ...     ...\n1722        1        1   5more    more     med     med    good\n1723        1        1   5more    more     med    high   vgood\n1724        1        1   5more    more     big     low   unacc\n1725        1        1   5more    more     big     med    good\n1726        1        1   5more    more     big    high   vgood\n\n[1727 rows x 7 columns]",
      "text/html": "<div>\n<style scoped>\n    .dataframe tbody tr th:only-of-type {\n        vertical-align: middle;\n    }\n\n    .dataframe tbody tr th {\n        vertical-align: top;\n    }\n\n    .dataframe thead th {\n        text-align: right;\n    }\n</style>\n<table border=\"1\" class=\"dataframe\">\n  <thead>\n    <tr style=\"text-align: right;\">\n      <th></th>\n      <th>header1</th>\n      <th>header2</th>\n      <th>header3</th>\n      <th>header4</th>\n      <th>header5</th>\n      <th>header6</th>\n      <th>header7</th>\n    </tr>\n  </thead>\n  <tbody>\n    <tr>\n      <th>0</th>\n      <td>3</td>\n      <td>3</td>\n      <td>2</td>\n      <td>2</td>\n      <td>small</td>\n      <td>med</td>\n      <td>unacc</td>\n    </tr>\n    <tr>\n      <th>1</th>\n      <td>3</td>\n      <td>3</td>\n      <td>2</td>\n      <td>2</td>\n      <td>small</td>\n      <td>high</td>\n      <td>unacc</td>\n    </tr>\n    <tr>\n      <th>2</th>\n      <td>3</td>\n      <td>3</td>\n      <td>2</td>\n      <td>2</td>\n      <td>med</td>\n      <td>low</td>\n      <td>unacc</td>\n    </tr>\n    <tr>\n      <th>3</th>\n      <td>3</td>\n      <td>3</td>\n      <td>2</td>\n      <td>2</td>\n      <td>med</td>\n      <td>med</td>\n      <td>unacc</td>\n    </tr>\n    <tr>\n      <th>4</th>\n      <td>3</td>\n      <td>3</td>\n      <td>2</td>\n      <td>2</td>\n      <td>med</td>\n      <td>high</td>\n      <td>unacc</td>\n    </tr>\n    <tr>\n      <th>...</th>\n      <td>...</td>\n      <td>...</td>\n      <td>...</td>\n      <td>...</td>\n      <td>...</td>\n      <td>...</td>\n      <td>...</td>\n    </tr>\n    <tr>\n      <th>1722</th>\n      <td>1</td>\n      <td>1</td>\n      <td>5more</td>\n      <td>more</td>\n      <td>med</td>\n      <td>med</td>\n      <td>good</td>\n    </tr>\n    <tr>\n      <th>1723</th>\n      <td>1</td>\n      <td>1</td>\n      <td>5more</td>\n      <td>more</td>\n      <td>med</td>\n      <td>high</td>\n      <td>vgood</td>\n    </tr>\n    <tr>\n      <th>1724</th>\n      <td>1</td>\n      <td>1</td>\n      <td>5more</td>\n      <td>more</td>\n      <td>big</td>\n      <td>low</td>\n      <td>unacc</td>\n    </tr>\n    <tr>\n      <th>1725</th>\n      <td>1</td>\n      <td>1</td>\n      <td>5more</td>\n      <td>more</td>\n      <td>big</td>\n      <td>med</td>\n      <td>good</td>\n    </tr>\n    <tr>\n      <th>1726</th>\n      <td>1</td>\n      <td>1</td>\n      <td>5more</td>\n      <td>more</td>\n      <td>big</td>\n      <td>high</td>\n      <td>vgood</td>\n    </tr>\n  </tbody>\n</table>\n<p>1727 rows × 7 columns</p>\n</div>"
     },
     "execution_count": 8,
     "metadata": {},
     "output_type": "execute_result"
    }
   ],
   "source": [
    "labelencoder2 = sp.LabelEncoder()\n",
    "df['header2'] = labelencoder2.fit_transform(df['header2'])\n",
    "df"
   ],
   "metadata": {
    "collapsed": false,
    "pycharm": {
     "name": "#%%\n"
    }
   }
  },
  {
   "cell_type": "code",
   "execution_count": 8,
   "outputs": [],
   "source": [
    "one_hot_encoder5 = sp.OneHotEncoder(\n",
    "    sparse=False,  # 是否采用稀疏格式\n",
    "    dtype=\"int32\",\n",
    "    categories=\"auto\")  # 自动编码"
   ],
   "metadata": {
    "collapsed": false,
    "pycharm": {
     "name": "#%%\n"
    }
   }
  },
  {
   "cell_type": "code",
   "execution_count": 9,
   "outputs": [
    {
     "data": {
      "text/plain": "      header1  header2 header3 header4  header5 header6 header7\n0           3        3       2       2        0     med   unacc\n1           3        3       2       2        0    high   unacc\n2           3        3       2       2        0     low   unacc\n3           3        3       2       2        0     med   unacc\n4           3        3       2       2        0    high   unacc\n...       ...      ...     ...     ...      ...     ...     ...\n1722        1        1   5more    more        0     med    good\n1723        1        1   5more    more        0    high   vgood\n1724        1        1   5more    more        1     low   unacc\n1725        1        1   5more    more        1     med    good\n1726        1        1   5more    more        1    high   vgood\n\n[1727 rows x 7 columns]",
      "text/html": "<div>\n<style scoped>\n    .dataframe tbody tr th:only-of-type {\n        vertical-align: middle;\n    }\n\n    .dataframe tbody tr th {\n        vertical-align: top;\n    }\n\n    .dataframe thead th {\n        text-align: right;\n    }\n</style>\n<table border=\"1\" class=\"dataframe\">\n  <thead>\n    <tr style=\"text-align: right;\">\n      <th></th>\n      <th>header1</th>\n      <th>header2</th>\n      <th>header3</th>\n      <th>header4</th>\n      <th>header5</th>\n      <th>header6</th>\n      <th>header7</th>\n    </tr>\n  </thead>\n  <tbody>\n    <tr>\n      <th>0</th>\n      <td>3</td>\n      <td>3</td>\n      <td>2</td>\n      <td>2</td>\n      <td>0</td>\n      <td>med</td>\n      <td>unacc</td>\n    </tr>\n    <tr>\n      <th>1</th>\n      <td>3</td>\n      <td>3</td>\n      <td>2</td>\n      <td>2</td>\n      <td>0</td>\n      <td>high</td>\n      <td>unacc</td>\n    </tr>\n    <tr>\n      <th>2</th>\n      <td>3</td>\n      <td>3</td>\n      <td>2</td>\n      <td>2</td>\n      <td>0</td>\n      <td>low</td>\n      <td>unacc</td>\n    </tr>\n    <tr>\n      <th>3</th>\n      <td>3</td>\n      <td>3</td>\n      <td>2</td>\n      <td>2</td>\n      <td>0</td>\n      <td>med</td>\n      <td>unacc</td>\n    </tr>\n    <tr>\n      <th>4</th>\n      <td>3</td>\n      <td>3</td>\n      <td>2</td>\n      <td>2</td>\n      <td>0</td>\n      <td>high</td>\n      <td>unacc</td>\n    </tr>\n    <tr>\n      <th>...</th>\n      <td>...</td>\n      <td>...</td>\n      <td>...</td>\n      <td>...</td>\n      <td>...</td>\n      <td>...</td>\n      <td>...</td>\n    </tr>\n    <tr>\n      <th>1722</th>\n      <td>1</td>\n      <td>1</td>\n      <td>5more</td>\n      <td>more</td>\n      <td>0</td>\n      <td>med</td>\n      <td>good</td>\n    </tr>\n    <tr>\n      <th>1723</th>\n      <td>1</td>\n      <td>1</td>\n      <td>5more</td>\n      <td>more</td>\n      <td>0</td>\n      <td>high</td>\n      <td>vgood</td>\n    </tr>\n    <tr>\n      <th>1724</th>\n      <td>1</td>\n      <td>1</td>\n      <td>5more</td>\n      <td>more</td>\n      <td>1</td>\n      <td>low</td>\n      <td>unacc</td>\n    </tr>\n    <tr>\n      <th>1725</th>\n      <td>1</td>\n      <td>1</td>\n      <td>5more</td>\n      <td>more</td>\n      <td>1</td>\n      <td>med</td>\n      <td>good</td>\n    </tr>\n    <tr>\n      <th>1726</th>\n      <td>1</td>\n      <td>1</td>\n      <td>5more</td>\n      <td>more</td>\n      <td>1</td>\n      <td>high</td>\n      <td>vgood</td>\n    </tr>\n  </tbody>\n</table>\n<p>1727 rows × 7 columns</p>\n</div>"
     },
     "execution_count": 9,
     "metadata": {},
     "output_type": "execute_result"
    }
   ],
   "source": [
    "#df['header5'] = one_hot_encoder5.fit_transform(df[['header5']])\n",
    "#df"
   ],
   "metadata": {
    "collapsed": false,
    "pycharm": {
     "name": "#%%\n"
    }
   }
  },
  {
   "cell_type": "code",
   "execution_count": 17,
   "outputs": [],
   "source": [
    "import numpy as np"
   ],
   "metadata": {
    "collapsed": false,
    "pycharm": {
     "name": "#%%\n"
    }
   }
  },
  {
   "cell_type": "code",
   "execution_count": 19,
   "outputs": [
    {
     "data": {
      "text/plain": "matrix([[  1,   3,   5],\n        [ 44,  52,   5],\n        [534,  23,   4]])"
     },
     "execution_count": 19,
     "metadata": {},
     "output_type": "execute_result"
    }
   ],
   "source": [
    "m = np.mat('1, 3, 5 ;44, 52, 5;534, 23, 4')\n",
    "m"
   ],
   "metadata": {
    "collapsed": false,
    "pycharm": {
     "name": "#%%\n"
    }
   }
  },
  {
   "cell_type": "code",
   "execution_count": 21,
   "outputs": [
    {
     "data": {
      "text/plain": "matrix([[-0.0007369 , -0.00081613,  0.00194129],\n        [-0.0197615 ,  0.02112436, -0.00170358],\n        [ 0.21200428, -0.01251139,  0.00063389]])"
     },
     "execution_count": 21,
     "metadata": {},
     "output_type": "execute_result"
    }
   ],
   "source": [
    "m.I  #求逆矩阵"
   ],
   "metadata": {
    "collapsed": false,
    "pycharm": {
     "name": "#%%\n"
    }
   }
  },
  {
   "cell_type": "code",
   "execution_count": 2,
   "outputs": [],
   "source": [
    "import numpy as np\n",
    "import matplotlib.pyplot as plt"
   ],
   "metadata": {
    "collapsed": false,
    "pycharm": {
     "name": "#%%\n"
    }
   }
  },
  {
   "cell_type": "code",
   "execution_count": 3,
   "outputs": [],
   "source": [
    "# 训练数据集\n",
    "train_x = np.array([0.5, 0.6, 0.8, 1.1, 1.4])  # 输入集\n",
    "train_y = np.array([5.0, 5.5, 6.0, 6.8, 7.0])  # 输出集"
   ],
   "metadata": {
    "collapsed": false,
    "pycharm": {
     "name": "#%%\n"
    }
   }
  },
  {
   "cell_type": "code",
   "execution_count": 4,
   "outputs": [
    {
     "data": {
      "text/plain": "<function matplotlib.pyplot.show(close=None, block=None)>"
     },
     "execution_count": 4,
     "metadata": {},
     "output_type": "execute_result"
    },
    {
     "data": {
      "text/plain": "<Figure size 432x288 with 1 Axes>",
      "image/png": "[encoded data removed]"
     },
     "metadata": {
      "needs_background": "light"
     },
     "output_type": "display_data"
    }
   ],
   "source": [
    "plt.scatter(train_x, train_y)\n",
    "plt.show"
   ],
   "metadata": {
    "collapsed": false,
    "pycharm": {
     "name": "#%%\n"
    }
   }
  },
  {
   "cell_type": "code",
   "execution_count": 11,
   "outputs": [],
   "source": [
    "#设置权重初始值\n",
    "w = np.random.normal(0, 1, 1)  #均值为0，标准差为1的1个数字\n",
    "b = np.random.normal(0, 1, 1)  #均值为0，标准差为1的1个数字"
   ],
   "metadata": {
    "collapsed": false,
    "pycharm": {
     "name": "#%%\n"
    }
   }
  },
  {
   "cell_type": "code",
   "execution_count": 12,
   "outputs": [
    {
     "data": {
      "text/plain": "0.7330747288313644"
     },
     "execution_count": 12,
     "metadata": {},
     "output_type": "execute_result"
    }
   ],
   "source": [
    "w[0]"
   ],
   "metadata": {
    "collapsed": false,
    "pycharm": {
     "name": "#%%\n"
    }
   }
  },
  {
   "cell_type": "code",
   "execution_count": 24,
   "outputs": [],
   "source": [
    "w1 = 1\n",
    "w0 = 1"
   ],
   "metadata": {
    "collapsed": false,
    "pycharm": {
     "name": "#%%\n"
    }
   }
  },
  {
   "cell_type": "code",
   "execution_count": 14,
   "outputs": [],
   "source": [
    "learning_rate = 0.01  #学习率\n",
    "epoch = 300"
   ],
   "metadata": {
    "collapsed": false,
    "pycharm": {
     "name": "#%%\n"
    }
   }
  },
  {
   "cell_type": "code",
   "execution_count": 29,
   "outputs": [],
   "source": [
    "for i in range(epoch):\n",
    "    d1 = (train_x * (w1 * train_x + w0 - train_y)).sum()\n",
    "    d0 = (w0 + w1 * train_x - train_y).sum()\n",
    "    w1 = w1 - (learning_rate * d1)\n",
    "    w0 = w0 - (learning_rate * d0)"
   ],
   "metadata": {
    "collapsed": false,
    "pycharm": {
     "name": "#%%\n"
    }
   }
  },
  {
   "cell_type": "code",
   "execution_count": 30,
   "outputs": [
    {
     "name": "stdout",
     "output_type": "stream",
     "text": [
      "w1:2.3670579961619755,w0:3.968657905687202\n"
     ]
    }
   ],
   "source": [
    "print('w1:{},w0:{}'.format(w1, w0))"
   ],
   "metadata": {
    "collapsed": false,
    "pycharm": {
     "name": "#%%\n"
    }
   }
  },
  {
   "cell_type": "code",
   "execution_count": 21,
   "outputs": [
    {
     "name": "stdout",
     "output_type": "stream",
     "text": [
      "1: w0=1.000000, w1=1.000000, loss=44.175000\n",
      "2: w0=1.209000, w1=1.190600, loss=36.538828\n",
      "3: w0=1.399164, w1=1.363579, loss=30.231687\n",
      "4: w0=1.572208, w1=1.520546, loss=25.022227\n",
      "5: w0=1.729693, w1=1.662961, loss=20.719373\n",
      "6: w0=1.873039, w1=1.792151, loss=17.165309\n",
      "7: w0=2.003532, w1=1.909325, loss=14.229691\n",
      "8: w0=2.122345, w1=2.015577, loss=11.804865\n",
      "9: w0=2.230542, w1=2.111905, loss=9.801916\n",
      "10: w0=2.329091, w1=2.199215, loss=8.147408\n",
      "11: w0=2.418871, w1=2.278330, loss=6.780688\n",
      "12: w0=2.500681, w1=2.349997, loss=5.651660\n",
      "13: w0=2.575247, w1=2.414898, loss=4.718950\n",
      "14: w0=2.643230, w1=2.473648, loss=3.948384\n",
      "15: w0=2.705228, w1=2.526811, loss=3.311740\n",
      "16: w0=2.761786, w1=2.574896, loss=2.785706\n",
      "17: w0=2.813402, w1=2.618367, loss=2.351029\n",
      "18: w0=2.860524, w1=2.657645, loss=1.991807\n",
      "19: w0=2.903561, w1=2.693114, loss=1.694907\n",
      "20: w0=2.942886, w1=2.725122, loss=1.449482\n",
      "21: w0=2.978836, w1=2.753985, loss=1.246572\n",
      "22: w0=3.011719, w1=2.779990, loss=1.078777\n",
      "23: w0=3.041814, w1=2.803399, loss=0.939987\n",
      "24: w0=3.069373, w1=2.824449, loss=0.825153\n",
      "25: w0=3.094629, w1=2.843355, loss=0.730107\n",
      "26: w0=3.117790, w1=2.860315, loss=0.651405\n",
      "27: w0=3.139046, w1=2.875507, loss=0.586204\n",
      "28: w0=3.158572, w1=2.889091, loss=0.532154\n",
      "29: w0=3.176523, w1=2.901216, loss=0.487315\n",
      "30: w0=3.193044, w1=2.912016, loss=0.450086\n",
      "31: w0=3.208263, w1=2.921611, loss=0.419142\n",
      "32: w0=3.222299, w1=2.930112, loss=0.393392\n",
      "33: w0=3.235259, w1=2.937620, loss=0.371931\n",
      "34: w0=3.247241, w1=2.944226, loss=0.354014\n",
      "35: w0=3.258333, w1=2.950012, loss=0.339026\n",
      "36: w0=3.268616, w1=2.955055, loss=0.326459\n",
      "37: w0=3.278162, w1=2.959422, loss=0.315890\n",
      "38: w0=3.287040, w1=2.963177, loss=0.306975\n",
      "39: w0=3.295308, w1=2.966375, loss=0.299426\n",
      "40: w0=3.303022, w1=2.969067, loss=0.293006\n",
      "41: w0=3.310232, w1=2.971302, loss=0.287521\n",
      "42: w0=3.316983, w1=2.973120, loss=0.282807\n",
      "43: w0=3.323317, w1=2.974561, loss=0.278733\n",
      "44: w0=3.329270, w1=2.975659, loss=0.275188\n",
      "45: w0=3.334878, w1=2.976447, loss=0.272081\n",
      "46: w0=3.340170, w1=2.976954, loss=0.269337\n",
      "47: w0=3.345176, w1=2.977205, loss=0.266894\n",
      "48: w0=3.349920, w1=2.977225, loss=0.264699\n",
      "49: w0=3.354426, w1=2.977035, loss=0.262712\n",
      "50: w0=3.358715, w1=2.976655, loss=0.260897\n",
      "51: w0=3.362806, w1=2.976104, loss=0.259226\n",
      "52: w0=3.366718, w1=2.975396, loss=0.257673\n",
      "53: w0=3.370464, w1=2.974548, loss=0.256220\n",
      "54: w0=3.374061, w1=2.973573, loss=0.254850\n",
      "55: w0=3.377521, w1=2.972482, loss=0.253550\n",
      "56: w0=3.380855, w1=2.971288, loss=0.252309\n",
      "57: w0=3.384076, w1=2.969999, loss=0.251117\n",
      "58: w0=3.387192, w1=2.968626, loss=0.249967\n",
      "59: w0=3.390213, w1=2.967176, loss=0.248853\n",
      "60: w0=3.393147, w1=2.965657, loss=0.247768\n",
      "61: w0=3.396000, w1=2.964077, loss=0.246710\n",
      "62: w0=3.398781, w1=2.962441, loss=0.245675\n",
      "63: w0=3.401495, w1=2.960754, loss=0.244658\n",
      "64: w0=3.404147, w1=2.959023, loss=0.243659\n",
      "65: w0=3.406742, w1=2.957252, loss=0.242675\n",
      "66: w0=3.409286, w1=2.955445, loss=0.241705\n",
      "67: w0=3.411782, w1=2.953606, loss=0.240746\n",
      "68: w0=3.414235, w1=2.951738, loss=0.239799\n",
      "69: w0=3.416646, w1=2.949845, loss=0.238861\n",
      "70: w0=3.419021, w1=2.947929, loss=0.237933\n",
      "71: w0=3.421361, w1=2.945994, loss=0.237012\n",
      "72: w0=3.423669, w1=2.944041, loss=0.236100\n",
      "73: w0=3.425948, w1=2.942073, loss=0.235195\n",
      "74: w0=3.428199, w1=2.940092, loss=0.234298\n",
      "75: w0=3.430425, w1=2.938099, loss=0.233407\n",
      "76: w0=3.432628, w1=2.936096, loss=0.232522\n",
      "77: w0=3.434808, w1=2.934085, loss=0.231644\n",
      "78: w0=3.436968, w1=2.932067, loss=0.230772\n",
      "79: w0=3.439109, w1=2.930043, loss=0.229905\n",
      "80: w0=3.441231, w1=2.928014, loss=0.229044\n",
      "81: w0=3.443337, w1=2.925982, loss=0.228189\n",
      "82: w0=3.445427, w1=2.923947, loss=0.227340\n",
      "83: w0=3.447502, w1=2.921909, loss=0.226495\n",
      "84: w0=3.449563, w1=2.919871, loss=0.225656\n",
      "85: w0=3.451610, w1=2.917832, loss=0.224823\n",
      "86: w0=3.453645, w1=2.915793, loss=0.223994\n",
      "87: w0=3.455668, w1=2.913754, loss=0.223171\n",
      "88: w0=3.457680, w1=2.911717, loss=0.222352\n",
      "89: w0=3.459680, w1=2.909681, loss=0.221539\n",
      "90: w0=3.461670, w1=2.907647, loss=0.220730\n",
      "91: w0=3.463650, w1=2.905616, loss=0.219927\n",
      "92: w0=3.465620, w1=2.903587, loss=0.219128\n",
      "93: w0=3.467582, w1=2.901561, loss=0.218334\n",
      "94: w0=3.469534, w1=2.899539, loss=0.217545\n",
      "95: w0=3.471477, w1=2.897520, loss=0.216761\n",
      "96: w0=3.473413, w1=2.895504, loss=0.215982\n",
      "97: w0=3.475340, w1=2.893493, loss=0.215207\n",
      "98: w0=3.477259, w1=2.891485, loss=0.214437\n",
      "99: w0=3.479171, w1=2.889482, loss=0.213671\n",
      "100: w0=3.481075, w1=2.887484, loss=0.212910\n",
      "101: w0=3.482972, w1=2.885490, loss=0.212154\n",
      "102: w0=3.484862, w1=2.883500, loss=0.211402\n",
      "103: w0=3.486745, w1=2.881516, loss=0.210655\n",
      "104: w0=3.488621, w1=2.879536, loss=0.209912\n",
      "105: w0=3.490490, w1=2.877561, loss=0.209174\n",
      "106: w0=3.492353, w1=2.875591, loss=0.208440\n",
      "107: w0=3.494209, w1=2.873627, loss=0.207710\n",
      "108: w0=3.496059, w1=2.871667, loss=0.206985\n",
      "109: w0=3.497903, w1=2.869713, loss=0.206264\n",
      "110: w0=3.499741, w1=2.867764, loss=0.205548\n",
      "111: w0=3.501572, w1=2.865820, loss=0.204836\n",
      "112: w0=3.503397, w1=2.863882, loss=0.204128\n",
      "113: w0=3.505217, w1=2.861949, loss=0.203424\n",
      "114: w0=3.507030, w1=2.860021, loss=0.202725\n",
      "115: w0=3.508838, w1=2.858099, loss=0.202030\n",
      "116: w0=3.510639, w1=2.856182, loss=0.201339\n",
      "117: w0=3.512435, w1=2.854270, loss=0.200652\n",
      "118: w0=3.514226, w1=2.852365, loss=0.199969\n",
      "119: w0=3.516010, w1=2.850464, loss=0.199291\n",
      "120: w0=3.517789, w1=2.848569, loss=0.198616\n",
      "121: w0=3.519563, w1=2.846680, loss=0.197945\n",
      "122: w0=3.521331, w1=2.844796, loss=0.197279\n",
      "123: w0=3.523093, w1=2.842917, loss=0.196616\n",
      "124: w0=3.524850, w1=2.841044, loss=0.195958\n",
      "125: w0=3.526602, w1=2.839176, loss=0.195303\n",
      "126: w0=3.528348, w1=2.837314, loss=0.194653\n",
      "127: w0=3.530089, w1=2.835458, loss=0.194006\n",
      "128: w0=3.531824, w1=2.833607, loss=0.193363\n",
      "129: w0=3.533554, w1=2.831761, loss=0.192724\n",
      "130: w0=3.535279, w1=2.829921, loss=0.192089\n",
      "131: w0=3.536999, w1=2.828086, loss=0.191457\n",
      "132: w0=3.538713, w1=2.826257, loss=0.190830\n",
      "133: w0=3.540422, w1=2.824433, loss=0.190206\n",
      "134: w0=3.542126, w1=2.822614, loss=0.189586\n",
      "135: w0=3.543825, w1=2.820801, loss=0.188970\n",
      "136: w0=3.545518, w1=2.818993, loss=0.188357\n",
      "137: w0=3.547206, w1=2.817191, loss=0.187748\n",
      "138: w0=3.548890, w1=2.815394, loss=0.187143\n",
      "139: w0=3.550568, w1=2.813603, loss=0.186541\n",
      "140: w0=3.552241, w1=2.811816, loss=0.185943\n",
      "141: w0=3.553909, w1=2.810036, loss=0.185348\n",
      "142: w0=3.555572, w1=2.808260, loss=0.184758\n",
      "143: w0=3.557230, w1=2.806490, loss=0.184170\n",
      "144: w0=3.558883, w1=2.804725, loss=0.183586\n",
      "145: w0=3.560531, w1=2.802965, loss=0.183006\n",
      "146: w0=3.562174, w1=2.801211, loss=0.182429\n",
      "147: w0=3.563812, w1=2.799461, loss=0.181856\n",
      "148: w0=3.565445, w1=2.797718, loss=0.181286\n",
      "149: w0=3.567073, w1=2.795979, loss=0.180719\n",
      "150: w0=3.568696, w1=2.794245, loss=0.180156\n",
      "151: w0=3.570315, w1=2.792517, loss=0.179596\n",
      "152: w0=3.571928, w1=2.790794, loss=0.179040\n",
      "153: w0=3.573537, w1=2.789076, loss=0.178487\n",
      "154: w0=3.575141, w1=2.787363, loss=0.177937\n",
      "155: w0=3.576740, w1=2.785656, loss=0.177390\n",
      "156: w0=3.578334, w1=2.783953, loss=0.176847\n",
      "157: w0=3.579923, w1=2.782256, loss=0.176307\n",
      "158: w0=3.581508, w1=2.780563, loss=0.175771\n",
      "159: w0=3.583088, w1=2.778876, loss=0.175237\n",
      "160: w0=3.584663, w1=2.777194, loss=0.174707\n",
      "161: w0=3.586233, w1=2.775517, loss=0.174180\n",
      "162: w0=3.587799, w1=2.773845, loss=0.173656\n",
      "163: w0=3.589360, w1=2.772178, loss=0.173135\n",
      "164: w0=3.590916, w1=2.770516, loss=0.172618\n",
      "165: w0=3.592467, w1=2.768858, loss=0.172103\n",
      "166: w0=3.594014, w1=2.767206, loss=0.171592\n",
      "167: w0=3.595556, w1=2.765559, loss=0.171083\n",
      "168: w0=3.597094, w1=2.763917, loss=0.170578\n",
      "169: w0=3.598627, w1=2.762280, loss=0.170076\n",
      "170: w0=3.600155, w1=2.760647, loss=0.169576\n",
      "171: w0=3.601679, w1=2.759020, loss=0.169080\n",
      "172: w0=3.603198, w1=2.757397, loss=0.168587\n",
      "173: w0=3.604713, w1=2.755780, loss=0.168096\n",
      "174: w0=3.606223, w1=2.754167, loss=0.167609\n",
      "175: w0=3.607728, w1=2.752559, loss=0.167124\n",
      "176: w0=3.609229, w1=2.750956, loss=0.166643\n",
      "177: w0=3.610726, w1=2.749357, loss=0.166164\n",
      "178: w0=3.612218, w1=2.747764, loss=0.165688\n",
      "179: w0=3.613705, w1=2.746175, loss=0.165215\n",
      "180: w0=3.615188, w1=2.744591, loss=0.164745\n",
      "181: w0=3.616667, w1=2.743012, loss=0.164278\n",
      "182: w0=3.618141, w1=2.741437, loss=0.163813\n",
      "183: w0=3.619611, w1=2.739868, loss=0.163352\n",
      "184: w0=3.621076, w1=2.738303, loss=0.162893\n",
      "185: w0=3.622537, w1=2.736742, loss=0.162437\n",
      "186: w0=3.623993, w1=2.735187, loss=0.161983\n",
      "187: w0=3.625446, w1=2.733636, loss=0.161532\n",
      "188: w0=3.626893, w1=2.732089, loss=0.161084\n",
      "189: w0=3.628337, w1=2.730548, loss=0.160639\n",
      "190: w0=3.629776, w1=2.729011, loss=0.160196\n",
      "191: w0=3.631210, w1=2.727478, loss=0.159756\n",
      "192: w0=3.632641, w1=2.725951, loss=0.159319\n",
      "193: w0=3.634067, w1=2.724427, loss=0.158884\n",
      "194: w0=3.635489, w1=2.722909, loss=0.158452\n",
      "195: w0=3.636906, w1=2.721395, loss=0.158022\n",
      "196: w0=3.638320, w1=2.719885, loss=0.157596\n",
      "197: w0=3.639729, w1=2.718380, loss=0.157171\n",
      "198: w0=3.641134, w1=2.716880, loss=0.156749\n",
      "199: w0=3.642534, w1=2.715384, loss=0.156330\n",
      "200: w0=3.643931, w1=2.713892, loss=0.155913\n",
      "201: w0=3.645323, w1=2.712405, loss=0.155499\n",
      "202: w0=3.646711, w1=2.710923, loss=0.155087\n",
      "203: w0=3.648095, w1=2.709445, loss=0.154678\n",
      "204: w0=3.649474, w1=2.707971, loss=0.154271\n",
      "205: w0=3.650850, w1=2.706502, loss=0.153866\n",
      "206: w0=3.652221, w1=2.705037, loss=0.153464\n",
      "207: w0=3.653589, w1=2.703577, loss=0.153065\n",
      "208: w0=3.654952, w1=2.702121, loss=0.152667\n",
      "209: w0=3.656311, w1=2.700669, loss=0.152273\n",
      "210: w0=3.657666, w1=2.699222, loss=0.151880\n",
      "211: w0=3.659017, w1=2.697779, loss=0.151490\n",
      "212: w0=3.660364, w1=2.696340, loss=0.151102\n",
      "213: w0=3.661707, w1=2.694906, loss=0.150717\n",
      "214: w0=3.663045, w1=2.693476, loss=0.150334\n",
      "215: w0=3.664380, w1=2.692050, loss=0.149953\n",
      "216: w0=3.665711, w1=2.690629, loss=0.149574\n",
      "217: w0=3.667038, w1=2.689212, loss=0.149198\n",
      "218: w0=3.668361, w1=2.687799, loss=0.148824\n",
      "219: w0=3.669679, w1=2.686391, loss=0.148452\n",
      "220: w0=3.670994, w1=2.684986, loss=0.148083\n",
      "221: w0=3.672305, w1=2.683586, loss=0.147715\n",
      "222: w0=3.673612, w1=2.682190, loss=0.147350\n",
      "223: w0=3.674915, w1=2.680798, loss=0.146987\n",
      "224: w0=3.676214, w1=2.679411, loss=0.146626\n",
      "225: w0=3.677509, w1=2.678027, loss=0.146268\n",
      "226: w0=3.678801, w1=2.676648, loss=0.145911\n",
      "227: w0=3.680088, w1=2.675273, loss=0.145557\n",
      "228: w0=3.681372, w1=2.673902, loss=0.145205\n",
      "229: w0=3.682651, w1=2.672535, loss=0.144855\n",
      "230: w0=3.683927, w1=2.671173, loss=0.144507\n",
      "231: w0=3.685199, w1=2.669814, loss=0.144161\n",
      "232: w0=3.686468, w1=2.668459, loss=0.143817\n",
      "233: w0=3.687732, w1=2.667109, loss=0.143475\n",
      "234: w0=3.688993, w1=2.665763, loss=0.143136\n",
      "235: w0=3.690249, w1=2.664420, loss=0.142798\n",
      "236: w0=3.691502, w1=2.663082, loss=0.142463\n",
      "237: w0=3.692752, w1=2.661747, loss=0.142129\n",
      "238: w0=3.693997, w1=2.660417, loss=0.141797\n",
      "239: w0=3.695239, w1=2.659091, loss=0.141468\n",
      "240: w0=3.696477, w1=2.657769, loss=0.141140\n",
      "241: w0=3.697711, w1=2.656450, loss=0.140814\n",
      "242: w0=3.698942, w1=2.655136, loss=0.140491\n",
      "243: w0=3.700169, w1=2.653825, loss=0.140169\n",
      "244: w0=3.701392, w1=2.652519, loss=0.139849\n",
      "245: w0=3.702612, w1=2.651216, loss=0.139531\n",
      "246: w0=3.703828, w1=2.649918, loss=0.139215\n",
      "247: w0=3.705040, w1=2.648623, loss=0.138901\n",
      "248: w0=3.706249, w1=2.647332, loss=0.138589\n",
      "249: w0=3.707453, w1=2.646045, loss=0.138278\n",
      "250: w0=3.708655, w1=2.644762, loss=0.137970\n",
      "251: w0=3.709853, w1=2.643482, loss=0.137663\n",
      "252: w0=3.711047, w1=2.642207, loss=0.137358\n",
      "253: w0=3.712237, w1=2.640935, loss=0.137055\n",
      "254: w0=3.713424, w1=2.639668, loss=0.136754\n",
      "255: w0=3.714608, w1=2.638404, loss=0.136455\n",
      "256: w0=3.715788, w1=2.637143, loss=0.136157\n",
      "257: w0=3.716964, w1=2.635887, loss=0.135862\n",
      "258: w0=3.718137, w1=2.634634, loss=0.135568\n",
      "259: w0=3.719306, w1=2.633386, loss=0.135275\n",
      "260: w0=3.720472, w1=2.632141, loss=0.134985\n",
      "261: w0=3.721634, w1=2.630899, loss=0.134696\n",
      "262: w0=3.722793, w1=2.629662, loss=0.134409\n",
      "263: w0=3.723948, w1=2.628428, loss=0.134124\n",
      "264: w0=3.725100, w1=2.627197, loss=0.133840\n",
      "265: w0=3.726248, w1=2.625971, loss=0.133558\n",
      "266: w0=3.727393, w1=2.624748, loss=0.133278\n",
      "267: w0=3.728534, w1=2.623529, loss=0.133000\n",
      "268: w0=3.729672, w1=2.622313, loss=0.132723\n",
      "269: w0=3.730807, w1=2.621102, loss=0.132448\n",
      "270: w0=3.731938, w1=2.619893, loss=0.132174\n",
      "271: w0=3.733066, w1=2.618689, loss=0.131902\n",
      "272: w0=3.734190, w1=2.617488, loss=0.131632\n",
      "273: w0=3.735311, w1=2.616291, loss=0.131363\n",
      "274: w0=3.736429, w1=2.615097, loss=0.131096\n",
      "275: w0=3.737543, w1=2.613907, loss=0.130831\n",
      "276: w0=3.738654, w1=2.612720, loss=0.130567\n",
      "277: w0=3.739762, w1=2.611537, loss=0.130305\n",
      "278: w0=3.740866, w1=2.610358, loss=0.130044\n",
      "279: w0=3.741967, w1=2.609182, loss=0.129785\n",
      "280: w0=3.743065, w1=2.608009, loss=0.129528\n",
      "281: w0=3.744159, w1=2.606840, loss=0.129272\n",
      "282: w0=3.745250, w1=2.605675, loss=0.129017\n",
      "283: w0=3.746338, w1=2.604513, loss=0.128764\n",
      "284: w0=3.747422, w1=2.603355, loss=0.128513\n",
      "285: w0=3.748504, w1=2.602200, loss=0.128263\n",
      "286: w0=3.749582, w1=2.601049, loss=0.128014\n",
      "287: w0=3.750656, w1=2.599901, loss=0.127767\n",
      "288: w0=3.751728, w1=2.598756, loss=0.127522\n",
      "289: w0=3.752796, w1=2.597615, loss=0.127278\n",
      "290: w0=3.753861, w1=2.596478, loss=0.127036\n",
      "291: w0=3.754923, w1=2.595343, loss=0.126795\n",
      "292: w0=3.755982, w1=2.594213, loss=0.126555\n",
      "293: w0=3.757038, w1=2.593085, loss=0.126317\n",
      "294: w0=3.758090, w1=2.591961, loss=0.126080\n",
      "295: w0=3.759139, w1=2.590840, loss=0.125845\n",
      "296: w0=3.760185, w1=2.589723, loss=0.125611\n",
      "297: w0=3.761228, w1=2.588609, loss=0.125378\n",
      "298: w0=3.762268, w1=2.587499, loss=0.125147\n",
      "299: w0=3.763305, w1=2.586391, loss=0.124917\n",
      "300: w0=3.764338, w1=2.585288, loss=0.124689\n",
      "301: w0=3.765369, w1=2.584187, loss=0.124462\n",
      "302: w0=3.766396, w1=2.583090, loss=0.124237\n",
      "303: w0=3.767420, w1=2.581996, loss=0.124012\n",
      "304: w0=3.768441, w1=2.580905, loss=0.123789\n",
      "305: w0=3.769460, w1=2.579818, loss=0.123568\n",
      "306: w0=3.770475, w1=2.578733, loss=0.123348\n",
      "307: w0=3.771487, w1=2.577653, loss=0.123129\n",
      "308: w0=3.772496, w1=2.576575, loss=0.122911\n",
      "309: w0=3.773501, w1=2.575500, loss=0.122695\n",
      "310: w0=3.774504, w1=2.574429, loss=0.122480\n",
      "311: w0=3.775504, w1=2.573361, loss=0.122266\n",
      "312: w0=3.776501, w1=2.572297, loss=0.122054\n",
      "313: w0=3.777495, w1=2.571235, loss=0.121842\n",
      "314: w0=3.778486, w1=2.570177, loss=0.121633\n",
      "315: w0=3.779474, w1=2.569121, loss=0.121424\n",
      "316: w0=3.780459, w1=2.568069, loss=0.121217\n",
      "317: w0=3.781441, w1=2.567021, loss=0.121010\n",
      "318: w0=3.782420, w1=2.565975, loss=0.120806\n",
      "319: w0=3.783396, w1=2.564932, loss=0.120602\n",
      "320: w0=3.784369, w1=2.563893, loss=0.120399\n",
      "321: w0=3.785339, w1=2.562857, loss=0.120198\n",
      "322: w0=3.786307, w1=2.561823, loss=0.119998\n",
      "323: w0=3.787271, w1=2.560793, loss=0.119799\n",
      "324: w0=3.788233, w1=2.559766, loss=0.119602\n",
      "325: w0=3.789191, w1=2.558742, loss=0.119405\n",
      "326: w0=3.790147, w1=2.557722, loss=0.119210\n",
      "327: w0=3.791100, w1=2.556704, loss=0.119016\n",
      "328: w0=3.792050, w1=2.555689, loss=0.118823\n",
      "329: w0=3.792997, w1=2.554677, loss=0.118631\n",
      "330: w0=3.793942, w1=2.553669, loss=0.118441\n",
      "331: w0=3.794883, w1=2.552663, loss=0.118251\n",
      "332: w0=3.795822, w1=2.551661, loss=0.118063\n",
      "333: w0=3.796758, w1=2.550661, loss=0.117876\n",
      "334: w0=3.797691, w1=2.549664, loss=0.117689\n",
      "335: w0=3.798621, w1=2.548671, loss=0.117505\n",
      "336: w0=3.799548, w1=2.547680, loss=0.117321\n",
      "337: w0=3.800473, w1=2.546693, loss=0.117138\n",
      "338: w0=3.801395, w1=2.545708, loss=0.116956\n",
      "339: w0=3.802314, w1=2.544726, loss=0.116776\n",
      "340: w0=3.803230, w1=2.543748, loss=0.116596\n",
      "341: w0=3.804144, w1=2.542772, loss=0.116418\n",
      "342: w0=3.805055, w1=2.541799, loss=0.116240\n",
      "343: w0=3.805963, w1=2.540829, loss=0.116064\n",
      "344: w0=3.806868, w1=2.539862, loss=0.115889\n",
      "345: w0=3.807771, w1=2.538898, loss=0.115715\n",
      "346: w0=3.808671, w1=2.537937, loss=0.115542\n",
      "347: w0=3.809568, w1=2.536979, loss=0.115370\n",
      "348: w0=3.810463, w1=2.536023, loss=0.115199\n",
      "349: w0=3.811354, w1=2.535071, loss=0.115028\n",
      "350: w0=3.812244, w1=2.534121, loss=0.114859\n",
      "351: w0=3.813130, w1=2.533174, loss=0.114692\n",
      "352: w0=3.814014, w1=2.532230, loss=0.114525\n",
      "353: w0=3.814895, w1=2.531289, loss=0.114359\n",
      "354: w0=3.815774, w1=2.530350, loss=0.114194\n",
      "355: w0=3.816650, w1=2.529415, loss=0.114030\n",
      "356: w0=3.817523, w1=2.528482, loss=0.113867\n",
      "357: w0=3.818393, w1=2.527552, loss=0.113705\n",
      "358: w0=3.819262, w1=2.526625, loss=0.113543\n",
      "359: w0=3.820127, w1=2.525701, loss=0.113383\n",
      "360: w0=3.820990, w1=2.524779, loss=0.113224\n",
      "361: w0=3.821850, w1=2.523860, loss=0.113066\n",
      "362: w0=3.822708, w1=2.522944, loss=0.112909\n",
      "363: w0=3.823563, w1=2.522031, loss=0.112753\n",
      "364: w0=3.824415, w1=2.521121, loss=0.112597\n",
      "365: w0=3.825265, w1=2.520213, loss=0.112443\n",
      "366: w0=3.826112, w1=2.519308, loss=0.112289\n",
      "367: w0=3.826957, w1=2.518405, loss=0.112137\n",
      "368: w0=3.827800, w1=2.517506, loss=0.111985\n",
      "369: w0=3.828639, w1=2.516609, loss=0.111834\n",
      "370: w0=3.829477, w1=2.515715, loss=0.111684\n",
      "371: w0=3.830311, w1=2.514823, loss=0.111536\n",
      "372: w0=3.831144, w1=2.513934, loss=0.111387\n",
      "373: w0=3.831973, w1=2.513048, loss=0.111240\n",
      "374: w0=3.832801, w1=2.512164, loss=0.111094\n",
      "375: w0=3.833625, w1=2.511283, loss=0.110949\n",
      "376: w0=3.834448, w1=2.510405, loss=0.110804\n",
      "377: w0=3.835267, w1=2.509530, loss=0.110660\n",
      "378: w0=3.836085, w1=2.508657, loss=0.110518\n",
      "379: w0=3.836900, w1=2.507786, loss=0.110376\n",
      "380: w0=3.837712, w1=2.506919, loss=0.110235\n",
      "381: w0=3.838522, w1=2.506053, loss=0.110094\n",
      "382: w0=3.839329, w1=2.505191, loss=0.109955\n",
      "383: w0=3.840135, w1=2.504331, loss=0.109816\n",
      "384: w0=3.840937, w1=2.503474, loss=0.109679\n",
      "385: w0=3.841738, w1=2.502619, loss=0.109542\n",
      "386: w0=3.842536, w1=2.501767, loss=0.109406\n",
      "387: w0=3.843331, w1=2.500917, loss=0.109270\n",
      "388: w0=3.844124, w1=2.500070, loss=0.109136\n",
      "389: w0=3.844915, w1=2.499225, loss=0.109002\n",
      "390: w0=3.845703, w1=2.498383, loss=0.108870\n",
      "391: w0=3.846489, w1=2.497544, loss=0.108737\n",
      "392: w0=3.847273, w1=2.496707, loss=0.108606\n",
      "393: w0=3.848054, w1=2.495872, loss=0.108476\n",
      "394: w0=3.848833, w1=2.495041, loss=0.108346\n",
      "395: w0=3.849609, w1=2.494211, loss=0.108217\n",
      "396: w0=3.850384, w1=2.493384, loss=0.108089\n",
      "397: w0=3.851156, w1=2.492560, loss=0.107962\n",
      "398: w0=3.851925, w1=2.491738, loss=0.107835\n",
      "399: w0=3.852693, w1=2.490918, loss=0.107709\n",
      "400: w0=3.853457, w1=2.490101, loss=0.107584\n",
      "401: w0=3.854220, w1=2.489287, loss=0.107460\n",
      "402: w0=3.854981, w1=2.488474, loss=0.107336\n",
      "403: w0=3.855739, w1=2.487665, loss=0.107213\n",
      "404: w0=3.856494, w1=2.486857, loss=0.107091\n",
      "405: w0=3.857248, w1=2.486053, loss=0.106970\n",
      "406: w0=3.857999, w1=2.485250, loss=0.106849\n",
      "407: w0=3.858748, w1=2.484450, loss=0.106729\n",
      "408: w0=3.859495, w1=2.483652, loss=0.106610\n",
      "409: w0=3.860240, w1=2.482857, loss=0.106492\n",
      "410: w0=3.860982, w1=2.482064, loss=0.106374\n",
      "411: w0=3.861722, w1=2.481274, loss=0.106257\n",
      "412: w0=3.862460, w1=2.480486, loss=0.106140\n",
      "413: w0=3.863196, w1=2.479700, loss=0.106025\n",
      "414: w0=3.863929, w1=2.478917, loss=0.105910\n",
      "415: w0=3.864660, w1=2.478136, loss=0.105795\n",
      "416: w0=3.865389, w1=2.477357, loss=0.105682\n",
      "417: w0=3.866116, w1=2.476581, loss=0.105569\n",
      "418: w0=3.866841, w1=2.475807, loss=0.105457\n",
      "419: w0=3.867563, w1=2.475035, loss=0.105345\n",
      "420: w0=3.868283, w1=2.474266, loss=0.105234\n",
      "421: w0=3.869002, w1=2.473499, loss=0.105124\n",
      "422: w0=3.869717, w1=2.472734, loss=0.105014\n",
      "423: w0=3.870431, w1=2.471972, loss=0.104905\n",
      "424: w0=3.871143, w1=2.471212, loss=0.104797\n",
      "425: w0=3.871853, w1=2.470454, loss=0.104690\n",
      "426: w0=3.872560, w1=2.469698, loss=0.104583\n",
      "427: w0=3.873265, w1=2.468945, loss=0.104476\n",
      "428: w0=3.873968, w1=2.468194, loss=0.104371\n",
      "429: w0=3.874669, w1=2.467445, loss=0.104265\n",
      "430: w0=3.875368, w1=2.466699, loss=0.104161\n",
      "431: w0=3.876065, w1=2.465954, loss=0.104057\n",
      "432: w0=3.876760, w1=2.465212, loss=0.103954\n",
      "433: w0=3.877453, w1=2.464472, loss=0.103851\n",
      "434: w0=3.878143, w1=2.463735, loss=0.103750\n",
      "435: w0=3.878832, w1=2.462999, loss=0.103648\n",
      "436: w0=3.879518, w1=2.462266, loss=0.103548\n",
      "437: w0=3.880203, w1=2.461535, loss=0.103447\n",
      "438: w0=3.880885, w1=2.460807, loss=0.103348\n",
      "439: w0=3.881565, w1=2.460080, loss=0.103249\n",
      "440: w0=3.882243, w1=2.459356, loss=0.103151\n",
      "441: w0=3.882920, w1=2.458633, loss=0.103053\n",
      "442: w0=3.883594, w1=2.457913, loss=0.102956\n",
      "443: w0=3.884266, w1=2.457195, loss=0.102859\n",
      "444: w0=3.884936, w1=2.456480, loss=0.102763\n",
      "445: w0=3.885604, w1=2.455766, loss=0.102668\n",
      "446: w0=3.886270, w1=2.455055, loss=0.102573\n",
      "447: w0=3.886934, w1=2.454345, loss=0.102479\n",
      "448: w0=3.887596, w1=2.453638, loss=0.102385\n",
      "449: w0=3.888256, w1=2.452933, loss=0.102292\n",
      "450: w0=3.888915, w1=2.452230, loss=0.102199\n",
      "451: w0=3.889571, w1=2.451529, loss=0.102107\n",
      "452: w0=3.890225, w1=2.450831, loss=0.102016\n",
      "453: w0=3.890877, w1=2.450134, loss=0.101925\n",
      "454: w0=3.891527, w1=2.449440, loss=0.101834\n",
      "455: w0=3.892176, w1=2.448747, loss=0.101745\n",
      "456: w0=3.892822, w1=2.448057, loss=0.101655\n",
      "457: w0=3.893466, w1=2.447368, loss=0.101567\n",
      "458: w0=3.894109, w1=2.446682, loss=0.101478\n",
      "459: w0=3.894749, w1=2.445998, loss=0.101391\n",
      "460: w0=3.895388, w1=2.445316, loss=0.101303\n",
      "461: w0=3.896025, w1=2.444636, loss=0.101217\n",
      "462: w0=3.896659, w1=2.443958, loss=0.101131\n",
      "463: w0=3.897292, w1=2.443282, loss=0.101045\n",
      "464: w0=3.897923, w1=2.442608, loss=0.100960\n",
      "465: w0=3.898552, w1=2.441936, loss=0.100875\n",
      "466: w0=3.899180, w1=2.441266, loss=0.100791\n",
      "467: w0=3.899805, w1=2.440598, loss=0.100708\n",
      "468: w0=3.900428, w1=2.439933, loss=0.100625\n",
      "469: w0=3.901050, w1=2.439269, loss=0.100542\n",
      "470: w0=3.901670, w1=2.438607, loss=0.100460\n",
      "471: w0=3.902287, w1=2.437947, loss=0.100378\n",
      "472: w0=3.902903, w1=2.437289, loss=0.100297\n",
      "473: w0=3.903517, w1=2.436633, loss=0.100217\n",
      "474: w0=3.904130, w1=2.435979, loss=0.100136\n",
      "475: w0=3.904740, w1=2.435327, loss=0.100057\n",
      "476: w0=3.905349, w1=2.434677, loss=0.099978\n",
      "477: w0=3.905956, w1=2.434029, loss=0.099899\n",
      "478: w0=3.906560, w1=2.433383, loss=0.099821\n",
      "479: w0=3.907164, w1=2.432739, loss=0.099743\n",
      "480: w0=3.907765, w1=2.432097, loss=0.099666\n",
      "481: w0=3.908364, w1=2.431456, loss=0.099589\n",
      "482: w0=3.908962, w1=2.430818, loss=0.099512\n",
      "483: w0=3.909558, w1=2.430181, loss=0.099437\n",
      "484: w0=3.910152, w1=2.429547, loss=0.099361\n",
      "485: w0=3.910744, w1=2.428914, loss=0.099286\n",
      "486: w0=3.911335, w1=2.428283, loss=0.099212\n",
      "487: w0=3.911924, w1=2.427654, loss=0.099137\n",
      "488: w0=3.912511, w1=2.427027, loss=0.099064\n",
      "489: w0=3.913096, w1=2.426402, loss=0.098991\n",
      "490: w0=3.913680, w1=2.425779, loss=0.098918\n",
      "491: w0=3.914261, w1=2.425158, loss=0.098845\n",
      "492: w0=3.914841, w1=2.424538, loss=0.098774\n",
      "493: w0=3.915420, w1=2.423921, loss=0.098702\n",
      "494: w0=3.915996, w1=2.423305, loss=0.098631\n",
      "495: w0=3.916571, w1=2.422691, loss=0.098560\n",
      "496: w0=3.917144, w1=2.422079, loss=0.098490\n",
      "497: w0=3.917715, w1=2.421469, loss=0.098420\n",
      "498: w0=3.918285, w1=2.420860, loss=0.098351\n",
      "499: w0=3.918853, w1=2.420254, loss=0.098282\n",
      "500: w0=3.919419, w1=2.419649, loss=0.098214\n",
      "501: w0=3.919983, w1=2.419046, loss=0.098146\n",
      "502: w0=3.920546, w1=2.418445, loss=0.098078\n",
      "503: w0=3.921107, w1=2.417846, loss=0.098011\n",
      "504: w0=3.921667, w1=2.417248, loss=0.097944\n",
      "505: w0=3.922224, w1=2.416653, loss=0.097877\n",
      "506: w0=3.922781, w1=2.416059, loss=0.097811\n",
      "507: w0=3.923335, w1=2.415467, loss=0.097745\n",
      "508: w0=3.923888, w1=2.414876, loss=0.097680\n",
      "509: w0=3.924439, w1=2.414288, loss=0.097615\n",
      "510: w0=3.924988, w1=2.413701, loss=0.097551\n",
      "511: w0=3.925536, w1=2.413116, loss=0.097486\n",
      "512: w0=3.926082, w1=2.412532, loss=0.097423\n",
      "513: w0=3.926626, w1=2.411951, loss=0.097359\n",
      "514: w0=3.927169, w1=2.411371, loss=0.097296\n",
      "515: w0=3.927711, w1=2.410793, loss=0.097234\n",
      "516: w0=3.928250, w1=2.410217, loss=0.097171\n",
      "517: w0=3.928788, w1=2.409642, loss=0.097110\n",
      "518: w0=3.929324, w1=2.409069, loss=0.097048\n",
      "519: w0=3.929859, w1=2.408498, loss=0.096987\n",
      "520: w0=3.930392, w1=2.407929, loss=0.096926\n",
      "521: w0=3.930924, w1=2.407361, loss=0.096866\n",
      "522: w0=3.931454, w1=2.406795, loss=0.096806\n",
      "523: w0=3.931982, w1=2.406231, loss=0.096746\n",
      "524: w0=3.932509, w1=2.405668, loss=0.096687\n",
      "525: w0=3.933034, w1=2.405107, loss=0.096628\n",
      "526: w0=3.933558, w1=2.404548, loss=0.096569\n",
      "527: w0=3.934080, w1=2.403990, loss=0.096511\n",
      "528: w0=3.934600, w1=2.403435, loss=0.096453\n",
      "529: w0=3.935119, w1=2.402880, loss=0.096396\n",
      "530: w0=3.935636, w1=2.402328, loss=0.096338\n",
      "531: w0=3.936152, w1=2.401777, loss=0.096282\n",
      "532: w0=3.936666, w1=2.401228, loss=0.096225\n",
      "533: w0=3.937179, w1=2.400680, loss=0.096169\n",
      "534: w0=3.937690, w1=2.400134, loss=0.096113\n",
      "535: w0=3.938200, w1=2.399590, loss=0.096057\n",
      "536: w0=3.938708, w1=2.399047, loss=0.096002\n",
      "537: w0=3.939214, w1=2.398506, loss=0.095947\n",
      "538: w0=3.939719, w1=2.397967, loss=0.095893\n",
      "539: w0=3.940223, w1=2.397429, loss=0.095839\n",
      "540: w0=3.940725, w1=2.396893, loss=0.095785\n",
      "541: w0=3.941225, w1=2.396358, loss=0.095731\n",
      "542: w0=3.941724, w1=2.395825, loss=0.095678\n",
      "543: w0=3.942222, w1=2.395294, loss=0.095625\n",
      "544: w0=3.942718, w1=2.394764, loss=0.095573\n",
      "545: w0=3.943212, w1=2.394236, loss=0.095520\n",
      "546: w0=3.943705, w1=2.393710, loss=0.095468\n",
      "547: w0=3.944197, w1=2.393185, loss=0.095417\n",
      "548: w0=3.944687, w1=2.392661, loss=0.095365\n",
      "549: w0=3.945175, w1=2.392139, loss=0.095314\n",
      "550: w0=3.945662, w1=2.391619, loss=0.095264\n",
      "551: w0=3.946148, w1=2.391100, loss=0.095213\n",
      "552: w0=3.946632, w1=2.390583, loss=0.095163\n",
      "553: w0=3.947115, w1=2.390068, loss=0.095113\n",
      "554: w0=3.947596, w1=2.389554, loss=0.095064\n",
      "555: w0=3.948076, w1=2.389041, loss=0.095015\n",
      "556: w0=3.948554, w1=2.388530, loss=0.094966\n",
      "557: w0=3.949031, w1=2.388021, loss=0.094917\n",
      "558: w0=3.949507, w1=2.387513, loss=0.094869\n",
      "559: w0=3.949981, w1=2.387006, loss=0.094821\n",
      "560: w0=3.950454, w1=2.386502, loss=0.094773\n",
      "561: w0=3.950925, w1=2.385998, loss=0.094725\n",
      "562: w0=3.951395, w1=2.385496, loss=0.094678\n",
      "563: w0=3.951863, w1=2.384996, loss=0.094631\n",
      "564: w0=3.952330, w1=2.384497, loss=0.094585\n",
      "565: w0=3.952796, w1=2.384000, loss=0.094538\n",
      "566: w0=3.953260, w1=2.383504, loss=0.094492\n",
      "567: w0=3.953723, w1=2.383010, loss=0.094447\n",
      "568: w0=3.954184, w1=2.382517, loss=0.094401\n",
      "569: w0=3.954644, w1=2.382026, loss=0.094356\n",
      "570: w0=3.955103, w1=2.381536, loss=0.094311\n",
      "571: w0=3.955560, w1=2.381047, loss=0.094266\n",
      "572: w0=3.956016, w1=2.380560, loss=0.094222\n",
      "573: w0=3.956471, w1=2.380075, loss=0.094178\n",
      "574: w0=3.956924, w1=2.379591, loss=0.094134\n",
      "575: w0=3.957376, w1=2.379108, loss=0.094090\n",
      "576: w0=3.957826, w1=2.378627, loss=0.094047\n",
      "577: w0=3.958275, w1=2.378148, loss=0.094004\n",
      "578: w0=3.958723, w1=2.377669, loss=0.093961\n",
      "579: w0=3.959169, w1=2.377193, loss=0.093918\n",
      "580: w0=3.959614, w1=2.376717, loss=0.093876\n",
      "581: w0=3.960058, w1=2.376243, loss=0.093834\n",
      "582: w0=3.960501, w1=2.375771, loss=0.093792\n",
      "583: w0=3.960942, w1=2.375300, loss=0.093750\n",
      "584: w0=3.961381, w1=2.374830, loss=0.093709\n",
      "585: w0=3.961820, w1=2.374362, loss=0.093668\n",
      "586: w0=3.962257, w1=2.373895, loss=0.093627\n",
      "587: w0=3.962693, w1=2.373429, loss=0.093586\n",
      "588: w0=3.963127, w1=2.372965, loss=0.093546\n",
      "589: w0=3.963560, w1=2.372503, loss=0.093506\n",
      "590: w0=3.963992, w1=2.372041, loss=0.093466\n",
      "591: w0=3.964423, w1=2.371582, loss=0.093426\n",
      "592: w0=3.964852, w1=2.371123, loss=0.093387\n",
      "593: w0=3.965280, w1=2.370666, loss=0.093348\n",
      "594: w0=3.965707, w1=2.370210, loss=0.093309\n",
      "595: w0=3.966132, w1=2.369756, loss=0.093270\n",
      "596: w0=3.966556, w1=2.369303, loss=0.093232\n",
      "597: w0=3.966979, w1=2.368851, loss=0.093194\n",
      "598: w0=3.967401, w1=2.368401, loss=0.093156\n",
      "599: w0=3.967821, w1=2.367952, loss=0.093118\n",
      "600: w0=3.968240, w1=2.367504, loss=0.093080\n",
      "601: w0=3.968658, w1=2.367058, loss=0.093043\n",
      "602: w0=3.969074, w1=2.366613, loss=0.093006\n",
      "603: w0=3.969490, w1=2.366170, loss=0.092969\n",
      "604: w0=3.969904, w1=2.365727, loss=0.092932\n",
      "605: w0=3.970317, w1=2.365286, loss=0.092896\n",
      "606: w0=3.970728, w1=2.364847, loss=0.092860\n",
      "607: w0=3.971139, w1=2.364408, loss=0.092824\n",
      "608: w0=3.971548, w1=2.363972, loss=0.092788\n",
      "609: w0=3.971955, w1=2.363536, loss=0.092752\n",
      "610: w0=3.972362, w1=2.363102, loss=0.092717\n",
      "611: w0=3.972768, w1=2.362669, loss=0.092682\n",
      "612: w0=3.973172, w1=2.362237, loss=0.092647\n",
      "613: w0=3.973575, w1=2.361806, loss=0.092612\n",
      "614: w0=3.973977, w1=2.361377, loss=0.092578\n",
      "615: w0=3.974377, w1=2.360949, loss=0.092544\n",
      "616: w0=3.974776, w1=2.360523, loss=0.092509\n",
      "617: w0=3.975175, w1=2.360098, loss=0.092476\n",
      "618: w0=3.975572, w1=2.359674, loss=0.092442\n",
      "619: w0=3.975967, w1=2.359251, loss=0.092408\n",
      "620: w0=3.976362, w1=2.358829, loss=0.092375\n",
      "621: w0=3.976755, w1=2.358409, loss=0.092342\n",
      "622: w0=3.977148, w1=2.357990, loss=0.092309\n",
      "623: w0=3.977539, w1=2.357573, loss=0.092276\n",
      "624: w0=3.977929, w1=2.357156, loss=0.092244\n",
      "625: w0=3.978317, w1=2.356741, loss=0.092212\n",
      "626: w0=3.978705, w1=2.356327, loss=0.092180\n",
      "627: w0=3.979091, w1=2.355914, loss=0.092148\n",
      "628: w0=3.979476, w1=2.355503, loss=0.092116\n",
      "629: w0=3.979860, w1=2.355093, loss=0.092084\n",
      "630: w0=3.980243, w1=2.354684, loss=0.092053\n",
      "631: w0=3.980625, w1=2.354276, loss=0.092022\n",
      "632: w0=3.981006, w1=2.353870, loss=0.091991\n",
      "633: w0=3.981385, w1=2.353464, loss=0.091960\n",
      "634: w0=3.981763, w1=2.353060, loss=0.091930\n",
      "635: w0=3.982141, w1=2.352657, loss=0.091899\n",
      "636: w0=3.982517, w1=2.352256, loss=0.091869\n",
      "637: w0=3.982892, w1=2.351855, loss=0.091839\n",
      "638: w0=3.983265, w1=2.351456, loss=0.091809\n",
      "639: w0=3.983638, w1=2.351058, loss=0.091779\n",
      "640: w0=3.984010, w1=2.350661, loss=0.091750\n",
      "641: w0=3.984380, w1=2.350266, loss=0.091720\n",
      "642: w0=3.984749, w1=2.349871, loss=0.091691\n",
      "643: w0=3.985117, w1=2.349478, loss=0.091662\n",
      "644: w0=3.985485, w1=2.349086, loss=0.091634\n",
      "645: w0=3.985851, w1=2.348695, loss=0.091605\n",
      "646: w0=3.986215, w1=2.348305, loss=0.091576\n",
      "647: w0=3.986579, w1=2.347917, loss=0.091548\n",
      "648: w0=3.986942, w1=2.347529, loss=0.091520\n",
      "649: w0=3.987304, w1=2.347143, loss=0.091492\n",
      "650: w0=3.987664, w1=2.346758, loss=0.091464\n",
      "651: w0=3.988024, w1=2.346374, loss=0.091437\n",
      "652: w0=3.988382, w1=2.345991, loss=0.091409\n",
      "653: w0=3.988739, w1=2.345610, loss=0.091382\n",
      "654: w0=3.989095, w1=2.345229, loss=0.091355\n",
      "655: w0=3.989451, w1=2.344850, loss=0.091328\n",
      "656: w0=3.989805, w1=2.344472, loss=0.091301\n",
      "657: w0=3.990158, w1=2.344095, loss=0.091274\n",
      "658: w0=3.990510, w1=2.343719, loss=0.091248\n",
      "659: w0=3.990861, w1=2.343344, loss=0.091222\n",
      "660: w0=3.991210, w1=2.342970, loss=0.091195\n",
      "661: w0=3.991559, w1=2.342598, loss=0.091169\n",
      "662: w0=3.991907, w1=2.342226, loss=0.091144\n",
      "663: w0=3.992254, w1=2.341856, loss=0.091118\n",
      "664: w0=3.992599, w1=2.341487, loss=0.091092\n",
      "665: w0=3.992944, w1=2.341119, loss=0.091067\n",
      "666: w0=3.993287, w1=2.340752, loss=0.091042\n",
      "667: w0=3.993630, w1=2.340386, loss=0.091017\n",
      "668: w0=3.993972, w1=2.340021, loss=0.090992\n",
      "669: w0=3.994312, w1=2.339657, loss=0.090967\n",
      "670: w0=3.994652, w1=2.339295, loss=0.090942\n",
      "671: w0=3.994990, w1=2.338933, loss=0.090918\n",
      "672: w0=3.995327, w1=2.338573, loss=0.090893\n",
      "673: w0=3.995664, w1=2.338214, loss=0.090869\n",
      "674: w0=3.995999, w1=2.337855, loss=0.090845\n",
      "675: w0=3.996334, w1=2.337498, loss=0.090821\n",
      "676: w0=3.996667, w1=2.337142, loss=0.090798\n",
      "677: w0=3.996999, w1=2.336787, loss=0.090774\n",
      "678: w0=3.997331, w1=2.336433, loss=0.090750\n",
      "679: w0=3.997661, w1=2.336080, loss=0.090727\n",
      "680: w0=3.997991, w1=2.335728, loss=0.090704\n",
      "681: w0=3.998319, w1=2.335377, loss=0.090681\n",
      "682: w0=3.998647, w1=2.335028, loss=0.090658\n",
      "683: w0=3.998973, w1=2.334679, loss=0.090635\n",
      "684: w0=3.999298, w1=2.334331, loss=0.090613\n",
      "685: w0=3.999623, w1=2.333985, loss=0.090590\n",
      "686: w0=3.999946, w1=2.333639, loss=0.090568\n",
      "687: w0=4.000269, w1=2.333295, loss=0.090545\n",
      "688: w0=4.000591, w1=2.332951, loss=0.090523\n",
      "689: w0=4.000911, w1=2.332609, loss=0.090501\n",
      "690: w0=4.001231, w1=2.332268, loss=0.090480\n",
      "691: w0=4.001550, w1=2.331927, loss=0.090458\n",
      "692: w0=4.001867, w1=2.331588, loss=0.090436\n",
      "693: w0=4.002184, w1=2.331249, loss=0.090415\n",
      "694: w0=4.002500, w1=2.330912, loss=0.090393\n",
      "695: w0=4.002815, w1=2.330576, loss=0.090372\n",
      "696: w0=4.003129, w1=2.330241, loss=0.090351\n",
      "697: w0=4.003442, w1=2.329906, loss=0.090330\n",
      "698: w0=4.003754, w1=2.329573, loss=0.090309\n",
      "699: w0=4.004065, w1=2.329241, loss=0.090289\n",
      "700: w0=4.004375, w1=2.328909, loss=0.090268\n",
      "701: w0=4.004684, w1=2.328579, loss=0.090248\n",
      "702: w0=4.004993, w1=2.328250, loss=0.090227\n",
      "703: w0=4.005300, w1=2.327921, loss=0.090207\n",
      "704: w0=4.005606, w1=2.327594, loss=0.090187\n",
      "705: w0=4.005912, w1=2.327268, loss=0.090167\n",
      "706: w0=4.006217, w1=2.326942, loss=0.090147\n",
      "707: w0=4.006520, w1=2.326618, loss=0.090128\n",
      "708: w0=4.006823, w1=2.326295, loss=0.090108\n",
      "709: w0=4.007125, w1=2.325972, loss=0.090089\n",
      "710: w0=4.007426, w1=2.325651, loss=0.090069\n",
      "711: w0=4.007726, w1=2.325330, loss=0.090050\n",
      "712: w0=4.008025, w1=2.325011, loss=0.090031\n",
      "713: w0=4.008323, w1=2.324692, loss=0.090012\n",
      "714: w0=4.008621, w1=2.324374, loss=0.089993\n",
      "715: w0=4.008917, w1=2.324058, loss=0.089974\n",
      "716: w0=4.009213, w1=2.323742, loss=0.089955\n",
      "717: w0=4.009508, w1=2.323427, loss=0.089937\n",
      "718: w0=4.009801, w1=2.323114, loss=0.089918\n",
      "719: w0=4.010094, w1=2.322801, loss=0.089900\n",
      "720: w0=4.010386, w1=2.322489, loss=0.089882\n",
      "721: w0=4.010678, w1=2.322178, loss=0.089864\n",
      "722: w0=4.010968, w1=2.321868, loss=0.089846\n",
      "723: w0=4.011257, w1=2.321559, loss=0.089828\n",
      "724: w0=4.011546, w1=2.321250, loss=0.089810\n",
      "725: w0=4.011834, w1=2.320943, loss=0.089792\n",
      "726: w0=4.012120, w1=2.320637, loss=0.089775\n",
      "727: w0=4.012406, w1=2.320331, loss=0.089757\n",
      "728: w0=4.012691, w1=2.320027, loss=0.089740\n",
      "729: w0=4.012976, w1=2.319723, loss=0.089723\n",
      "730: w0=4.013259, w1=2.319420, loss=0.089705\n",
      "731: w0=4.013542, w1=2.319119, loss=0.089688\n",
      "732: w0=4.013823, w1=2.318818, loss=0.089671\n",
      "733: w0=4.014104, w1=2.318518, loss=0.089655\n",
      "734: w0=4.014384, w1=2.318219, loss=0.089638\n",
      "735: w0=4.014663, w1=2.317921, loss=0.089621\n",
      "736: w0=4.014942, w1=2.317623, loss=0.089605\n",
      "737: w0=4.015219, w1=2.317327, loss=0.089588\n",
      "738: w0=4.015496, w1=2.317031, loss=0.089572\n",
      "739: w0=4.015772, w1=2.316737, loss=0.089555\n",
      "740: w0=4.016047, w1=2.316443, loss=0.089539\n",
      "741: w0=4.016321, w1=2.316150, loss=0.089523\n",
      "742: w0=4.016594, w1=2.315858, loss=0.089507\n",
      "743: w0=4.016867, w1=2.315567, loss=0.089491\n",
      "744: w0=4.017138, w1=2.315277, loss=0.089476\n",
      "745: w0=4.017409, w1=2.314988, loss=0.089460\n",
      "746: w0=4.017679, w1=2.314699, loss=0.089444\n",
      "747: w0=4.017949, w1=2.314412, loss=0.089429\n",
      "748: w0=4.018217, w1=2.314125, loss=0.089413\n",
      "749: w0=4.018485, w1=2.313839, loss=0.089398\n",
      "750: w0=4.018752, w1=2.313554, loss=0.089383\n",
      "751: w0=4.019018, w1=2.313270, loss=0.089368\n",
      "752: w0=4.019283, w1=2.312987, loss=0.089353\n",
      "753: w0=4.019547, w1=2.312704, loss=0.089338\n",
      "754: w0=4.019811, w1=2.312422, loss=0.089323\n",
      "755: w0=4.020074, w1=2.312142, loss=0.089308\n",
      "756: w0=4.020336, w1=2.311862, loss=0.089293\n",
      "757: w0=4.020597, w1=2.311583, loss=0.089279\n",
      "758: w0=4.020858, w1=2.311304, loss=0.089264\n",
      "759: w0=4.021117, w1=2.311027, loss=0.089250\n",
      "760: w0=4.021376, w1=2.310751, loss=0.089236\n",
      "761: w0=4.021635, w1=2.310475, loss=0.089221\n",
      "762: w0=4.021892, w1=2.310200, loss=0.089207\n",
      "763: w0=4.022149, w1=2.309926, loss=0.089193\n",
      "764: w0=4.022404, w1=2.309653, loss=0.089179\n",
      "765: w0=4.022659, w1=2.309380, loss=0.089165\n",
      "766: w0=4.022914, w1=2.309108, loss=0.089151\n",
      "767: w0=4.023167, w1=2.308838, loss=0.089138\n",
      "768: w0=4.023420, w1=2.308568, loss=0.089124\n",
      "769: w0=4.023672, w1=2.308299, loss=0.089110\n",
      "770: w0=4.023923, w1=2.308030, loss=0.089097\n",
      "771: w0=4.024174, w1=2.307763, loss=0.089084\n",
      "772: w0=4.024424, w1=2.307496, loss=0.089070\n",
      "773: w0=4.024673, w1=2.307230, loss=0.089057\n",
      "774: w0=4.024921, w1=2.306965, loss=0.089044\n",
      "775: w0=4.025168, w1=2.306700, loss=0.089031\n",
      "776: w0=4.025415, w1=2.306437, loss=0.089018\n",
      "777: w0=4.025661, w1=2.306174, loss=0.089005\n",
      "778: w0=4.025906, w1=2.305912, loss=0.088992\n",
      "779: w0=4.026151, w1=2.305651, loss=0.088979\n",
      "780: w0=4.026395, w1=2.305390, loss=0.088966\n",
      "781: w0=4.026638, w1=2.305131, loss=0.088954\n",
      "782: w0=4.026880, w1=2.304872, loss=0.088941\n",
      "783: w0=4.027122, w1=2.304614, loss=0.088929\n",
      "784: w0=4.027363, w1=2.304357, loss=0.088916\n",
      "785: w0=4.027603, w1=2.304100, loss=0.088904\n",
      "786: w0=4.027842, w1=2.303844, loss=0.088892\n",
      "787: w0=4.028081, w1=2.303589, loss=0.088880\n",
      "788: w0=4.028319, w1=2.303335, loss=0.088867\n",
      "789: w0=4.028556, w1=2.303082, loss=0.088855\n",
      "790: w0=4.028793, w1=2.302829, loss=0.088843\n",
      "791: w0=4.029029, w1=2.302577, loss=0.088832\n",
      "792: w0=4.029264, w1=2.302326, loss=0.088820\n",
      "793: w0=4.029498, w1=2.302075, loss=0.088808\n",
      "794: w0=4.029732, w1=2.301826, loss=0.088796\n",
      "795: w0=4.029965, w1=2.301577, loss=0.088785\n",
      "796: w0=4.030198, w1=2.301329, loss=0.088773\n",
      "797: w0=4.030429, w1=2.301081, loss=0.088762\n",
      "798: w0=4.030660, w1=2.300835, loss=0.088750\n",
      "799: w0=4.030891, w1=2.300589, loss=0.088739\n",
      "800: w0=4.031120, w1=2.300343, loss=0.088728\n",
      "801: w0=4.031349, w1=2.300099, loss=0.088716\n",
      "802: w0=4.031577, w1=2.299855, loss=0.088705\n",
      "803: w0=4.031805, w1=2.299612, loss=0.088694\n",
      "804: w0=4.032032, w1=2.299370, loss=0.088683\n",
      "805: w0=4.032258, w1=2.299128, loss=0.088672\n",
      "806: w0=4.032483, w1=2.298888, loss=0.088661\n",
      "807: w0=4.032708, w1=2.298648, loss=0.088651\n",
      "808: w0=4.032932, w1=2.298408, loss=0.088640\n",
      "809: w0=4.033155, w1=2.298170, loss=0.088629\n",
      "810: w0=4.033378, w1=2.297932, loss=0.088619\n",
      "811: w0=4.033600, w1=2.297694, loss=0.088608\n",
      "812: w0=4.033822, w1=2.297458, loss=0.088598\n",
      "813: w0=4.034043, w1=2.297222, loss=0.088587\n",
      "814: w0=4.034263, w1=2.296987, loss=0.088577\n",
      "815: w0=4.034482, w1=2.296753, loss=0.088567\n",
      "816: w0=4.034701, w1=2.296519, loss=0.088556\n",
      "817: w0=4.034919, w1=2.296286, loss=0.088546\n",
      "818: w0=4.035136, w1=2.296054, loss=0.088536\n",
      "819: w0=4.035353, w1=2.295822, loss=0.088526\n",
      "820: w0=4.035569, w1=2.295591, loss=0.088516\n",
      "821: w0=4.035785, w1=2.295361, loss=0.088506\n",
      "822: w0=4.036000, w1=2.295132, loss=0.088496\n",
      "823: w0=4.036214, w1=2.294903, loss=0.088486\n",
      "824: w0=4.036428, w1=2.294675, loss=0.088477\n",
      "825: w0=4.036641, w1=2.294447, loss=0.088467\n",
      "826: w0=4.036853, w1=2.294220, loss=0.088457\n",
      "827: w0=4.037065, w1=2.293994, loss=0.088448\n",
      "828: w0=4.037276, w1=2.293769, loss=0.088438\n",
      "829: w0=4.037486, w1=2.293544, loss=0.088429\n",
      "830: w0=4.037696, w1=2.293320, loss=0.088419\n",
      "831: w0=4.037905, w1=2.293097, loss=0.088410\n",
      "832: w0=4.038113, w1=2.292874, loss=0.088401\n",
      "833: w0=4.038321, w1=2.292652, loss=0.088391\n",
      "834: w0=4.038528, w1=2.292431, loss=0.088382\n",
      "835: w0=4.038735, w1=2.292210, loss=0.088373\n",
      "836: w0=4.038941, w1=2.291990, loss=0.088364\n",
      "837: w0=4.039146, w1=2.291771, loss=0.088355\n",
      "838: w0=4.039351, w1=2.291552, loss=0.088346\n",
      "839: w0=4.039555, w1=2.291334, loss=0.088337\n",
      "840: w0=4.039759, w1=2.291117, loss=0.088328\n",
      "841: w0=4.039962, w1=2.290900, loss=0.088320\n",
      "842: w0=4.040164, w1=2.290684, loss=0.088311\n",
      "843: w0=4.040366, w1=2.290468, loss=0.088302\n",
      "844: w0=4.040567, w1=2.290253, loss=0.088293\n",
      "845: w0=4.040767, w1=2.290039, loss=0.088285\n",
      "846: w0=4.040967, w1=2.289826, loss=0.088276\n",
      "847: w0=4.041167, w1=2.289613, loss=0.088268\n",
      "848: w0=4.041365, w1=2.289401, loss=0.088259\n",
      "849: w0=4.041563, w1=2.289189, loss=0.088251\n",
      "850: w0=4.041761, w1=2.288978, loss=0.088243\n",
      "851: w0=4.041958, w1=2.288768, loss=0.088234\n",
      "852: w0=4.042154, w1=2.288558, loss=0.088226\n",
      "853: w0=4.042350, w1=2.288349, loss=0.088218\n",
      "854: w0=4.042545, w1=2.288141, loss=0.088210\n",
      "855: w0=4.042740, w1=2.287933, loss=0.088202\n",
      "856: w0=4.042934, w1=2.287726, loss=0.088194\n",
      "857: w0=4.043127, w1=2.287519, loss=0.088186\n",
      "858: w0=4.043320, w1=2.287313, loss=0.088178\n",
      "859: w0=4.043512, w1=2.287108, loss=0.088170\n",
      "860: w0=4.043704, w1=2.286903, loss=0.088162\n",
      "861: w0=4.043895, w1=2.286699, loss=0.088154\n",
      "862: w0=4.044085, w1=2.286496, loss=0.088146\n",
      "863: w0=4.044275, w1=2.286293, loss=0.088139\n",
      "864: w0=4.044465, w1=2.286091, loss=0.088131\n",
      "865: w0=4.044653, w1=2.285889, loss=0.088123\n",
      "866: w0=4.044842, w1=2.285688, loss=0.088116\n",
      "867: w0=4.045029, w1=2.285487, loss=0.088108\n",
      "868: w0=4.045216, w1=2.285288, loss=0.088101\n",
      "869: w0=4.045403, w1=2.285088, loss=0.088093\n",
      "870: w0=4.045589, w1=2.284890, loss=0.088086\n",
      "871: w0=4.045774, w1=2.284692, loss=0.088079\n",
      "872: w0=4.045959, w1=2.284494, loss=0.088071\n",
      "873: w0=4.046143, w1=2.284297, loss=0.088064\n",
      "874: w0=4.046327, w1=2.284101, loss=0.088057\n",
      "875: w0=4.046510, w1=2.283906, loss=0.088050\n",
      "876: w0=4.046693, w1=2.283710, loss=0.088043\n",
      "877: w0=4.046875, w1=2.283516, loss=0.088036\n",
      "878: w0=4.047057, w1=2.283322, loss=0.088028\n",
      "879: w0=4.047238, w1=2.283129, loss=0.088021\n",
      "880: w0=4.047418, w1=2.282936, loss=0.088015\n",
      "881: w0=4.047598, w1=2.282744, loss=0.088008\n",
      "882: w0=4.047777, w1=2.282552, loss=0.088001\n",
      "883: w0=4.047956, w1=2.282361, loss=0.087994\n",
      "884: w0=4.048134, w1=2.282171, loss=0.087987\n",
      "885: w0=4.048312, w1=2.281981, loss=0.087980\n",
      "886: w0=4.048489, w1=2.281792, loss=0.087974\n",
      "887: w0=4.048666, w1=2.281603, loss=0.087967\n",
      "888: w0=4.048842, w1=2.281415, loss=0.087960\n",
      "889: w0=4.049018, w1=2.281227, loss=0.087954\n",
      "890: w0=4.049193, w1=2.281040, loss=0.087947\n",
      "891: w0=4.049368, w1=2.280854, loss=0.087941\n",
      "892: w0=4.049542, w1=2.280668, loss=0.087934\n",
      "893: w0=4.049715, w1=2.280482, loss=0.087928\n",
      "894: w0=4.049888, w1=2.280298, loss=0.087921\n",
      "895: w0=4.050061, w1=2.280113, loss=0.087915\n",
      "896: w0=4.050233, w1=2.279930, loss=0.087909\n",
      "897: w0=4.050404, w1=2.279747, loss=0.087902\n",
      "898: w0=4.050575, w1=2.279564, loss=0.087896\n",
      "899: w0=4.050746, w1=2.279382, loss=0.087890\n",
      "900: w0=4.050915, w1=2.279200, loss=0.087884\n",
      "901: w0=4.051085, w1=2.279020, loss=0.087878\n",
      "902: w0=4.051254, w1=2.278839, loss=0.087872\n",
      "903: w0=4.051422, w1=2.278659, loss=0.087865\n",
      "904: w0=4.051590, w1=2.278480, loss=0.087859\n",
      "905: w0=4.051757, w1=2.278301, loss=0.087853\n",
      "906: w0=4.051924, w1=2.278123, loss=0.087847\n",
      "907: w0=4.052091, w1=2.277945, loss=0.087842\n",
      "908: w0=4.052257, w1=2.277768, loss=0.087836\n",
      "909: w0=4.052422, w1=2.277591, loss=0.087830\n",
      "910: w0=4.052587, w1=2.277415, loss=0.087824\n",
      "911: w0=4.052751, w1=2.277240, loss=0.087818\n",
      "912: w0=4.052915, w1=2.277065, loss=0.087813\n",
      "913: w0=4.053078, w1=2.276890, loss=0.087807\n",
      "914: w0=4.053241, w1=2.276716, loss=0.087801\n",
      "915: w0=4.053404, w1=2.276543, loss=0.087795\n",
      "916: w0=4.053566, w1=2.276370, loss=0.087790\n",
      "917: w0=4.053727, w1=2.276197, loss=0.087784\n",
      "918: w0=4.053888, w1=2.276025, loss=0.087779\n",
      "919: w0=4.054049, w1=2.275854, loss=0.087773\n",
      "920: w0=4.054209, w1=2.275683, loss=0.087768\n",
      "921: w0=4.054368, w1=2.275513, loss=0.087762\n",
      "922: w0=4.054527, w1=2.275343, loss=0.087757\n",
      "923: w0=4.054686, w1=2.275174, loss=0.087752\n",
      "924: w0=4.054844, w1=2.275005, loss=0.087746\n",
      "925: w0=4.055001, w1=2.274836, loss=0.087741\n",
      "926: w0=4.055159, w1=2.274669, loss=0.087736\n",
      "927: w0=4.055315, w1=2.274501, loss=0.087730\n",
      "928: w0=4.055471, w1=2.274334, loss=0.087725\n",
      "929: w0=4.055627, w1=2.274168, loss=0.087720\n",
      "930: w0=4.055782, w1=2.274002, loss=0.087715\n",
      "931: w0=4.055937, w1=2.273837, loss=0.087710\n",
      "932: w0=4.056091, w1=2.273672, loss=0.087705\n",
      "933: w0=4.056245, w1=2.273508, loss=0.087700\n",
      "934: w0=4.056399, w1=2.273344, loss=0.087695\n",
      "935: w0=4.056552, w1=2.273181, loss=0.087690\n",
      "936: w0=4.056704, w1=2.273018, loss=0.087685\n",
      "937: w0=4.056856, w1=2.272855, loss=0.087680\n",
      "938: w0=4.057008, w1=2.272693, loss=0.087675\n",
      "939: w0=4.057159, w1=2.272532, loss=0.087670\n",
      "940: w0=4.057309, w1=2.272371, loss=0.087665\n",
      "941: w0=4.057460, w1=2.272211, loss=0.087660\n",
      "942: w0=4.057609, w1=2.272051, loss=0.087655\n",
      "943: w0=4.057759, w1=2.271891, loss=0.087651\n",
      "944: w0=4.057908, w1=2.271732, loss=0.087646\n",
      "945: w0=4.058056, w1=2.271574, loss=0.087641\n",
      "946: w0=4.058204, w1=2.271416, loss=0.087636\n",
      "947: w0=4.058351, w1=2.271258, loss=0.087632\n",
      "948: w0=4.058498, w1=2.271101, loss=0.087627\n",
      "949: w0=4.058645, w1=2.270945, loss=0.087623\n",
      "950: w0=4.058791, w1=2.270788, loss=0.087618\n",
      "951: w0=4.058937, w1=2.270633, loss=0.087614\n",
      "952: w0=4.059082, w1=2.270478, loss=0.087609\n",
      "953: w0=4.059227, w1=2.270323, loss=0.087605\n",
      "954: w0=4.059372, w1=2.270169, loss=0.087600\n",
      "955: w0=4.059516, w1=2.270015, loss=0.087596\n",
      "956: w0=4.059659, w1=2.269861, loss=0.087591\n",
      "957: w0=4.059802, w1=2.269709, loss=0.087587\n",
      "958: w0=4.059945, w1=2.269556, loss=0.087582\n",
      "959: w0=4.060087, w1=2.269404, loss=0.087578\n",
      "960: w0=4.060229, w1=2.269253, loss=0.087574\n",
      "961: w0=4.060371, w1=2.269102, loss=0.087570\n",
      "962: w0=4.060512, w1=2.268951, loss=0.087565\n",
      "963: w0=4.060652, w1=2.268801, loss=0.087561\n",
      "964: w0=4.060792, w1=2.268651, loss=0.087557\n",
      "965: w0=4.060932, w1=2.268502, loss=0.087553\n",
      "966: w0=4.061071, w1=2.268353, loss=0.087549\n",
      "967: w0=4.061210, w1=2.268205, loss=0.087544\n",
      "968: w0=4.061349, w1=2.268057, loss=0.087540\n",
      "969: w0=4.061487, w1=2.267909, loss=0.087536\n",
      "970: w0=4.061624, w1=2.267762, loss=0.087532\n",
      "971: w0=4.061762, w1=2.267616, loss=0.087528\n",
      "972: w0=4.061898, w1=2.267470, loss=0.087524\n",
      "973: w0=4.062035, w1=2.267324, loss=0.087520\n",
      "974: w0=4.062171, w1=2.267179, loss=0.087516\n",
      "975: w0=4.062306, w1=2.267034, loss=0.087512\n",
      "976: w0=4.062442, w1=2.266890, loss=0.087508\n",
      "977: w0=4.062576, w1=2.266746, loss=0.087505\n",
      "978: w0=4.062711, w1=2.266602, loss=0.087501\n",
      "979: w0=4.062845, w1=2.266459, loss=0.087497\n",
      "980: w0=4.062978, w1=2.266316, loss=0.087493\n",
      "981: w0=4.063111, w1=2.266174, loss=0.087489\n",
      "982: w0=4.063244, w1=2.266032, loss=0.087485\n",
      "983: w0=4.063377, w1=2.265891, loss=0.087482\n",
      "984: w0=4.063509, w1=2.265750, loss=0.087478\n",
      "985: w0=4.063640, w1=2.265609, loss=0.087474\n",
      "986: w0=4.063771, w1=2.265469, loss=0.087471\n",
      "987: w0=4.063902, w1=2.265330, loss=0.087467\n",
      "988: w0=4.064032, w1=2.265190, loss=0.087463\n",
      "989: w0=4.064162, w1=2.265052, loss=0.087460\n",
      "990: w0=4.064292, w1=2.264913, loss=0.087456\n",
      "991: w0=4.064421, w1=2.264775, loss=0.087453\n",
      "992: w0=4.064550, w1=2.264638, loss=0.087449\n",
      "993: w0=4.064679, w1=2.264500, loss=0.087446\n",
      "994: w0=4.064807, w1=2.264364, loss=0.087442\n",
      "995: w0=4.064934, w1=2.264227, loss=0.087439\n",
      "996: w0=4.065062, w1=2.264091, loss=0.087435\n",
      "997: w0=4.065189, w1=2.263956, loss=0.087432\n",
      "998: w0=4.065315, w1=2.263821, loss=0.087428\n",
      "999: w0=4.065441, w1=2.263686, loss=0.087425\n",
      "1000: w0=4.065567, w1=2.263552, loss=0.087421\n"
     ]
    }
   ],
   "source": [
    "# 训练数据集\n",
    "train_x = np.array([0.5, 0.6, 0.8, 1.1, 1.4])  # 输入集\n",
    "train_y = np.array([5.0, 5.5, 6.0, 6.8, 7.0])  # 输出集\n",
    "\n",
    "n_epochs = 1000  # 迭代次数\n",
    "lrate = 0.01  # 学习率\n",
    "epochs = []  # 记录迭代次数\n",
    "losses = []  # 记录损失值\n",
    "\n",
    "w0, w1 = [1], [1]  # 模型初始值\n",
    "\n",
    "for i in range(1, n_epochs + 1):\n",
    "    epochs.append(i)  # 记录第几次迭代\n",
    "\n",
    "    y = w0[-1] + w1[-1] * train_x  # 取出最新的w0,w1计算线性方程输出\n",
    "    # 损失函数(均方差)\n",
    "    loss = (((train_y - y) ** 2).sum()) / 2\n",
    "    losses.append(loss)  # 记录每次迭代的损失值\n",
    "\n",
    "    print(\"%d: w0=%f, w1=%f, loss=%f\" % (i, w0[-1], w1[-1], loss))\n",
    "\n",
    "    # 计算w0,w1的偏导数\n",
    "    d0 = -(train_y - y).sum()\n",
    "    d1 = -(train_x * (train_y - y)).sum()\n",
    "\n",
    "    # 更新w0,w1\n",
    "    w0.append(w0[-1] - (d0 * lrate))\n",
    "    w1.append(w1[-1] - (d1 * lrate))\n"
   ],
   "metadata": {
    "collapsed": false,
    "pycharm": {
     "name": "#%%\n"
    }
   }
  },
  {
   "cell_type": "code",
   "execution_count": 31,
   "outputs": [],
   "source": [
    "predict = train_x * w1 + w0"
   ],
   "metadata": {
    "collapsed": false,
    "pycharm": {
     "name": "#%%\n"
    }
   }
  },
  {
   "cell_type": "code",
   "execution_count": 40,
   "outputs": [
    {
     "name": "stdout",
     "output_type": "stream",
     "text": [
      "轮数：  1,w1:1.00000000,w0:1.00000000,loss:44.64000000\n",
      "轮数：  2,w1:1.19200000,w0:1.21000000,loss:36.91272744\n",
      "轮数：  3,w1:1.36627360,w0:1.40105200,loss:30.53038412\n",
      "轮数：  4,w1:1.52443802,w0:1.57488336,loss:25.25885355\n",
      "轮数：  5,w1:1.66796299,w0:1.73306392,loss:20.90477290\n",
      "轮数：  6,w1:1.79818421,w0:1.87702035,loss:17.30843882\n",
      "轮数：  7,w1:1.91631558,w0:2.00804923,loss:14.33794822\n",
      "轮数：  8,w1:2.02346026,w0:2.12732888,loss:11.88435894\n",
      "轮数：  9,w1:2.12062085,w0:2.23593019,loss:9.85769285\n",
      "轮数： 10,w1:2.20870848,w0:2.33482636,loss:8.18363468\n",
      "轮数： 11,w1:2.28855120,w0:2.42490187,loss:6.80080555\n",
      "轮数： 12,w1:2.36090156,w0:2.50696052,loss:5.65851105\n",
      "轮数： 13,w1:2.42644345,w0:2.58173283,loss:4.71488137\n",
      "轮数： 14,w1:2.48579840,w0:2.64988268,loss:3.93533513\n",
      "轮数： 15,w1:2.53953127,w0:2.71201341,loss:3.29131069\n",
      "轮数： 16,w1:2.58815540,w0:2.76867337,loss:2.75921825\n",
      "轮数： 17,w1:2.63213730,w0:2.82036086,loss:2.31957438\n",
      "轮数： 18,w1:2.67190096,w0:2.86752878,loss:1.95628721\n",
      "轮数： 19,w1:2.70783167,w0:2.91058869,loss:1.65606605\n",
      "轮数： 20,w1:2.74027961,w0:2.94991467,loss:1.40793375\n",
      "轮数： 21,w1:2.76956300,w0:2.98584663,loss:1.20282402\n",
      "轮数： 22,w1:2.79597107,w0:3.01869353,loss:1.03324876\n",
      "轮数： 23,w1:2.81976663,w0:3.04873612,loss:0.89302335\n",
      "轮数： 24,w1:2.84118856,w0:3.07622959,loss:0.77703974\n",
      "轮数： 25,w1:2.86045392,w0:3.10140581,loss:0.68107907\n",
      "轮数： 26,w1:2.87776000,w0:3.12447555,loss:0.60165687\n",
      "轮数： 27,w1:2.89328608,w0:3.14563033,loss:0.53589519\n",
      "轮数： 28,w1:2.90719511,w0:3.16504423,loss:0.48141709\n",
      "轮数： 29,w1:2.91963514,w0:3.18287543,loss:0.43625937\n",
      "轮数： 30,w1:2.93074074,w0:3.19926771,loss:0.39880057\n",
      "轮数： 31,w1:2.94063422,w0:3.21435173,loss:0.36770146\n",
      "轮数： 32,w1:2.94942671,w0:3.22824624,loss:0.34185597\n",
      "轮数： 33,w1:2.95721922,w0:3.24105915,loss:0.32035053\n",
      "轮数： 34,w1:2.96410353,w0:3.25288855,loss:0.30243059\n",
      "轮数： 35,w1:2.97016306,w0:3.26382357,loss:0.28747298\n",
      "轮数： 36,w1:2.97547361,w0:3.27394521,loss:0.27496296\n",
      "轮数： 37,w1:2.98010409,w0:3.28332712,loss:0.26447540\n",
      "轮数： 38,w1:2.98411709,w0:3.29203618,loss:0.25565919\n",
      "轮数： 39,w1:2.98756953,w0:3.30013322,loss:0.24822430\n",
      "轮数： 40,w1:2.99051309,w0:3.30767350,loss:0.24193121\n",
      "轮数： 41,w1:2.99299478,w0:3.31470725,loss:0.23658207\n",
      "轮数： 42,w1:2.99505729,w0:3.32128011,loss:0.23201347\n",
      "轮数： 43,w1:2.99673943,w0:3.32743359,loss:0.22809045\n",
      "轮数： 44,w1:2.99807647,w0:3.33320537,loss:0.22470152\n",
      "轮数： 45,w1:2.99910046,w0:3.33862974,loss:0.22175461\n",
      "轮数： 46,w1:2.99984051,w0:3.34373783,loss:0.21917365\n",
      "轮数： 47,w1:3.00032309,w0:3.34855796,loss:0.21689584\n",
      "轮数： 48,w1:3.00057226,w0:3.35311584,loss:0.21486927\n",
      "轮数： 49,w1:3.00060987,w0:3.35743487,loss:0.21305108\n",
      "轮数： 50,w1:3.00045578,w0:3.36153630,loss:0.21140586\n",
      "轮数： 51,w1:3.00012804,w0:3.36543943,loss:0.20990437\n",
      "轮数： 52,w1:2.99964304,w0:3.36916182,loss:0.20852244\n",
      "轮数： 53,w1:2.99901570,w0:3.37271944,loss:0.20724012\n",
      "轮数： 54,w1:2.99825955,w0:3.37612677,loss:0.20604090\n",
      "轮数： 55,w1:2.99738690,w0:3.37939701,loss:0.20491116\n",
      "轮数： 56,w1:2.99640893,w0:3.38254214,loss:0.20383965\n",
      "轮数： 57,w1:2.99533580,w0:3.38557304,loss:0.20281705\n",
      "轮数： 58,w1:2.99417675,w0:3.38849961,loss:0.20183568\n",
      "轮数： 59,w1:2.99294015,w0:3.39133086,loss:0.20088919\n",
      "轮数： 60,w1:2.99163364,w0:3.39407495,loss:0.19997231\n",
      "轮数： 61,w1:2.99026413,w0:3.39673932,loss:0.19908070\n",
      "轮数： 62,w1:2.98883793,w0:3.39933073,loss:0.19821078\n",
      "轮数： 63,w1:2.98736074,w0:3.40185533,loss:0.19735956\n",
      "轮数： 64,w1:2.98583776,w0:3.40431869,loss:0.19652459\n",
      "轮数： 65,w1:2.98427371,w0:3.40672589,loss:0.19570382\n",
      "轮数： 66,w1:2.98267287,w0:3.40908155,loss:0.19489559\n",
      "轮数： 67,w1:2.98103914,w0:3.41138987,loss:0.19409847\n",
      "轮数： 68,w1:2.97937606,w0:3.41365465,loss:0.19331133\n",
      "轮数： 69,w1:2.97768683,w0:3.41587937,loss:0.19253318\n",
      "轮数： 70,w1:2.97597438,w0:3.41806718,loss:0.19176325\n",
      "轮数： 71,w1:2.97424136,w0:3.42022095,loss:0.19100085\n",
      "轮数： 72,w1:2.97249017,w0:3.42234328,loss:0.19024544\n",
      "轮数： 73,w1:2.97072300,w0:3.42443655,loss:0.18949655\n",
      "轮数： 74,w1:2.96894183,w0:3.42650291,loss:0.18875380\n",
      "轮数： 75,w1:2.96714848,w0:3.42854433,loss:0.18801687\n",
      "轮数： 76,w1:2.96534456,w0:3.43056258,loss:0.18728548\n",
      "轮数： 77,w1:2.96353158,w0:3.43255929,loss:0.18655941\n",
      "轮数： 78,w1:2.96171088,w0:3.43453593,loss:0.18583846\n",
      "轮数： 79,w1:2.95988367,w0:3.43649386,loss:0.18512247\n",
      "轮数： 80,w1:2.95805109,w0:3.43843428,loss:0.18441129\n",
      "轮数： 81,w1:2.95621412,w0:3.44035832,loss:0.18370482\n",
      "轮数： 82,w1:2.95437369,w0:3.44226698,loss:0.18300294\n",
      "轮数： 83,w1:2.95253063,w0:3.44416119,loss:0.18230556\n",
      "轮数： 84,w1:2.95068568,w0:3.44604179,loss:0.18161261\n",
      "轮数： 85,w1:2.94883953,w0:3.44790953,loss:0.18092402\n",
      "轮数： 86,w1:2.94699281,w0:3.44976511,loss:0.18023973\n",
      "轮数： 87,w1:2.94514606,w0:3.45160917,loss:0.17955968\n",
      "轮数： 88,w1:2.94329980,w0:3.45344229,loss:0.17888383\n",
      "轮数： 89,w1:2.94145449,w0:3.45526498,loss:0.17821212\n",
      "轮数： 90,w1:2.93961054,w0:3.45707773,loss:0.17754452\n",
      "轮数： 91,w1:2.93776833,w0:3.45888098,loss:0.17688099\n",
      "轮数： 92,w1:2.93592821,w0:3.46067513,loss:0.17622149\n",
      "轮数： 93,w1:2.93409048,w0:3.46246053,loss:0.17556600\n",
      "轮数： 94,w1:2.93225542,w0:3.46423752,loss:0.17491447\n",
      "轮数： 95,w1:2.93042328,w0:3.46600641,loss:0.17426688\n",
      "轮数： 96,w1:2.92859428,w0:3.46776746,loss:0.17362320\n",
      "轮数： 97,w1:2.92676865,w0:3.46952094,loss:0.17298341\n",
      "轮数： 98,w1:2.92494655,w0:3.47126707,loss:0.17234747\n",
      "轮数： 99,w1:2.92312816,w0:3.47300607,loss:0.17171535\n",
      "轮数：100,w1:2.92131363,w0:3.47473813,loss:0.17108705\n",
      "轮数：101,w1:2.91950309,w0:3.47646342,loss:0.17046252\n",
      "轮数：102,w1:2.91769666,w0:3.47818212,loss:0.16984175\n",
      "轮数：103,w1:2.91589446,w0:3.47989436,loss:0.16922471\n",
      "轮数：104,w1:2.91409657,w0:3.48160028,loss:0.16861137\n",
      "轮数：105,w1:2.91230309,w0:3.48330002,loss:0.16800172\n",
      "轮数：106,w1:2.91051409,w0:3.48499368,loss:0.16739573\n",
      "轮数：107,w1:2.90872965,w0:3.48668138,loss:0.16679338\n",
      "轮数：108,w1:2.90694982,w0:3.48836320,loss:0.16619465\n",
      "轮数：109,w1:2.90517465,w0:3.49003925,loss:0.16559951\n",
      "轮数：110,w1:2.90340421,w0:3.49170961,loss:0.16500795\n",
      "轮数：111,w1:2.90163852,w0:3.49337434,loss:0.16441993\n",
      "轮数：112,w1:2.89987763,w0:3.49503353,loss:0.16383545\n",
      "轮数：113,w1:2.89812156,w0:3.49668724,loss:0.16325447\n",
      "轮数：114,w1:2.89637035,w0:3.49833553,loss:0.16267698\n",
      "轮数：115,w1:2.89462402,w0:3.49997845,loss:0.16210295\n",
      "轮数：116,w1:2.89288258,w0:3.50161607,loss:0.16153237\n",
      "轮数：117,w1:2.89114606,w0:3.50324844,loss:0.16096522\n",
      "轮数：118,w1:2.88941448,w0:3.50487559,loss:0.16040146\n",
      "轮数：119,w1:2.88768783,w0:3.50649757,loss:0.15984109\n",
      "轮数：120,w1:2.88596614,w0:3.50811443,loss:0.15928408\n",
      "轮数：121,w1:2.88424940,w0:3.50972620,loss:0.15873042\n",
      "轮数：122,w1:2.88253762,w0:3.51133291,loss:0.15818008\n",
      "轮数：123,w1:2.88083081,w0:3.51293461,loss:0.15763303\n",
      "轮数：124,w1:2.87912897,w0:3.51453133,loss:0.15708928\n",
      "轮数：125,w1:2.87743209,w0:3.51612309,loss:0.15654878\n",
      "轮数：126,w1:2.87574017,w0:3.51770992,loss:0.15601153\n",
      "轮数：127,w1:2.87405322,w0:3.51929186,loss:0.15547750\n",
      "轮数：128,w1:2.87237123,w0:3.52086892,loss:0.15494667\n",
      "轮数：129,w1:2.87069419,w0:3.52244114,loss:0.15441903\n",
      "轮数：130,w1:2.86902209,w0:3.52400854,loss:0.15389456\n",
      "轮数：131,w1:2.86735494,w0:3.52557114,loss:0.15337323\n",
      "轮数：132,w1:2.86569272,w0:3.52712897,loss:0.15285503\n",
      "轮数：133,w1:2.86403543,w0:3.52868204,loss:0.15233994\n",
      "轮数：134,w1:2.86238305,w0:3.53023038,loss:0.15182794\n",
      "轮数：135,w1:2.86073559,w0:3.53177400,loss:0.15131901\n",
      "轮数：136,w1:2.85909302,w0:3.53331294,loss:0.15081314\n",
      "轮数：137,w1:2.85745534,w0:3.53484720,loss:0.15031030\n",
      "轮数：138,w1:2.85582253,w0:3.53637680,loss:0.14981048\n",
      "轮数：139,w1:2.85419460,w0:3.53790177,loss:0.14931366\n",
      "轮数：140,w1:2.85257152,w0:3.53942212,loss:0.14881981\n",
      "轮数：141,w1:2.85095328,w0:3.54093787,loss:0.14832893\n",
      "轮数：142,w1:2.84933988,w0:3.54244903,loss:0.14784100\n",
      "轮数：143,w1:2.84773130,w0:3.54395562,loss:0.14735600\n",
      "轮数：144,w1:2.84612753,w0:3.54545767,loss:0.14687390\n",
      "轮数：145,w1:2.84452856,w0:3.54695517,loss:0.14639470\n",
      "轮数：146,w1:2.84293437,w0:3.54844816,loss:0.14591837\n",
      "轮数：147,w1:2.84134495,w0:3.54993664,loss:0.14544490\n",
      "轮数：148,w1:2.83976029,w0:3.55142063,loss:0.14497427\n",
      "轮数：149,w1:2.83818038,w0:3.55290014,loss:0.14450646\n",
      "轮数：150,w1:2.83660520,w0:3.55437520,loss:0.14404147\n",
      "轮数：151,w1:2.83503474,w0:3.55584581,loss:0.14357926\n",
      "轮数：152,w1:2.83346899,w0:3.55731199,loss:0.14311982\n",
      "轮数：153,w1:2.83190793,w0:3.55877376,loss:0.14266314\n",
      "轮数：154,w1:2.83035156,w0:3.56023112,loss:0.14220921\n",
      "轮数：155,w1:2.82879985,w0:3.56168409,loss:0.14175799\n",
      "轮数：156,w1:2.82725280,w0:3.56313270,loss:0.14130948\n",
      "轮数：157,w1:2.82571038,w0:3.56457694,loss:0.14086367\n",
      "轮数：158,w1:2.82417260,w0:3.56601683,loss:0.14042053\n",
      "轮数：159,w1:2.82263943,w0:3.56745240,loss:0.13998004\n",
      "轮数：160,w1:2.82111086,w0:3.56888364,loss:0.13954220\n",
      "轮数：161,w1:2.81958688,w0:3.57031058,loss:0.13910699\n",
      "轮数：162,w1:2.81806748,w0:3.57173323,loss:0.13867439\n",
      "轮数：163,w1:2.81655263,w0:3.57315160,loss:0.13824438\n",
      "轮数：164,w1:2.81504233,w0:3.57456571,loss:0.13781696\n",
      "轮数：165,w1:2.81353657,w0:3.57597556,loss:0.13739210\n",
      "轮数：166,w1:2.81203533,w0:3.57738117,loss:0.13696979\n",
      "轮数：167,w1:2.81053860,w0:3.57878256,loss:0.13655001\n",
      "轮数：168,w1:2.80904636,w0:3.58017973,loss:0.13613275\n",
      "轮数：169,w1:2.80755860,w0:3.58157270,loss:0.13571799\n",
      "轮数：170,w1:2.80607531,w0:3.58296149,loss:0.13530573\n",
      "轮数：171,w1:2.80459648,w0:3.58434610,loss:0.13489593\n",
      "轮数：172,w1:2.80312209,w0:3.58572655,loss:0.13448860\n",
      "轮数：173,w1:2.80165212,w0:3.58710285,loss:0.13408371\n",
      "轮数：174,w1:2.80018657,w0:3.58847502,loss:0.13368125\n",
      "轮数：175,w1:2.79872542,w0:3.58984306,loss:0.13328120\n",
      "轮数：176,w1:2.79726867,w0:3.59120699,loss:0.13288355\n",
      "轮数：177,w1:2.79581628,w0:3.59256681,loss:0.13248829\n",
      "轮数：178,w1:2.79436826,w0:3.59392256,loss:0.13209540\n",
      "轮数：179,w1:2.79292459,w0:3.59527423,loss:0.13170487\n",
      "轮数：180,w1:2.79148526,w0:3.59662183,loss:0.13131668\n",
      "轮数：181,w1:2.79005025,w0:3.59796539,loss:0.13093082\n",
      "轮数：182,w1:2.78861955,w0:3.59930491,loss:0.13054728\n",
      "轮数：183,w1:2.78719315,w0:3.60064040,loss:0.13016604\n",
      "轮数：184,w1:2.78577104,w0:3.60197188,loss:0.12978708\n",
      "轮数：185,w1:2.78435320,w0:3.60329936,loss:0.12941040\n",
      "轮数：186,w1:2.78293961,w0:3.60462286,loss:0.12903598\n",
      "轮数：187,w1:2.78153028,w0:3.60594237,loss:0.12866381\n",
      "轮数：188,w1:2.78012517,w0:3.60725792,loss:0.12829386\n",
      "轮数：189,w1:2.77872429,w0:3.60856952,loss:0.12792614\n",
      "轮数：190,w1:2.77732762,w0:3.60987717,loss:0.12756063\n",
      "轮数：191,w1:2.77593514,w0:3.61118090,loss:0.12719730\n",
      "轮数：192,w1:2.77454685,w0:3.61248071,loss:0.12683616\n",
      "轮数：193,w1:2.77316273,w0:3.61377661,loss:0.12647718\n",
      "轮数：194,w1:2.77178277,w0:3.61506862,loss:0.12612036\n",
      "轮数：195,w1:2.77040695,w0:3.61635675,loss:0.12576568\n",
      "轮数：196,w1:2.76903526,w0:3.61764100,loss:0.12541313\n",
      "轮数：197,w1:2.76766770,w0:3.61892140,loss:0.12506269\n",
      "轮数：198,w1:2.76630425,w0:3.62019795,loss:0.12471436\n",
      "轮数：199,w1:2.76494489,w0:3.62147067,loss:0.12436811\n",
      "轮数：200,w1:2.76358962,w0:3.62273956,loss:0.12402394\n",
      "轮数：201,w1:2.76223841,w0:3.62400464,loss:0.12368184\n",
      "轮数：202,w1:2.76089127,w0:3.62526592,loss:0.12334179\n",
      "轮数：203,w1:2.75954818,w0:3.62652340,loss:0.12300378\n",
      "轮数：204,w1:2.75820912,w0:3.62777711,loss:0.12266780\n",
      "轮数：205,w1:2.75687408,w0:3.62902706,loss:0.12233384\n",
      "轮数：206,w1:2.75554306,w0:3.63027324,loss:0.12200187\n",
      "轮数：207,w1:2.75421603,w0:3.63151569,loss:0.12167190\n",
      "轮数：208,w1:2.75289299,w0:3.63275440,loss:0.12134391\n",
      "轮数：209,w1:2.75157393,w0:3.63398939,loss:0.12101789\n",
      "轮数：210,w1:2.75025883,w0:3.63522066,loss:0.12069383\n",
      "轮数：211,w1:2.74894768,w0:3.63644824,loss:0.12037171\n",
      "轮数：212,w1:2.74764047,w0:3.63767213,loss:0.12005152\n",
      "轮数：213,w1:2.74633719,w0:3.63889235,loss:0.11973325\n",
      "轮数：214,w1:2.74503782,w0:3.64010889,loss:0.11941689\n",
      "轮数：215,w1:2.74374236,w0:3.64132178,loss:0.11910243\n",
      "轮数：216,w1:2.74245079,w0:3.64253103,loss:0.11878986\n",
      "轮数：217,w1:2.74116310,w0:3.64373664,loss:0.11847916\n",
      "轮数：218,w1:2.73987927,w0:3.64493864,loss:0.11817033\n",
      "轮数：219,w1:2.73859931,w0:3.64613702,loss:0.11786335\n",
      "轮数：220,w1:2.73732319,w0:3.64733180,loss:0.11755821\n",
      "轮数：221,w1:2.73605091,w0:3.64852299,loss:0.11725490\n",
      "轮数：222,w1:2.73478245,w0:3.64971060,loss:0.11695341\n",
      "轮数：223,w1:2.73351780,w0:3.65089464,loss:0.11665373\n",
      "轮数：224,w1:2.73225695,w0:3.65207512,loss:0.11635585\n",
      "轮数：225,w1:2.73099988,w0:3.65325206,loss:0.11605976\n",
      "轮数：226,w1:2.72974660,w0:3.65442546,loss:0.11576544\n",
      "轮数：227,w1:2.72849708,w0:3.65559534,loss:0.11547289\n",
      "轮数：228,w1:2.72725131,w0:3.65676170,loss:0.11518210\n",
      "轮数：229,w1:2.72600929,w0:3.65792456,loss:0.11489305\n",
      "轮数：230,w1:2.72477100,w0:3.65908392,loss:0.11460573\n",
      "轮数：231,w1:2.72353643,w0:3.66023980,loss:0.11432014\n",
      "轮数：232,w1:2.72230557,w0:3.66139221,loss:0.11403626\n",
      "轮数：233,w1:2.72107840,w0:3.66254115,loss:0.11375408\n",
      "轮数：234,w1:2.71985493,w0:3.66368665,loss:0.11347360\n",
      "轮数：235,w1:2.71863513,w0:3.66482870,loss:0.11319480\n",
      "轮数：236,w1:2.71741899,w0:3.66596732,loss:0.11291767\n",
      "轮数：237,w1:2.71620651,w0:3.66710252,loss:0.11264221\n",
      "轮数：238,w1:2.71499767,w0:3.66823430,loss:0.11236840\n",
      "轮数：239,w1:2.71379246,w0:3.66936269,loss:0.11209623\n",
      "轮数：240,w1:2.71259088,w0:3.67048769,loss:0.11182569\n",
      "轮数：241,w1:2.71139290,w0:3.67160930,loss:0.11155678\n",
      "轮数：242,w1:2.71019853,w0:3.67272755,loss:0.11128948\n",
      "轮数：243,w1:2.70900774,w0:3.67384244,loss:0.11102379\n",
      "轮数：244,w1:2.70782053,w0:3.67495398,loss:0.11075968\n",
      "轮数：245,w1:2.70663689,w0:3.67606217,loss:0.11049717\n",
      "轮数：246,w1:2.70545680,w0:3.67716704,loss:0.11023623\n",
      "轮数：247,w1:2.70428026,w0:3.67826859,loss:0.10997685\n",
      "轮数：248,w1:2.70310726,w0:3.67936683,loss:0.10971903\n",
      "轮数：249,w1:2.70193778,w0:3.68046177,loss:0.10946276\n",
      "轮数：250,w1:2.70077181,w0:3.68155342,loss:0.10920803\n",
      "轮数：251,w1:2.69960934,w0:3.68264179,loss:0.10895482\n",
      "轮数：252,w1:2.69845037,w0:3.68372689,loss:0.10870313\n",
      "轮数：253,w1:2.69729488,w0:3.68480873,loss:0.10845296\n",
      "轮数：254,w1:2.69614286,w0:3.68588732,loss:0.10820428\n",
      "轮数：255,w1:2.69499431,w0:3.68696266,loss:0.10795710\n",
      "轮数：256,w1:2.69384920,w0:3.68803478,loss:0.10771140\n",
      "轮数：257,w1:2.69270754,w0:3.68910368,loss:0.10746717\n",
      "轮数：258,w1:2.69156930,w0:3.69016936,loss:0.10722441\n",
      "轮数：259,w1:2.69043449,w0:3.69123184,loss:0.10698310\n",
      "轮数：260,w1:2.68930308,w0:3.69229113,loss:0.10674325\n",
      "轮数：261,w1:2.68817508,w0:3.69334724,loss:0.10650483\n",
      "轮数：262,w1:2.68705046,w0:3.69440018,loss:0.10626784\n",
      "轮数：263,w1:2.68592922,w0:3.69544995,loss:0.10603228\n",
      "轮数：264,w1:2.68481135,w0:3.69649656,loss:0.10579813\n",
      "轮数：265,w1:2.68369684,w0:3.69754004,loss:0.10556538\n",
      "轮数：266,w1:2.68258568,w0:3.69858037,loss:0.10533403\n",
      "轮数：267,w1:2.68147786,w0:3.69961759,loss:0.10510407\n",
      "轮数：268,w1:2.68037336,w0:3.70065168,loss:0.10487549\n",
      "轮数：269,w1:2.67927218,w0:3.70168267,loss:0.10464827\n",
      "轮数：270,w1:2.67817432,w0:3.70271056,loss:0.10442243\n",
      "轮数：271,w1:2.67707975,w0:3.70373536,loss:0.10419794\n",
      "轮数：272,w1:2.67598847,w0:3.70475708,loss:0.10397479\n",
      "轮数：273,w1:2.67490046,w0:3.70577574,loss:0.10375298\n",
      "轮数：274,w1:2.67381573,w0:3.70679133,loss:0.10353251\n",
      "轮数：275,w1:2.67273426,w0:3.70780387,loss:0.10331335\n",
      "轮数：276,w1:2.67165603,w0:3.70881337,loss:0.10309552\n",
      "轮数：277,w1:2.67058105,w0:3.70981984,loss:0.10287899\n",
      "轮数：278,w1:2.66950929,w0:3.71082328,loss:0.10266375\n",
      "轮数：279,w1:2.66844076,w0:3.71182371,loss:0.10244981\n",
      "轮数：280,w1:2.66737543,w0:3.71282113,loss:0.10223716\n",
      "轮数：281,w1:2.66631331,w0:3.71381555,loss:0.10202578\n",
      "轮数：282,w1:2.66525438,w0:3.71480699,loss:0.10181566\n",
      "轮数：283,w1:2.66419863,w0:3.71579545,loss:0.10160681\n",
      "轮数：284,w1:2.66314605,w0:3.71678093,loss:0.10139921\n",
      "轮数：285,w1:2.66209663,w0:3.71776346,loss:0.10119286\n",
      "轮数：286,w1:2.66105037,w0:3.71874304,loss:0.10098775\n",
      "轮数：287,w1:2.66000725,w0:3.71971967,loss:0.10078386\n",
      "轮数：288,w1:2.65896726,w0:3.72069337,loss:0.10058120\n",
      "轮数：289,w1:2.65793040,w0:3.72166414,loss:0.10037976\n",
      "轮数：290,w1:2.65689665,w0:3.72263199,loss:0.10017952\n",
      "轮数：291,w1:2.65586601,w0:3.72359694,loss:0.09998049\n",
      "轮数：292,w1:2.65483847,w0:3.72455899,loss:0.09978264\n",
      "轮数：293,w1:2.65381402,w0:3.72551815,loss:0.09958599\n",
      "轮数：294,w1:2.65279264,w0:3.72647442,loss:0.09939052\n",
      "轮数：295,w1:2.65177433,w0:3.72742783,loss:0.09919622\n",
      "轮数：296,w1:2.65075908,w0:3.72837836,loss:0.09900308\n",
      "轮数：297,w1:2.64974688,w0:3.72932605,loss:0.09881111\n",
      "轮数：298,w1:2.64873772,w0:3.73027088,loss:0.09862028\n",
      "轮数：299,w1:2.64773160,w0:3.73121288,loss:0.09843060\n",
      "轮数：300,w1:2.64672849,w0:3.73215204,loss:0.09824206\n"
     ]
    },
    {
     "data": {
      "text/plain": "<Figure size 432x288 with 1 Axes>",
      "image/png": "[encoded data removed]"
     },
     "metadata": {
      "needs_background": "light"
     },
     "output_type": "display_data"
    },
    {
     "data": {
      "text/plain": "<Figure size 432x288 with 3 Axes>",
      "image/png": "[encoded data removed]"
     },
     "metadata": {
      "needs_background": "light"
     },
     "output_type": "display_data"
    }
   ],
   "source": [
    "import numpy as np\n",
    "import matplotlib.pyplot as plt\n",
    "\n",
    "x = np.array([0.5, 0.6, 0.8, 1.1, 1.4])\n",
    "y = np.array([5.0, 5.5, 6.0, 6.8, 7.1])\n",
    "\n",
    "#设定模型参数初始值\n",
    "w1 = 1  #权重的初始值一般为随机数\n",
    "w0 = 1  #偏置的初始值一般为0或者1\n",
    "learning_rate = 0.01  #学习率\n",
    "epoch = 300  #训练轮数\n",
    "\n",
    "w1s = []\n",
    "w0s = []\n",
    "losses = []\n",
    "epoches = []\n",
    "\n",
    "for i in range(epoch):\n",
    "    loss = ((w1 * x + w0 - y) ** 2).sum() / 2\n",
    "    print('轮数：{:3},w1:{:.8f},w0:{:.8f},loss:{:.8f}'.format(i + 1, w1, w0, loss))\n",
    "\n",
    "    w1s.append(w1)\n",
    "    w0s.append(w0)\n",
    "    losses.append(loss)\n",
    "    epoches.append(i + 1)\n",
    "\n",
    "    d1 = (x * (w1 * x + w0 - y)).sum()\n",
    "    d0 = (w0 + w1 * x - y).sum()\n",
    "    w1 = w1 - learning_rate * d1\n",
    "    w0 = w0 - learning_rate * d0\n",
    "\n",
    "# print('w1:{},w0:{}'.format(w1,w0))\n",
    "pred_y = w1 * x + w0  #预测值\n",
    "\n",
    "#回归线可视化\n",
    "plt.plot(x, pred_y, color='orangered')\n",
    "plt.scatter(x, y)\n",
    "\n",
    "plt.figure('training')\n",
    "plt.subplot(3, 1, 1)  #3行1列第一个\n",
    "plt.plot(epoches, w1s, color='dodgerblue')\n",
    "\n",
    "plt.subplot(3, 1, 2)  #3行1列第2个\n",
    "plt.plot(epoches, w0s, color='dodgerblue')\n",
    "\n",
    "plt.subplot(3, 1, 3)  #3行1列第3个\n",
    "plt.plot(epoches, losses, color='orangered')\n",
    "plt.show()"
   ],
   "metadata": {
    "collapsed": false,
    "pycharm": {
     "name": "#%%\n"
    }
   }
  },
  {
   "cell_type": "code",
   "execution_count": 43,
   "outputs": [],
   "source": [
    "import matplotlib.pyplot as plt"
   ],
   "metadata": {
    "collapsed": false,
    "pycharm": {
     "name": "#%%\n"
    }
   }
  },
  {
   "cell_type": "code",
   "execution_count": 42,
   "outputs": [
    {
     "name": "stdout",
     "output_type": "stream",
     "text": [
      "   YearsExperience  Salary\n",
      "0              1.1   39343\n",
      "1              1.3   46205\n",
      "2              1.5   37731\n",
      "3              2.0   43525\n",
      "4              2.2   39891\n"
     ]
    }
   ],
   "source": [
    "#使用sklearn的API实现线性回归\n",
    "import pandas as pd  #数据准备\n",
    "\n",
    "data = pd.read_csv('Salary_Data.csv')\n",
    "print(data.head())"
   ],
   "metadata": {
    "collapsed": false,
    "pycharm": {
     "name": "#%%\n"
    }
   }
  },
  {
   "cell_type": "code",
   "execution_count": 45,
   "outputs": [
    {
     "data": {
      "text/plain": "<matplotlib.collections.PathCollection at 0x1210d9f40>"
     },
     "execution_count": 45,
     "metadata": {},
     "output_type": "execute_result"
    },
    {
     "data": {
      "text/plain": "<Figure size 432x288 with 1 Axes>",
      "image/png": "[encoded data removed]"
     },
     "metadata": {
      "needs_background": "light"
     },
     "output_type": "display_data"
    }
   ],
   "source": [
    "plt.scatter(data['YearsExperience'], data['Salary'])"
   ],
   "metadata": {
    "collapsed": false,
    "pycharm": {
     "name": "#%%\n"
    }
   }
  },
  {
   "cell_type": "code",
   "execution_count": 49,
   "outputs": [],
   "source": [
    "#整理输入和输出数据\n",
    "x = data.iloc[:, :-1]  #要所有行，不要最后一列,这样就能切出来二维的x了\n",
    "y = data.iloc[:, -1]"
   ],
   "metadata": {
    "collapsed": false,
    "pycharm": {
     "name": "#%%\n"
    }
   }
  },
  {
   "cell_type": "code",
   "execution_count": 54,
   "outputs": [],
   "source": [
    "import sklearn.linear_model as lm  #线性模型"
   ],
   "metadata": {
    "collapsed": false,
    "pycharm": {
     "name": "#%%\n"
    }
   }
  },
  {
   "cell_type": "code",
   "execution_count": 55,
   "outputs": [],
   "source": [
    "model = lm.LinearRegression()\n",
    "model.fit(x, y)\n",
    "pred_y = model.predict(x)"
   ],
   "metadata": {
    "collapsed": false,
    "pycharm": {
     "name": "#%%\n"
    }
   }
  },
  {
   "cell_type": "code",
   "execution_count": 56,
   "outputs": [
    {
     "data": {
      "text/plain": "<function matplotlib.pyplot.show(close=None, block=None)>"
     },
     "execution_count": 56,
     "metadata": {},
     "output_type": "execute_result"
    },
    {
     "data": {
      "text/plain": "<Figure size 432x288 with 1 Axes>",
      "image/png": "[encoded data removed]"
     },
     "metadata": {
      "needs_background": "light"
     },
     "output_type": "display_data"
    }
   ],
   "source": [
    "plt.plot(x, pred_y)\n",
    "plt.scatter(data['YearsExperience'], data['Salary'])\n",
    "plt.show"
   ],
   "metadata": {
    "collapsed": false,
    "pycharm": {
     "name": "#%%\n"
    }
   }
  },
  {
   "cell_type": "code",
   "execution_count": 58,
   "outputs": [
    {
     "name": "stdout",
     "output_type": "stream",
     "text": [
      "w1: 9449.962321455076\n",
      "w0: 25792.200198668696\n"
     ]
    }
   ],
   "source": [
    "print('w1:', model.coef_[0])  #这个返回的是一个数组\n",
    "print('w0:', model.intercept_)"
   ],
   "metadata": {
    "collapsed": false,
    "pycharm": {
     "name": "#%%\n"
    }
   }
  },
  {
   "cell_type": "code",
   "execution_count": null,
   "outputs": [],
   "source": [
    "#在全部样本中挑选一些数据用于测试集，假装测试集没参加过训练"
   ],
   "metadata": {
    "collapsed": false,
    "pycharm": {
     "name": "#%%\n"
    }
   }
  },
  {
   "cell_type": "code",
   "execution_count": 59,
   "outputs": [],
   "source": [
    "text_x = x.iloc[::4]  #二维的所以用iloc\n",
    "text_y = y[::4]"
   ],
   "metadata": {
    "collapsed": false,
    "pycharm": {
     "name": "#%%\n"
    }
   }
  },
  {
   "cell_type": "code",
   "execution_count": 60,
   "outputs": [],
   "source": [
    "predict_test_y = model.predict(text_x)"
   ],
   "metadata": {
    "collapsed": false,
    "pycharm": {
     "name": "#%%\n"
    }
   }
  },
  {
   "cell_type": "code",
   "execution_count": 61,
   "outputs": [],
   "source": [
    "import sklearn.metrics as sm  # 模型性能评价模块 ,这种误差的计算都是从后向前去的"
   ],
   "metadata": {
    "collapsed": false,
    "pycharm": {
     "name": "#%%\n"
    }
   }
  },
  {
   "cell_type": "code",
   "execution_count": 62,
   "outputs": [
    {
     "data": {
      "text/plain": "4587.366522327393"
     },
     "execution_count": 62,
     "metadata": {},
     "output_type": "execute_result"
    }
   ],
   "source": [
    "#平均绝对误差\n",
    "sm.mean_absolute_error(text_y, predict_test_y)"
   ],
   "metadata": {
    "collapsed": false,
    "pycharm": {
     "name": "#%%\n"
    }
   }
  },
  {
   "cell_type": "code",
   "execution_count": 63,
   "outputs": [
    {
     "data": {
      "text/plain": "29784216.419621635"
     },
     "execution_count": 63,
     "metadata": {},
     "output_type": "execute_result"
    }
   ],
   "source": [
    "#平均平方误差\n",
    "sm.mean_squared_error(text_y, predict_test_y)"
   ],
   "metadata": {
    "collapsed": false,
    "pycharm": {
     "name": "#%%\n"
    }
   }
  },
  {
   "cell_type": "code",
   "execution_count": 64,
   "outputs": [
    {
     "data": {
      "text/plain": "4895.44536610986"
     },
     "execution_count": 64,
     "metadata": {},
     "output_type": "execute_result"
    }
   ],
   "source": [
    "#中位数绝对误差\n",
    "sm.median_absolute_error(text_y, predict_test_y)"
   ],
   "metadata": {
    "collapsed": false,
    "pycharm": {
     "name": "#%%\n"
    }
   }
  },
  {
   "cell_type": "code",
   "execution_count": 66,
   "outputs": [
    {
     "data": {
      "text/plain": "0.964548495965924"
     },
     "execution_count": 66,
     "metadata": {},
     "output_type": "execute_result"
    }
   ],
   "source": [
    "#R2是评价模型的，前面是评价数值的\n",
    "sm.r2_score(text_y,predict_test_y)"
   ],
   "metadata": {
    "collapsed": false,
    "pycharm": {
     "name": "#%%\n"
    }
   }
  }
 ],
 "metadata": {
  "kernelspec": {
   "display_name": "Python 3",
   "language": "python",
   "name": "python3"
  },
  "language_info": {
   "codemirror_mode": {
    "name": "ipython",
    "version": 2
   },
   "file_extension": ".py",
   "mimetype": "text/x-python",
   "name": "python",
   "nbconvert_exporter": "python",
   "pygments_lexer": "ipython2",
   "version": "2.7.6"
  }
 },
 "nbformat": 4,
 "nbformat_minor": 0
}