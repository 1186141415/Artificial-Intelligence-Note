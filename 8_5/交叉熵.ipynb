{
 "cells": [
  {
   "cell_type": "code",
   "execution_count": 1,
   "metadata": {
    "collapsed": true,
    "pycharm": {
     "name": "#%%\n"
    }
   },
   "outputs": [],
   "source": [
    "#计算多个类别的交叉熵\n",
    "import math"
   ]
  },
  {
   "cell_type": "code",
   "execution_count": 2,
   "outputs": [],
   "source": [
    "y_true = [0, 1, 0, 0, 0]"
   ],
   "metadata": {
    "collapsed": false,
    "pycharm": {
     "name": "#%%\n"
    }
   }
  },
  {
   "cell_type": "code",
   "execution_count": 3,
   "outputs": [],
   "source": [
    "pred_y = [0.1, 0.6, 0.1, 0.1, 0.1]\n",
    "pred_y2 = [0.1, 0.7, 0.1, 0.05, 0.05]\n",
    "pred_y3 = [0.1, 0.8, 0.03, 0.03, 0.04]"
   ],
   "metadata": {
    "collapsed": false,
    "pycharm": {
     "name": "#%%\n"
    }
   }
  },
  {
   "cell_type": "code",
   "execution_count": 4,
   "outputs": [],
   "source": [
    "total_entropy = 0.0\n",
    "total_entropy2 = 0.0\n",
    "total_entropy3 = 0.0"
   ],
   "metadata": {
    "collapsed": false,
    "pycharm": {
     "name": "#%%\n"
    }
   }
  },
  {
   "cell_type": "code",
   "execution_count": 5,
   "outputs": [
    {
     "name": "stdout",
     "output_type": "stream",
     "text": [
      "0.5108256237659907\n",
      "0.35667494393873245\n",
      "0.2231435513142097\n"
     ]
    }
   ],
   "source": [
    "for i in range(len(y_true)):\n",
    "    total_entropy += y_true[i] * math.log(pred_y[i])\n",
    "    total_entropy2 += y_true[i] * math.log(pred_y2[i])\n",
    "    total_entropy3 += y_true[i] * math.log(pred_y3[i])\n",
    "\n",
    "print(-total_entropy)\n",
    "print(-total_entropy2)\n",
    "print(-total_entropy3)"
   ],
   "metadata": {
    "collapsed": false,
    "pycharm": {
     "name": "#%%\n"
    }
   }
  },
  {
   "cell_type": "code",
   "execution_count": 5,
   "outputs": [],
   "source": [],
   "metadata": {
    "collapsed": false,
    "pycharm": {
     "name": "#%%\n"
    }
   }
  }
 ],
 "metadata": {
  "kernelspec": {
   "display_name": "Python 3",
   "language": "python",
   "name": "python3"
  },
  "language_info": {
   "codemirror_mode": {
    "name": "ipython",
    "version": 2
   },
   "file_extension": ".py",
   "mimetype": "text/x-python",
   "name": "python",
   "nbconvert_exporter": "python",
   "pygments_lexer": "ipython2",
   "version": "2.7.6"
  }
 },
 "nbformat": 4,
 "nbformat_minor": 0
}