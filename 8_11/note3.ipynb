{
 "cells": [
  {
   "cell_type": "code",
   "execution_count": 1,
   "metadata": {
    "collapsed": true,
    "pycharm": {
     "name": "#%%\n"
    }
   },
   "outputs": [],
   "source": [
    "#简单的线性回归"
   ]
  },
  {
   "cell_type": "code",
   "execution_count": 1,
   "outputs": [
    {
     "name": "stderr",
     "output_type": "stream",
     "text": [
      "/Library/Frameworks/Python.framework/Versions/3.6/lib/python3.6/site-packages/tensorflow/python/framework/dtypes.py:516: FutureWarning: Passing (type, 1) or '1type' as a synonym of type is deprecated; in a future version of numpy, it will be understood as (type, (1,)) / '(1,)type'.\n",
      "  _np_qint8 = np.dtype([(\"qint8\", np.int8, 1)])\n",
      "/Library/Frameworks/Python.framework/Versions/3.6/lib/python3.6/site-packages/tensorflow/python/framework/dtypes.py:517: FutureWarning: Passing (type, 1) or '1type' as a synonym of type is deprecated; in a future version of numpy, it will be understood as (type, (1,)) / '(1,)type'.\n",
      "  _np_quint8 = np.dtype([(\"quint8\", np.uint8, 1)])\n",
      "/Library/Frameworks/Python.framework/Versions/3.6/lib/python3.6/site-packages/tensorflow/python/framework/dtypes.py:518: FutureWarning: Passing (type, 1) or '1type' as a synonym of type is deprecated; in a future version of numpy, it will be understood as (type, (1,)) / '(1,)type'.\n",
      "  _np_qint16 = np.dtype([(\"qint16\", np.int16, 1)])\n",
      "/Library/Frameworks/Python.framework/Versions/3.6/lib/python3.6/site-packages/tensorflow/python/framework/dtypes.py:519: FutureWarning: Passing (type, 1) or '1type' as a synonym of type is deprecated; in a future version of numpy, it will be understood as (type, (1,)) / '(1,)type'.\n",
      "  _np_quint16 = np.dtype([(\"quint16\", np.uint16, 1)])\n",
      "/Library/Frameworks/Python.framework/Versions/3.6/lib/python3.6/site-packages/tensorflow/python/framework/dtypes.py:520: FutureWarning: Passing (type, 1) or '1type' as a synonym of type is deprecated; in a future version of numpy, it will be understood as (type, (1,)) / '(1,)type'.\n",
      "  _np_qint32 = np.dtype([(\"qint32\", np.int32, 1)])\n",
      "/Library/Frameworks/Python.framework/Versions/3.6/lib/python3.6/site-packages/tensorflow/python/framework/dtypes.py:525: FutureWarning: Passing (type, 1) or '1type' as a synonym of type is deprecated; in a future version of numpy, it will be understood as (type, (1,)) / '(1,)type'.\n",
      "  np_resource = np.dtype([(\"resource\", np.ubyte, 1)])\n",
      "/Library/Frameworks/Python.framework/Versions/3.6/lib/python3.6/site-packages/tensorboard/compat/tensorflow_stub/dtypes.py:541: FutureWarning: Passing (type, 1) or '1type' as a synonym of type is deprecated; in a future version of numpy, it will be understood as (type, (1,)) / '(1,)type'.\n",
      "  _np_qint8 = np.dtype([(\"qint8\", np.int8, 1)])\n",
      "/Library/Frameworks/Python.framework/Versions/3.6/lib/python3.6/site-packages/tensorboard/compat/tensorflow_stub/dtypes.py:542: FutureWarning: Passing (type, 1) or '1type' as a synonym of type is deprecated; in a future version of numpy, it will be understood as (type, (1,)) / '(1,)type'.\n",
      "  _np_quint8 = np.dtype([(\"quint8\", np.uint8, 1)])\n",
      "/Library/Frameworks/Python.framework/Versions/3.6/lib/python3.6/site-packages/tensorboard/compat/tensorflow_stub/dtypes.py:543: FutureWarning: Passing (type, 1) or '1type' as a synonym of type is deprecated; in a future version of numpy, it will be understood as (type, (1,)) / '(1,)type'.\n",
      "  _np_qint16 = np.dtype([(\"qint16\", np.int16, 1)])\n",
      "/Library/Frameworks/Python.framework/Versions/3.6/lib/python3.6/site-packages/tensorboard/compat/tensorflow_stub/dtypes.py:544: FutureWarning: Passing (type, 1) or '1type' as a synonym of type is deprecated; in a future version of numpy, it will be understood as (type, (1,)) / '(1,)type'.\n",
      "  _np_quint16 = np.dtype([(\"quint16\", np.uint16, 1)])\n",
      "/Library/Frameworks/Python.framework/Versions/3.6/lib/python3.6/site-packages/tensorboard/compat/tensorflow_stub/dtypes.py:545: FutureWarning: Passing (type, 1) or '1type' as a synonym of type is deprecated; in a future version of numpy, it will be understood as (type, (1,)) / '(1,)type'.\n",
      "  _np_qint32 = np.dtype([(\"qint32\", np.int32, 1)])\n",
      "/Library/Frameworks/Python.framework/Versions/3.6/lib/python3.6/site-packages/tensorboard/compat/tensorflow_stub/dtypes.py:550: FutureWarning: Passing (type, 1) or '1type' as a synonym of type is deprecated; in a future version of numpy, it will be understood as (type, (1,)) / '(1,)type'.\n",
      "  np_resource = np.dtype([(\"resource\", np.ubyte, 1)])\n"
     ]
    }
   ],
   "source": [
    "import tensorflow as tf\n",
    "import os"
   ],
   "metadata": {
    "collapsed": false,
    "pycharm": {
     "name": "#%%\n"
    }
   }
  },
  {
   "cell_type": "code",
   "execution_count": 2,
   "outputs": [],
   "source": [
    "#数据准备\n",
    "x = tf.random_normal([100, 1], mean=1.75, stddev=0.5, name='xxx')\n",
    "#根据y=2x+5算出来\n",
    "y = tf.matmul(x, [[2.0]]) + 5.0"
   ],
   "metadata": {
    "collapsed": false,
    "pycharm": {
     "name": "#%%\n"
    }
   }
  },
  {
   "cell_type": "code",
   "execution_count": 3,
   "outputs": [],
   "source": [
    "#构建线性模型\n",
    "weight = tf.Variable(initial_value=tf.random_normal([1, 1]), name='w', trainable=True)  #w需要是二维的\n",
    "\n",
    "bias = tf.Variable(0.0, name='b', trainable=True)  #没有trainable=True就不会变，即不会更新\n",
    "\n",
    "pred_y = tf.matmul(x, weight) + bias"
   ],
   "metadata": {
    "collapsed": false,
    "pycharm": {
     "name": "#%%\n"
    }
   }
  },
  {
   "cell_type": "code",
   "execution_count": 4,
   "outputs": [],
   "source": [
    "#构建损失函数 均方误差\n",
    "loss = tf.reduce_mean(tf.square(y - pred_y))\n",
    "\n",
    "#梯度下降优化器\n",
    "train_op = tf.train.GradientDescentOptimizer(learning_rate=0.1).minimize(loss)"
   ],
   "metadata": {
    "collapsed": false,
    "pycharm": {
     "name": "#%%\n"
    }
   }
  },
  {
   "cell_type": "code",
   "execution_count": 5,
   "outputs": [],
   "source": [
    "#初始化\n",
    "init_op = tf.global_variables_initializer()"
   ],
   "metadata": {
    "collapsed": false,
    "pycharm": {
     "name": "#%%\n"
    }
   }
  },
  {
   "cell_type": "code",
   "execution_count": 6,
   "outputs": [],
   "source": [
    "#收集标量\n",
    "tf.summary.scalar('losses', loss)\n",
    "#合并摘要\n",
    "merged = tf.summary.merge_all()"
   ],
   "metadata": {
    "collapsed": false,
    "pycharm": {
     "name": "#%%\n"
    }
   }
  },
  {
   "cell_type": "code",
   "execution_count": 7,
   "outputs": [],
   "source": [
    "#创建模型保存对象\n",
    "saver = tf.train.Saver()"
   ],
   "metadata": {
    "collapsed": false,
    "pycharm": {
     "name": "#%%\n"
    }
   }
  },
  {
   "cell_type": "code",
   "execution_count": 8,
   "outputs": [
    {
     "name": "stdout",
     "output_type": "stream",
     "text": [
      "weight:[[-0.12246533]],bias:0.0\n",
      "WARNING:tensorflow:From /Library/Frameworks/Python.framework/Versions/3.6/lib/python3.6/site-packages/tensorflow/python/training/saver.py:1276: checkpoint_exists (from tensorflow.python.training.checkpoint_management) is deprecated and will be removed in a future version.\n",
      "Instructions for updating:\n",
      "Use standard file APIs to check for files with this prefix.\n",
      "INFO:tensorflow:Restoring parameters from ./model/linear_model/\n",
      "epoch:1,weight:[[2.0000045]],bias:4.999990940093994\n",
      "epoch:2,weight:[[2.0000048]],bias:4.999991416931152\n",
      "epoch:3,weight:[[2.0000045]],bias:4.999991416931152\n",
      "epoch:4,weight:[[2.0000045]],bias:4.999991416931152\n",
      "epoch:5,weight:[[2.0000045]],bias:4.999991416931152\n",
      "epoch:6,weight:[[2.0000045]],bias:4.999991416931152\n",
      "epoch:7,weight:[[2.0000045]],bias:4.999991416931152\n",
      "epoch:8,weight:[[2.0000045]],bias:4.999991416931152\n",
      "epoch:9,weight:[[2.0000045]],bias:4.999991416931152\n",
      "epoch:10,weight:[[2.0000043]],bias:4.999991416931152\n",
      "epoch:11,weight:[[2.0000045]],bias:4.999991416931152\n",
      "epoch:12,weight:[[2.0000045]],bias:4.999991416931152\n",
      "epoch:13,weight:[[2.0000045]],bias:4.999991416931152\n",
      "epoch:14,weight:[[2.0000045]],bias:4.999991416931152\n",
      "epoch:15,weight:[[2.0000048]],bias:4.999991416931152\n",
      "epoch:16,weight:[[2.0000048]],bias:4.999991416931152\n",
      "epoch:17,weight:[[2.0000048]],bias:4.999991416931152\n",
      "epoch:18,weight:[[2.0000045]],bias:4.999991416931152\n",
      "epoch:19,weight:[[2.0000045]],bias:4.999991416931152\n",
      "epoch:20,weight:[[2.0000045]],bias:4.999991416931152\n",
      "epoch:21,weight:[[2.0000045]],bias:4.999991416931152\n",
      "epoch:22,weight:[[2.0000048]],bias:4.999991416931152\n",
      "epoch:23,weight:[[2.0000045]],bias:4.999991416931152\n",
      "epoch:24,weight:[[2.0000045]],bias:4.999991416931152\n",
      "epoch:25,weight:[[2.0000045]],bias:4.999991416931152\n",
      "epoch:26,weight:[[2.0000045]],bias:4.999991416931152\n",
      "epoch:27,weight:[[2.0000045]],bias:4.999991416931152\n",
      "epoch:28,weight:[[2.0000043]],bias:4.999991416931152\n",
      "epoch:29,weight:[[2.0000045]],bias:4.9999918937683105\n",
      "epoch:30,weight:[[2.0000045]],bias:4.9999918937683105\n",
      "epoch:31,weight:[[2.0000043]],bias:4.9999918937683105\n",
      "epoch:32,weight:[[2.0000043]],bias:4.9999918937683105\n",
      "epoch:33,weight:[[2.0000043]],bias:4.9999918937683105\n",
      "epoch:34,weight:[[2.0000043]],bias:4.9999918937683105\n",
      "epoch:35,weight:[[2.0000043]],bias:4.9999918937683105\n",
      "epoch:36,weight:[[2.0000043]],bias:4.9999918937683105\n",
      "epoch:37,weight:[[2.0000043]],bias:4.9999918937683105\n",
      "epoch:38,weight:[[2.0000043]],bias:4.9999918937683105\n",
      "epoch:39,weight:[[2.0000043]],bias:4.9999918937683105\n",
      "epoch:40,weight:[[2.0000043]],bias:4.9999918937683105\n",
      "epoch:41,weight:[[2.0000045]],bias:4.9999918937683105\n",
      "epoch:42,weight:[[2.0000043]],bias:4.9999918937683105\n",
      "epoch:43,weight:[[2.0000043]],bias:4.9999918937683105\n",
      "epoch:44,weight:[[2.0000043]],bias:4.9999918937683105\n",
      "epoch:45,weight:[[2.0000043]],bias:4.9999918937683105\n",
      "epoch:46,weight:[[2.0000043]],bias:4.9999918937683105\n",
      "epoch:47,weight:[[2.0000043]],bias:4.9999918937683105\n",
      "epoch:48,weight:[[2.0000043]],bias:4.9999918937683105\n",
      "epoch:49,weight:[[2.0000043]],bias:4.9999918937683105\n",
      "epoch:50,weight:[[2.0000043]],bias:4.9999918937683105\n",
      "epoch:51,weight:[[2.0000043]],bias:4.9999918937683105\n",
      "epoch:52,weight:[[2.0000043]],bias:4.9999918937683105\n",
      "epoch:53,weight:[[2.0000043]],bias:4.9999918937683105\n",
      "epoch:54,weight:[[2.0000043]],bias:4.9999918937683105\n",
      "epoch:55,weight:[[2.0000043]],bias:4.9999918937683105\n",
      "epoch:56,weight:[[2.0000043]],bias:4.9999918937683105\n",
      "epoch:57,weight:[[2.000004]],bias:4.9999918937683105\n",
      "epoch:58,weight:[[2.0000043]],bias:4.999992370605469\n",
      "epoch:59,weight:[[2.000004]],bias:4.999992370605469\n",
      "epoch:60,weight:[[2.000004]],bias:4.999992370605469\n",
      "epoch:61,weight:[[2.000004]],bias:4.999992370605469\n",
      "epoch:62,weight:[[2.0000038]],bias:4.999992370605469\n",
      "epoch:63,weight:[[2.000004]],bias:4.999992370605469\n",
      "epoch:64,weight:[[2.000004]],bias:4.999992370605469\n",
      "epoch:65,weight:[[2.000004]],bias:4.999992370605469\n",
      "epoch:66,weight:[[2.000004]],bias:4.999992370605469\n",
      "epoch:67,weight:[[2.000004]],bias:4.999992370605469\n",
      "epoch:68,weight:[[2.000004]],bias:4.999992370605469\n",
      "epoch:69,weight:[[2.000004]],bias:4.999992370605469\n",
      "epoch:70,weight:[[2.000004]],bias:4.999992370605469\n",
      "epoch:71,weight:[[2.000004]],bias:4.999992370605469\n",
      "epoch:72,weight:[[2.000004]],bias:4.999992370605469\n",
      "epoch:73,weight:[[2.000004]],bias:4.999992370605469\n",
      "epoch:74,weight:[[2.000004]],bias:4.999992370605469\n",
      "epoch:75,weight:[[2.000004]],bias:4.999992370605469\n",
      "epoch:76,weight:[[2.000004]],bias:4.999992370605469\n",
      "epoch:77,weight:[[2.000004]],bias:4.999992370605469\n",
      "epoch:78,weight:[[2.000004]],bias:4.999992370605469\n",
      "epoch:79,weight:[[2.000004]],bias:4.999992370605469\n",
      "epoch:80,weight:[[2.000004]],bias:4.999992370605469\n",
      "epoch:81,weight:[[2.000004]],bias:4.999992370605469\n",
      "epoch:82,weight:[[2.000004]],bias:4.999992370605469\n",
      "epoch:83,weight:[[2.000004]],bias:4.999992370605469\n",
      "epoch:84,weight:[[2.000004]],bias:4.999992370605469\n",
      "epoch:85,weight:[[2.000004]],bias:4.999992370605469\n",
      "epoch:86,weight:[[2.000004]],bias:4.999992370605469\n",
      "epoch:87,weight:[[2.000004]],bias:4.999992370605469\n",
      "epoch:88,weight:[[2.000004]],bias:4.999992370605469\n",
      "epoch:89,weight:[[2.000004]],bias:4.999992370605469\n",
      "epoch:90,weight:[[2.0000043]],bias:4.999992370605469\n",
      "epoch:91,weight:[[2.000004]],bias:4.999992370605469\n",
      "epoch:92,weight:[[2.0000038]],bias:4.999992370605469\n",
      "epoch:93,weight:[[2.0000038]],bias:4.999992370605469\n",
      "epoch:94,weight:[[2.000004]],bias:4.999992370605469\n",
      "epoch:95,weight:[[2.000004]],bias:4.999992370605469\n",
      "epoch:96,weight:[[2.0000038]],bias:4.999992370605469\n",
      "epoch:97,weight:[[2.000004]],bias:4.999992370605469\n",
      "epoch:98,weight:[[2.000004]],bias:4.999992370605469\n",
      "epoch:99,weight:[[2.000004]],bias:4.999992370605469\n",
      "epoch:100,weight:[[2.000004]],bias:4.999992370605469\n"
     ]
    }
   ],
   "source": [
    "#运行\n",
    "with tf.Session() as sess:\n",
    "    sess.run(init_op)\n",
    "    print('weight:{},bias:{}'.format(weight.eval(), bias.eval()))\n",
    "\n",
    "    #创建文件写入对象\n",
    "    fw = tf.summary.FileWriter('./', graph=sess.graph)\n",
    "\n",
    "    #在训练前检查是否有模型保存\n",
    "    if os.path.exists('./model/linear_model/checkpoint'):\n",
    "        saver.restore(sess, './model/linear_model/')\n",
    "\n",
    "    #开始训练\n",
    "    for i in range(100):\n",
    "        sess.run(train_op)\n",
    "        #执行合并\n",
    "        summary = sess.run(merged)\n",
    "        fw.add_summary(summary, i + 1)\n",
    "        print(\"epoch:{},weight:{},bias:{}\".format(i + 1, weight.eval(), bias.eval()))\n",
    "\n",
    "    #保存模型\n",
    "    saver.save(sess, './model/linear_model/')\n"
   ],
   "metadata": {
    "collapsed": false,
    "pycharm": {
     "name": "#%%\n"
    }
   }
  },
  {
   "cell_type": "code",
   "execution_count": null,
   "outputs": [],
   "source": [],
   "metadata": {
    "collapsed": false,
    "pycharm": {
     "name": "#%%\n"
    }
   }
  }
 ],
 "metadata": {
  "kernelspec": {
   "display_name": "Python 3",
   "language": "python",
   "name": "python3"
  },
  "language_info": {
   "codemirror_mode": {
    "name": "ipython",
    "version": 2
   },
   "file_extension": ".py",
   "mimetype": "text/x-python",
   "name": "python",
   "nbconvert_exporter": "python",
   "pygments_lexer": "ipython2",
   "version": "2.7.6"
  }
 },
 "nbformat": 4,
 "nbformat_minor": 0
}