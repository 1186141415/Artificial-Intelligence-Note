{
 "cells": [
  {
   "cell_type": "code",
   "execution_count": 2,
   "outputs": [
    {
     "name": "stderr",
     "output_type": "stream",
     "text": [
      "/Library/Frameworks/Python.framework/Versions/3.6/lib/python3.6/site-packages/tensorflow/python/framework/dtypes.py:516: FutureWarning: Passing (type, 1) or '1type' as a synonym of type is deprecated; in a future version of numpy, it will be understood as (type, (1,)) / '(1,)type'.\n",
      "  _np_qint8 = np.dtype([(\"qint8\", np.int8, 1)])\n",
      "/Library/Frameworks/Python.framework/Versions/3.6/lib/python3.6/site-packages/tensorflow/python/framework/dtypes.py:517: FutureWarning: Passing (type, 1) or '1type' as a synonym of type is deprecated; in a future version of numpy, it will be understood as (type, (1,)) / '(1,)type'.\n",
      "  _np_quint8 = np.dtype([(\"quint8\", np.uint8, 1)])\n",
      "/Library/Frameworks/Python.framework/Versions/3.6/lib/python3.6/site-packages/tensorflow/python/framework/dtypes.py:518: FutureWarning: Passing (type, 1) or '1type' as a synonym of type is deprecated; in a future version of numpy, it will be understood as (type, (1,)) / '(1,)type'.\n",
      "  _np_qint16 = np.dtype([(\"qint16\", np.int16, 1)])\n",
      "/Library/Frameworks/Python.framework/Versions/3.6/lib/python3.6/site-packages/tensorflow/python/framework/dtypes.py:519: FutureWarning: Passing (type, 1) or '1type' as a synonym of type is deprecated; in a future version of numpy, it will be understood as (type, (1,)) / '(1,)type'.\n",
      "  _np_quint16 = np.dtype([(\"quint16\", np.uint16, 1)])\n",
      "/Library/Frameworks/Python.framework/Versions/3.6/lib/python3.6/site-packages/tensorflow/python/framework/dtypes.py:520: FutureWarning: Passing (type, 1) or '1type' as a synonym of type is deprecated; in a future version of numpy, it will be understood as (type, (1,)) / '(1,)type'.\n",
      "  _np_qint32 = np.dtype([(\"qint32\", np.int32, 1)])\n",
      "/Library/Frameworks/Python.framework/Versions/3.6/lib/python3.6/site-packages/tensorflow/python/framework/dtypes.py:525: FutureWarning: Passing (type, 1) or '1type' as a synonym of type is deprecated; in a future version of numpy, it will be understood as (type, (1,)) / '(1,)type'.\n",
      "  np_resource = np.dtype([(\"resource\", np.ubyte, 1)])\n",
      "/Library/Frameworks/Python.framework/Versions/3.6/lib/python3.6/site-packages/tensorboard/compat/tensorflow_stub/dtypes.py:541: FutureWarning: Passing (type, 1) or '1type' as a synonym of type is deprecated; in a future version of numpy, it will be understood as (type, (1,)) / '(1,)type'.\n",
      "  _np_qint8 = np.dtype([(\"qint8\", np.int8, 1)])\n",
      "/Library/Frameworks/Python.framework/Versions/3.6/lib/python3.6/site-packages/tensorboard/compat/tensorflow_stub/dtypes.py:542: FutureWarning: Passing (type, 1) or '1type' as a synonym of type is deprecated; in a future version of numpy, it will be understood as (type, (1,)) / '(1,)type'.\n",
      "  _np_quint8 = np.dtype([(\"quint8\", np.uint8, 1)])\n",
      "/Library/Frameworks/Python.framework/Versions/3.6/lib/python3.6/site-packages/tensorboard/compat/tensorflow_stub/dtypes.py:543: FutureWarning: Passing (type, 1) or '1type' as a synonym of type is deprecated; in a future version of numpy, it will be understood as (type, (1,)) / '(1,)type'.\n",
      "  _np_qint16 = np.dtype([(\"qint16\", np.int16, 1)])\n",
      "/Library/Frameworks/Python.framework/Versions/3.6/lib/python3.6/site-packages/tensorboard/compat/tensorflow_stub/dtypes.py:544: FutureWarning: Passing (type, 1) or '1type' as a synonym of type is deprecated; in a future version of numpy, it will be understood as (type, (1,)) / '(1,)type'.\n",
      "  _np_quint16 = np.dtype([(\"quint16\", np.uint16, 1)])\n",
      "/Library/Frameworks/Python.framework/Versions/3.6/lib/python3.6/site-packages/tensorboard/compat/tensorflow_stub/dtypes.py:545: FutureWarning: Passing (type, 1) or '1type' as a synonym of type is deprecated; in a future version of numpy, it will be understood as (type, (1,)) / '(1,)type'.\n",
      "  _np_qint32 = np.dtype([(\"qint32\", np.int32, 1)])\n",
      "/Library/Frameworks/Python.framework/Versions/3.6/lib/python3.6/site-packages/tensorboard/compat/tensorflow_stub/dtypes.py:550: FutureWarning: Passing (type, 1) or '1type' as a synonym of type is deprecated; in a future version of numpy, it will be understood as (type, (1,)) / '(1,)type'.\n",
      "  np_resource = np.dtype([(\"resource\", np.ubyte, 1)])\n"
     ]
    }
   ],
   "source": [
    "import tensorflow as tf"
   ],
   "metadata": {
    "collapsed": false,
    "pycharm": {
     "name": "#%%\n"
    }
   }
  },
  {
   "cell_type": "code",
   "execution_count": 2,
   "outputs": [
    {
     "name": "stdout",
     "output_type": "stream",
     "text": [
      "Tensor(\"Add:0\", shape=(), dtype=float32)\n"
     ]
    }
   ],
   "source": [
    "#定义 2版本下可以直接运行\n",
    "cons1 = tf.constant(100.0)\n",
    "cons2 = tf.constant(200.0)\n",
    "res = tf.add(cons1, cons2)\n",
    "print(res)\n",
    "\n",
    "''' 低版本下\n",
    "#执行1\n",
    "sess = tf.Session()\n",
    "print(sess.run(res))\n",
    "sess.close()\n",
    "\n",
    "#执行2\n",
    "with tf.Session as sess:\n",
    "    print(sess.run(res))\n",
    "'''"
   ],
   "metadata": {
    "collapsed": false,
    "pycharm": {
     "name": "#%%\n"
    }
   }
  },
  {
   "cell_type": "code",
   "execution_count": 3,
   "outputs": [
    {
     "data": {
      "text/plain": "'python3.6下安装1.14版\\npip install --upgrade https://storage.googleapis.com/tensorflow/mac/cpu/tensorflow-1.14.0-py3-none-any.whl\\n'"
     },
     "execution_count": 3,
     "metadata": {},
     "output_type": "execute_result"
    }
   ],
   "source": [
    "'''python3.6下安装1.14版\n",
    "pip install --upgrade https://storage.googleapis.com/tensorflow/mac/cpu/tensorflow-1.14.0-py3-none-any.whl\n",
    "'''"
   ],
   "metadata": {
    "collapsed": false,
    "pycharm": {
     "name": "#%%\n"
    }
   }
  },
  {
   "cell_type": "code",
   "execution_count": 2,
   "outputs": [
    {
     "name": "stdout",
     "output_type": "stream",
     "text": [
      "300.0\n"
     ]
    }
   ],
   "source": [
    "#定义\n",
    "cons1 = tf.constant(100.0)\n",
    "cons2 = tf.constant(200.0)\n",
    "res = tf.add(cons1, cons2)\n",
    "\n",
    "with tf.Session() as sess:\n",
    "    print(sess.run(res))  #张量可以直接eval()"
   ],
   "metadata": {
    "collapsed": false,
    "pycharm": {
     "name": "#%%\n"
    }
   }
  },
  {
   "cell_type": "code",
   "execution_count": 3,
   "outputs": [],
   "source": [
    "#图"
   ],
   "metadata": {
    "collapsed": false,
    "pycharm": {
     "name": "#%%\n"
    }
   }
  },
  {
   "cell_type": "code",
   "execution_count": 5,
   "outputs": [
    {
     "name": "stdout",
     "output_type": "stream",
     "text": [
      "默认的图： <tensorflow.python.framework.ops.Graph object at 0x7fc4fdebedd8>\n",
      "300.0\n",
      "<tensorflow.python.framework.ops.Graph object at 0x7fc4fdebedd8>\n",
      "<tensorflow.python.framework.ops.Graph object at 0x7fc4fdebedd8>\n",
      "<tensorflow.python.framework.ops.Graph object at 0x7fc4fdebedd8>\n"
     ]
    }
   ],
   "source": [
    "#定义\n",
    "const1 = tf.constant(100.0)\n",
    "const2 = tf.constant(200.0)\n",
    "res = tf.add(const1, const2)\n",
    "\n",
    "#获取默认的图\n",
    "graph = tf.get_default_graph()\n",
    "print('默认的图：', graph)\n",
    "\n",
    "#运行\n",
    "with tf.Session() as sess:\n",
    "    print(sess.run(res))\n",
    "    print(const1.graph)\n",
    "    print(const2.graph)\n",
    "    print(res.graph)"
   ],
   "metadata": {
    "collapsed": false,
    "pycharm": {
     "name": "#%%\n"
    }
   }
  },
  {
   "cell_type": "code",
   "execution_count": 7,
   "outputs": [],
   "source": [
    "#多图，创建多个图，指定session运行"
   ],
   "metadata": {
    "collapsed": false,
    "pycharm": {
     "name": "#%%\n"
    }
   }
  },
  {
   "cell_type": "code",
   "execution_count": 4,
   "outputs": [
    {
     "name": "stdout",
     "output_type": "stream",
     "text": [
      "默认的图： <tensorflow.python.framework.ops.Graph object at 0x7fb3d0f4c908>\n",
      "b'hello world'\n",
      "300.0 fs\n",
      "300.0 tt\n",
      "300.0\n"
     ]
    }
   ],
   "source": [
    "#定义\n",
    "const1 = tf.constant(100.0)\n",
    "const2 = tf.constant(200.0)\n",
    "res = tf.add(const1, const2)\n",
    "\n",
    "#获取默认的图\n",
    "graph = tf.get_default_graph()\n",
    "print('默认的图：', graph)\n",
    "\n",
    "#新建一个图\n",
    "new_graph = tf.Graph()\n",
    "with new_graph.as_default():\n",
    "    new_op = tf.constant('hello world')\n",
    "\n",
    "#运行\n",
    "with tf.Session(graph=new_graph) as sess:\n",
    "    #print(sess.run(res))\n",
    "    print(sess.run(new_op))\n",
    "\n",
    "#运行\n",
    "with tf.Session(graph=graph) as sess:\n",
    "    print(sess.run(res), 'fs')\n",
    "\n",
    "    sess2 = tf.Session()\n",
    "    print(sess2.run(res), 'tt')\n",
    "    sess2.close()\n",
    "\n",
    "#运行\n",
    "with tf.Session(graph=graph) as sess:\n",
    "    print(sess.run(res))"
   ],
   "metadata": {
    "collapsed": false,
    "pycharm": {
     "name": "#%%\n"
    }
   }
  },
  {
   "cell_type": "code",
   "execution_count": 22,
   "outputs": [],
   "source": [
    "#op常用属性"
   ],
   "metadata": {
    "collapsed": false,
    "pycharm": {
     "name": "#%%\n"
    }
   }
  },
  {
   "cell_type": "code",
   "execution_count": 6,
   "outputs": [
    {
     "name": "stdout",
     "output_type": "stream",
     "text": [
      "[1 2 3 4 5 6 7]\n",
      "name Const_4:0\n",
      "dtype <dtype: 'int64'>\n",
      "shape (7,)\n",
      "=====================\n",
      "op name: \"Const_4\"\n",
      "op: \"Const\"\n",
      "attr {\n",
      "  key: \"dtype\"\n",
      "  value {\n",
      "    type: DT_INT64\n",
      "  }\n",
      "}\n",
      "attr {\n",
      "  key: \"value\"\n",
      "  value {\n",
      "    tensor {\n",
      "      dtype: DT_INT64\n",
      "      tensor_shape {\n",
      "        dim {\n",
      "          size: 7\n",
      "        }\n",
      "      }\n",
      "      tensor_content: \"\\001\\000\\000\\000\\000\\000\\000\\000\\002\\000\\000\\000\\000\\000\\000\\000\\003\\000\\000\\000\\000\\000\\000\\000\\004\\000\\000\\000\\000\\000\\000\\000\\005\\000\\000\\000\\000\\000\\000\\000\\006\\000\\000\\000\\000\\000\\000\\000\\007\\000\\000\\000\\000\\000\\000\\000\"\n",
      "    }\n",
      "  }\n",
      "}\n",
      "\n",
      "******************\n",
      "graph <tensorflow.python.framework.ops.Graph object at 0x7fb3d0f4c908>\n"
     ]
    }
   ],
   "source": [
    "#定义\n",
    "const1 = tf.constant([1, 2, 3, 4, 5, 6, 7], dtype=tf.int64)\n",
    "#const2 = tf.constant(2) 这样的张量是一个标量\n",
    "with tf.Session(graph=graph) as sess:\n",
    "    print(sess.run(const1))\n",
    "    print('name', const1.name)\n",
    "    print('dtype', const1.dtype)\n",
    "    print('shape', const1.shape)\n",
    "    print('======='*3)\n",
    "    print('op', const1.op)\n",
    "    print('******'*3)\n",
    "    print('graph', const1.graph)"
   ],
   "metadata": {
    "collapsed": false,
    "pycharm": {
     "name": "#%%\n"
    }
   }
  },
  {
   "cell_type": "code",
   "execution_count": 30,
   "outputs": [],
   "source": [
    "#生成张量"
   ],
   "metadata": {
    "collapsed": false,
    "pycharm": {
     "name": "#%%\n"
    }
   }
  },
  {
   "cell_type": "code",
   "execution_count": 3,
   "outputs": [],
   "source": [
    "import numpy as np"
   ],
   "metadata": {
    "collapsed": false,
    "pycharm": {
     "name": "#%%\n"
    }
   }
  },
  {
   "cell_type": "code",
   "execution_count": 12,
   "outputs": [
    {
     "name": "stdout",
     "output_type": "stream",
     "text": [
      "100.0\n",
      "[1 2 3 4 5 6]\n",
      "[[[1 2]\n",
      "  [3 4]]\n",
      "\n",
      " [[5 6]\n",
      "  [7 8]]]\n",
      "[[0. 0. 0.]\n",
      " [0. 0. 0.]]\n",
      "[[1. 1. 1.]\n",
      " [1. 1. 1.]]\n",
      "[[[0 0]\n",
      "  [0 0]]\n",
      "\n",
      " [[0 0]\n",
      "  [0 0]]]\n",
      "[ 1.4785254  -0.13488592 -0.5877037  -1.1561906  -0.14415306  0.8864245\n",
      "  1.1650217  -1.3983389  -0.5287708  -0.42708033]\n"
     ]
    }
   ],
   "source": [
    "#定义\n",
    "const1 = tf.constant(100.0)\n",
    "const2 = tf.constant([1, 2, 3, 4, 5, 6])\n",
    "const3 = tf.constant(np.arange(1, 9).reshape(2, 2, 2))\n",
    "zeros = tf.zeros(shape=[2, 3], dtype='float32')\n",
    "ones = tf.ones(shape=[2, 3], dtype=tf.float32)\n",
    "zeros_like = tf.zeros_like(const3)\n",
    "\n",
    "random = tf.random_normal(shape=[10], mean=0.0, stddev=1, dtype=tf.float32)\n",
    "\n",
    "#运行\n",
    "with tf.Session() as sess:\n",
    "    print(const1.eval())\n",
    "    print(const2.eval())\n",
    "    print(const3.eval())\n",
    "    print(zeros.eval())\n",
    "    print(ones.eval())\n",
    "    print(zeros_like.eval())\n",
    "    print(random.eval())"
   ],
   "metadata": {
    "collapsed": false,
    "pycharm": {
     "name": "#%%\n"
    }
   }
  },
  {
   "cell_type": "code",
   "execution_count": 13,
   "outputs": [],
   "source": [
    "#张量数据类型的转换"
   ],
   "metadata": {
    "collapsed": false,
    "pycharm": {
     "name": "#%%\n"
    }
   }
  },
  {
   "cell_type": "code",
   "execution_count": 16,
   "outputs": [
    {
     "name": "stdout",
     "output_type": "stream",
     "text": [
      "[[1. 1. 1.]\n",
      " [1. 1. 1.]]\n"
     ]
    }
   ],
   "source": [
    "ones = tf.ones(shape=[2, 3], dtype='int64')\n",
    "tensor1 = tf.constant([1.1, 2.2, 3.3], dtype='float32')\n",
    "temp = tf.cast(ones, 'float32')\n",
    "temp_str = tf.cast(tensor1, tf.string)\n",
    "with tf.Session() as sess:\n",
    "    print(temp.eval())\n",
    "    #print(temp_str.eval())  #浮点类型不能转字符串"
   ],
   "metadata": {
    "collapsed": false,
    "pycharm": {
     "name": "#%%\n"
    }
   }
  },
  {
   "cell_type": "code",
   "execution_count": 17,
   "outputs": [],
   "source": [
    "#占位符"
   ],
   "metadata": {
    "collapsed": false,
    "pycharm": {
     "name": "#%%\n"
    }
   }
  },
  {
   "cell_type": "code",
   "execution_count": 21,
   "outputs": [
    {
     "name": "stdout",
     "output_type": "stream",
     "text": [
      "[[1. 2. 3.]\n",
      " [4. 5. 6.]]\n"
     ]
    }
   ],
   "source": [
    "plhd = tf.placeholder(dtype=tf.float32, shape=[None, 3])  #行数是样本数量，所以不固定，但是列数是神经元个数，那么一定会固定\n",
    "data = np.arange(1, 7).reshape(2, 3)\n",
    "with tf.Session() as sess:\n",
    "    print(sess.run(plhd, feed_dict={plhd: data}))"
   ],
   "metadata": {
    "collapsed": false,
    "pycharm": {
     "name": "#%%\n"
    }
   }
  },
  {
   "cell_type": "code",
   "execution_count": 23,
   "outputs": [],
   "source": [
    "#张量的静态形状\n",
    "#静态形状：初始状态，只能设置一次，固定下来就不能设置了"
   ],
   "metadata": {
    "collapsed": false,
    "pycharm": {
     "name": "#%%\n"
    }
   }
  },
  {
   "cell_type": "code",
   "execution_count": 38,
   "outputs": [
    {
     "name": "stdout",
     "output_type": "stream",
     "text": [
      "Tensor(\"Placeholder_13:0\", shape=(?, 3), dtype=float32)\n"
     ]
    }
   ],
   "source": [
    "plhd = tf.placeholder(dtype=tf.float32, shape=[None, 3])\n",
    "print(plhd)"
   ],
   "metadata": {
    "collapsed": false,
    "pycharm": {
     "name": "#%%\n"
    }
   }
  },
  {
   "cell_type": "code",
   "execution_count": 40,
   "outputs": [
    {
     "name": "stdout",
     "output_type": "stream",
     "text": [
      "Tensor(\"Placeholder_15:0\", shape=(4, 3), dtype=float32)\n"
     ]
    }
   ],
   "source": [
    "plhd = tf.placeholder(dtype=tf.float32, shape=[None, 3])\n",
    "plhd.set_shape([4, 3])\n",
    "print(plhd)"
   ],
   "metadata": {
    "collapsed": false,
    "pycharm": {
     "name": "#%%\n"
    }
   }
  },
  {
   "cell_type": "code",
   "execution_count": 34,
   "outputs": [
    {
     "ename": "ValueError",
     "evalue": "Dimension 0 in both shapes must be equal, but are 4 and 3. Shapes are [4,3] and [3,4].",
     "output_type": "error",
     "traceback": [
      "\u001B[0;31m---------------------------------------------------------------------------\u001B[0m",
      "\u001B[0;31mInvalidArgumentError\u001B[0m                      Traceback (most recent call last)",
      "\u001B[0;32m/Library/Frameworks/Python.framework/Versions/3.6/lib/python3.6/site-packages/tensorflow/python/framework/ops.py\u001B[0m in \u001B[0;36mset_shape\u001B[0;34m(self, shape)\u001B[0m\n\u001B[1;32m    571\u001B[0m           \u001B[0mdim_list\u001B[0m\u001B[0;34m,\u001B[0m\u001B[0;34m\u001B[0m\u001B[0;34m\u001B[0m\u001B[0m\n\u001B[0;32m--> 572\u001B[0;31m           unknown_shape)\n\u001B[0m\u001B[1;32m    573\u001B[0m     \u001B[0;32mexcept\u001B[0m \u001B[0merrors\u001B[0m\u001B[0;34m.\u001B[0m\u001B[0mInvalidArgumentError\u001B[0m \u001B[0;32mas\u001B[0m \u001B[0me\u001B[0m\u001B[0;34m:\u001B[0m\u001B[0;34m\u001B[0m\u001B[0;34m\u001B[0m\u001B[0m\n",
      "\u001B[0;31mInvalidArgumentError\u001B[0m: Dimension 0 in both shapes must be equal, but are 4 and 3. Shapes are [4,3] and [3,4].",
      "\nDuring handling of the above exception, another exception occurred:\n",
      "\u001B[0;31mValueError\u001B[0m                                Traceback (most recent call last)",
      "\u001B[0;32m<ipython-input-34-58bebac8a7dc>\u001B[0m in \u001B[0;36m<module>\u001B[0;34m\u001B[0m\n\u001B[0;32m----> 1\u001B[0;31m \u001B[0mplhd\u001B[0m\u001B[0;34m.\u001B[0m\u001B[0mset_shape\u001B[0m\u001B[0;34m(\u001B[0m\u001B[0;34m[\u001B[0m\u001B[0;36m3\u001B[0m\u001B[0;34m,\u001B[0m \u001B[0;36m4\u001B[0m\u001B[0;34m]\u001B[0m\u001B[0;34m)\u001B[0m  \u001B[0;31m#一旦固定就不能再修改了\u001B[0m\u001B[0;34m\u001B[0m\u001B[0;34m\u001B[0m\u001B[0m\n\u001B[0m\u001B[1;32m      2\u001B[0m \u001B[0mprint\u001B[0m\u001B[0;34m(\u001B[0m\u001B[0mplhd\u001B[0m\u001B[0;34m)\u001B[0m\u001B[0;34m\u001B[0m\u001B[0;34m\u001B[0m\u001B[0m\n",
      "\u001B[0;32m/Library/Frameworks/Python.framework/Versions/3.6/lib/python3.6/site-packages/tensorflow/python/framework/ops.py\u001B[0m in \u001B[0;36mset_shape\u001B[0;34m(self, shape)\u001B[0m\n\u001B[1;32m    573\u001B[0m     \u001B[0;32mexcept\u001B[0m \u001B[0merrors\u001B[0m\u001B[0;34m.\u001B[0m\u001B[0mInvalidArgumentError\u001B[0m \u001B[0;32mas\u001B[0m \u001B[0me\u001B[0m\u001B[0;34m:\u001B[0m\u001B[0;34m\u001B[0m\u001B[0;34m\u001B[0m\u001B[0m\n\u001B[1;32m    574\u001B[0m       \u001B[0;31m# Convert to ValueError for backwards compatibility.\u001B[0m\u001B[0;34m\u001B[0m\u001B[0;34m\u001B[0m\u001B[0;34m\u001B[0m\u001B[0m\n\u001B[0;32m--> 575\u001B[0;31m       \u001B[0;32mraise\u001B[0m \u001B[0mValueError\u001B[0m\u001B[0;34m(\u001B[0m\u001B[0mstr\u001B[0m\u001B[0;34m(\u001B[0m\u001B[0me\u001B[0m\u001B[0;34m)\u001B[0m\u001B[0;34m)\u001B[0m\u001B[0;34m\u001B[0m\u001B[0;34m\u001B[0m\u001B[0m\n\u001B[0m\u001B[1;32m    576\u001B[0m \u001B[0;34m\u001B[0m\u001B[0m\n\u001B[1;32m    577\u001B[0m   \u001B[0;34m@\u001B[0m\u001B[0mproperty\u001B[0m\u001B[0;34m\u001B[0m\u001B[0;34m\u001B[0m\u001B[0m\n",
      "\u001B[0;31mValueError\u001B[0m: Dimension 0 in both shapes must be equal, but are 4 and 3. Shapes are [4,3] and [3,4]."
     ]
    }
   ],
   "source": [
    "plhd.set_shape([3, 4])  #一旦固定就不能再修改了\n",
    "print(plhd)"
   ],
   "metadata": {
    "collapsed": false,
    "pycharm": {
     "name": "#%%\n"
    }
   }
  },
  {
   "cell_type": "code",
   "execution_count": 35,
   "outputs": [],
   "source": [
    "#动态形状,同字符串修改一样， 不改变原来的张量，而是修改后，赋值给新张量\n",
    "a = 'hello world'\n",
    "b = a.replace(' ', '+')"
   ],
   "metadata": {
    "collapsed": false,
    "pycharm": {
     "name": "#%%\n"
    }
   }
  },
  {
   "cell_type": "code",
   "execution_count": null,
   "outputs": [],
   "source": [
    "#动态形状"
   ],
   "metadata": {
    "collapsed": false,
    "pycharm": {
     "name": "#%%\n"
    }
   }
  },
  {
   "cell_type": "code",
   "execution_count": 36,
   "outputs": [
    {
     "name": "stdout",
     "output_type": "stream",
     "text": [
      "Tensor(\"Reshape_1:0\", shape=(1, 4, 3), dtype=float32)\n"
     ]
    }
   ],
   "source": [
    "new_plhd = tf.reshape(plhd, [1, 4, 3])\n",
    "print(new_plhd)"
   ],
   "metadata": {
    "collapsed": false,
    "pycharm": {
     "name": "#%%\n"
    }
   }
  },
  {
   "cell_type": "code",
   "execution_count": 41,
   "outputs": [],
   "source": [
    "#张量的数学运算"
   ],
   "metadata": {
    "collapsed": false,
    "pycharm": {
     "name": "#%%\n"
    }
   }
  },
  {
   "cell_type": "code",
   "execution_count": 43,
   "outputs": [
    {
     "name": "stdout",
     "output_type": "stream",
     "text": [
      "[[5. 5.]\n",
      " [5. 5.]]\n",
      "[[ 8.  5.]\n",
      " [20. 13.]]\n",
      "[[0.        0.6931472]\n",
      " [1.0986123 1.3862944]]\n",
      "[3. 7.]\n",
      "[ 6 30 19]\n"
     ]
    }
   ],
   "source": [
    "x = tf.constant([[1, 2], [3, 4]], dtype='float32')\n",
    "y = tf.constant([[4, 3], [2, 1]], dtype='float32')\n",
    "add = tf.add(x, y)\n",
    "mul = tf.matmul(x, y)\n",
    "log = tf.log(x)  #自然对数\n",
    "reduce_sum = tf.reduce_sum(x, axis=1)  #水平方向求和\n",
    "#计算片段和\n",
    "data = tf.constant([1, 2, 3, 4, 5, 6, 7, 8, 9, 10])\n",
    "ids = tf.constant([0, 0, 0, 1, 1, 1, 1, 1, 2, 2])\n",
    "segment = tf.segment_sum(data=data, segment_ids=ids)\n",
    "\n",
    "with tf.Session() as sess:\n",
    "    print(add.eval())\n",
    "    print(mul.eval())\n",
    "    print(log.eval())\n",
    "    print(reduce_sum.eval())\n",
    "    print(segment.eval())"
   ],
   "metadata": {
    "collapsed": false,
    "pycharm": {
     "name": "#%%\n"
    }
   }
  },
  {
   "cell_type": "code",
   "execution_count": 47,
   "outputs": [],
   "source": [
    "#变量,用到变量必须进行初始化，初始化也是op"
   ],
   "metadata": {
    "collapsed": false,
    "pycharm": {
     "name": "#%%\n"
    }
   }
  },
  {
   "cell_type": "code",
   "execution_count": 48,
   "outputs": [
    {
     "name": "stdout",
     "output_type": "stream",
     "text": [
      "[[ 1.3942643   0.26474926  0.25010285]\n",
      " [-1.3674018   0.65457994  0.79963946]]\n"
     ]
    }
   ],
   "source": [
    "weight = tf.random_normal(shape=[2, 3])\n",
    "var = tf.Variable(initial_value=weight)\n",
    "\n",
    "#初始化\n",
    "init_op = tf.global_variables_initializer()\n",
    "\n",
    "with tf.Session() as sess:\n",
    "    sess.run(init_op)  #当定义一个变量时，需要在会话中进行初始化\n",
    "    print(sess.run(var))"
   ],
   "metadata": {
    "collapsed": false,
    "pycharm": {
     "name": "#%%\n"
    }
   }
  }
 ],
 "metadata": {
  "kernelspec": {
   "display_name": "Python 3",
   "language": "python",
   "name": "python3"
  },
  "language_info": {
   "codemirror_mode": {
    "name": "ipython",
    "version": 2
   },
   "file_extension": ".py",
   "mimetype": "text/x-python",
   "name": "python",
   "nbconvert_exporter": "python",
   "pygments_lexer": "ipython2",
   "version": "2.7.6"
  }
 },
 "nbformat": 4,
 "nbformat_minor": 0
}